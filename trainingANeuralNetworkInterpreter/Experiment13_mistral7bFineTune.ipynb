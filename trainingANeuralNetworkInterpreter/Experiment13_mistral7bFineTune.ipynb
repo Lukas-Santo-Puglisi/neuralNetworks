{
  "cells": [
    {
      "cell_type": "markdown",
      "id": "c24e51fe-f923-4e91-9e2e-ee063565336e",
      "metadata": {
        "id": "c24e51fe-f923-4e91-9e2e-ee063565336e"
      },
      "source": [
        "This code is an advanced and comprehensive script designed for creating a synthetic dataset, importing a trained target convolutional neural network (CNN) for image processing, and then utilizing a large language model (LLM), here Mistral7b, for interpreting the CNN's output activations. The script is written in Python and heavily relies on PyTorch, a popular deep learning framework, and the Hugging Face `transformers` library. It involves several sophisticated techniques in machine learning and deep learning.\n",
        "\n",
        "1. **Environment Setup**: The script begins by setting environment variables for CUDA (to specify GPU usage) and Hugging Face token and cache paths. This ensures that the GPU resources are correctly allocated and that the Hugging Face models are efficiently cached.\n",
        "\n",
        "2. **Library Imports**: Various libraries are imported for handling data (like NumPy, Pandas), image processing (PIL), machine learning (PyTorch, transformers), and dataset management (Hugging Face datasets).\n",
        "\n",
        "3. **Synthetic Image Generation**: Functions are defined to generate synthetic images with specific shapes (like lines, ellipses, checkerboards). These images serve as a controlled environment to understand how the CNN processes different shapes.\n",
        "\n",
        "4. **Synthetic Image Generation**: Functions are defined to generate synthetic images with specific shapes (like lines, ellipses, checkerboards). These images serve as a controlled environment to understand how the CNN processes different shapes.\n",
        "\n",
        "5. **Importing Manually Annotated image**: Moreover, we import already manually annotated images. Then, a custom target CNN model is defined, and its weights are loaded. This model will process the synthetic images to produce activation maps, which are essentially features extracted from the images.\n",
        "\n",
        "6. **Image Processing and Data Preparation**: The script processes images through the CNN, flattening and storing the raw pixel data and activations. This processed data simulates what a CNN would 'see' as it analyzes an image.\n",
        "\n",
        "7. **Dataset Creation and Management**: The script creates a synthetic dataset and a manually annotated dataset, encapsulating them in PyTorch's DataLoader for efficient batch processing.\n",
        "\n",
        "8. **Model Preparation for Training**: The script prepares a large language model from the Hugging Face library, specifically configuring it for the task at hand. This involves setting device maps for distributed GPU training, enabling gradient checkpointing, and adapting the model with LoRA (Low-Rank Adaptation), a method to efficiently fine-tune large models.\n",
        "\n",
        "9. **Data Tokenization**: The script tokenizes the processed image data to make it compatible with the language model. This involves converting the activation maps and image descriptions into a format understandable by the LLM.\n",
        "\n",
        "10. **Training Setup**: A detailed training setup is created using Hugging Face's `Trainer` class. This setup includes specifying the training and evaluation datasets, batch sizes, learning rates, and logging configurations. Notably, the script uses advanced optimization techniques like 8-bit AdamW for memory-efficient training and enables mixed-precision training with FP16.\n",
        "\n",
        "11. **Training Execution**: Finally, the training is executed. The script also includes a command to monitor GPU usage, indicating a high-performance computing environment.\n",
        "\n",
        "#### Summary\n",
        "\n",
        "The first part of the script is devoted to generating, analyzing and preparing a synthetic  and a human-annotated dataset which we use to fine-tune the LLM. Later, I implement tokenization and training Mistral 7b using 9 A40 GPUs for one/two days and save the model. Since I use methods like quantization and lora-adapters one could modify the code to reproduce the results here. Note that in order to load Mistral 7b one needs a huggingface account which is free"
      ]
    },
    {
      "cell_type": "markdown",
      "id": "579ac1df-e028-481e-8ef7-a651a96652a7",
      "metadata": {
        "id": "579ac1df-e028-481e-8ef7-a651a96652a7"
      },
      "source": [
        "Load all the libraries we need. It's important to set CUDA_VISIBLE_DEVICES before importing PyTorch in the script because PyTorch initializes its CUDA subsystem as soon as it's imported. If one changes CUDA_VISIBLE_DEVICES after PyTorch has been imported, it won't have any effect because PyTorch has already initialized its CUDA environment and detected available GPUs."
      ]
    },
    {
      "cell_type": "code",
      "execution_count": null,
      "id": "436ed898-0439-4eee-abc4-42cb48e66999",
      "metadata": {
        "id": "436ed898-0439-4eee-abc4-42cb48e66999"
      },
      "outputs": [],
      "source": [
        "#General purpose\n",
        "import sys\n",
        "import os\n",
        "os.environ[\"CUDA_VISIBLE_DEVICES\"] = \"0,1,2,3,4,5,6,7,8\"\n",
        "\n",
        "from datetime import datetime\n",
        "import json\n",
        "import random\n",
        "import math\n",
        "from PIL import Image\n",
        "import pickle # For loading the human-annotated images\n",
        "\n",
        "# General data libs\n",
        "import matplotlib.pyplot as plt\n",
        "import numpy as np\n",
        "import pandas as pd\n",
        "\n",
        "#machine learning libs\n",
        "import torch\n",
        "import torch.nn.functional as F\n",
        "import torch.nn as nn\n",
        "from torch.utils.data import Dataset, DataLoader\n",
        "\n",
        "#some special machine learnings libs for our CNN and for data efficiency\n",
        "from torchvision import datasets, transforms\n",
        "from datasets import load_dataset\n",
        "\n",
        "#Large language models and Fine tuning\n",
        "import transformers\n",
        "from peft import prepare_model_for_kbit_training, LoraConfig, get_peft_model\n",
        "from transformers import AutoTokenizer, AutoModelForCausalLM, BitsAndBytesConfig\n",
        "\n",
        "\n",
        "# Libs for facilitating distributed training for our large language model\n",
        "\n",
        "from torch.distributed.fsdp.fully_sharded_data_parallel import FullOptimStateDictConfig, FullStateDictConfig\n",
        "from accelerate import FullyShardedDataParallelPlugin, Accelerator\n",
        "\n",
        "# We start a second thread to monitor GPU usage during training\n",
        "import threading\n",
        "import subprocess\n",
        "import time\n",
        "\n"
      ]
    },
    {
      "cell_type": "markdown",
      "id": "450e5e5c-3f83-499f-969e-dc3a69f42504",
      "metadata": {
        "id": "450e5e5c-3f83-499f-969e-dc3a69f42504"
      },
      "source": [
        "We check availability of GPUs for Training using nvidia-smi and also check if the cuda_visible_devices variable has been set correctly.\n",
        "\n",
        "Check if my pytorch version is compatible with the cuda-version on the hardware that I use. On my training run my pytorch version was cuda 12.1 and the hardware version was cuda 12.2 ensuring good compatibility."
      ]
    },
    {
      "cell_type": "code",
      "execution_count": null,
      "id": "d3460ffe-a372-4c61-9728-c80bcbee96d2",
      "metadata": {
        "id": "d3460ffe-a372-4c61-9728-c80bcbee96d2",
        "outputId": "66fbee5a-f68d-473a-8c73-745e0e98e16d"
      },
      "outputs": [
        {
          "name": "stdout",
          "output_type": "stream",
          "text": [
            "CUDA Version from nvidia-smi: \n",
            "\n",
            "| NVIDIA-SMI 535.54.03              Driver Version: 535.54.03    CUDA Version: 12.2     |\n",
            "Number of GPUs and their usage \n",
            " \n",
            "index, name, memory.total [MiB], memory.used [MiB], utilization.gpu [%]\n",
            "0, NVIDIA A40, 46068 MiB, 7 MiB, 0 %\n",
            "1, NVIDIA A40, 46068 MiB, 7 MiB, 0 %\n",
            "2, NVIDIA A40, 46068 MiB, 7 MiB, 0 %\n",
            "3, NVIDIA A40, 46068 MiB, 7 MiB, 0 %\n",
            "4, NVIDIA A40, 46068 MiB, 7 MiB, 0 %\n",
            "5, NVIDIA A40, 46068 MiB, 7 MiB, 0 %\n",
            "6, NVIDIA A40, 46068 MiB, 7 MiB, 0 %\n",
            "7, NVIDIA A40, 46068 MiB, 7 MiB, 0 %\n",
            "8, NVIDIA A40, 46068 MiB, 7 MiB, 0 %\n",
            "CUDA_VISIBLE_DEVICES set to: 0,1,2,3,4,5,6,7,8\n",
            "PyTorch version: 2.1.1+cu121\n",
            "CUDA version PyTorch is built with: 12.1\n"
          ]
        }
      ],
      "source": [
        "print(\"CUDA Version from nvidia-smi: \\n\")  # Replace with the actual output\n",
        "!nvidia-smi | grep \"CUDA Version\"\n",
        "print(f\"Number of GPUs and their usage \\n \")\n",
        "!nvidia-smi --query-gpu=index,name,memory.total,memory.used,utilization.gpu --format=csv\n",
        "\n",
        "print(\"CUDA_VISIBLE_DEVICES set to:\", os.environ.get(\"CUDA_VISIBLE_DEVICES\"))\n",
        "\n",
        "\n",
        "print(\"PyTorch version:\", torch.__version__)\n",
        "print(\"CUDA version PyTorch is built with:\", torch.version.cuda)"
      ]
    },
    {
      "cell_type": "markdown",
      "id": "25fd6913-c01a-4403-95b8-dee35b54d1a1",
      "metadata": {
        "id": "25fd6913-c01a-4403-95b8-dee35b54d1a1"
      },
      "source": [
        "The following code is for generating our synthetic images. We first need to define functions that randomly generate shapes that resemble the primitive shapes in the MNIST data set. The shapes generated are verticals, horizontals, diagonals, contra-diagonals, ellipses, checkerboard patterns and crossings. The starting point, the length, and the shapes orientation in the plane are randomly generated within pre-determined bounds. Moreover, the total number of shapes is generated using an exponential distribution to favor lower count of shapes in order to prevent shape collusion."
      ]
    },
    {
      "cell_type": "code",
      "execution_count": null,
      "id": "329796ab-1e2b-4582-a555-1c385008e8fc",
      "metadata": {
        "id": "329796ab-1e2b-4582-a555-1c385008e8fc"
      },
      "outputs": [],
      "source": [
        "def generate_vertical_line_image(image, line_min_height=6, line_max_height=12):\n",
        "    height, width = image.shape\n",
        "\n",
        "    num_lines = 1\n",
        "    for _ in range(num_lines):\n",
        "        line_height = random.randint(line_min_height, line_max_height)\n",
        "        line_start_x = random.randint(0, width - 1)\n",
        "        line_start_y = random.randint(0, height - line_height)\n",
        "\n",
        "        image[line_start_y:line_start_y + line_height, line_start_x] = 255\n",
        "\n",
        "    return image\n",
        "\n",
        "def generate_horizontal_line_image(image, line_min_length=6, line_max_length=12):\n",
        "    height, width = image.shape\n",
        "\n",
        "    num_lines = 1\n",
        "    for _ in range(num_lines):\n",
        "        line_length = random.randint(line_min_length, line_max_length)\n",
        "        line_start_x = random.randint(0, width - line_length)\n",
        "        line_start_y = random.randint(0, height - 1)\n",
        "\n",
        "        image[line_start_y, line_start_x:line_start_x + line_length] = 255\n",
        "\n",
        "    return image\n",
        "\n",
        "def generate_contra_diagonal_line(image, line_min_length=4, line_max_length=12):\n",
        "    height, width = image.shape\n",
        "\n",
        "    # Determine line length\n",
        "    line_length = random.randint(line_min_length, line_max_length)\n",
        "\n",
        "    # Random start position for contra-diagonal line\n",
        "    line_start_x = random.randint(0, width - line_length)\n",
        "    line_start_y = random.randint(0, height - line_length)\n",
        "\n",
        "    # Draw the contra-diagonal line\n",
        "    for i in range(line_length):\n",
        "        image[line_start_y + i, line_start_x + i] = 255\n",
        "\n",
        "    return image\n",
        "\n",
        "def generate_diagonal_line(image, line_min_length=4, line_max_length=12):\n",
        "    height, width = image.shape\n",
        "\n",
        "    # Determine line length\n",
        "    line_length = random.randint(line_min_length, line_max_length)\n",
        "\n",
        "    # Random start position for diagonal line\n",
        "    line_start_x = random.randint(0, width - line_length)\n",
        "    line_start_y = random.randint(line_length - 1, height - 1)\n",
        "\n",
        "    # Draw the diagonal line\n",
        "    for i in range(line_length):\n",
        "        image[line_start_y - i, line_start_x + i] = 255\n",
        "\n",
        "    return image\n",
        "\n",
        "\n",
        "\n",
        "def add_crossing_to_image(image):\n",
        "    def rotate_point(point, angle, origin=(0, 0)):\n",
        "        \"\"\" Rotate a point around a given origin. \"\"\"\n",
        "        ox, oy = origin\n",
        "        px, py = point\n",
        "\n",
        "        qx = ox + math.cos(angle) * (px - ox) - math.sin(angle) * (py - oy)\n",
        "        qy = oy + math.sin(angle) * (px - ox) + math.cos(angle) * (py - oy)\n",
        "        return qx, qy\n",
        "\n",
        "    def translate_point(point, dx, dy):\n",
        "        \"\"\" Translate a point by dx and dy. \"\"\"\n",
        "        x, y = point\n",
        "        return x + dx, y + dy\n",
        "\n",
        "    def draw_line(image, start_point, end_point):\n",
        "        \"\"\" Draw a straight line on the image, ensuring it stays within bounds. \"\"\"\n",
        "        x0, y0 = int(start_point[0]), int(start_point[1])\n",
        "        x1, y1 = int(end_point[0]), int(end_point[1])\n",
        "        dx = abs(x1 - x0)\n",
        "        dy = abs(y1 - y0)\n",
        "        sx = 1 if x0 < x1 else -1\n",
        "        sy = 1 if y0 < y1 else -1\n",
        "        err = dx - dy\n",
        "\n",
        "        while True:\n",
        "            if 0 <= x0 < image.shape[1] and 0 <= y0 < image.shape[0]:\n",
        "                image[y0, x0] = 255  # Set pixel to white\n",
        "            if (x0, y0) == (x1, y1):\n",
        "                break\n",
        "            e2 = 2 * err\n",
        "            if e2 > -dy:\n",
        "                err -= dy\n",
        "                x0 += sx\n",
        "            if e2 < dx:\n",
        "                err += dx\n",
        "                y0 += sy\n",
        "\n",
        "    height, width = image.shape\n",
        "\n",
        "    # Define the middle point and first line\n",
        "    mid_point = (width // 2, height // 2)\n",
        "    first_line_start = (mid_point[0], mid_point[1] - 3)\n",
        "    first_line_end = (mid_point[0], mid_point[1] + 3)\n",
        "\n",
        "    # Random rotation and translation for the first line\n",
        "    rotation_angle = random.uniform(0, 2 * math.pi)  # Random rotation angle\n",
        "    translation_dx = random.randint(-9, 9)  # Random translation in x\n",
        "    translation_dy = random.randint(-9, 9)  # Random translation in y\n",
        "\n",
        "    # Rotate and translate the first line\n",
        "    rotated_start = rotate_point(first_line_start, rotation_angle, mid_point)\n",
        "    rotated_end = rotate_point(first_line_end, rotation_angle, mid_point)\n",
        "    translated_start = translate_point(rotated_start, translation_dx, translation_dy)\n",
        "    translated_end = translate_point(rotated_end, translation_dx, translation_dy)\n",
        "\n",
        "    # Draw the first line\n",
        "    draw_line(image, translated_start, translated_end)\n",
        "\n",
        "    # Define the second line\n",
        "    second_line_mid_point = ((translated_start[0] + translated_end[0]) / 2, (translated_start[1] + translated_end[1]) / 2)\n",
        "    second_line_length = 3  # Length of the second line\n",
        "\n",
        "    # Calculate the second line's rotation angle with improved range\n",
        "    second_line_rotation_angle = (rotation_angle + random.uniform(math.pi / 4 - math.pi / 7, math.pi / 4 + math.pi / 7)) % (2 * math.pi)\n",
        "\n",
        "    # Calculate the second line's end points\n",
        "    second_line_end_1 = (\n",
        "        second_line_mid_point[0] + second_line_length * math.cos(second_line_rotation_angle),\n",
        "        second_line_mid_point[1] + second_line_length * math.sin(second_line_rotation_angle)\n",
        "    )\n",
        "    second_line_end_2 = (\n",
        "        second_line_mid_point[0] - second_line_length * math.cos(second_line_rotation_angle),\n",
        "        second_line_mid_point[1] - second_line_length * math.sin(second_line_rotation_angle)\n",
        "    )\n",
        "\n",
        "    # Draw the second line\n",
        "    draw_line(image, second_line_mid_point, second_line_end_1)\n",
        "    draw_line(image, second_line_mid_point, second_line_end_2)\n",
        "\n",
        "    return image\n",
        "\n",
        "\n",
        "def add_checkerboard_pattern(image, grid_size=2, pattern_size=4):\n",
        "    def draw_partial_checkerboard(image, grid_size, start, end):\n",
        "        \"\"\" Draw a checkerboard pattern on a part of the image. \"\"\"\n",
        "        for y in range(start[1], end[1], grid_size):\n",
        "            for x in range(start[0], end[0], grid_size):\n",
        "                if (x // grid_size + y // grid_size) % 2 == 0:\n",
        "                    image[y:y+grid_size, x:x+grid_size] = 255  # Set pixel to white\n",
        "\n",
        "    def draw_random_checkerboard_5x5(image, grid_size, pattern_size):\n",
        "        \"\"\" Draw a 5x5 checkerboard pattern at a random position in the image, considering the edges. \"\"\"\n",
        "        # Adjust the maximum size for a 5x5 checkerboard\n",
        "        total_pattern_size = grid_size * pattern_size  # 5 squares of size 'grid_size' each\n",
        "\n",
        "        # Randomly select the upper left corner within bounds\n",
        "        max_x = image.shape[1] - total_pattern_size\n",
        "        max_y = image.shape[0] - total_pattern_size\n",
        "        start_x = random.randint(0, max_x)\n",
        "        start_y = random.randint(0, max_y)\n",
        "\n",
        "        # Define the region for the checkerboard pattern\n",
        "        start_point = (start_x, start_y)\n",
        "        end_point = (start_x + total_pattern_size, start_y + total_pattern_size)\n",
        "\n",
        "        # Draw the checkerboard pattern\n",
        "        draw_partial_checkerboard(image, grid_size, start_point, end_point)\n",
        "\n",
        "    # Draw a 5x5 checkerboard pattern on the image\n",
        "    draw_random_checkerboard_5x5(image, grid_size, pattern_size)\n",
        "    return image\n",
        "\n",
        "\n",
        "def add_corner_to_image(image):\n",
        "    def draw_perpendicular_corner(image, point, corner_type):\n",
        "        \"\"\" Draw a corner consisting of two 4-pixel lines that are perpendicular to each other. \"\"\"\n",
        "        x, y = point\n",
        "\n",
        "        # Size of each line in the corner\n",
        "        line_size = 3\n",
        "\n",
        "        # Draw the corner based on the specified type\n",
        "        if corner_type == 1:  # Upper Left\n",
        "            image[y:y+line_size, x] = 255  # Vertical line\n",
        "            image[y, x:x+line_size] = 255  # Horizontal line\n",
        "        elif corner_type == 2:  # Upper Right\n",
        "            image[y:y+line_size, x] = 255  # Vertical line\n",
        "            image[y, x-line_size:x] = 255  # Horizontal line\n",
        "        elif corner_type == 3:  # Bottom Left\n",
        "            image[y-line_size:y +1 , x] = 255  # Vertical line\n",
        "            image[y, x:x+line_size] = 255  # Horizontal line\n",
        "        elif corner_type == 4:  # Bottom Right\n",
        "            image[y-line_size:y +1, x] = 255  # Vertical line\n",
        "            image[y, x-line_size:x] = 255  # Horizontal line\n",
        "\n",
        "    # Randomly sample a point within a specific area to ensure space for the corner\n",
        "    random_point = (random.randint(5, 22), random.randint(5, 22))\n",
        "\n",
        "    # Randomly select a corner type\n",
        "    corner_type = random.randint(1, 4)\n",
        "\n",
        "    # Draw the perpendicular corner\n",
        "    draw_perpendicular_corner(image, random_point, corner_type)\n",
        "\n",
        "    return image\n",
        "\n",
        "\n",
        "\n",
        "def draw_smooth_ellipse(image, center, axes, start_angle, end_angle, step=1):\n",
        "    for angle in range(start_angle, end_angle, step):\n",
        "        radian = math.radians(angle)\n",
        "        x = center[0] + axes[0] * math.cos(radian)\n",
        "        y = center[1] + axes[1] * math.sin(radian)\n",
        "\n",
        "        # Apply anti-aliasing-like technique by softening the pixels near the ellipse boundary\n",
        "        for dx in [-1, 0, 1]:\n",
        "            for dy in [-1, 0, 1]:\n",
        "                ix, iy = int(x + dx), int(y + dy)\n",
        "                if 0 <= ix < image.shape[1] and 0 <= iy < image.shape[0]:\n",
        "                    distance = math.sqrt((x - ix) ** 2 + (y - iy) ** 2)\n",
        "                    if distance < 1.5:  # Soften pixels close to the calculated point\n",
        "                        image[iy, ix] = min(255, image[iy, ix] + int(255 * (1.5 - distance)))\n",
        "\n",
        "def generate_partial_ellipse_image(image, num_ellipses=1):\n",
        "    height, width = image.shape\n",
        "\n",
        "    for _ in range(num_ellipses):\n",
        "        center = (width // 2, height // 2)\n",
        "        axes = (random.randint(8, 12), random.randint(8, 12))  # Adjust axes to avoid extremes\n",
        "        angle_range = random.randint(50, 80)\n",
        "        start_angle = random.randint(0, 360 - angle_range)\n",
        "        end_angle = start_angle + angle_range\n",
        "\n",
        "        draw_smooth_ellipse(image, center, axes, start_angle, end_angle)\n",
        "\n",
        "    return image\n",
        "\n",
        "def image_generator(num_corner = 0, num_vertical=0, num_horizontal=0, num_ellipse=0, num_diagonal=0, num_contra_diagonal= 0, num_crossing=0, num_checkerboard=0):\n",
        "    # Initialize a 28x28 black image\n",
        "    image = np.zeros((28, 28), dtype=np.uint8)\n",
        "\n",
        "    # Add the specified number of vertical lines\n",
        "    for _ in range(num_vertical):\n",
        "        image = generate_vertical_line_image(image)\n",
        "\n",
        "    # Add the specified number of vertical lines\n",
        "    for _ in range(num_diagonal):\n",
        "        image = generate_diagonal_line(image)\n",
        "\n",
        "    # Add the specified number of vertical lines\n",
        "    for _ in range(num_contra_diagonal):\n",
        "        image = generate_contra_diagonal_line(image)\n",
        "\n",
        "\n",
        "    # Add the specified number of horizontal lines\n",
        "    for _ in range(num_horizontal):\n",
        "        image = generate_horizontal_line_image(image)\n",
        "\n",
        "    for _ in range(num_crossing):\n",
        "        image = add_crossing_to_image(image)\n",
        "\n",
        "    for _ in range(num_checkerboard):\n",
        "        image = add_checkerboard_pattern(image)\n",
        "\n",
        "\n",
        "    # Add the specified number of partial ellipses\n",
        "    for _ in range(num_ellipse):\n",
        "        image = generate_partial_ellipse_image(image)\n",
        "\n",
        "    for _ in range(num_corner):\n",
        "        image = add_corner_to_image(image)\n",
        "\n",
        "    return image\n",
        "\n"
      ]
    },
    {
      "cell_type": "markdown",
      "id": "4d6b2d76-c9ef-4388-96b7-7e6e0d2415f4",
      "metadata": {
        "id": "4d6b2d76-c9ef-4388-96b7-7e6e0d2415f4"
      },
      "source": [
        "We automatically annotate the synthetically generated image with an annotation that contains the total number of shape counts, and the number of shapes for each individual possible shape if this number is greater than zero."
      ]
    },
    {
      "cell_type": "code",
      "execution_count": null,
      "id": "c43744e0-24b2-4efe-baac-0ff488159178",
      "metadata": {
        "id": "c43744e0-24b2-4efe-baac-0ff488159178"
      },
      "outputs": [],
      "source": [
        "def sample_shape_count():\n",
        "    # Sample using exponential distribution\n",
        "    return int(np.random.exponential(scale=0.2) + 1)\n",
        "\n",
        "def generate_shape_description(shape_counts):\n",
        "    # Generate a human-readable description of the shapes\n",
        "    descriptions = []\n",
        "    for shape, count in shape_counts.items():\n",
        "        if count > 0:\n",
        "            shape_name = shape.split('_')[1]\n",
        "\n",
        "            # Special handling for 'contra' shape\n",
        "            if shape_name == 'contra':\n",
        "                shape_name = 'contra diagonal'\n",
        "\n",
        "            if count == 1:\n",
        "                descriptions.append(f\"1 {shape_name}\")\n",
        "            else:\n",
        "                # Add 's' for plural, except for special case\n",
        "                if shape_name == 'contra diagonal ':\n",
        "                    descriptions.append(f\"{count} {shape_name}\")\n",
        "                else:\n",
        "                    descriptions.append(f\"{count} {shape_name}s\")\n",
        "    return ', '.join(descriptions)\n"
      ]
    },
    {
      "cell_type": "markdown",
      "id": "dba4a37c-c5d1-477f-a516-e0e1caca59f3",
      "metadata": {
        "id": "dba4a37c-c5d1-477f-a516-e0e1caca59f3"
      },
      "source": [
        "For the reader, we display some of those synthetic images and use the image's description for the title."
      ]
    },
    {
      "cell_type": "code",
      "execution_count": null,
      "id": "411a8859-c66a-4b6d-922f-20f2f673fc42",
      "metadata": {
        "scrolled": true,
        "id": "411a8859-c66a-4b6d-922f-20f2f673fc42",
        "outputId": "5533748f-c8c6-4ec7-be58-319d0da860f6"
      },
      "outputs": [
        {
          "data": {
            "image/png": "[encoded data removed]",
            "text/plain": [
              "<Figure size 500x4000 with 20 Axes>"
            ]
          },
          "metadata": {},
          "output_type": "display_data"
        }
      ],
      "source": [
        "def display_sampled_images_with_descriptions(num_images=20):\n",
        "    # Set up the figure with one column and 'num_images' rows\n",
        "    fig, axes = plt.subplots(num_images, 1, figsize=(5, num_images * 2))  # Adjust the size as needed\n",
        "\n",
        "    if num_images == 1:\n",
        "        axes = [axes]  # If only one image, put it in a list to make iterable\n",
        "\n",
        "    for i, ax in enumerate(axes):\n",
        "        shape_counts = {\n",
        "            \"num_corner\": 0,\n",
        "            \"num_vertical\": 0,\n",
        "            \"num_horizontal\": 0,\n",
        "            \"num_diagonal\": 0,\n",
        "            \"num_contra_diagonal\": 0,\n",
        "            \"num_crossing\": 0,\n",
        "            \"num_checkerboard\": 0,\n",
        "            \"num_ellipse\": 0\n",
        "        }\n",
        "        probabilities = [0.4, 0.3, 0.2, 0.1]\n",
        "        num_shapes_to_select = np.random.choice([1, 2, 3, 4], p=probabilities)\n",
        "        selected_shapes = np.random.choice(list(shape_counts.keys()), size=num_shapes_to_select, replace=False)\n",
        "        for shape in selected_shapes:\n",
        "            shape_counts[shape] = int(round(sample_shape_count()))\n",
        "\n",
        "        generated_image = image_generator(**shape_counts)\n",
        "        shape_description = generate_shape_description(shape_counts)\n",
        "        total_shapes = sum(shape_counts.values())\n",
        "\n",
        "        # Display the image\n",
        "        ax.imshow(generated_image, cmap='gray')\n",
        "        ax.axis('off')  # Hide the axis\n",
        "\n",
        "        # Place the description below the image\n",
        "        ax.set_title(f\"Image with {total_shapes} shape{'s' if total_shapes > 1 else ''} : {shape_description}\")\n",
        "\n",
        "    plt.tight_layout()\n",
        "    plt.show()\n",
        "\n",
        "# Run the function to display sampled images with descriptions\n",
        "display_sampled_images_with_descriptions(num_images=20)"
      ]
    },
    {
      "cell_type": "markdown",
      "id": "9d32eba8-3580-47bc-8d35-f6ca9aef265c",
      "metadata": {
        "id": "9d32eba8-3580-47bc-8d35-f6ca9aef265c"
      },
      "source": [
        "In another script we have loaded a 100 MNIST images and manually annotated these images with the primitive shapes they contain similarly to the synthetic images. We load these images and their annotations and display one of them for illustration."
      ]
    },
    {
      "cell_type": "code",
      "execution_count": null,
      "id": "7f6f0452-08d5-46a8-bbc8-03a93fbdf852",
      "metadata": {
        "id": "7f6f0452-08d5-46a8-bbc8-03a93fbdf852",
        "outputId": "f4a2ee4d-d086-4dd4-b483-ced87d42a22a"
      },
      "outputs": [
        {
          "data": {
            "image/png": "[encoded data removed]",
            "text/plain": [
              "<Figure size 640x480 with 1 Axes>"
            ]
          },
          "metadata": {},
          "output_type": "display_data"
        }
      ],
      "source": [
        "# Load the processed images and annotations from the files\n",
        "with open('first_100_testset_images.pkl', 'rb') as file:\n",
        "    loaded_images = pickle.load(file)\n",
        "with open('first_100_testset_manual_annotations.pkl', 'rb') as file:\n",
        "    loaded_annotations = pickle.load(file)\n",
        "\n",
        "# Display the first image and its annotation\n",
        "first_image = np.squeeze(loaded_images[0])  # Remove the single-dimensional entry from the shape\n",
        "plt.imshow(first_image, cmap='gray')\n",
        "plt.axis('off')\n",
        "plt.title(f\"Description: {loaded_annotations[0]}\")\n",
        "plt.show()"
      ]
    },
    {
      "cell_type": "markdown",
      "id": "9f1e1c6d-e4a8-48fb-9a22-7a1988783622",
      "metadata": {
        "id": "9f1e1c6d-e4a8-48fb-9a22-7a1988783622"
      },
      "source": [
        "Here, generate the synthetic data set. consisting of a list of images and their respective descriptions."
      ]
    },
    {
      "cell_type": "code",
      "execution_count": null,
      "id": "f9b5efd1-a47c-487c-b6cb-864ae8f117b6",
      "metadata": {
        "id": "f9b5efd1-a47c-487c-b6cb-864ae8f117b6"
      },
      "outputs": [],
      "source": [
        "def create_synthetic_dataset(num_images):\n",
        "    # Create directory to save images and descriptions\n",
        "    images = []\n",
        "    descriptions = []\n",
        "\n",
        "    for i in range(num_images):\n",
        "        shape_counts = {\n",
        "            \"num_corner\": 0,\n",
        "            \"num_vertical\": 0,\n",
        "            \"num_horizontal\": 0,\n",
        "            \"num_diagonal\": 0,\n",
        "            \"num_contra_diagonal\": 0,\n",
        "            \"num_crossing\": 0,\n",
        "            \"num_checkerboard\": 0,\n",
        "            \"num_ellipse\": 0\n",
        "        }\n",
        "        probabilities = [0.4, 0.3, 0.2, 0.1]\n",
        "        num_shapes_to_select = np.random.choice([1, 2, 3, 4], p=probabilities)\n",
        "        selected_shapes = np.random.choice(list(shape_counts.keys()), size=num_shapes_to_select, replace=False)\n",
        "        for shape in selected_shapes:\n",
        "            shape_counts[shape] = int(round(sample_shape_count()))\n",
        "\n",
        "        generated_image = image_generator(**shape_counts)\n",
        "        shape_description = generate_shape_description(shape_counts)\n",
        "\n",
        "        total_shapes = sum(shape_counts.values())\n",
        "\n",
        "\n",
        "        shape_description = f\"Image with {total_shapes} shape{'s' if total_shapes > 1 else ''}: {shape_description}\"\n",
        "\n",
        "        # Store the image and description\n",
        "        images.append(generated_image)\n",
        "        descriptions.append(shape_description)\n",
        "\n",
        "    return images, descriptions\n"
      ]
    },
    {
      "cell_type": "markdown",
      "id": "05147895-12f7-428a-b548-d23d708607f3",
      "metadata": {
        "id": "05147895-12f7-428a-b548-d23d708607f3"
      },
      "source": [
        "For efficiency and clarity we subclass the Dataset class and create a custom class that holds the initial synthetically generated images and their descriptions. We use transforms to normalize the synthetic images and make them appear similar to the training data with which the target neural network was trained.  "
      ]
    },
    {
      "cell_type": "code",
      "execution_count": null,
      "id": "eea2ebff-3740-438d-bef9-187c288be37e",
      "metadata": {
        "id": "eea2ebff-3740-438d-bef9-187c288be37e"
      },
      "outputs": [],
      "source": [
        "class SyntheticDataset(Dataset):\n",
        "    def __init__(self, images, descriptions, transform=None):\n",
        "        self.images = images\n",
        "        self.descriptions = descriptions\n",
        "        self.transform = transform\n",
        "\n",
        "    def __len__(self):\n",
        "        return len(self.images)\n",
        "\n",
        "    def __getitem__(self, idx):\n",
        "        image = self.images[idx]\n",
        "        description = self.descriptions[idx]\n",
        "\n",
        "        if self.transform:\n",
        "            # Convert numpy array to tensor and apply transform\n",
        "            #transforms.ToTensor is a constructor that creates an instance of the ToTensor transform.\n",
        "            image = transforms.ToTensor()(image)\n",
        "            image = self.transform(image)\n",
        "\n",
        "        return image, description"
      ]
    },
    {
      "cell_type": "markdown",
      "id": "a5e53015-2245-4aed-9c8e-2383db5f0509",
      "metadata": {
        "id": "a5e53015-2245-4aed-9c8e-2383db5f0509"
      },
      "source": [
        "Similarly to the synthetic dataset we subclass the dataset class for the manually annotated data and ensure that the images are normalized using the same paramers as with the synthetic data. Moreover, we analyze one instance of the images for debugging."
      ]
    },
    {
      "cell_type": "code",
      "execution_count": null,
      "id": "ad5834ef-9f60-4444-bfa2-01d5d175f068",
      "metadata": {
        "id": "ad5834ef-9f60-4444-bfa2-01d5d175f068",
        "outputId": "c9f6dc27-2117-42bb-f18c-734ae96b5d63"
      },
      "outputs": [
        {
          "name": "stdout",
          "output_type": "stream",
          "text": [
            "Shape of the annotated image tensor: torch.Size([1, 1, 28, 28])\n",
            "Raw image data (as numpy array) to ensure that they are normalized using transform:\n",
            "tensor([[[[-1.0000, -1.0000, -1.0000, -1.0000, -1.0000, -1.0000, -1.0000,\n",
            "           -1.0000, -1.0000, -1.0000, -1.0000, -1.0000, -1.0000, -1.0000,\n",
            "           -1.0000, -1.0000, -1.0000, -1.0000, -1.0000, -1.0000, -1.0000,\n",
            "           -1.0000, -1.0000, -1.0000, -1.0000, -1.0000, -1.0000, -1.0000],\n",
            "          [-1.0000, -1.0000, -1.0000, -1.0000, -1.0000, -1.0000, -1.0000,\n",
            "           -1.0000, -1.0000, -1.0000, -1.0000, -1.0000, -1.0000, -1.0000,\n",
            "           -1.0000, -1.0000, -1.0000, -1.0000, -1.0000, -1.0000, -1.0000,\n",
            "           -1.0000, -1.0000, -1.0000, -1.0000, -1.0000, -1.0000, -1.0000],\n",
            "          [-1.0000, -1.0000, -1.0000, -1.0000, -1.0000, -1.0000, -1.0000,\n",
            "           -1.0000, -1.0000, -1.0000, -1.0000, -1.0000, -1.0000, -1.0000,\n",
            "           -1.0000, -1.0000, -1.0000, -1.0000, -1.0000, -1.0000, -1.0000,\n",
            "           -1.0000, -1.0000, -1.0000, -1.0000, -1.0000, -1.0000, -1.0000],\n",
            "          [-1.0000, -1.0000, -1.0000, -1.0000, -1.0000, -1.0000, -1.0000,\n",
            "           -1.0000, -1.0000, -1.0000, -1.0000, -1.0000, -1.0000, -1.0000,\n",
            "           -1.0000, -1.0000, -1.0000, -1.0000, -1.0000, -1.0000, -1.0000,\n",
            "           -1.0000, -1.0000, -1.0000, -1.0000, -1.0000, -1.0000, -1.0000],\n",
            "          [-1.0000, -1.0000, -1.0000, -1.0000, -1.0000, -1.0000, -1.0000,\n",
            "           -1.0000, -1.0000, -1.0000, -1.0000, -1.0000, -1.0000, -1.0000,\n",
            "           -1.0000, -1.0000, -1.0000, -1.0000, -1.0000, -1.0000, -1.0000,\n",
            "           -1.0000, -1.0000, -1.0000, -1.0000, -1.0000, -1.0000, -1.0000],\n",
            "          [-1.0000, -1.0000, -1.0000, -1.0000, -1.0000, -1.0000, -1.0000,\n",
            "           -1.0000, -1.0000, -1.0000, -1.0000, -1.0000, -1.0000, -1.0000,\n",
            "           -1.0000, -1.0000, -1.0000, -1.0000, -1.0000, -1.0000, -1.0000,\n",
            "           -1.0000, -1.0000, -1.0000, -1.0000, -1.0000, -1.0000, -1.0000],\n",
            "          [-1.0000, -1.0000, -1.0000, -1.0000, -1.0000, -1.0000, -1.0000,\n",
            "           -1.0000, -1.0000, -1.0000, -1.0000, -1.0000, -1.0000, -1.0000,\n",
            "           -1.0000, -1.0000, -1.0000, -1.0000, -1.0000, -1.0000, -1.0000,\n",
            "           -1.0000, -1.0000, -1.0000, -1.0000, -1.0000, -1.0000, -1.0000],\n",
            "          [-1.0000, -1.0000, -1.0000, -1.0000, -1.0000, -1.0000, -0.3412,\n",
            "            0.4510,  0.2471,  0.1843, -0.5294, -0.7176, -1.0000, -1.0000,\n",
            "           -1.0000, -1.0000, -1.0000, -1.0000, -1.0000, -1.0000, -1.0000,\n",
            "           -1.0000, -1.0000, -1.0000, -1.0000, -1.0000, -1.0000, -1.0000],\n",
            "          [-1.0000, -1.0000, -1.0000, -1.0000, -1.0000, -1.0000,  0.7412,\n",
            "            0.9922,  0.9922,  0.9922,  0.9922,  0.8902,  0.5529,  0.5529,\n",
            "            0.5529,  0.5529,  0.5529,  0.5529,  0.5529,  0.5529,  0.3333,\n",
            "           -0.5922, -1.0000, -1.0000, -1.0000, -1.0000, -1.0000, -1.0000],\n",
            "          [-1.0000, -1.0000, -1.0000, -1.0000, -1.0000, -1.0000, -0.4745,\n",
            "           -0.1059, -0.4353, -0.1059,  0.2784,  0.7804,  0.9922,  0.7647,\n",
            "            0.9922,  0.9922,  0.9922,  0.9608,  0.7961,  0.9922,  0.9922,\n",
            "            0.0980, -1.0000, -1.0000, -1.0000, -1.0000, -1.0000, -1.0000],\n",
            "          [-1.0000, -1.0000, -1.0000, -1.0000, -1.0000, -1.0000, -1.0000,\n",
            "           -1.0000, -1.0000, -1.0000, -1.0000, -0.8667, -0.4824, -0.8902,\n",
            "           -0.4745, -0.4745, -0.4745, -0.5373, -0.8353,  0.8510,  0.9922,\n",
            "           -0.1686, -1.0000, -1.0000, -1.0000, -1.0000, -1.0000, -1.0000],\n",
            "          [-1.0000, -1.0000, -1.0000, -1.0000, -1.0000, -1.0000, -1.0000,\n",
            "           -1.0000, -1.0000, -1.0000, -1.0000, -1.0000, -1.0000, -1.0000,\n",
            "           -1.0000, -1.0000, -1.0000, -1.0000, -0.3490,  0.9843,  0.6392,\n",
            "           -0.8588, -1.0000, -1.0000, -1.0000, -1.0000, -1.0000, -1.0000],\n",
            "          [-1.0000, -1.0000, -1.0000, -1.0000, -1.0000, -1.0000, -1.0000,\n",
            "           -1.0000, -1.0000, -1.0000, -1.0000, -1.0000, -1.0000, -1.0000,\n",
            "           -1.0000, -1.0000, -1.0000, -0.8275,  0.8275,  1.0000, -0.3490,\n",
            "           -1.0000, -1.0000, -1.0000, -1.0000, -1.0000, -1.0000, -1.0000],\n",
            "          [-1.0000, -1.0000, -1.0000, -1.0000, -1.0000, -1.0000, -1.0000,\n",
            "           -1.0000, -1.0000, -1.0000, -1.0000, -1.0000, -1.0000, -1.0000,\n",
            "           -1.0000, -1.0000, -1.0000,  0.0118,  0.9922,  0.8667, -0.6549,\n",
            "           -1.0000, -1.0000, -1.0000, -1.0000, -1.0000, -1.0000, -1.0000],\n",
            "          [-1.0000, -1.0000, -1.0000, -1.0000, -1.0000, -1.0000, -1.0000,\n",
            "           -1.0000, -1.0000, -1.0000, -1.0000, -1.0000, -1.0000, -1.0000,\n",
            "           -1.0000, -1.0000, -0.5373,  0.9529,  0.9922, -0.5137, -1.0000,\n",
            "           -1.0000, -1.0000, -1.0000, -1.0000, -1.0000, -1.0000, -1.0000],\n",
            "          [-1.0000, -1.0000, -1.0000, -1.0000, -1.0000, -1.0000, -1.0000,\n",
            "           -1.0000, -1.0000, -1.0000, -1.0000, -1.0000, -1.0000, -1.0000,\n",
            "           -1.0000, -1.0000,  0.0431,  0.9922,  0.4667, -0.9608, -1.0000,\n",
            "           -1.0000, -1.0000, -1.0000, -1.0000, -1.0000, -1.0000, -1.0000],\n",
            "          [-1.0000, -1.0000, -1.0000, -1.0000, -1.0000, -1.0000, -1.0000,\n",
            "           -1.0000, -1.0000, -1.0000, -1.0000, -1.0000, -1.0000, -1.0000,\n",
            "           -1.0000, -0.9294,  0.6078,  0.9451, -0.5451, -1.0000, -1.0000,\n",
            "           -1.0000, -1.0000, -1.0000, -1.0000, -1.0000, -1.0000, -1.0000],\n",
            "          [-1.0000, -1.0000, -1.0000, -1.0000, -1.0000, -1.0000, -1.0000,\n",
            "           -1.0000, -1.0000, -1.0000, -1.0000, -1.0000, -1.0000, -1.0000,\n",
            "           -1.0000, -0.0118,  0.9922,  0.4275, -1.0000, -1.0000, -1.0000,\n",
            "           -1.0000, -1.0000, -1.0000, -1.0000, -1.0000, -1.0000, -1.0000],\n",
            "          [-1.0000, -1.0000, -1.0000, -1.0000, -1.0000, -1.0000, -1.0000,\n",
            "           -1.0000, -1.0000, -1.0000, -1.0000, -1.0000, -1.0000, -1.0000,\n",
            "           -0.4118,  0.9686,  0.8824, -0.5529, -1.0000, -1.0000, -1.0000,\n",
            "           -1.0000, -1.0000, -1.0000, -1.0000, -1.0000, -1.0000, -1.0000],\n",
            "          [-1.0000, -1.0000, -1.0000, -1.0000, -1.0000, -1.0000, -1.0000,\n",
            "           -1.0000, -1.0000, -1.0000, -1.0000, -1.0000, -1.0000, -0.8510,\n",
            "            0.7333,  0.9922,  0.3020, -1.0000, -1.0000, -1.0000, -1.0000,\n",
            "           -1.0000, -1.0000, -1.0000, -1.0000, -1.0000, -1.0000, -1.0000],\n",
            "          [-1.0000, -1.0000, -1.0000, -1.0000, -1.0000, -1.0000, -1.0000,\n",
            "           -1.0000, -1.0000, -1.0000, -1.0000, -1.0000, -0.9765,  0.5922,\n",
            "            0.9922,  0.7176, -0.7255, -1.0000, -1.0000, -1.0000, -1.0000,\n",
            "           -1.0000, -1.0000, -1.0000, -1.0000, -1.0000, -1.0000, -1.0000],\n",
            "          [-1.0000, -1.0000, -1.0000, -1.0000, -1.0000, -1.0000, -1.0000,\n",
            "           -1.0000, -1.0000, -1.0000, -1.0000, -1.0000, -0.7020,  0.9922,\n",
            "            0.9922, -0.3961, -1.0000, -1.0000, -1.0000, -1.0000, -1.0000,\n",
            "           -1.0000, -1.0000, -1.0000, -1.0000, -1.0000, -1.0000, -1.0000],\n",
            "          [-1.0000, -1.0000, -1.0000, -1.0000, -1.0000, -1.0000, -1.0000,\n",
            "           -1.0000, -1.0000, -1.0000, -1.0000, -0.7569,  0.7569,  0.9922,\n",
            "           -0.0980, -0.9922, -1.0000, -1.0000, -1.0000, -1.0000, -1.0000,\n",
            "           -1.0000, -1.0000, -1.0000, -1.0000, -1.0000, -1.0000, -1.0000],\n",
            "          [-1.0000, -1.0000, -1.0000, -1.0000, -1.0000, -1.0000, -1.0000,\n",
            "           -1.0000, -1.0000, -1.0000, -1.0000,  0.0431,  0.9922,  0.9922,\n",
            "           -0.5922, -1.0000, -1.0000, -1.0000, -1.0000, -1.0000, -1.0000,\n",
            "           -1.0000, -1.0000, -1.0000, -1.0000, -1.0000, -1.0000, -1.0000],\n",
            "          [-1.0000, -1.0000, -1.0000, -1.0000, -1.0000, -1.0000, -1.0000,\n",
            "           -1.0000, -1.0000, -1.0000, -0.5216,  0.8980,  0.9922,  0.9922,\n",
            "           -0.5922, -1.0000, -1.0000, -1.0000, -1.0000, -1.0000, -1.0000,\n",
            "           -1.0000, -1.0000, -1.0000, -1.0000, -1.0000, -1.0000, -1.0000],\n",
            "          [-1.0000, -1.0000, -1.0000, -1.0000, -1.0000, -1.0000, -1.0000,\n",
            "           -1.0000, -1.0000, -1.0000, -0.0510,  0.9922,  0.9922,  0.7176,\n",
            "           -0.6863, -1.0000, -1.0000, -1.0000, -1.0000, -1.0000, -1.0000,\n",
            "           -1.0000, -1.0000, -1.0000, -1.0000, -1.0000, -1.0000, -1.0000],\n",
            "          [-1.0000, -1.0000, -1.0000, -1.0000, -1.0000, -1.0000, -1.0000,\n",
            "           -1.0000, -1.0000, -1.0000, -0.0510,  0.9922,  0.6235, -0.8588,\n",
            "           -1.0000, -1.0000, -1.0000, -1.0000, -1.0000, -1.0000, -1.0000,\n",
            "           -1.0000, -1.0000, -1.0000, -1.0000, -1.0000, -1.0000, -1.0000],\n",
            "          [-1.0000, -1.0000, -1.0000, -1.0000, -1.0000, -1.0000, -1.0000,\n",
            "           -1.0000, -1.0000, -1.0000, -1.0000, -1.0000, -1.0000, -1.0000,\n",
            "           -1.0000, -1.0000, -1.0000, -1.0000, -1.0000, -1.0000, -1.0000,\n",
            "           -1.0000, -1.0000, -1.0000, -1.0000, -1.0000, -1.0000, -1.0000]]]])\n",
            "('Image with 3 shapes: 1 corner, 1 horizontal, 1 diagonal',)\n"
          ]
        }
      ],
      "source": [
        "class ManuallyAnnotatedDataset(Dataset):\n",
        "    def __init__(self, images, descriptions, transform=None):\n",
        "        self.images = images\n",
        "        self.descriptions = descriptions\n",
        "        self.transform = transform\n",
        "\n",
        "    def __len__(self):\n",
        "        return len(self.images)\n",
        "\n",
        "    def __getitem__(self, idx):\n",
        "        image = self.images[idx]\n",
        "        description = self.descriptions[idx]\n",
        "\n",
        "        if self.transform:\n",
        "            # Assuming the images are numpy arrays and need to be converted to tensors\n",
        "            image = self.transform(image)\n",
        "\n",
        "        return image, description\n",
        "\n",
        "# Apply the same normalization transform as in the synthetic dataset\n",
        "transform = transforms.Normalize((0.5,), (0.5,))\n",
        "\n",
        "manuallyAnnotatedDataSet = ManuallyAnnotatedDataset(loaded_images, loaded_annotations, transform=transform)\n",
        "manual_loader = DataLoader(manuallyAnnotatedDataSet, batch_size=1, shuffle=False)\n",
        "\n",
        "# Example: Display the first image and its annotation from the manually annotated dataset\n",
        "image, description = next(iter(manual_loader))\n",
        "image_np = image.squeeze().numpy()  # Convert the image tensor to a numpy array for plotting\n",
        "print(f\"Shape of the annotated image tensor: {image.shape}\")\n",
        "\n",
        "# Print the raw image data as a numpy array\n",
        "print(\"Raw image data (as numpy array) to ensure that they are normalized using transform:\")\n",
        "print(image)\n",
        "\n",
        "# Print the description\n",
        "print(description)\n"
      ]
    },
    {
      "cell_type": "markdown",
      "id": "6d73fa23-00b5-40b9-b721-151a9a8757e8",
      "metadata": {
        "id": "6d73fa23-00b5-40b9-b721-151a9a8757e8"
      },
      "source": [
        "We analyse here the synthetic data set."
      ]
    },
    {
      "cell_type": "markdown",
      "id": "a6a9b269-2f51-47b1-a4c5-28ba6e46945c",
      "metadata": {
        "id": "a6a9b269-2f51-47b1-a4c5-28ba6e46945c"
      },
      "source": [
        "We perform the same debugging for a synthetic image as well."
      ]
    },
    {
      "cell_type": "code",
      "execution_count": null,
      "id": "831a91ad-079c-4b65-a018-365fdfb3b1d1",
      "metadata": {
        "id": "831a91ad-079c-4b65-a018-365fdfb3b1d1",
        "outputId": "6199ab6a-3b86-4406-f9b4-d66571b8ecf8"
      },
      "outputs": [
        {
          "name": "stdout",
          "output_type": "stream",
          "text": [
            "Shape of the image tensor: torch.Size([1, 1, 28, 28])\n",
            "Raw image data (as numpy array):\n",
            "tensor([[[[-1., -1., -1., -1., -1., -1., -1., -1., -1., -1., -1., -1., -1., -1.,\n",
            "           -1., -1., -1., -1., -1., -1., -1., -1., -1., -1., -1., -1., -1., -1.],\n",
            "          [-1., -1., -1., -1., -1., -1., -1., -1., -1., -1., -1., -1., -1., -1.,\n",
            "           -1., -1., -1., -1., -1., -1., -1., -1., -1., -1., -1., -1., -1., -1.],\n",
            "          [-1., -1., -1., -1., -1., -1., -1., -1., -1., -1., -1., -1., -1., -1.,\n",
            "           -1., -1., -1., -1., -1., -1., -1., -1., -1., -1., -1., -1., -1., -1.],\n",
            "          [-1., -1., -1., -1., -1., -1., -1., -1., -1., -1., -1., -1., -1., -1.,\n",
            "           -1., -1., -1., -1., -1., -1., -1., -1., -1., -1., -1., -1., -1., -1.],\n",
            "          [-1., -1., -1., -1., -1., -1., -1., -1., -1., -1., -1., -1., -1., -1.,\n",
            "           -1., -1., -1., -1., -1., -1., -1., -1., -1., -1., -1., -1., -1., -1.],\n",
            "          [-1., -1., -1., -1., -1., -1., -1., -1., -1., -1., -1., -1., -1., -1.,\n",
            "           -1., -1., -1., -1., -1., -1., -1., -1., -1., -1., -1., -1., -1., -1.],\n",
            "          [-1., -1., -1., -1., -1., -1., -1., -1., -1., -1., -1., -1., -1., -1.,\n",
            "           -1., -1., -1., -1., -1., -1., -1., -1., -1., -1., -1., -1., -1., -1.],\n",
            "          [-1., -1., -1., -1., -1., -1., -1., -1., -1., -1., -1., -1., -1., -1.,\n",
            "           -1., -1., -1., -1., -1., -1., -1., -1., -1., -1., -1., -1., -1., -1.],\n",
            "          [-1., -1., -1., -1., -1., -1., -1., -1., -1., -1., -1., -1., -1., -1.,\n",
            "           -1., -1., -1., -1., -1., -1., -1., -1., -1., -1., -1., -1., -1., -1.],\n",
            "          [-1., -1., -1., -1., -1., -1., -1., -1., -1., -1., -1., -1., -1., -1.,\n",
            "           -1., -1., -1., -1., -1., -1., -1., -1., -1., -1., -1., -1., -1., -1.],\n",
            "          [-1., -1., -1., -1., -1., -1., -1., -1., -1., -1., -1., -1., -1., -1.,\n",
            "           -1., -1., -1., -1., -1., -1., -1., -1., -1., -1., -1., -1., -1., -1.],\n",
            "          [-1., -1., -1., -1., -1., -1., -1., -1., -1., -1., -1., -1., -1., -1.,\n",
            "           -1., -1., -1., -1., -1., -1., -1., -1., -1., -1., -1., -1., -1., -1.],\n",
            "          [-1., -1., -1., -1., -1., -1., -1., -1., -1., -1., -1., -1., -1., -1.,\n",
            "           -1., -1., -1., -1., -1., -1., -1., -1., -1., -1., -1., -1., -1., -1.],\n",
            "          [-1., -1., -1., -1., -1., -1., -1., -1., -1., -1., -1., -1., -1., -1.,\n",
            "           -1., -1., -1., -1., -1., -1., -1., -1., -1., -1., -1., -1., -1., -1.],\n",
            "          [-1., -1., -1., -1., -1., -1., -1., -1., -1., -1., -1., -1., -1., -1.,\n",
            "           -1., -1., -1., -1., -1., -1., -1., -1., -1., -1., -1., -1., -1., -1.],\n",
            "          [-1., -1., -1., -1., -1., -1., -1., -1., -1., -1., -1., -1., -1., -1.,\n",
            "           -1., -1., -1., -1., -1., -1., -1., -1., -1., -1., -1., -1., -1., -1.],\n",
            "          [-1., -1., -1., -1., -1., -1., -1., -1.,  1., -1., -1., -1., -1., -1.,\n",
            "           -1., -1., -1., -1., -1., -1., -1., -1., -1., -1., -1., -1., -1., -1.],\n",
            "          [-1., -1., -1., -1., -1., -1., -1., -1.,  1., -1., -1., -1., -1., -1.,\n",
            "           -1., -1., -1., -1., -1., -1., -1., -1., -1., -1., -1., -1., -1., -1.],\n",
            "          [-1., -1., -1., -1., -1., -1., -1., -1.,  1., -1., -1., -1., -1., -1.,\n",
            "           -1., -1., -1., -1., -1., -1., -1., -1., -1., -1., -1., -1., -1., -1.],\n",
            "          [-1., -1., -1., -1., -1., -1., -1., -1.,  1.,  1.,  1., -1., -1., -1.,\n",
            "           -1., -1., -1., -1., -1., -1., -1., -1., -1., -1., -1., -1., -1., -1.],\n",
            "          [-1., -1., -1., -1., -1., -1., -1., -1., -1., -1., -1., -1., -1., -1.,\n",
            "           -1., -1., -1., -1., -1., -1., -1., -1., -1., -1., -1., -1., -1., -1.],\n",
            "          [-1., -1., -1., -1., -1., -1., -1., -1., -1., -1., -1., -1., -1., -1.,\n",
            "           -1., -1., -1., -1., -1., -1., -1., -1., -1., -1., -1., -1., -1., -1.],\n",
            "          [-1., -1., -1., -1., -1., -1., -1., -1., -1., -1., -1., -1., -1., -1.,\n",
            "           -1., -1., -1., -1., -1., -1., -1., -1., -1., -1., -1., -1., -1., -1.],\n",
            "          [-1., -1., -1., -1., -1., -1., -1., -1., -1., -1., -1., -1., -1., -1.,\n",
            "           -1., -1., -1., -1., -1., -1., -1., -1., -1., -1., -1., -1., -1., -1.],\n",
            "          [-1., -1., -1., -1., -1., -1., -1., -1., -1., -1., -1., -1., -1., -1.,\n",
            "           -1., -1., -1., -1., -1., -1., -1., -1., -1., -1., -1., -1., -1., -1.],\n",
            "          [-1., -1., -1., -1., -1., -1., -1., -1., -1., -1., -1., -1., -1., -1.,\n",
            "           -1., -1., -1., -1., -1., -1., -1., -1., -1., -1., -1., -1., -1., -1.],\n",
            "          [-1., -1., -1., -1., -1., -1., -1., -1., -1., -1., -1., -1., -1., -1.,\n",
            "           -1., -1., -1., -1., -1., -1., -1., -1., -1., -1., -1., -1., -1., -1.],\n",
            "          [-1., -1., -1., -1., -1., -1., -1., -1., -1., -1., -1., -1., -1., -1.,\n",
            "           -1., -1., -1., -1., -1., -1., -1., -1., -1., -1., -1., -1., -1., -1.]]]])\n",
            "('Image with 1 shape: 1 corner',)\n"
          ]
        },
        {
          "data": {
            "image/png": "[encoded data removed]",
            "text/plain": [
              "<Figure size 640x480 with 1 Axes>"
            ]
          },
          "metadata": {},
          "output_type": "display_data"
        }
      ],
      "source": [
        "images, descriptions = create_synthetic_dataset(num_images=1)\n",
        "transform = transforms.Normalize((0.5,), (0.5,))\n",
        "syntheticDataSet = SyntheticDataset(images, descriptions, transform=transform)\n",
        "synth_loader = DataLoader(syntheticDataSet, batch_size=1, shuffle=False)\n",
        "\n",
        "# Display one image and its corresponding description\n",
        "image, description = next(iter(synth_loader))\n",
        "\n",
        "# The image shape should be [1, 1, 28, 28] at this point\n",
        "print(f\"Shape of the image tensor: {image.shape}\")\n",
        "\n",
        "print(\"Raw image data (as numpy array):\")\n",
        "print(image)\n",
        "\n",
        "print(description)\n",
        "# Convert the image tensor to a numpy array for plotting\n",
        "image_np = image.squeeze().numpy()\n",
        "\n",
        "# Display the image and the description\n",
        "plt.imshow(image_np, cmap='gray')\n",
        "plt.title(f\"Description: {description}\")\n",
        "plt.axis('off')\n",
        "plt.show()"
      ]
    },
    {
      "cell_type": "markdown",
      "id": "39319f66-6f79-40b6-90f9-007437fba82a",
      "metadata": {
        "id": "39319f66-6f79-40b6-90f9-007437fba82a"
      },
      "source": [
        "The neural network defined below is the target CNN that our interpreter aims to understand."
      ]
    },
    {
      "cell_type": "code",
      "execution_count": null,
      "id": "8a2dbeaa-ba8f-4eab-b7e3-023250c95cf2",
      "metadata": {
        "id": "8a2dbeaa-ba8f-4eab-b7e3-023250c95cf2"
      },
      "outputs": [],
      "source": [
        "class CNN(nn.Module):\n",
        "    def __init__(self):\n",
        "        super(CNN, self).__init__()\n",
        "\n",
        "        # Initialize convolutional layer 1 with He Initialization\n",
        "        # Increased kernel size to 9 and number of filters remains 8\n",
        "        self.conv1 = self._init_conv_layer(1, 8, 9, 1, 4, 'he')  # Padding adjusted to 4\n",
        "\n",
        "        # Initialize convolutional layer 2 with He Initialization\n",
        "        # Increased kernel size to 9 and number of filters remains 16\n",
        "        self.conv2 = self._init_conv_layer(8, 16, 9, 1, 4, 'he')  # Padding adjusted to 4\n",
        "\n",
        "        # Initialize fully connected output layer\n",
        "        # Input dimension remains the same\n",
        "        self.out = nn.Linear(16 * 7 * 7, 10)\n",
        "        nn.init.kaiming_normal_(self.out.weight, nonlinearity='relu')\n",
        "\n",
        "    def _init_conv_layer(self, in_channels, out_channels, kernel_size, stride, padding, init_method):\n",
        "        \"\"\"Initializes a convolutional layer followed by a ReLU activation and MaxPool.\"\"\"\n",
        "        layer = nn.Sequential(\n",
        "            nn.Conv2d(\n",
        "                in_channels=in_channels,\n",
        "                out_channels=out_channels,\n",
        "                kernel_size=kernel_size,\n",
        "                stride=stride,\n",
        "                padding=padding\n",
        "            ),\n",
        "            nn.ReLU(),\n",
        "            nn.MaxPool2d(kernel_size=2)\n",
        "        )\n",
        "\n",
        "        if init_method == 'he':\n",
        "            nn.init.kaiming_normal_(layer[0].weight, nonlinearity='relu')\n",
        "\n",
        "        return layer\n",
        "\n",
        "    def forward(self, x):\n",
        "        x = self.conv1(x)\n",
        "        x = self.conv2(x)\n",
        "\n",
        "        # Flatten the output for the fully connected layer\n",
        "        x = x.view(x.size(0), -1)\n",
        "\n",
        "        output = self.out(x)\n",
        "        return output, x\n"
      ]
    },
    {
      "cell_type": "markdown",
      "id": "9e489617-b833-4c4b-b414-8e53042aa05e",
      "metadata": {
        "id": "9e489617-b833-4c4b-b414-8e53042aa05e"
      },
      "source": [
        "We show that our target CNN can accurately predict the labels in the MNIST data set after loading the weights which we obtained by training the target CNN on the MNIST data."
      ]
    },
    {
      "cell_type": "code",
      "execution_count": null,
      "id": "70551f1f-b247-4b1a-99ed-a329e73ec553",
      "metadata": {
        "id": "70551f1f-b247-4b1a-99ed-a329e73ec553",
        "outputId": "512df0cc-25e4-4e07-cbbd-ba1816bc5001"
      },
      "outputs": [
        {
          "name": "stdout",
          "output_type": "stream",
          "text": [
            "Test Accuracy of the targetCNN: 98.85%\n"
          ]
        }
      ],
      "source": [
        "SEED = 42\n",
        "torch.manual_seed(SEED)\n",
        "np.random.seed(SEED)\n",
        "transform = transforms.Compose([\n",
        "    transforms.ToTensor(),\n",
        "    transforms.Normalize((0.5,), (0.5,))\n",
        "])\n",
        "\n",
        "mnist_traindataset = datasets.MNIST(root='./data', train=True, transform=transform, download=True)\n",
        "mnist_trainloader = DataLoader(mnist_traindataset, batch_size=1, shuffle=False)  # batch_size=1 to load images one by one\n",
        "\n",
        "mnist_testDataSet = datasets.MNIST(root='./data', train=False, transform=transform)\n",
        "mnist_testloader = DataLoader(mnist_testDataSet, batch_size=128, shuffle=False)\n",
        "\n",
        "targetCNN = CNN()\n",
        "weights = torch.load('mnistTwoLayersFilterSize9And16Filters.pth')\n",
        "targetCNN.load_state_dict(weights)\n",
        "# Test the CNN\n",
        "targetCNN.eval()\n",
        "with torch.no_grad():\n",
        "    correct = 0\n",
        "    total = 0\n",
        "    for images, labels in mnist_testloader:\n",
        "        outputs, _ = targetCNN(images)\n",
        "        _, predicted = torch.max(outputs.data, 1)\n",
        "        total += labels.size(0)\n",
        "        correct += (predicted == labels).sum().item()\n",
        "\n",
        "test_accuracy = 100 * correct / total\n",
        "print(f'Test Accuracy of the targetCNN: {test_accuracy}%')\n"
      ]
    },
    {
      "cell_type": "markdown",
      "id": "5517c19c-f2a3-4318-98aa-f26b2f39a9be",
      "metadata": {
        "id": "5517c19c-f2a3-4318-98aa-f26b2f39a9be"
      },
      "source": [
        "We analyze the shape of the synthetic images and also the shape of their activations after passing the synthetic data through the target CNN"
      ]
    },
    {
      "cell_type": "code",
      "execution_count": null,
      "id": "c70b51f3-f0a7-4208-99b3-702b984501f8",
      "metadata": {
        "id": "c70b51f3-f0a7-4208-99b3-702b984501f8",
        "outputId": "ef25682e-e60e-4bdb-bf7e-cdbf3fb639bb"
      },
      "outputs": [
        {
          "name": "stdout",
          "output_type": "stream",
          "text": [
            "Shape of raw pixel data of synthetically generated data: torch.Size([1, 1, 28, 28])\n",
            "Shape of activations from the first convolutional layer for synthetic data: torch.Size([1, 8, 14, 14])\n",
            "Shape of raw pixel data of manually annotated MNIST image: torch.Size([1, 1, 28, 28])\n",
            "Shape of activations from the first convolutional layer for manually annotated MNIST image: torch.Size([1, 8, 14, 14])\n"
          ]
        }
      ],
      "source": [
        "sample_data, _ = next(iter(synth_loader))\n",
        "print(\"Shape of raw pixel data of synthetically generated data:\", sample_data.shape)\n",
        "\n",
        "# Get the shape of the activations from the first convolutional layer\n",
        "activations = targetCNN.conv1(sample_data)\n",
        "print(\"Shape of activations from the first convolutional layer for synthetic data:\", activations.shape)\n",
        "\n",
        "sample_dataMNIST, _ = next(iter(manual_loader))\n",
        "print(\"Shape of raw pixel data of manually annotated MNIST image:\", sample_dataMNIST.shape)\n",
        "\n",
        "# Get the shape of the activations from the first convolutional layer\n",
        "activations = targetCNN.conv1(sample_dataMNIST)\n",
        "print(\"Shape of activations from the first convolutional layer for manually annotated MNIST image:\", activations.shape)"
      ]
    },
    {
      "cell_type": "markdown",
      "id": "cb631a39-b2f6-4663-beb5-3b404101af7f",
      "metadata": {
        "id": "cb631a39-b2f6-4663-beb5-3b404101af7f"
      },
      "source": [
        "The pipeline in this code cell goes like this: We create synthetic images and load the manually annotated images, then we wrap them into a data set class and extract them one by one using the data loader. We pass the synthectic image through the target neural network and store the flattened activations together with the descriptions. We do this in order to get a self-contained function that can generate the synthetic and manual data again and again. Note that the first entries of the dict are the synthetic data and the last the manually annotated data. This is why we analyze the first and the 105th entry so that we debug both datasets."
      ]
    },
    {
      "cell_type": "code",
      "execution_count": null,
      "id": "3a96e252-410c-4f71-a6be-7c632003e272",
      "metadata": {
        "id": "3a96e252-410c-4f71-a6be-7c632003e272",
        "outputId": "011692ef-c503-4fd1-99eb-24c6fed168cc"
      },
      "outputs": [
        {
          "name": "stdout",
          "output_type": "stream",
          "text": [
            "The number of pictures in the synthetic data set is 105\n",
            "Lengths of the stored values for the first image:\n",
            "raw_pixel_data: Length = 784\n",
            "activationmap1: Length = 196\n",
            "activationmap2: Length = 196\n",
            "activationmap3: Length = 196\n",
            "activationmap4: Length = 196\n",
            "activationmap5: Length = 196\n",
            "activationmap6: Length = 196\n",
            "activationmap7: Length = 196\n",
            "activationmap8: Length = 196\n",
            "image_description: Length = 1\n",
            "image_description: Length = ('Image with 1 shape: 1 diagonal',)\n",
            "Lengths of the stored values for the last image:\n",
            "raw_pixel_data: Length = 784\n",
            "activationmap1: Length = 196\n",
            "activationmap2: Length = 196\n",
            "activationmap3: Length = 196\n",
            "activationmap4: Length = 196\n",
            "activationmap5: Length = 196\n",
            "activationmap6: Length = 196\n",
            "activationmap7: Length = 196\n",
            "activationmap8: Length = 196\n",
            "image_description: Length = 1\n",
            "image_description: Length = ('Image with 13 shapes: 1 corner, 2 verticals, 2 horizontals, 2 diagonals, 2 contra diagonals, 1 crossing, 1 checkerboard, 2 ellipses',)\n"
          ]
        }
      ],
      "source": [
        "def process_image(targetCNN, image, description):\n",
        "    instance_data = {}\n",
        "    # Process the image through the first convolutional layer\n",
        "    with torch.no_grad():\n",
        "        activations = targetCNN.conv1(image)\n",
        "\n",
        "    # Flatten, and store raw pixel data and activations\n",
        "    flattened_image = image.view(-1).numpy()\n",
        "    instance_data['raw_pixel_data'] = flattened_image\n",
        "    for j in range(8):  # Assuming 8 filters in the first conv layer\n",
        "        flattened_activation = activations[0, j].flatten().numpy()\n",
        "        instance_data[f'activationmap{j+1}'] = flattened_activation\n",
        "\n",
        "    # Store image description\n",
        "    instance_data['image_description'] = description\n",
        "    return instance_data\n",
        "\n",
        "#num_images defines the synthetic images.\n",
        "def create_data_dict(targetCNN, num_images):\n",
        "    # Assuming create_synthetic_dataset and SyntheticDataset are defined elsewhere\n",
        "    images, descriptions = create_synthetic_dataset(num_images)\n",
        "    transform = transforms.Normalize((0.5,), (0.5,))\n",
        "    syntheticDataSet = SyntheticDataset(images, descriptions, transform=transform)\n",
        "    synth_loader = DataLoader(syntheticDataSet, batch_size=1, shuffle=False)\n",
        "\n",
        "    # File paths for manually annotated data (set within the function)\n",
        "    manual_images_file = 'first_100_testset_images.pkl'\n",
        "    manual_annotations_file = 'first_100_testset_manual_annotations.pkl'\n",
        "\n",
        "    # Load manually annotated data\n",
        "    with open(manual_images_file, 'rb') as file:\n",
        "        loaded_images = pickle.load(file)\n",
        "    with open(manual_annotations_file, 'rb') as file:\n",
        "        loaded_annotations = pickle.load(file)\n",
        "\n",
        "    # Assuming ManuallyAnnotatedDataset is defined elsewhere\n",
        "    manuallyAnnotatedDataSet = ManuallyAnnotatedDataset(loaded_images, loaded_annotations, transform=transform)\n",
        "    manual_loader = DataLoader(manuallyAnnotatedDataSet, batch_size=1, shuffle=False)\n",
        "\n",
        "    data_dict = {}\n",
        "    total_images = 0  # Keep track of total images processed\n",
        "\n",
        "    # Process data from synthetic dataset\n",
        "    for image, description in synth_loader:\n",
        "        if total_images >= num_images:\n",
        "            break\n",
        "        instance_data = process_image(targetCNN, image, description)\n",
        "        data_dict[f'image_{total_images + 1}'] = instance_data\n",
        "        total_images += 1\n",
        "\n",
        "    # Process data from manually annotated dataset\n",
        "    for image, description in manual_loader:\n",
        "        instance_data = process_image(targetCNN, image, description)\n",
        "        data_dict[f'image_{total_images + 1}'] = instance_data\n",
        "        total_images += 1\n",
        "\n",
        "    return data_dict\n",
        "\n",
        "smallDebug_dict = create_data_dict(targetCNN, num_images=5)\n",
        "print(f\"The number of pictures in the synthetic data set is {len(smallDebug_dict)}\")\n",
        "# Printing size and shape information for the first image\n",
        "first_image_data = smallDebug_dict['image_1']\n",
        "last_image_data = smallDebug_dict['image_105']\n",
        "\n",
        "# Printing the length of each value in the first image data\n",
        "print(\"Lengths of the stored values for the first image:\")\n",
        "for key, value in first_image_data.items():\n",
        "    print(f\"{key}: Length = {len(value)}\")\n",
        "    if key == \"image_description\":\n",
        "        print(f\"{key}: Length = {value}\")\n",
        "\n",
        "# Printing the length of each value in the first image data\n",
        "print(\"Lengths of the stored values for the last image:\")\n",
        "for key, value in last_image_data.items():\n",
        "    print(f\"{key}: Length = {len(value)}\")\n",
        "    if key == \"image_description\":\n",
        "        print(f\"{key}: Length = {value}\")\n",
        "\n"
      ]
    },
    {
      "cell_type": "markdown",
      "id": "9bbdd4b1-e664-493f-8532-1a9ed8aa484e",
      "metadata": {
        "id": "9bbdd4b1-e664-493f-8532-1a9ed8aa484e"
      },
      "source": [
        "Naively concatenating these activationmaps for autoregressive training leads to a blow up where a single training sequence has around 20.000 tokens. This is because a single activation value such as 0.0032324 can lead to potentially dozens of tokens. Moreover, the seperator \",\" also adds a lot of tokens. My idea to combat this issue is to apply binning similarly to quantization for neural network parameters. However, we should not naively bin the values but we should lock at the activation distribution for each layer and use smaller intervals where a lot of the activations are located. Moreover, we should let our intervals be too influenced from outliers. The code above analyzes these distributions."
      ]
    },
    {
      "cell_type": "code",
      "execution_count": null,
      "id": "fa607527-b42f-40d5-bec7-8d59240b920c",
      "metadata": {
        "id": "fa607527-b42f-40d5-bec7-8d59240b920c",
        "outputId": "61ee608e-58cf-4fe5-fab2-66aa4e4ccb64"
      },
      "outputs": [
        {
          "data": {
            "image/png": "[encoded data removed]",
            "text/plain": [
              "<Figure size 1000x1600 with 8 Axes>"
            ]
          },
          "metadata": {},
          "output_type": "display_data"
        }
      ],
      "source": [
        "def plot_activation_histograms(data_dict):\n",
        "    num_filters = 8  # Number of filters in the first conv layer\n",
        "    num_bins = 70   # Number of bins in the histogram\n",
        "\n",
        "    # Initialize lists to store activations for each filter\n",
        "    all_activations = [[] for _ in range(num_filters)]\n",
        "\n",
        "    # Accumulate activations from all images for each filter\n",
        "    for image_data in data_dict.values():\n",
        "        for i in range(num_filters):\n",
        "            activation_key = f'activationmap{i+1}'\n",
        "            all_activations[i].extend(image_data[activation_key])\n",
        "\n",
        "    # Create a figure with subplots\n",
        "    fig, axes = plt.subplots(num_filters, 1, figsize=(10, num_filters * 2))\n",
        "    fig.suptitle('Activation Distributions for All Filters Across All Images')\n",
        "\n",
        "    # Plot histograms for each filter\n",
        "    for i in range(num_filters):\n",
        "        ax = axes[i] if num_filters > 1 else axes\n",
        "        ax.hist(all_activations[i], bins=num_bins, color='blue', alpha=0.7)\n",
        "        ax.set_title(f'Filter {i+1}')\n",
        "        ax.set_xlabel('Activation Values')\n",
        "        ax.set_ylabel('Frequency')\n",
        "\n",
        "    plt.tight_layout(rect=[0, 0.03, 1, 0.95])\n",
        "    plt.show()\n",
        "\n",
        "# Call the function to plot histograms\n",
        "plot_activation_histograms(smallDebug_dict)\n"
      ]
    },
    {
      "cell_type": "markdown",
      "id": "2b9d7a86-180f-44b5-8283-e543cbf79e33",
      "metadata": {
        "id": "2b9d7a86-180f-44b5-8283-e543cbf79e33"
      },
      "source": [
        "In this function we implement the binning based on manually identified intervals. We pack activation maps as a sequence of characters together into sequences: These sequences are encoded representations of the image's activation maps, derived from the first layer of a convolutional neural network. The character 'f' marks the beginning of a new filter's activation map of the first layer. The characters 'z', 'l', 'm', 'h', and 'v', indicate varying levels of activation: zero, low, medium, high, and very high, respectively. In sum, we create a list of jsonl entries suitable for neural network finetuning where the input contains the activation map and the output the descriptions. By this approach I could significantly reduce the sequence length from 20.000 to around 1.000 tokens."
      ]
    },
    {
      "cell_type": "code",
      "execution_count": null,
      "id": "fea59ba8-44cf-42f9-a867-32fa1a3fcfa6",
      "metadata": {
        "id": "fea59ba8-44cf-42f9-a867-32fa1a3fcfa6"
      },
      "outputs": [],
      "source": [
        "def map_activation_to_char(activation):\n",
        "    \"\"\"Maps an activation value to a character based on predefined intervals.\"\"\"\n",
        "    if activation == 0:\n",
        "        return 'z'\n",
        "    elif 0 < activation <= 0.6:\n",
        "        return 'l'\n",
        "    elif 0.6 < activation <= 1.3:\n",
        "        return 'm'\n",
        "    elif 1.3 < activation <= 2.2:\n",
        "        return 'h'\n",
        "    else:  # activation > 2.2\n",
        "        return 'v'\n",
        "\n",
        "def generate_jsonl_data(data_dict):\n",
        "    jsonl_data = []\n",
        "\n",
        "    for image_key, image_data in data_dict.items():\n",
        "        # Concatenate activation maps\n",
        "        concatenated_activations = np.concatenate(\n",
        "            [image_data[f'activationmap{j+1}'] for j in range(8)]\n",
        "        )\n",
        "        input_sequence = 'f'\n",
        "        # Process and append each activation map\n",
        "        for j in range(8):  # Assuming 8 filters in the first conv layer\n",
        "            activation_map_key = f'activationmap{j+1}'\n",
        "            mapped_activations = ''.join(map(map_activation_to_char, image_data[activation_map_key]))\n",
        "            input_sequence += mapped_activations + 'f'  # Append 'f' after each activation map\n",
        "\n",
        "        # Remove the last 'f' appended\n",
        "        input_sequence = input_sequence[:-1]\n",
        "\n",
        "        # Retrieve the image description and we need it to unpack from the tuple\n",
        "        output_description = image_data['image_description']\n",
        "        output_description = output_description[0]\n",
        "\n",
        "        # Create a JSONL-like entry\n",
        "        jsonl_data.append({\n",
        "            \"input\": input_sequence,\n",
        "            \"output\": output_description\n",
        "        })\n",
        "\n",
        "\n",
        "    return jsonl_data\n"
      ]
    },
    {
      "cell_type": "markdown",
      "id": "eb41cee0-5f8b-47e9-a154-35ec58976e18",
      "metadata": {
        "id": "eb41cee0-5f8b-47e9-a154-35ec58976e18"
      },
      "source": [
        "For illustration and debugging we look at the jsonl data again.  "
      ]
    },
    {
      "cell_type": "code",
      "execution_count": null,
      "id": "ea0be445-f2ce-4b5a-a437-b2dd447db9d2",
      "metadata": {
        "id": "ea0be445-f2ce-4b5a-a437-b2dd447db9d2",
        "outputId": "a6812501-e87f-4d60-b097-332913bad8f4"
      },
      "outputs": [
        {
          "name": "stdout",
          "output_type": "stream",
          "text": [
            "\n",
            "General Data Overview:\n",
            "Total number of entries: 200\n",
            "Number of entries in entry a specific entry : 2\n",
            "Analysing specific entry number 2\n",
            "Input Length is 14 x 14 x 8 + 8 (for prepending each activation with an f): 1576\n",
            "Output: Image with 2 shapes: 1 corner, 1 horizontal \n",
            "\n",
            "\n",
            "{'input': 'fzlzzzzzzzzzzzlllzzzzzzzzzzllllzzzzzzzzzzzlllzzzzzzzzzzzlllzzzzzzzzzzzlllzzzzzzzzzzzlllzzzlzzzzzzzlllzzzlzlllzzzlllzzzllmmmlzzlllzzzlmmmlzzzlllzzlmmllzzzzlllzzzllhmhmhhhzzzzzzzzzzzzzzllzzlhmlllllmhfzzzzzzzzzzzzzzzzzzzzzzzzzzzlzzzzzzzzzzzzllzzzzzzzzzzzzllzzzzzzzzzzzzllzzzzzzzzzzzzllzzzzzzzlzzzzllzzzzzzzzzzzzllzzzzzlzlzlzzllzzzzzzhhhllzllzzzzzmlhmmzzllzzzzlzzzzzzzzlzzzzzzmhvvvvvmzzzzzzzzzzzzzzfzzzzzzzzzzzzzzzzzzzzzzzzzzlzzzzzzzzzzzzzllzzzzzzzzzzzzllzzzzzzzzzzzzllzzzzzzzzzzzzllzzzzzzzzzzzzllzzzzzlllzmzzllzzzzzlllmmlzllzzzzzmmlmlzzllzzzzzlzlmmmmhlzzzzlhhzlmhhhhlmhhhhvvvhhvvvmhvvvvhvvhhhhmfmmllllllllllmmllllllllllllmmmlzzzzzzzzzzllmlzzzzzzzzzzllmlzzzzzzzzzzllmlzzzzzzzzzzllmlzzzzzzllzzllmlzzzllzzlzzllmlzzzlmzzmlzllmlzzzmlmmzzzllmlzzzmlzmlzzmhmlzzlllmzmlzllzzzzzzzllzzzmmzzzzlmlmmmmzmlflzzzzzzzzzzzzzmzzzzzzzzzzzzzlzzzzzzzzzzzzzlzzzzzzzzzzzzzlzzzzzzzzzzzzzlzzzzzzzzzzzzzlzzzzzzllzzzzzlzzzzzzhmzzzzzlzzzzzlvhlzzzzlzzzzzlvhzzzzzlzzzzlzhvlmmlzlzzzzzzhvllmmzlzlllllmlzlmlzlzmmmlmhhmmhmzfhvvvvvvvvvvvvvlmllllllllllmmmmmmmmmmmmmmmmmmmmmmmmmmmmmmmmmmmmmmmmmmmmmmmmmmmmmmmmmmmmmmmhhmmmmmmmmmmmmhmllmmmmmmmmmmhmlzmmmmmmmmmmmmhvlmmmmmmmmmhvvvvmmmmmmmmmlmlzlzzllmhmmhmlmllllmlzzzzzzzmmmmmzzfzzzzzzzzzzzzzzzzzzzzzzzzzzzzzzzzzzzzzzzzzzzzzzzzzzzzzzzzzzzzzzzzzzzzzzzzzzzzzzzzzzzzzzzzzzlzzzzzzzzzzzzlhzzzzzzzzzzzzmvvllzzzzzzzzzzlhmlzzzzzzzzzllmlzzzzzzzzzzzmmhhhhlzhhmmmzlmllmhmzhhhhhhmmmmmhhzfmlllllllllllmmmzzzzzzzzzzzzzlzzzzzzzzzzzzzlzzzzzzzzzzzzzlzzzzzzzzzzzzzlzzzzzzzzzzzzzlzzzzzzzzzzzzzlzzzzzlzzzzzzzlzzzzzlzlzzzzzlzzzzzzzlzzzzzlzzzzzzvhhmllzlzzzzzlmzzzzzzmzzzzzllzzzzzzmzzzzzzmmmmmml', 'output': 'Image with 2 shapes: 1 corner, 1 horizontal'}\n",
            "Number of entries in entry a specific entry : 2\n",
            "Analysing specific entry number 199\n",
            "Input Length is 14 x 14 x 8 + 8 (for prepending each activation with an f): 1576\n",
            "Output: Image with 13 shapes: 1 corner, 2 verticals, 2 horizontals, 2 diagonals, 2 contra diagonals, 1 crossing, 1 checkerboard, 2 ellipses \n",
            "\n",
            "\n",
            "{'input': 'fzlzzzzzzzzzzzllllllzzzzlzzlllllzzlhhlllzzlllzzvvvhzlllzlllzhvhzzzzllllllmllzzzzmmlllllmlzzhvmmhllllllzlhvvlzllllllmlmhmzzzlllllllllzlmzzmzllllzzzlllzlmlzlllzzzzzmmmllzlzzzzzzzlzzzzzzllzzzzlmzllllmfzzzzzzzzzzzzzzzzzllzlzzzzzzlzzzlzzzzzzzzllzzzzmvvvvlzzllzzlhvvvvvzzzllzzlmlmlzzzzzllzzmmzzzzzhmlllzzlhvvvvvvmlllzzlmvvvvvmzzllzzzzzzzzzzzzllzzzzzzzlzzzzllzzzzzzlmvhmlllzzzzzzlhhhhzzzzzzzzzzzzzzzzzfzzzzzzzzzzzzzzzzzllhvvvhlzlzzzlhvvvvvvmlllzzhhvvvvhhhmllzlhhlmhzzlhmmlzmhzzlzzzmmmmlzlmzmvvvhhllllzzlzlmhhhzzzllzzzzzzlhzzzzllzzlzzzzzzzzzllzzlzzzmmzzlzllzzzzzzmmzzzzlllmhhhhhmmlzmvhmhvvvvvhmmmhvhfmmllllllllllmmllllzzzlmmllmmmlzzzzzzzlmlllmlzzzhhzzzlmllmlmlmvmzzlzmmlmhhlzlhhzmhlmlmhhzzzmmzzvmllmmmzlvhmlzhhllmmhhlvvmzhmmmlmllhllhhzmmmllmlzzzzmhzzmmllmlzzzzmhzmmzllzzzzzzmmzlmzllzzzzzzllzzmlzzflzzzzzzzzzzzzzmzzzzzvvvmzzzzlzzzzvvvvmzzzzlzzzvvhlvvzzzzlzzlvvzzvvlzzzlzzhvvzzvvvzzzlzzhvmllvvvzzzlzzmvmzlmvhzzzlzzzhmzzhvmzzzlzzzllzzvvzzzzlzzzzzzzvvzzzzlzzzzzzzvvzzzzlzllllmzvvzllzlzmmmmmzhvllmzfhvvvvvvvvvvvvvlmmhhhmzllmlmmmhhhmzzzzzmmmmmhvmzzmmzzlmmmmhhzlvvvvzzmmmmhhllvvvmzzzmmmmmlmlzzzzhmmmmmmvmzzzmhhvmmmmhvvvvvvhhhhmmmlvvvvvhmhhmmmmmllmmmlzlhmmmmmmmmmmhhmmmmmhmmmmmhvvvhmlzzzzzzzzmllzzzfzzzzzzzzzzzzzzzzzzhhhlzzzzzzzzlvvvvvvzzzzzzzlmlzvvvmzzzzzzzlzzzvvvzzzzzzzvmzzzvvllzzzzzvvvmzvvhlzzzzzmvvmmvhhlzzzzzzzzzzhzlzzzzzzzzzzzvmlzzzzzzzzzzmvmlzzzzzzzzzzzvhmzzzhhmmmmmzmhmmzzhhhhhhhmmhhhhlfmlllllllllllmmmzzzzmmhllzzzzlzzlmmmlzlzzzzlzzmlzzzllzzzzlzzzzzhhmmlzzzlzzzvvvhmmlzzzlzzzvvhzzmmzzzlzzzvlzzhmvlzzlzzzlzzvvvvzzzlzzlllvvhvvzzzlzzzlmmlzvlzzzlzzzzzzzzmzzzzmzzzzzzzmvmzzzmzzzzzzzhvlzzz', 'output': 'Image with 13 shapes: 1 corner, 2 verticals, 2 horizontals, 2 diagonals, 2 contra diagonals, 1 crossing, 1 checkerboard, 2 ellipses'}\n"
          ]
        }
      ],
      "source": [
        "# General overview of our synthetic data for first inspection:\n",
        "debugJSONL_dataDig = create_data_dict(targetCNN, num_images=100)\n",
        "debubjsonl_data = generate_jsonl_data(debugJSONL_dataDig)\n",
        "\n",
        "# Print information for debugging Purposes\n",
        "# General overview of the data structure and content\n",
        "print(\"\\nGeneral Data Overview:\")\n",
        "print(f\"Total number of entries: {len(debubjsonl_data)}\")\n",
        "\n",
        "entry_index = 2\n",
        "specific_entry = debubjsonl_data[entry_index]\n",
        "print(f\"Number of entries in entry a specific entry : {len(debubjsonl_data[entry_index])}\")\n",
        "print(f\"Analysing specific entry number {entry_index}\")\n",
        "print(f\"Input Length is 14 x 14 x 8 + 8 (for prepending each activation with an f): {len(specific_entry['input'])}\")\n",
        "print(f\"Output: {specific_entry['output']} \\n\\n\")\n",
        "print(specific_entry)\n",
        "\n",
        "\n",
        "entry_index = 199\n",
        "specific_entry = debubjsonl_data[entry_index]\n",
        "print(f\"Number of entries in entry a specific entry : {len(debubjsonl_data[entry_index])}\")\n",
        "print(f\"Analysing specific entry number {entry_index}\")\n",
        "print(f\"Input Length is 14 x 14 x 8 + 8 (for prepending each activation with an f): {len(specific_entry['input'])}\")\n",
        "print(f\"Output: {specific_entry['output']} \\n\\n\")\n",
        "print(specific_entry)"
      ]
    },
    {
      "cell_type": "markdown",
      "id": "25c4038e-1689-4f5d-9503-337aba1cd76b",
      "metadata": {
        "id": "25c4038e-1689-4f5d-9503-337aba1cd76b"
      },
      "source": [
        "I claimed, that binning reduced the token length by 95 % so that we end up with context windows of around 1.000 tokens. To prove this claim, we get generate a dataset using our char-encoding scheme from above and use the mistral-7b tokenizer to create the sequence on which we perform the autoregressive training. Then we visualize the lenghts. Afterwards, we define a maximum length for all sequences and pad shorter sequences so that we have fixed lengths input vectors to fine-tune our large language model."
      ]
    },
    {
      "cell_type": "code",
      "execution_count": null,
      "id": "55dc37a0-055e-47a2-957f-3667c05830ac",
      "metadata": {
        "id": "55dc37a0-055e-47a2-957f-3667c05830ac",
        "outputId": "2dd672ef-8317-4113-b9d3-709f4f75da9a",
        "colab": {
          "referenced_widgets": [
            "782e8db95dc244a3b69c0ed3a0dfad68",
            "7e54e861b28848038c50b2cea9ec9727",
            "9f82f87ce4444b89907ad9a7a3a99000"
          ]
        }
      },
      "outputs": [
        {
          "data": {
            "application/vnd.jupyter.widget-view+json": {
              "model_id": "782e8db95dc244a3b69c0ed3a0dfad68",
              "version_major": 2,
              "version_minor": 0
            },
            "text/plain": [
              "Downloading data files:   0%|          | 0/1 [00:00<?, ?it/s]"
            ]
          },
          "metadata": {},
          "output_type": "display_data"
        },
        {
          "data": {
            "application/vnd.jupyter.widget-view+json": {
              "model_id": "7e54e861b28848038c50b2cea9ec9727",
              "version_major": 2,
              "version_minor": 0
            },
            "text/plain": [
              "Extracting data files:   0%|          | 0/1 [00:00<?, ?it/s]"
            ]
          },
          "metadata": {},
          "output_type": "display_data"
        },
        {
          "data": {
            "application/vnd.jupyter.widget-view+json": {
              "model_id": "9f82f87ce4444b89907ad9a7a3a99000",
              "version_major": 2,
              "version_minor": 0
            },
            "text/plain": [
              "Generating train split: 0 examples [00:00, ? examples/s]"
            ]
          },
          "metadata": {},
          "output_type": "display_data"
        },
        {
          "name": "stdout",
          "output_type": "stream",
          "text": [
            "The training set contains 180 instances.\n",
            "The evaluation set contains 20 instances.\n",
            "Second Human Annotated Instance in Training Set:\n",
            "{'input': 'fzlllzzmlllzzzllllzlvhhlllzllllzhvvlzllzzzlllmhmzzhmmlzzlllllzzhmzllzzlllllzlhllllzzllllzzhhzlzzzzllllzmhzlllzzzlllzmmzzzzzzlmhllzmllhhhhhvvhlllmlmmmmmmlzzlllmzzlllzzlmmzzzzzzzzzzzzzzllzlzlllzzzzlmfzzzzzzzzzzzzzzzzzzzhvvhzzzzlzzzvvvvvhllzllzzmhvhmzzllzllzzzzzzzlmmzzllzzzlzzzlmlzzllzzzzzllmlzzzllzzzzlmmmzzzzllzzlmmmmzzzzzzzzzlmhmlzzmvvvvzzlmvvvvvvvvvvzzlllmmmmmzzzzzzzzzzzzzzzzzzzzzzzzzzzzzzzzfzzzzlmmzzzzzzzzzmhhhvvhhmzlzzzmhlhvvhhmzllzzlzzzzzzzzzllzzzzzmzzlzzzllzzllhhzllzzzllzzzhhmllzzzzllzzmhhzmzzzzlmlzzmhlhvhvvvvvhzzmmmvvhvvvhhhzzzzzzllmmmmvmzzzzzzzzzzzzzzlmhhhhhmmmmmhhmhvvvvvvvvvvvhfmmlllzzzmhmlmmlllzzzlzzlmlmmmllhmvlzmmzzllmlhhlmlzhvlzllmlmzzmmlmmlzllmlzllzllzmlzllmlzzmzmllmlzllmllllzmlmmzzlmmllhzzzzlzzzzmmlhhzzzzzzzzlmmlhmlmhhhhhlmmmlmhmmhhhmzzmmzzzzzzzzzlllmmzzzzzzzzzzzzzzflzzzzhvvhzzzzzmzzzhvvhvlzzzzlzzzvvzvvlzzzzlzzzhmzvvzzzzzlzzzlzvvvzzzzzlzzzzlvvzzzzzzlzzzzvvvzzzzzzlzzzmvvzzzzzzzlzzzvvvlmlhvvzlzzzvvllmlmhhzlzzzhvzlzzzzlzlzlzzmzlzzzzzzlzlmllzlmmmmlzlzmmmmmmmlllmzfhvvvvvhmhvvvvvlmhhzzzzzzllmmmmmzmvvmzlmmmmmmmhvvvmmhhmmmmmlhvvzmmhhmmmmmlhvzzhhhhmmmmmhhmzlhhhhmmmmmhhzzhhhhhmmmmmhhzmhhvvmlzlmmmlzzzzzzzzzlmmlvvvvvhvvvvvmmlvvvvvvvvvvvmhmlmmhvhhhmmlzzzzzzzzzzzzzzfzzzmhhvhzzzzzzzzzmmmvvmzzzzzzzzzzlhvhzzzzzzzzzlzzhhllzzzzzzzzzzhmzzzzzzzzzzmzlzzzzzzzzzzlllzzzzzzzzzzlllzzlzlzzzzzzmvvvvhvhvmzzzzzvvvvvhhvvlzzzzzzmlzzzllzzzzzzzzzzzzzzzhhmlzlzlllllzzhhhhhhhhhhhhhlfmllmhhvhhmllmmmzzmmmzzzlzzzzlzzzzzmhllzzzzlzzzzvvhmmzzzzlzzzvvhzvmzzzzlzzlhlzvvzzzzzlzzzzzlvvzzzzzlzzzzzvvzzzzzzlzzzzvvvlmmmmzlzzzzvvzlzzzzzlzzzlvzzzzzlmmlzzzmmlmmmhhhmmzllhhmhhhhmmzmzzzllmmlzzzzz', 'output': 'Image with 5 shapes: 1 horizontal, 1 diagonal, 1 checkerboard, 2 ellipses'}\n",
            "\n",
            "First Instance in Validation Set:\n",
            "{'input': 'fzlzzzzzzzzzzzlllzzzzzzzzzzllllzzzzzzzzzzzlllzzzzzzzzzzzlllzzzzzzzzzzzlllzzzzzzzzzzzlllzzzzzzzzzzzlmlllzzzzzzzzzllhlllzzzzzzzzlmlmlllzzzzzzzlmmzmlllzzzzzzllmlzmlllzzzzzlzzllzzlzzzzzzzllllmzmllzzzlmfzzzzzzzzzzzzzzzzzzzzzzzzzzzlzzzzzzzzzzzzllzzzzzzzzzzzzllzzzzzzzzzzzzllzzzzzzzzzzzzllzzlzzzzzzzzzllzzzzzzzzzzzzlllhmllzzzzzzzlllmhlllzzzzzzllzlmhlllzzzzzllzzzhhlllzzzzllzzzzhlzzzzzzzzzzzzzzlzzzzzzzfzzzzzzzzzzzzzzzzzzzzzzzzzzlzzzzzzzzzzzzzllzzzzzzzzzzzzllzzzzzzzzzzzzllzzzzzzzzzzzzllzzzzzzzzzzzzlllllllzzzzzzzllzllmllzzzzzzllzzllmllzzzzzllzzzzlmllzzzzllzzzzzlmllzzzlllmhmmhmvhhhhvhmhvvhhhhvvvvvhfmmllllllllllmmllllllllllllmmmlzzzzzzzzzzllmlzzzzzzzzzzllmlzzzzzzzzzzllmlzzzzzzzzzzllmlzlzzzzzzzzllhlzllzzzzzzzllmmzzllzzzzzzllhlllzllzzzzzllhhzmlzllzzzzlllmmzmlzllzzzllzzllzmlzzzzzllzzzllzllzzzzzzflzzzzzzzzzzzzzmzzzzzzzzzzzzzlzzzzzzzzzzzzzlzzzzzzzzzzzzzlzzzzzzzzzzzzzlzzzzzzzzzzzzzmzllzzzzzzzzzzlzmlzzzzzzzzzzzzhmzzzzzzzzzzlzhmmzzzzzzzzzmzlmmmzzzzzzzzmzzlmmmzzzzzzzlzmzmhhmzllllzlzmhzhhmlmmmmzfhvvvvvvvvvvvvvlmllllllllllmmmmmmmmmmmmmmmmmmmmmmmmmmmmmmmmmmmmmmmmmmmmmmmmmmmmmmmmmmhmmmmmmmmmmmmmmmlmmmmmmmmmmmmmmlmmmmmmmmmmhvmmlmmmmmmmmmmvvhhlmmmmmmmmlhvvhhlmmmmmmmmmhvhhmmhmmmmlzzzzlzzzzzzzzzfzzzzzzzzzzzzzzzzzzzzzzzzzzzzzzzzzzzzzzzzzzzzzzzzzzzzzzzzzzzzzzzzzzzzzzzzzzzzzzzzzzzzzlzzzzzzzzzzzzmhllzzzzzzzzzzzhhllzzzzzzzzzzzhhzlzzzzzzzzlzzhhzlzzzzzzzzzzzhhzlzzzzzzhhmmlhvhmmmmzzhhhhhhvhhhhhhlfmlllllllllllmmmzzzzzzzzzzzzzlzzzzzzzzzzzzzlzzzzzzzzzzzzzlzzzzzzzzzzzzzlzzzzzzzzzzzzzmzzzzzzzzzzzzzhzzzzzzzzzzzzzmzzzzzzzzzzzzzmzlzzzzzzzzzzzmzzzzzzzzzzzzzmzzzzzzzzzzzzzmlmllllzlzzzzzmzllllmlzzzzzz', 'output': 'Image with 1 shape: 1 contra diagonal'}\n"
          ]
        }
      ],
      "source": [
        "# Create a production ready data set:\n",
        "debug3DataDict = create_data_dict(targetCNN, num_images=100)\n",
        "debug3jsonl_data = generate_jsonl_data(debug3DataDict)\n",
        "\n",
        "# Step 1: Write your JSONL data to a file\n",
        "jsonl_file_path = 'debugTrainingSet.jsonl'\n",
        "with open(jsonl_file_path, 'w') as f:\n",
        "    for entry in debug3jsonl_data:\n",
        "        json.dump(entry, f)\n",
        "        f.write('\\n')\n",
        "\n",
        "debug3_trainingdataset = load_dataset('json', data_files=jsonl_file_path, split='train')\n",
        "\n",
        "\n",
        "# Manually split the dataset to ensure that the humanly annotated data remains in the dataset\n",
        "validation_size = int(0.1 * len(debug3_trainingdataset))  # 10% for validation\n",
        "train_indices = list(range(validation_size, len(debug3_trainingdataset)))\n",
        "val_indices = list(range(validation_size))\n",
        "\n",
        "# Use Dataset.select() to split the dataset\n",
        "debugtrain_dataset = debug3_trainingdataset.select(train_indices)\n",
        "debugeval_dataset = debug3_trainingdataset.select(val_indices)\n",
        "\n",
        "print(f\"The training set contains {len(debugtrain_dataset)} instances.\")\n",
        "print(f\"The evaluation set contains {len(debugeval_dataset)} instances.\")\n",
        "\n",
        "# Calculate the index of the first human-annotated instance in the training set\n",
        "# Since the last 100 instances are human-annotated, we subtract 100 from the total length\n",
        "second_human_annotated_index = len(debugtrain_dataset) - 99\n",
        "\n",
        "# Retrieve and print the first human-annotated instance from the training set\n",
        "second_human_annotated_instance = debugtrain_dataset[second_human_annotated_index]\n",
        "print(\"Second Human Annotated Instance in Training Set:\")\n",
        "print(second_human_annotated_instance)\n",
        "\n",
        "# Retrieve and print the first instance from the validation set\n",
        "first_validation_instance = debugeval_dataset[0]\n",
        "print(\"\\nFirst Instance in Validation Set:\")\n",
        "print(first_validation_instance)\n"
      ]
    },
    {
      "cell_type": "markdown",
      "id": "0b65e230-0f18-42fe-a306-16145644e0f7",
      "metadata": {
        "id": "0b65e230-0f18-42fe-a306-16145644e0f7"
      },
      "source": [
        "We use this function to prepend a prompt to the input output pair so that the large language model understands its task better. Unfortunately, this prompt adds to the token count of the sequence."
      ]
    },
    {
      "cell_type": "code",
      "execution_count": null,
      "id": "fc408313-d4b0-4a47-95b9-802de35a091c",
      "metadata": {
        "id": "fc408313-d4b0-4a47-95b9-802de35a091c"
      },
      "outputs": [],
      "source": [
        "def formatting_func(trainingInstance):\n",
        "    text = f\"\"\"You will be presented with sequences of characters representing features of images, which could be basic geometric structures or elements similar to MNIST handwritten digits. These sequences are encoded representations of the image's activation maps, derived from the first layer of a convolutional neural network. The character 'f' marks the beginning of a new filter's activation map of the first layer. The characters 'z', 'l', 'm', 'h', and 'v', indicate varying levels of activation: zero, low, medium, high, and very high, respectively. Your task is to understand the patterns in the sequence and to interpret these sequences to determine the number and types of shapes present in the image. The desired output format should be 'output: Image with [number of shapes] shapes: [number of first shape] [name of shape] ... [number of last shape] [name of last shape]', where the description includes the types of shapes, such as corners, edges, ellipses, crossings, checkerboard pattern, horizontals, verticals, etc. ### Input: {trainingInstance['input']} \\n ### Output: {trainingInstance['output']}\"\"\"\n",
        "    return text"
      ]
    },
    {
      "cell_type": "markdown",
      "id": "0aaecc6e-b805-48f5-9efd-3fd5a75dac11",
      "metadata": {
        "id": "0aaecc6e-b805-48f5-9efd-3fd5a75dac11"
      },
      "source": [
        "We need the Mistral-7B-v0.1 tokenizer because that is the tokenizer for our neural network."
      ]
    },
    {
      "cell_type": "markdown",
      "id": "a3b7ca8e-d7e3-434d-966b-e6e2ce636d35",
      "metadata": {
        "id": "a3b7ca8e-d7e3-434d-966b-e6e2ce636d35"
      },
      "source": [
        "Here we load and initialize the the tokenizer."
      ]
    },
    {
      "cell_type": "code",
      "execution_count": null,
      "id": "18bce59a-c772-47b8-a7ef-44a7113f75c3",
      "metadata": {
        "id": "18bce59a-c772-47b8-a7ef-44a7113f75c3"
      },
      "outputs": [],
      "source": [
        "base_model_id = \"mistralai/Mistral-7B-v0.1\"\n",
        "\n",
        "tokenizer = AutoTokenizer.from_pretrained(\n",
        "    base_model_id,\n",
        "    padding_side=\"left\",\n",
        "    add_eos_token=True,\n",
        "    add_bos_token=True,\n",
        ")\n",
        "tokenizer.pad_token = tokenizer.eos_token\n",
        "\n",
        "def generate_and_tokenize_prompt(prompt):\n",
        "    return tokenizer(formatting_func(prompt))"
      ]
    },
    {
      "cell_type": "markdown",
      "id": "1e8cfd1d-05b5-462b-bc8d-6bbf346767a0",
      "metadata": {
        "id": "1e8cfd1d-05b5-462b-bc8d-6bbf346767a0"
      },
      "source": [
        "Here we plot the lengths of the input tokens. To be honest, 1,240 is still a big context length for our 7b model even though the model was pretrained with a max-context size of about 8,000 tokens. I am confident, that this experiment, rerun with its successor, Mistral 8x7b would yield much better results."
      ]
    },
    {
      "cell_type": "code",
      "execution_count": null,
      "id": "f69fad89-61af-4460-ab8c-d70247f26856",
      "metadata": {
        "id": "f69fad89-61af-4460-ab8c-d70247f26856",
        "outputId": "dc67c7bb-d189-45cd-b94f-55d7dcf1ded1",
        "colab": {
          "referenced_widgets": [
            "1b634d5e845949bbac59339fdbf2491f",
            "923cdd9f7a3b4fc2a24022d5b75d7350"
          ]
        }
      },
      "outputs": [
        {
          "data": {
            "application/vnd.jupyter.widget-view+json": {
              "model_id": "1b634d5e845949bbac59339fdbf2491f",
              "version_major": 2,
              "version_minor": 0
            },
            "text/plain": [
              "Map:   0%|          | 0/180 [00:00<?, ? examples/s]"
            ]
          },
          "metadata": {},
          "output_type": "display_data"
        },
        {
          "data": {
            "application/vnd.jupyter.widget-view+json": {
              "model_id": "923cdd9f7a3b4fc2a24022d5b75d7350",
              "version_major": 2,
              "version_minor": 0
            },
            "text/plain": [
              "Map:   0%|          | 0/20 [00:00<?, ? examples/s]"
            ]
          },
          "metadata": {},
          "output_type": "display_data"
        },
        {
          "name": "stdout",
          "output_type": "stream",
          "text": [
            "200\n"
          ]
        },
        {
          "data": {
            "image/png": "[encoded data removed]",
            "text/plain": [
              "<Figure size 1000x600 with 1 Axes>"
            ]
          },
          "metadata": {},
          "output_type": "display_data"
        }
      ],
      "source": [
        "debugtokenized_train_dataset = debugtrain_dataset.map(generate_and_tokenize_prompt)\n",
        "debugtokenized_val_dataset = debugeval_dataset.map(generate_and_tokenize_prompt)\n",
        "\n",
        "\n",
        "def plot_data_lengths(tokenized_train_dataset, tokenized_val_dataset):\n",
        "    lengths = [len(x['input_ids']) for x in debugtokenized_train_dataset]\n",
        "    lengths += [len(x['input_ids']) for x in debugtokenized_val_dataset]\n",
        "    print(len(lengths))\n",
        "\n",
        "    # Plotting the histogram\n",
        "    plt.figure(figsize=(10, 6))\n",
        "    plt.hist(lengths, bins=40, alpha=0.7, color='blue')\n",
        "    plt.xlabel('Length of input_ids')\n",
        "    plt.ylabel('Frequency')\n",
        "    plt.title('Distribution of Lengths of input_ids')\n",
        "    plt.show()\n",
        "\n",
        "plot_data_lengths(debugtokenized_train_dataset, debugtokenized_val_dataset)\n"
      ]
    },
    {
      "cell_type": "markdown",
      "id": "4eb6c4f4-8d87-4b4e-8be5-f3eb10fad594",
      "metadata": {
        "id": "4eb6c4f4-8d87-4b4e-8be5-f3eb10fad594"
      },
      "source": [
        "For illustration, we pick a random sequence of the tokenized dataset, decode it and then print it, so that we ensure that tokenization and detokenization work as expected and also we can peek at a full sequence of our dataset."
      ]
    },
    {
      "cell_type": "code",
      "execution_count": null,
      "id": "a746d3e5-a601-43fb-b893-5b2429c910d4",
      "metadata": {
        "id": "a746d3e5-a601-43fb-b893-5b2429c910d4",
        "outputId": "5c07d9fd-cd59-4f06-ab64-1848734ac2c2"
      },
      "outputs": [
        {
          "name": "stdout",
          "output_type": "stream",
          "text": [
            "Random Training Sequence:\n",
            "<s> You will be presented with sequences of characters representing features of images, which could be basic geometric structures or elements similar to MNIST handwritten digits. These sequences are encoded representations of the image's activation maps, derived from the first layer of a convolutional neural network. The character 'f' marks the beginning of a new filter's activation map of the first layer. The characters 'z', 'l', 'm', 'h', and 'v', indicate varying levels of activation: zero, low, medium, high, and very high, respectively. Your task is to understand the patterns in the sequence and to interpret these sequences to determine the number and types of shapes present in the image. The desired output format should be 'output: Image with [number of shapes] shapes: [number of first shape] [name of shape] ... [number of last shape] [name of last shape]', where the description includes the types of shapes, such as corners, edges, ellipses, crossings, checkerboard pattern, horizontals, verticals, etc. ### Input: fzlzzzzzzzzzzzlllzzllzzzzzzzlllzllzzhhlllllllllzlvvmlmmlllllzlvvlzmlzzlllzmhhzzlhllllllzhmzhvhlmlllllllzhhhzzlzlllllmlhlzlmlzzlllzlzzmmmlzzzlllzllllllmzzzlllzzzlmlmlzzzlzzzzzlzzzzzzzzllzzlmllllzzlmfzzzzzzzzzzzzzzzzzzzzllzzzzzlzzzzllzzzzzzzlzzzlzzhvvvmzllzzzzlhvvvvmmmlzzzlmlmlzzllzlzzlmlzzzzlmzzlzzllvvvvvhlzllzzllhvvhhzzzllzzzzzzzzzlzzllzzzzzllllzzzllzzzzzlllllzzllzzzzzlhhmlzzzzzzzzzzzzzzzzzzfzzzzzzzzzzzzzzzzzzzlllllzzlzzzzzlhvvvvhmhlzzzlhvhvvvmhmlzzzhhmhvvlmhllzzmhlmhlzzlzllzzmmmhvvlmzzllzzzzlzmmmlzzllzzzzzzlzzzzzllzzzlzmzzzzzzllzzzzlhmzzzzzllzzzzlmlzzzzzlllmhhhhzmmlhhvhmhvvvvmmmmvvvhfmmllllllllllmmllllllllllllmmmlzzzzzzzzzlmlmlzzzzzlzzllllmlzzzmhhzzmlllmllmlzmmmmhlmlmlmhzlzhllmlmlmlmmzhvmzllmllmlmhmhvllmmlllmlzmmzmzhmmlllmlzzzmmzlmmzllmlzzlhlzzmlzllzzzzzmzzzlzzllzzzzzmzzllzzzzflzzzzzzzzzzzzzmzzzzzzlmmlzzzlzzzzzhvvhhhzzlzzzzmvvlhvmzzlzzzmvvzzvvzzzlzzzvvmzvvvzzzlzzzvvzlvvzzzzlzzzhvzzvvzzzzlzzzzhzmvvzzzzlzzzzzzvvzzzzzlzzzzzzvvzzzzzlzzzzzlvvzzzzzlzlllzmvhzlllzlzmmmlmvmlmmmzfhvvvvvvvvvvvvvlmllmhhmllllmmmmmhvvmzzzlmmmmmmhhzzzzzzlmmmmhhzzvvvmlmmmmmhhzlvvhhhvhmmmmmzzzzzlhhhmmmmhhhhzzhhhmmmmlvvvvhhhhhmmmmmmvvvhhhhhmmmmmmmhzzmhhmmmmmmmmhzmmmhmmmmhmmmmhhvhhmmlzzzzzzmlzzzzzzfzzzzzzzzzzzzzzzzzzzzlzzzzzzzzzzzmvvvvvlzzzzzzlmmzvvvmlzzzzzllzlzhhmzzzzzzhvhmzzmmzzzzzzmvvhhhmzlzzzzzzllhvvzlzzzzzzzzzzmzzlzzzzzzzzzzmlzzzzzzzzzzzmhllzzzzzzzzzzmhllzzzzhhmmmzmhmmmmzzhhhhhmmhhhhhhlfmlllllllllllmmmzzzzzlmmlzzzzlzzzzlmmmllzzzlzzzlmmzzlzzzzlzzzlzzhhlmmzzlzzzzzvvhzvmzzlzzzzvvhzvvzzzlzzzzvlzzvhzzzlzzzmmlmhvzzzzlzzzlmmhvvzzzzlzzzzmmzvhzzzzlzzzzzzmvzzzzzmzzzzzzvvzzzzzmzzzzzlvhzzzzz \n",
            " ### Output: Image with 10 shapes: 1 corner, 1 vertical, 2 horizontals, 2 diagonals, 1 crossing, 1 checkerboard, 2 ellipses</s>\n"
          ]
        }
      ],
      "source": [
        "def detokenize_random_input(tokenized_dataset, tokenizer):\n",
        "    # Choose a random entry from the dataset\n",
        "    random_entry = random.choice(tokenized_dataset)\n",
        "\n",
        "    # Extract input_ids\n",
        "    input_ids = random_entry['input_ids']\n",
        "    # Detokenize the input_ids\n",
        "    detokenized_sequence = tokenizer.decode(input_ids)\n",
        "\n",
        "    return detokenized_sequence\n",
        "\n",
        "random_train_sequence = detokenize_random_input(debugtokenized_train_dataset, tokenizer)\n",
        "\n",
        "print(\"Random Training Sequence:\")\n",
        "print(random_train_sequence)\n"
      ]
    },
    {
      "cell_type": "markdown",
      "id": "0c4fc318-e5f1-4223-a09b-721c8a8b7db4",
      "metadata": {
        "id": "0c4fc318-e5f1-4223-a09b-721c8a8b7db4"
      },
      "source": [
        "Since all our sequences are smaller than 1,280 tokens we set the maximum context window to 1,280 tokens so that the large language model has the full information of the activation map when it has the task to predict the shapes. Moreover, we padd all sequences with padding tokens so that they have the same length when we feed these sequences to the transformer."
      ]
    },
    {
      "cell_type": "code",
      "execution_count": null,
      "id": "a756086d-0fce-473f-9643-d94b7a161b7d",
      "metadata": {
        "id": "a756086d-0fce-473f-9643-d94b7a161b7d"
      },
      "outputs": [],
      "source": [
        "max_length = 1280 # This is the appropriate max length for my dataset\n",
        "\n",
        "def generate_and_tokenize_prompt2(prompt):\n",
        "    result = tokenizer(\n",
        "        formatting_func(prompt),\n",
        "        truncation=True,\n",
        "        max_length=max_length,\n",
        "        padding=\"max_length\",\n",
        "    )\n",
        "    result[\"labels\"] = result[\"input_ids\"].copy()\n",
        "    return result"
      ]
    },
    {
      "cell_type": "markdown",
      "id": "7ec24440-9bc0-4801-b2fa-1780d3189a9c",
      "metadata": {
        "id": "7ec24440-9bc0-4801-b2fa-1780d3189a9c"
      },
      "source": [
        "Let us tokenize our data with the newly padded scheme."
      ]
    },
    {
      "cell_type": "code",
      "execution_count": null,
      "id": "ac6c9f85-98f4-4de5-92ce-6c74627af925",
      "metadata": {
        "id": "ac6c9f85-98f4-4de5-92ce-6c74627af925",
        "outputId": "52afe443-d5d7-405e-ad0a-ec30d1449f9f",
        "colab": {
          "referenced_widgets": [
            "7f40b361d7a243f8a6bf68b747fb6699",
            "22a4be418bb64016887ddba31e8bbbc8"
          ]
        }
      },
      "outputs": [
        {
          "data": {
            "application/vnd.jupyter.widget-view+json": {
              "model_id": "7f40b361d7a243f8a6bf68b747fb6699",
              "version_major": 2,
              "version_minor": 0
            },
            "text/plain": [
              "Map:   0%|          | 0/180 [00:00<?, ? examples/s]"
            ]
          },
          "metadata": {},
          "output_type": "display_data"
        },
        {
          "data": {
            "application/vnd.jupyter.widget-view+json": {
              "model_id": "22a4be418bb64016887ddba31e8bbbc8",
              "version_major": 2,
              "version_minor": 0
            },
            "text/plain": [
              "Map:   0%|          | 0/20 [00:00<?, ? examples/s]"
            ]
          },
          "metadata": {},
          "output_type": "display_data"
        }
      ],
      "source": [
        "debugtokenized_train_dataset = debugtrain_dataset.map(generate_and_tokenize_prompt2)\n",
        "debugtokenized_val_dataset = debugeval_dataset.map(generate_and_tokenize_prompt2)"
      ]
    },
    {
      "cell_type": "markdown",
      "id": "f45d2c12-a108-40bf-a559-c57acddf07af",
      "metadata": {
        "id": "f45d2c12-a108-40bf-a559-c57acddf07af"
      },
      "source": [
        "Let us plot the tokenized sequences to confirm that they all have the same length now."
      ]
    },
    {
      "cell_type": "code",
      "execution_count": null,
      "id": "44932eac-b989-416e-a314-011ae46cd357",
      "metadata": {
        "id": "44932eac-b989-416e-a314-011ae46cd357",
        "outputId": "547dcbb9-542b-42cd-ce11-98fb8ba8fb9f"
      },
      "outputs": [
        {
          "data": {
            "image/png": "[encoded data removed]",
            "text/plain": [
              "<Figure size 1000x600 with 1 Axes>"
            ]
          },
          "metadata": {},
          "output_type": "display_data"
        }
      ],
      "source": [
        "def plot_input_lengths(tokenized_train_dataset, tokenized_val_dataset, max_length):\n",
        "    # Extract lengths of input_ids from the datasets\n",
        "    train_lengths = [len(item['input_ids']) for item in tokenized_train_dataset]\n",
        "    val_lengths = [len(item['input_ids']) for item in tokenized_val_dataset]\n",
        "\n",
        "    # Plot histograms\n",
        "    plt.figure(figsize=(10, 6))\n",
        "\n",
        "    # Histogram for both datasets\n",
        "    plt.hist(train_lengths, bins=range(0, max_length + 1, 50), color='blue', alpha=0.5, label='Training')\n",
        "    plt.hist(val_lengths, bins=range(0, max_length + 1, 50), color='red', alpha=0.5, label='Validation')\n",
        "\n",
        "    plt.title('Lengths of Input IDs')\n",
        "    plt.xlabel('Length')\n",
        "    plt.ylabel('Frequency')\n",
        "    plt.legend()\n",
        "    plt.show()\n",
        "\n",
        "# Call the function with datasets\n",
        "plot_input_lengths(debugtokenized_train_dataset, debugtokenized_val_dataset, 1500)\n"
      ]
    },
    {
      "cell_type": "markdown",
      "id": "a45dab5e-abf2-4c6b-b045-0119b8678724",
      "metadata": {
        "id": "a45dab5e-abf2-4c6b-b045-0119b8678724"
      },
      "source": [
        "\n",
        "Check that input_ids is padded on the left with the eos_token (2) and there is an eos_token 2 added to the end, and the prompt starts with a bos_token (1)."
      ]
    },
    {
      "cell_type": "code",
      "execution_count": null,
      "id": "8749cdc5-7359-4f27-af17-cacb52641c0b",
      "metadata": {
        "id": "8749cdc5-7359-4f27-af17-cacb52641c0b",
        "outputId": "a953ac82-4e01-47c4-f135-5833166337b6"
      },
      "outputs": [
        {
          "name": "stdout",
          "output_type": "stream",
          "text": [
            "[2, 2, 2, 2, 2, 2, 2, 2, 2, 2, 2, 2, 2, 2, 2, 2, 2, 2, 2, 2, 2, 2, 2, 2, 2, 2, 2, 2, 2, 2, 2, 2, 2, 2, 2, 2, 2, 2, 2, 2, 2, 2, 2, 2, 2, 2, 2, 2, 2, 2, 2, 2, 2, 2, 2, 2, 2, 2, 2, 2, 2, 2, 2, 2, 2, 2, 2, 2, 2, 2, 2, 2, 2, 2, 2, 2, 2, 2, 2, 2, 2, 2, 2, 2, 2, 2, 2, 2, 2, 2, 2, 2, 2, 2, 2, 2, 2, 2, 2, 2, 2, 2, 2, 2, 2, 2, 2, 2, 2, 2, 2, 2, 2, 2, 2, 2, 2, 2, 2, 2, 2, 2, 2, 2, 2, 2, 2, 2, 2, 2, 2, 2, 2, 2, 2, 2, 2, 2, 2, 2, 2, 2, 2, 2, 2, 2, 2, 2, 2, 2, 2, 2, 2, 2, 2, 2, 2, 2, 2, 2, 2, 2, 2, 2, 2, 2, 2, 2, 2, 2, 2, 2, 2, 2, 1, 995, 622, 347, 7567, 395, 22456, 302, 6128, 14030, 4190, 302, 6203, 28725, 690, 829, 347, 6471, 28094, 11294, 442, 5176, 3684, 298, 351, 28759, 8048, 1021, 15957, 3968, 1046, 28723, 2957, 22456, 460, 23174, 23384, 302, 272, 3469, 28742, 28713, 25159, 11745, 28725, 11236, 477, 272, 907, 7487, 302, 264, 4221, 1420, 1479, 25726, 3681, 28723, 415, 3233, 464, 28722, 28742, 14191, 272, 5398, 302, 264, 633, 5531, 28742, 28713, 25159, 3341, 302, 272, 907, 7487, 28723, 415, 6128, 464, 28764, 647, 464, 28714, 647, 464, 28719, 647, 464, 28716, 647, 304, 464, 28728, 647, 11634, 22312, 6157, 302, 25159, 28747, 6129, 28725, 2859, 28725, 10312, 28725, 1486, 28725, 304, 1215, 1486, 28725, 8628, 28723, 3604, 3638, 349, 298, 2380, 272, 11533, 297, 272, 7768, 304, 298, 7190, 1167, 22456, 298, 7655, 272, 1474, 304, 4514, 302, 17187, 2169, 297, 272, 3469, 28723, 415, 11785, 3825, 5032, 1023, 347, 464, 4050, 28747, 9833, 395, 733, 4810, 302, 17187, 28793, 17187, 28747, 733, 4810, 302, 907, 5843, 28793, 733, 861, 302, 5843, 28793, 3850, 733, 4810, 302, 1432, 5843, 28793, 733, 861, 302, 1432, 5843, 28793, 647, 970, 272, 5436, 5532, 272, 4514, 302, 17187, 28725, 1259, 390, 19897, 28725, 11742, 28725, 14045, 2430, 274, 28725, 3893, 742, 28725, 1877, 263, 3516, 5340, 28725, 3292, 8927, 973, 28725, 13519, 28713, 28725, 4345, 28723, 774, 11232, 28747, 285, 28764, 584, 6748, 28719, 584, 6748, 6748, 28764, 584, 28719, 6748, 3221, 6748, 6748, 6748, 584, 28714, 28764, 28714, 12653, 6748, 28714, 6748, 6748, 28764, 584, 28714, 3221, 28764, 584, 6748, 6748, 6748, 584, 28719, 1653, 1653, 6748, 6748, 6748, 28764, 584, 28719, 584, 28714, 6748, 6748, 6748, 6748, 584, 28714, 6748, 6748, 6748, 6748, 6748, 28764, 584, 28714, 6748, 6748, 6748, 6748, 6748, 28764, 584, 28714, 6748, 6748, 6748, 6748, 6748, 28764, 584, 28714, 6748, 6748, 6748, 6748, 6748, 28764, 584, 28714, 6748, 6748, 6748, 6748, 6748, 28764, 584, 28714, 6748, 6748, 6748, 6748, 6748, 28764, 28714, 6748, 6748, 6748, 6748, 6748, 6748, 6748, 584, 6748, 6748, 6748, 6748, 6748, 28714, 19263, 6748, 6748, 6748, 6748, 6748, 6748, 6748, 6748, 28764, 584, 28714, 1653, 6748, 6748, 28764, 28714, 6748, 3221, 28719, 1653, 6748, 6748, 28764, 584, 28764, 28714, 3221, 3221, 6748, 6748, 6748, 584, 6748, 6748, 6748, 6748, 6748, 6748, 584, 6748, 6748, 6748, 6748, 6748, 6748, 584, 6748, 6748, 6748, 6748, 6748, 6748, 584, 6748, 6748, 6748, 6748, 6748, 6748, 584, 6748, 6748, 6748, 6748, 6748, 6748, 584, 6748, 6748, 6748, 6748, 6748, 6748, 584, 6748, 6748, 6748, 6748, 6748, 6748, 584, 6748, 6748, 6748, 6748, 6748, 6748, 584, 6748, 6748, 6748, 6748, 6748, 6748, 6748, 6748, 6748, 6748, 6748, 6748, 6748, 6748, 28722, 6748, 6748, 6748, 6748, 6748, 6748, 6748, 28764, 584, 28719, 28764, 1653, 6748, 6748, 28764, 28714, 6748, 28764, 584, 22432, 6748, 6748, 6748, 584, 6748, 6748, 28714, 6748, 6748, 6748, 28764, 584, 6748, 6748, 6748, 6748, 6748, 6748, 584, 6748, 6748, 6748, 6748, 6748, 6748, 584, 6748, 6748, 6748, 6748, 6748, 6748, 584, 6748, 6748, 6748, 6748, 6748, 6748, 584, 6748, 6748, 6748, 6748, 6748, 6748, 584, 6748, 6748, 6748, 6748, 6748, 6748, 584, 6748, 6748, 6748, 6748, 6748, 6748, 584, 6748, 6748, 6748, 6748, 6748, 6748, 584, 24174, 12653, 12653, 12653, 12653, 12653, 28728, 16913, 28716, 27176, 27176, 27176, 27176, 27176, 28728, 28716, 21019, 1653, 28719, 584, 3221, 584, 584, 3221, 584, 28719, 28764, 24174, 584, 584, 584, 3221, 3221, 28719, 584, 584, 6748, 6748, 28764, 584, 3221, 28719, 22432, 28764, 584, 6748, 6748, 584, 3221, 28764, 28714, 28764, 584, 6748, 6748, 28764, 584, 28719, 584, 584, 28714, 6748, 6748, 6748, 584, 1653, 6748, 6748, 6748, 6748, 6748, 584, 1653, 6748, 6748, 6748, 6748, 6748, 584, 1653, 6748, 6748, 6748, 6748, 6748, 584, 1653, 6748, 6748, 6748, 6748, 6748, 584, 1653, 6748, 6748, 6748, 6748, 6748, 584, 1653, 6748, 6748, 6748, 6748, 6748, 584, 6748, 6748, 6748, 6748, 6748, 6748, 584, 6748, 6748, 6748, 6748, 6748, 6748, 6748, 1134, 6748, 28764, 28714, 16913, 6748, 6748, 6748, 22432, 6748, 21055, 28728, 6748, 6748, 6748, 6748, 28714, 6748, 12653, 6748, 6748, 6748, 6748, 28764, 28714, 28764, 28714, 1653, 6748, 6748, 6748, 6748, 28764, 28714, 6748, 584, 6748, 6748, 6748, 6748, 28764, 28714, 28764, 28714, 28764, 28714, 6748, 6748, 6748, 6748, 28764, 28714, 6748, 6748, 6748, 6748, 6748, 6748, 28764, 28714, 6748, 6748, 6748, 6748, 6748, 6748, 28764, 28714, 6748, 6748, 6748, 6748, 6748, 6748, 28764, 28714, 6748, 6748, 6748, 6748, 6748, 6748, 28764, 28714, 6748, 6748, 6748, 6748, 6748, 6748, 28764, 28714, 6748, 6748, 6748, 6748, 6748, 6748, 28764, 28714, 28764, 584, 584, 584, 584, 584, 28714, 28764, 28714, 28764, 3221, 3221, 3221, 3221, 3221, 28719, 28764, 28722, 28716, 27176, 28728, 28716, 27176, 27176, 27176, 27176, 12275, 28719, 1653, 28764, 584, 584, 584, 28714, 3221, 28719, 28716, 584, 12653, 28716, 3221, 3221, 3221, 3221, 16913, 12653, 16913, 28716, 3221, 3221, 3221, 3221, 12653, 16913, 28716, 3221, 3221, 3221, 3221, 3221, 3221, 28716, 3221, 3221, 3221, 3221, 3221, 3221, 3221, 3221, 3221, 3221, 3221, 3221, 3221, 3221, 3221, 3221, 3221, 3221, 3221, 3221, 3221, 3221, 3221, 3221, 3221, 3221, 3221, 3221, 3221, 3221, 3221, 3221, 3221, 3221, 3221, 3221, 3221, 3221, 3221, 3221, 3221, 3221, 3221, 3221, 3221, 3221, 28719, 28716, 3221, 3221, 3221, 3221, 3221, 1653, 6748, 6748, 6748, 6748, 6748, 6748, 6748, 28722, 6748, 28764, 28714, 6748, 6748, 6748, 6748, 6748, 6748, 6748, 28764, 28714, 6748, 6748, 6748, 6748, 6748, 6748, 1653, 6748, 6748, 6748, 6748, 6748, 28764, 24174, 584, 6748, 6748, 6748, 6748, 6748, 6748, 28714, 6748, 6748, 6748, 6748, 6748, 6748, 28714, 6748, 6748, 6748, 6748, 6748, 6748, 6748, 6748, 6748, 6748, 6748, 6748, 6748, 6748, 6748, 6748, 6748, 6748, 6748, 6748, 6748, 6748, 6748, 6748, 6748, 6748, 6748, 6748, 6748, 6748, 6748, 6748, 6748, 6748, 6748, 6748, 6748, 6748, 6748, 6748, 6748, 6748, 6748, 6748, 6748, 6748, 28764, 12653, 3221, 3221, 3221, 3221, 3221, 6748, 12653, 12653, 12653, 12653, 12653, 12653, 7529, 21019, 584, 28719, 28716, 3221, 28719, 584, 584, 3221, 28719, 584, 584, 28764, 28714, 6748, 6748, 6748, 28764, 28714, 6748, 6748, 7529, 6748, 6748, 6748, 28764, 28714, 6748, 28764, 12653, 6748, 6748, 6748, 6748, 28714, 6748, 12653, 6748, 6748, 6748, 6748, 28764, 28714, 6748, 28714, 6748, 6748, 6748, 6748, 6748, 28714, 6748, 6748, 6748, 6748, 6748, 6748, 28764, 28714, 6748, 6748, 6748, 6748, 6748, 6748, 28764, 28714, 6748, 6748, 6748, 6748, 6748, 6748, 28764, 28714, 6748, 6748, 6748, 6748, 6748, 6748, 28764, 28714, 6748, 6748, 6748, 6748, 6748, 6748, 28764, 28714, 6748, 6748, 6748, 6748, 6748, 6748, 22432, 6748, 6748, 6748, 6748, 6748, 6748, 22432, 6748, 6748, 6748, 6748, 6748, 6748, 28764, 28705, 13, 774, 15985, 28747, 9833, 395, 28705, 28740, 5843, 28747, 28705, 28740, 25202, 2]\n"
          ]
        }
      ],
      "source": [
        "print(debugtokenized_train_dataset[1]['input_ids'])"
      ]
    },
    {
      "cell_type": "markdown",
      "id": "e9b7d382-b867-449c-9d95-f99d84e0928c",
      "metadata": {
        "id": "e9b7d382-b867-449c-9d95-f99d84e0928c"
      },
      "source": [
        "Great, we did a lot of debugging but actually now we are shure of our data set and we can make a really big data set and train our neural network interpreter on it:"
      ]
    },
    {
      "cell_type": "code",
      "execution_count": null,
      "id": "562b262f-0960-46ed-9e01-31e71764b593",
      "metadata": {
        "id": "562b262f-0960-46ed-9e01-31e71764b593",
        "outputId": "278077d9-7dfe-4e16-db19-d1d557994268",
        "colab": {
          "referenced_widgets": [
            "d3f0c61add134cb680f9c0c752f1a0d4",
            "1b2a7ae1bbdf47538bbca8e2188cff2c",
            "2c33aa3ea55b4f498877913a5c7148ec"
          ]
        }
      },
      "outputs": [
        {
          "data": {
            "application/vnd.jupyter.widget-view+json": {
              "model_id": "d3f0c61add134cb680f9c0c752f1a0d4",
              "version_major": 2,
              "version_minor": 0
            },
            "text/plain": [
              "Downloading data files:   0%|          | 0/1 [00:00<?, ?it/s]"
            ]
          },
          "metadata": {},
          "output_type": "display_data"
        },
        {
          "data": {
            "application/vnd.jupyter.widget-view+json": {
              "model_id": "1b2a7ae1bbdf47538bbca8e2188cff2c",
              "version_major": 2,
              "version_minor": 0
            },
            "text/plain": [
              "Extracting data files:   0%|          | 0/1 [00:00<?, ?it/s]"
            ]
          },
          "metadata": {},
          "output_type": "display_data"
        },
        {
          "data": {
            "application/vnd.jupyter.widget-view+json": {
              "model_id": "2c33aa3ea55b4f498877913a5c7148ec",
              "version_major": 2,
              "version_minor": 0
            },
            "text/plain": [
              "Generating train split: 0 examples [00:00, ? examples/s]"
            ]
          },
          "metadata": {},
          "output_type": "display_data"
        },
        {
          "name": "stdout",
          "output_type": "stream",
          "text": [
            "The training set contains 13590 instances.\n",
            "The evaluation set contains 1510 instances.\n"
          ]
        }
      ],
      "source": [
        "# Create a production ready data set of 15,000 images:\n",
        "realdataDict = create_data_dict(targetCNN, num_images=15000)\n",
        "realjsonl_data = generate_jsonl_data(realdataDict)\n",
        "\n",
        "# Step 1: Write JSONL data to a file\n",
        "jsonl_file_pathReal = 'realtrainingSet.jsonl'\n",
        "with open(jsonl_file_pathReal, 'w') as f:\n",
        "    for entry in realjsonl_data:\n",
        "        json.dump(entry, f)\n",
        "        f.write('\\n')\n",
        "\n",
        "real_trainingdataset = load_dataset('json', data_files=jsonl_file_pathReal, split='train')\n",
        "\n",
        "# Manually split the dataset to ensure that the humanly annotated data remains in the dataset\n",
        "validation_size = int(0.1 * len(real_trainingdataset))  # 10% for validation\n",
        "train_indices = list(range(validation_size, len(real_trainingdataset)))\n",
        "val_indices = list(range(validation_size))\n",
        "\n",
        "# Use Dataset.select() to split the dataset\n",
        "realtrain_dataset = real_trainingdataset.select(train_indices)\n",
        "realeval_dataset = real_trainingdataset.select(val_indices)\n",
        "\n",
        "print(f\"The training set contains {len(realtrain_dataset)} instances.\")\n",
        "print(f\"The evaluation set contains {len(realeval_dataset)} instances.\")"
      ]
    },
    {
      "cell_type": "markdown",
      "id": "3d951b33-4533-4b29-86d6-c1b0293c4866",
      "metadata": {
        "id": "3d951b33-4533-4b29-86d6-c1b0293c4866"
      },
      "source": [
        "Tokenize again."
      ]
    },
    {
      "cell_type": "code",
      "execution_count": null,
      "id": "8078eaf9-b49a-4ba1-a060-193ce826e54a",
      "metadata": {
        "id": "8078eaf9-b49a-4ba1-a060-193ce826e54a",
        "outputId": "da99efea-4bad-4fe7-e47b-d2c0a19cb0d4",
        "colab": {
          "referenced_widgets": [
            "efb2f109a758489b97f917643ed2738a",
            "276a33b73eb94ae7ac749200a2b9e625"
          ]
        }
      },
      "outputs": [
        {
          "data": {
            "application/vnd.jupyter.widget-view+json": {
              "model_id": "efb2f109a758489b97f917643ed2738a",
              "version_major": 2,
              "version_minor": 0
            },
            "text/plain": [
              "Map:   0%|          | 0/13590 [00:00<?, ? examples/s]"
            ]
          },
          "metadata": {},
          "output_type": "display_data"
        },
        {
          "data": {
            "application/vnd.jupyter.widget-view+json": {
              "model_id": "276a33b73eb94ae7ac749200a2b9e625",
              "version_major": 2,
              "version_minor": 0
            },
            "text/plain": [
              "Map:   0%|          | 0/1510 [00:00<?, ? examples/s]"
            ]
          },
          "metadata": {},
          "output_type": "display_data"
        },
        {
          "name": "stdout",
          "output_type": "stream",
          "text": [
            "Training dataset memory size: 48 bytes\n",
            "Validation dataset memory size: 48 bytes\n"
          ]
        }
      ],
      "source": [
        "realtokenized_train_dataset = realtrain_dataset.map(generate_and_tokenize_prompt2)\n",
        "realtokenized_val_dataset = realeval_dataset.map(generate_and_tokenize_prompt2)\n",
        "\n",
        "# Assuming realtokenized_train_dataset and realtokenized_val_dataset are already defined\n",
        "train_dataset_size = sys.getsizeof(realtokenized_train_dataset)\n",
        "val_dataset_size = sys.getsizeof(realtokenized_val_dataset)\n",
        "\n",
        "print(f\"Training dataset memory size: {train_dataset_size} bytes\")\n",
        "print(f\"Validation dataset memory size: {val_dataset_size} bytes\")\n"
      ]
    },
    {
      "cell_type": "markdown",
      "id": "a6b2f539-8107-4ce3-b29d-4a28cfbff4cb",
      "metadata": {
        "id": "a6b2f539-8107-4ce3-b29d-4a28cfbff4cb"
      },
      "source": [
        "Let us define the device map which we will use to disperse mistral on the 9 GPUs that we use for training."
      ]
    },
    {
      "cell_type": "code",
      "execution_count": null,
      "id": "d73cf3e4-0356-4324-a8a1-a6843eda9189",
      "metadata": {
        "id": "d73cf3e4-0356-4324-a8a1-a6843eda9189"
      },
      "outputs": [],
      "source": [
        "# Define the device map\n",
        "device_map = {\n",
        "    'model.embed_tokens': 0,\n",
        "    'model.layers.0': 0, 'model.layers.1': 1, 'model.layers.2': 1, 'model.layers.3': 1,\n",
        "    'model.layers.4': 1, 'model.layers.5': 2, 'model.layers.6': 2, 'model.layers.7': 2,\n",
        "    'model.layers.8': 2, 'model.layers.9': 3, 'model.layers.10': 3, 'model.layers.11': 3,\n",
        "    'model.layers.12': 3, 'model.layers.13': 4, 'model.layers.14': 4, 'model.layers.15': 4,\n",
        "    'model.layers.16': 4, 'model.layers.17': 5, 'model.layers.18': 5, 'model.layers.19': 5,\n",
        "    'model.layers.20': 5, 'model.layers.21': 6, 'model.layers.22': 6, 'model.layers.23': 6,\n",
        "    'model.layers.24': 6, 'model.layers.25': 7, 'model.layers.26': 7, 'model.layers.27': 7,\n",
        "    'model.layers.28': 7, 'model.layers.29': 8, 'model.layers.30': 8, 'model.layers.31': 8,\n",
        "    'model.norm': 8,\n",
        "    'lm_head': 8 # Moving lm_head to GPU 8\n",
        "}\n"
      ]
    },
    {
      "cell_type": "markdown",
      "id": "f956d876-57f7-42a8-9305-22f596eb1206",
      "metadata": {
        "id": "f956d876-57f7-42a8-9305-22f596eb1206"
      },
      "source": [
        "We initialize mistral for causal language modeling. The model employs 4-bit quantization reducing its memory footprint. The quantization configuration uses a 16-bit floating-point format with its 8-bit exponent and 8-bit mantissa that strikes a balance between precision and computational efficiency (Our A40 GPUs support  `bfloat16` which is not true for many off the shelf-GPUs like T4 on GoogleColab)."
      ]
    },
    {
      "cell_type": "code",
      "execution_count": null,
      "id": "8b71abe0-77d7-4188-a8d3-860d6b2099f0",
      "metadata": {
        "id": "8b71abe0-77d7-4188-a8d3-860d6b2099f0",
        "outputId": "d21c75d1-e191-43ab-ed6d-7845b01298d2",
        "colab": {
          "referenced_widgets": [
            "34dc68bc974c41069d013f4b3822cb42"
          ]
        }
      },
      "outputs": [
        {
          "data": {
            "application/vnd.jupyter.widget-view+json": {
              "model_id": "34dc68bc974c41069d013f4b3822cb42",
              "version_major": 2,
              "version_minor": 0
            },
            "text/plain": [
              "Loading checkpoint shards:   0%|          | 0/2 [00:00<?, ?it/s]"
            ]
          },
          "metadata": {},
          "output_type": "display_data"
        }
      ],
      "source": [
        "nnInterpreter = AutoModelForCausalLM.from_pretrained(\n",
        "    base_model_id,\n",
        "    device_map= device_map,\n",
        "    quantization_config=BitsAndBytesConfig(\n",
        "        load_in_4bit=True,\n",
        "        bnb_4bit_compute_dtype=torch.bfloat16,\n",
        "        bnb_4bit_quant_type=\"nf4\",\n",
        "    ),\n",
        "    torch_dtype=torch.bfloat16,\n",
        ")\n"
      ]
    },
    {
      "cell_type": "markdown",
      "id": "4c215793-0567-45e0-99c9-f0ae9b7a18cb",
      "metadata": {
        "id": "4c215793-0567-45e0-99c9-f0ae9b7a18cb"
      },
      "source": [
        "Print large language model to understand its structure and also its device map to verify parallel fine-tuning to be fast."
      ]
    },
    {
      "cell_type": "code",
      "execution_count": null,
      "id": "e1c47ebb-1b57-48c3-a088-c08e24247e2d",
      "metadata": {
        "id": "e1c47ebb-1b57-48c3-a088-c08e24247e2d",
        "outputId": "cf0a4f11-13ab-4945-d064-6f61226da942"
      },
      "outputs": [
        {
          "name": "stdout",
          "output_type": "stream",
          "text": [
            "MistralForCausalLM(\n",
            "  (model): MistralModel(\n",
            "    (embed_tokens): Embedding(32000, 4096)\n",
            "    (layers): ModuleList(\n",
            "      (0-31): 32 x MistralDecoderLayer(\n",
            "        (self_attn): MistralAttention(\n",
            "          (q_proj): Linear4bit(in_features=4096, out_features=4096, bias=False)\n",
            "          (k_proj): Linear4bit(in_features=4096, out_features=1024, bias=False)\n",
            "          (v_proj): Linear4bit(in_features=4096, out_features=1024, bias=False)\n",
            "          (o_proj): Linear4bit(in_features=4096, out_features=4096, bias=False)\n",
            "          (rotary_emb): MistralRotaryEmbedding()\n",
            "        )\n",
            "        (mlp): MistralMLP(\n",
            "          (gate_proj): Linear4bit(in_features=4096, out_features=14336, bias=False)\n",
            "          (up_proj): Linear4bit(in_features=4096, out_features=14336, bias=False)\n",
            "          (down_proj): Linear4bit(in_features=14336, out_features=4096, bias=False)\n",
            "          (act_fn): SiLUActivation()\n",
            "        )\n",
            "        (input_layernorm): MistralRMSNorm()\n",
            "        (post_attention_layernorm): MistralRMSNorm()\n",
            "      )\n",
            "    )\n",
            "    (norm): MistralRMSNorm()\n",
            "  )\n",
            "  (lm_head): Linear(in_features=4096, out_features=32000, bias=False)\n",
            ")\n",
            "Available GPUs: 9\n",
            "CUDA:0 - NVIDIA A40\n",
            "CUDA:1 - NVIDIA A40\n",
            "CUDA:2 - NVIDIA A40\n",
            "CUDA:3 - NVIDIA A40\n",
            "CUDA:4 - NVIDIA A40\n",
            "CUDA:5 - NVIDIA A40\n",
            "CUDA:6 - NVIDIA A40\n",
            "CUDA:7 - NVIDIA A40\n",
            "CUDA:8 - NVIDIA A40\n"
          ]
        },
        {
          "data": {
            "text/plain": [
              "{'model.embed_tokens': 0,\n",
              " 'model.layers.0': 0,\n",
              " 'model.layers.1': 1,\n",
              " 'model.layers.2': 1,\n",
              " 'model.layers.3': 1,\n",
              " 'model.layers.4': 1,\n",
              " 'model.layers.5': 2,\n",
              " 'model.layers.6': 2,\n",
              " 'model.layers.7': 2,\n",
              " 'model.layers.8': 2,\n",
              " 'model.layers.9': 3,\n",
              " 'model.layers.10': 3,\n",
              " 'model.layers.11': 3,\n",
              " 'model.layers.12': 3,\n",
              " 'model.layers.13': 4,\n",
              " 'model.layers.14': 4,\n",
              " 'model.layers.15': 4,\n",
              " 'model.layers.16': 4,\n",
              " 'model.layers.17': 5,\n",
              " 'model.layers.18': 5,\n",
              " 'model.layers.19': 5,\n",
              " 'model.layers.20': 5,\n",
              " 'model.layers.21': 6,\n",
              " 'model.layers.22': 6,\n",
              " 'model.layers.23': 6,\n",
              " 'model.layers.24': 6,\n",
              " 'model.layers.25': 7,\n",
              " 'model.layers.26': 7,\n",
              " 'model.layers.27': 7,\n",
              " 'model.layers.28': 7,\n",
              " 'model.layers.29': 8,\n",
              " 'model.layers.30': 8,\n",
              " 'model.layers.31': 8,\n",
              " 'model.norm': 8,\n",
              " 'lm_head': 8}"
            ]
          },
          "execution_count": 32,
          "metadata": {},
          "output_type": "execute_result"
        }
      ],
      "source": [
        "# Check available GPUs and their names\n",
        "print(nnInterpreter)\n",
        "\n",
        "gpu_count = torch.cuda.device_count()\n",
        "print(f\"Available GPUs: {gpu_count}\")\n",
        "for i in range(gpu_count):\n",
        "    print(f\"CUDA:{i} - {torch.cuda.get_device_name(i)}\")\n",
        "\n",
        "nnInterpreter.hf_device_map"
      ]
    },
    {
      "cell_type": "markdown",
      "id": "f4a55d76-eada-4377-b392-300aed520755",
      "metadata": {
        "id": "f4a55d76-eada-4377-b392-300aed520755"
      },
      "source": [
        "Models from the transformers library (as ours) need to be prepared for training such as adapting the datatypes of specific layers when we want to use LorA (more below). This functionality is wrapped in the below function call."
      ]
    },
    {
      "cell_type": "code",
      "execution_count": null,
      "id": "9ca04207-8005-47cf-97cf-c7445b087ff4",
      "metadata": {
        "id": "9ca04207-8005-47cf-97cf-c7445b087ff4"
      },
      "outputs": [],
      "source": [
        "#nnInterpreter.gradient_checkpointing_enable()\n",
        "nnInterpreter = prepare_model_for_kbit_training(nnInterpreter)"
      ]
    },
    {
      "cell_type": "markdown",
      "id": "5007973a-68d0-4f55-bbb1-4e905521b75d",
      "metadata": {
        "id": "5007973a-68d0-4f55-bbb1-4e905521b75d"
      },
      "source": [
        "We use Low-rank adapters for efficient finetuning. These adapters consist of small layers inserted in parallel to attention layers of a pre-trained model. The key idea is to use low-rank matrix factorization, meaning each adapter layer is a product of two smaller matrices, thereby reducing the number of additional parameters required. We use lora adapters for the below listed matrices since this was the recommendation of the lora-paper authors. During training, only the parameters in these adapter layers are updated, while the pre-trained model's original weights remain frozen. This approach allows for rapid adaptation to new tasks without the computational and memory costs of fine-tuning the entire model, making it highly efficient for deploying large-scale models across various tasks. As a result, the optimizer only needs to store first moment (mean) and second moment (variance) information for a very limited set (in our case 2 percent) of trainable parameters. Since maintainin these states is approximately as costing as maintaining all parameters and all gradients together this is extremely significant. (The reader should verify that a 7b parameter model leads to approximately 24gb use of parameters, 24gb use of gradients, and 48 gb use of transformer states with naive finetuning).  "
      ]
    },
    {
      "cell_type": "code",
      "execution_count": null,
      "id": "044fd6a3-8da2-4cb2-bca9-16dbcd20eb98",
      "metadata": {
        "id": "044fd6a3-8da2-4cb2-bca9-16dbcd20eb98",
        "outputId": "73afcb5e-c4d8-492a-ec12-f57b8f1f51da"
      },
      "outputs": [
        {
          "name": "stdout",
          "output_type": "stream",
          "text": [
            "trainable params: 85041152 || all params: 3837112320 || trainable%: 2.2162799758751914\n"
          ]
        }
      ],
      "source": [
        "def print_trainable_parameters(model):\n",
        "    \"\"\"\n",
        "    Prints the number of trainable parameters in the model.\n",
        "    \"\"\"\n",
        "    trainable_params = 0\n",
        "    all_param = 0\n",
        "    for _, param in model.named_parameters():\n",
        "        all_param += param.numel()\n",
        "        if param.requires_grad:\n",
        "            trainable_params += param.numel()\n",
        "    print(\n",
        "        f\"trainable params: {trainable_params} || all params: {all_param} || trainable%: {100 * trainable_params / all_param}\"\n",
        "    )\n",
        "\n",
        "config = LoraConfig(\n",
        "    r=32,\n",
        "    lora_alpha=64,\n",
        "    target_modules=[\n",
        "        \"q_proj\",\n",
        "        \"k_proj\",\n",
        "        \"v_proj\",\n",
        "        \"o_proj\",\n",
        "        \"gate_proj\",\n",
        "        \"up_proj\",\n",
        "        \"down_proj\",\n",
        "        \"lm_head\",\n",
        "    ],\n",
        "    bias=\"none\",\n",
        "    lora_dropout=0.05,\n",
        "    task_type=\"CAUSAL_LM\",\n",
        ")\n",
        "\n",
        "nnInterpreter = get_peft_model(nnInterpreter, config)\n",
        "print_trainable_parameters(nnInterpreter)"
      ]
    },
    {
      "cell_type": "markdown",
      "id": "313a3d0a-e8cc-4b4b-bc74-f291d65da590",
      "metadata": {
        "id": "313a3d0a-e8cc-4b4b-bc74-f291d65da590"
      },
      "source": [
        "Lets look at the model again and verify that lora adapters are inserted"
      ]
    },
    {
      "cell_type": "code",
      "execution_count": null,
      "id": "3cbcc068-d5a0-42cb-aab0-6ebf7cf7f0b3",
      "metadata": {
        "id": "3cbcc068-d5a0-42cb-aab0-6ebf7cf7f0b3",
        "outputId": "79989b19-46ad-4bce-a7a2-5e01b5180b1b"
      },
      "outputs": [
        {
          "name": "stdout",
          "output_type": "stream",
          "text": [
            "PeftModelForCausalLM(\n",
            "  (base_model): LoraModel(\n",
            "    (model): MistralForCausalLM(\n",
            "      (model): MistralModel(\n",
            "        (embed_tokens): Embedding(32000, 4096)\n",
            "        (layers): ModuleList(\n",
            "          (0-31): 32 x MistralDecoderLayer(\n",
            "            (self_attn): MistralAttention(\n",
            "              (q_proj): Linear4bit(\n",
            "                (lora_dropout): ModuleDict(\n",
            "                  (default): Dropout(p=0.05, inplace=False)\n",
            "                )\n",
            "                (lora_A): ModuleDict(\n",
            "                  (default): Linear(in_features=4096, out_features=32, bias=False)\n",
            "                )\n",
            "                (lora_B): ModuleDict(\n",
            "                  (default): Linear(in_features=32, out_features=4096, bias=False)\n",
            "                )\n",
            "                (lora_embedding_A): ParameterDict()\n",
            "                (lora_embedding_B): ParameterDict()\n",
            "                (base_layer): Linear4bit(in_features=4096, out_features=4096, bias=False)\n",
            "              )\n",
            "              (k_proj): Linear4bit(\n",
            "                (lora_dropout): ModuleDict(\n",
            "                  (default): Dropout(p=0.05, inplace=False)\n",
            "                )\n",
            "                (lora_A): ModuleDict(\n",
            "                  (default): Linear(in_features=4096, out_features=32, bias=False)\n",
            "                )\n",
            "                (lora_B): ModuleDict(\n",
            "                  (default): Linear(in_features=32, out_features=1024, bias=False)\n",
            "                )\n",
            "                (lora_embedding_A): ParameterDict()\n",
            "                (lora_embedding_B): ParameterDict()\n",
            "                (base_layer): Linear4bit(in_features=4096, out_features=1024, bias=False)\n",
            "              )\n",
            "              (v_proj): Linear4bit(\n",
            "                (lora_dropout): ModuleDict(\n",
            "                  (default): Dropout(p=0.05, inplace=False)\n",
            "                )\n",
            "                (lora_A): ModuleDict(\n",
            "                  (default): Linear(in_features=4096, out_features=32, bias=False)\n",
            "                )\n",
            "                (lora_B): ModuleDict(\n",
            "                  (default): Linear(in_features=32, out_features=1024, bias=False)\n",
            "                )\n",
            "                (lora_embedding_A): ParameterDict()\n",
            "                (lora_embedding_B): ParameterDict()\n",
            "                (base_layer): Linear4bit(in_features=4096, out_features=1024, bias=False)\n",
            "              )\n",
            "              (o_proj): Linear4bit(\n",
            "                (lora_dropout): ModuleDict(\n",
            "                  (default): Dropout(p=0.05, inplace=False)\n",
            "                )\n",
            "                (lora_A): ModuleDict(\n",
            "                  (default): Linear(in_features=4096, out_features=32, bias=False)\n",
            "                )\n",
            "                (lora_B): ModuleDict(\n",
            "                  (default): Linear(in_features=32, out_features=4096, bias=False)\n",
            "                )\n",
            "                (lora_embedding_A): ParameterDict()\n",
            "                (lora_embedding_B): ParameterDict()\n",
            "                (base_layer): Linear4bit(in_features=4096, out_features=4096, bias=False)\n",
            "              )\n",
            "              (rotary_emb): MistralRotaryEmbedding()\n",
            "            )\n",
            "            (mlp): MistralMLP(\n",
            "              (gate_proj): Linear4bit(\n",
            "                (lora_dropout): ModuleDict(\n",
            "                  (default): Dropout(p=0.05, inplace=False)\n",
            "                )\n",
            "                (lora_A): ModuleDict(\n",
            "                  (default): Linear(in_features=4096, out_features=32, bias=False)\n",
            "                )\n",
            "                (lora_B): ModuleDict(\n",
            "                  (default): Linear(in_features=32, out_features=14336, bias=False)\n",
            "                )\n",
            "                (lora_embedding_A): ParameterDict()\n",
            "                (lora_embedding_B): ParameterDict()\n",
            "                (base_layer): Linear4bit(in_features=4096, out_features=14336, bias=False)\n",
            "              )\n",
            "              (up_proj): Linear4bit(\n",
            "                (lora_dropout): ModuleDict(\n",
            "                  (default): Dropout(p=0.05, inplace=False)\n",
            "                )\n",
            "                (lora_A): ModuleDict(\n",
            "                  (default): Linear(in_features=4096, out_features=32, bias=False)\n",
            "                )\n",
            "                (lora_B): ModuleDict(\n",
            "                  (default): Linear(in_features=32, out_features=14336, bias=False)\n",
            "                )\n",
            "                (lora_embedding_A): ParameterDict()\n",
            "                (lora_embedding_B): ParameterDict()\n",
            "                (base_layer): Linear4bit(in_features=4096, out_features=14336, bias=False)\n",
            "              )\n",
            "              (down_proj): Linear4bit(\n",
            "                (lora_dropout): ModuleDict(\n",
            "                  (default): Dropout(p=0.05, inplace=False)\n",
            "                )\n",
            "                (lora_A): ModuleDict(\n",
            "                  (default): Linear(in_features=14336, out_features=32, bias=False)\n",
            "                )\n",
            "                (lora_B): ModuleDict(\n",
            "                  (default): Linear(in_features=32, out_features=4096, bias=False)\n",
            "                )\n",
            "                (lora_embedding_A): ParameterDict()\n",
            "                (lora_embedding_B): ParameterDict()\n",
            "                (base_layer): Linear4bit(in_features=14336, out_features=4096, bias=False)\n",
            "              )\n",
            "              (act_fn): SiLUActivation()\n",
            "            )\n",
            "            (input_layernorm): MistralRMSNorm()\n",
            "            (post_attention_layernorm): MistralRMSNorm()\n",
            "          )\n",
            "        )\n",
            "        (norm): MistralRMSNorm()\n",
            "      )\n",
            "      (lm_head): Linear(\n",
            "        in_features=4096, out_features=32000, bias=False\n",
            "        (lora_dropout): ModuleDict(\n",
            "          (default): Dropout(p=0.05, inplace=False)\n",
            "        )\n",
            "        (lora_A): ModuleDict(\n",
            "          (default): Linear(in_features=4096, out_features=32, bias=False)\n",
            "        )\n",
            "        (lora_B): ModuleDict(\n",
            "          (default): Linear(in_features=32, out_features=32000, bias=False)\n",
            "        )\n",
            "        (lora_embedding_A): ParameterDict()\n",
            "        (lora_embedding_B): ParameterDict()\n",
            "      )\n",
            "    )\n",
            "  )\n",
            ")\n"
          ]
        }
      ],
      "source": [
        "print(nnInterpreter)"
      ]
    },
    {
      "cell_type": "markdown",
      "id": "dd559cfe-cc9f-4237-9f6f-494abe34b89f",
      "metadata": {
        "id": "dd559cfe-cc9f-4237-9f6f-494abe34b89f"
      },
      "source": [
        "#code"
      ]
    },
    {
      "cell_type": "markdown",
      "id": "f63255e9-9bac-4081-8b03-936333f60009",
      "metadata": {
        "id": "f63255e9-9bac-4081-8b03-936333f60009"
      },
      "source": [
        "We use a batch size of 4 because because higher batch sizes led to OutOfMemoryErrors and didnt significantly improve efficiency. Gradient accumulation is a technique, where gradients are summed over multiple mini-batches before updating the model parameters. Using two gradient accumulation steps we have an effective batch size of 8 with a memory requirement of a batch size of 4. Learning rate and optimizer are set according to recomendation of the mistral team. We wrap the large language model into a trainer which handles the usage of multiple GPUs for us. We save the model every 200 steps and log the loss and evaluation error also every 200 steps. For fine-tuning we do not need a warm up."
      ]
    },
    {
      "cell_type": "code",
      "execution_count": null,
      "id": "4fae907e-fbfb-4227-92b8-f43f9bb51bc7",
      "metadata": {
        "id": "4fae907e-fbfb-4227-92b8-f43f9bb51bc7",
        "outputId": "11d4ccb6-f615-404f-92e0-ca67915ec382"
      },
      "outputs": [
        {
          "name": "stderr",
          "output_type": "stream",
          "text": [
            "Detected kernel version 3.10.0, which is below the recommended minimum of 5.5.0; this can cause the process to hang. It is recommended to upgrade the kernel to the minimum version or higher.\n"
          ]
        }
      ],
      "source": [
        "project = \"MNIST-finetune3\"\n",
        "base_model_name = \"mistral\"\n",
        "run_name = base_model_name + \"-\" + project\n",
        "output_dir = \"./\" + run_name\n",
        "bs = 4 #batch size\n",
        "ga_steps = 2 # gradient accumulation steps\n",
        "epochs = 3\n",
        "steps_per_epoch=len(realtokenized_train_dataset)//(bs*ga_steps)\n",
        "\n",
        "trainer = transformers.Trainer(\n",
        "    model=nnInterpreter,\n",
        "    train_dataset= realtokenized_train_dataset,\n",
        "    eval_dataset= realtokenized_val_dataset,\n",
        "    args=transformers.TrainingArguments(\n",
        "        output_dir=output_dir,\n",
        "        warmup_steps=1,\n",
        "        per_device_train_batch_size= bs,\n",
        "        gradient_accumulation_steps=ga_steps,\n",
        "        gradient_checkpointing=False,\n",
        "        learning_rate=0.0002, # Want a small lr for finetuning\n",
        "        lr_scheduler_type=\"constant\",\n",
        "        bf16=True,\n",
        "        num_train_epochs=epochs,\n",
        "        ddp_find_unused_parameters=False, # instead we use accelerate\n",
        "        optim=\"paged_adamw_32bit\",\n",
        "        logging_strategy=\"steps\",\n",
        "        logging_steps = 200,              # When to start reporting loss\n",
        "        logging_dir=\"./logs\",        # Directory for storing logs\n",
        "        save_strategy = \"steps\",\n",
        "        evaluation_strategy = \"steps\",\n",
        "        save_steps= 200,   # Save  every 100\n",
        "        eval_steps= 200,    # Evaluate every epoch\n",
        "        do_eval=True,                # Perform evaluation at the end of training\n",
        "  #     report_to=\"wandb\",\n",
        "     #   run_name=f\"{run_name}-{datetime.now().strftime('%Y-%m-%d-%H-%M')}\"          # Name of the W&B run (optional)\n",
        "    ),\n",
        "    data_collator=transformers.DataCollatorForLanguageModeling(tokenizer, mlm=False),\n",
        ")\n",
        "\n"
      ]
    },
    {
      "cell_type": "markdown",
      "id": "1edef540-a473-4c99-9b52-9663f80c8215",
      "metadata": {
        "id": "1edef540-a473-4c99-9b52-9663f80c8215"
      },
      "source": [
        "During initial debugging, I monitored GPU usage to verify that all GPUs were used during training. After debugging this code was not used anymore.\n"
      ]
    },
    {
      "cell_type": "code",
      "execution_count": null,
      "id": "450fde93-38d1-419f-bab8-606701ef7de5",
      "metadata": {
        "id": "450fde93-38d1-419f-bab8-606701ef7de5"
      },
      "outputs": [],
      "source": [
        "class MonitorGPU:\n",
        "    def __init__(self, interval):\n",
        "        self.interval = interval\n",
        "        self.thread = threading.Thread(target=self.run)\n",
        "        self.stop_flag = False\n",
        "\n",
        "    def run(self):\n",
        "        while not self.stop_flag:\n",
        "            print(subprocess.check_output(\"nvidia-smi\", shell=True).decode())\n",
        "            time.sleep(self.interval)\n",
        "\n",
        "    def start(self):\n",
        "        self.thread.start()\n",
        "\n",
        "    def stop(self):\n",
        "        self.stop_flag = True\n",
        "        self.thread.join()  # Wait for the monitoring thread to finish\n"
      ]
    },
    {
      "cell_type": "markdown",
      "id": "683df22e-3d66-4dff-b5bb-c44bda351b0d",
      "metadata": {
        "id": "683df22e-3d66-4dff-b5bb-c44bda351b0d"
      },
      "source": [
        "The output below shows that the large language model is evenly distributed on all A40s."
      ]
    },
    {
      "cell_type": "code",
      "execution_count": null,
      "id": "78c3d0d1-1d1e-47f3-8f66-d0c67c7de613",
      "metadata": {
        "id": "78c3d0d1-1d1e-47f3-8f66-d0c67c7de613",
        "outputId": "96d25d0d-b157-4267-f611-8e497bee9a45"
      },
      "outputs": [
        {
          "name": "stdout",
          "output_type": "stream",
          "text": [
            "Sun Dec 17 12:00:19 2023       \n",
            "+---------------------------------------------------------------------------------------+\n",
            "| NVIDIA-SMI 535.54.03              Driver Version: 535.54.03    CUDA Version: 12.2     |\n",
            "|-----------------------------------------+----------------------+----------------------+\n",
            "| GPU  Name                 Persistence-M | Bus-Id        Disp.A | Volatile Uncorr. ECC |\n",
            "| Fan  Temp   Perf          Pwr:Usage/Cap |         Memory-Usage | GPU-Util  Compute M. |\n",
            "|                                         |                      |               MIG M. |\n",
            "|=========================================+======================+======================|\n",
            "|   0  NVIDIA A40                     Off | 00000000:12:00.0 Off |                    0 |\n",
            "|  0%   35C    P0              71W / 300W |   1290MiB / 46068MiB |      0%      Default |\n",
            "|                                         |                      |                  N/A |\n",
            "+-----------------------------------------+----------------------+----------------------+\n",
            "|   1  NVIDIA A40                     Off | 00000000:14:00.0 Off |                    0 |\n",
            "|  0%   36C    P0              75W / 300W |    914MiB / 46068MiB |      0%      Default |\n",
            "|                                         |                      |                  N/A |\n",
            "+-----------------------------------------+----------------------+----------------------+\n",
            "|   2  NVIDIA A40                     Off | 00000000:48:00.0 Off |                    0 |\n",
            "|  0%   35C    P0              73W / 300W |    914MiB / 46068MiB |      0%      Default |\n",
            "|                                         |                      |                  N/A |\n",
            "+-----------------------------------------+----------------------+----------------------+\n",
            "|   3  NVIDIA A40                     Off | 00000000:49:00.0 Off |                    0 |\n",
            "|  0%   36C    P0              72W / 300W |    914MiB / 46068MiB |      0%      Default |\n",
            "|                                         |                      |                  N/A |\n",
            "+-----------------------------------------+----------------------+----------------------+\n",
            "|   4  NVIDIA A40                     Off | 00000000:89:00.0 Off |                    0 |\n",
            "|  0%   34C    P0              68W / 300W |    914MiB / 46068MiB |      0%      Default |\n",
            "|                                         |                      |                  N/A |\n",
            "+-----------------------------------------+----------------------+----------------------+\n",
            "|   5  NVIDIA A40                     Off | 00000000:8A:00.0 Off |                    0 |\n",
            "|  0%   34C    P0              73W / 300W |    914MiB / 46068MiB |      0%      Default |\n",
            "|                                         |                      |                  N/A |\n",
            "+-----------------------------------------+----------------------+----------------------+\n",
            "|   6  NVIDIA A40                     Off | 00000000:C0:00.0 Off |                    0 |\n",
            "|  0%   36C    P0              71W / 300W |    914MiB / 46068MiB |      0%      Default |\n",
            "|                                         |                      |                  N/A |\n",
            "+-----------------------------------------+----------------------+----------------------+\n",
            "|   7  NVIDIA A40                     Off | 00000000:C1:00.0 Off |                    0 |\n",
            "|  0%   34C    P0              72W / 300W |    914MiB / 46068MiB |      0%      Default |\n",
            "|                                         |                      |                  N/A |\n",
            "+-----------------------------------------+----------------------+----------------------+\n",
            "|   8  NVIDIA A40                     Off | 00000000:C2:00.0 Off |                    0 |\n",
            "|  0%   34C    P0              71W / 300W |   1530MiB / 46068MiB |      0%      Default |\n",
            "|                                         |                      |                  N/A |\n",
            "+-----------------------------------------+----------------------+----------------------+\n",
            "                                                                                         \n",
            "+---------------------------------------------------------------------------------------+\n",
            "| Processes:                                                                            |\n",
            "|  GPU   GI   CI        PID   Type   Process name                            GPU Memory |\n",
            "|        ID   ID                                                             Usage      |\n",
            "|=======================================================================================|\n",
            "|    0   N/A  N/A    269709      C   ...iconda3/envs/interpreter/bin/python     1278MiB |\n",
            "|    1   N/A  N/A    269709      C   ...iconda3/envs/interpreter/bin/python      902MiB |\n",
            "|    2   N/A  N/A    269709      C   ...iconda3/envs/interpreter/bin/python      902MiB |\n",
            "|    3   N/A  N/A    269709      C   ...iconda3/envs/interpreter/bin/python      902MiB |\n",
            "|    4   N/A  N/A    269709      C   ...iconda3/envs/interpreter/bin/python      902MiB |\n",
            "|    5   N/A  N/A    269709      C   ...iconda3/envs/interpreter/bin/python      902MiB |\n",
            "|    6   N/A  N/A    269709      C   ...iconda3/envs/interpreter/bin/python      902MiB |\n",
            "|    7   N/A  N/A    269709      C   ...iconda3/envs/interpreter/bin/python      902MiB |\n",
            "|    8   N/A  N/A    269709      C   ...iconda3/envs/interpreter/bin/python     1518MiB |\n",
            "+---------------------------------------------------------------------------------------+\n",
            "\n"
          ]
        }
      ],
      "source": [
        "print(subprocess.check_output(\"nvidia-smi\", shell=True).decode())"
      ]
    },
    {
      "cell_type": "markdown",
      "id": "cb40c7e1-d49f-4583-927e-d60772468b90",
      "metadata": {
        "id": "cb40c7e1-d49f-4583-927e-d60772468b90"
      },
      "source": [
        "During debugging and before we start training to convergence we create an instance of the MonitorGPU class so that we can monitor GPU usage during training. This helps in verifying that we use all GPUs. During the actual training run I did not use the class because the Huggingface Trainer instance regularly printed the processed training instances per second which was enough to ensure the training speed for this project."
      ]
    },
    {
      "cell_type": "code",
      "execution_count": null,
      "id": "c996cfe0-2d60-4276-b6ef-fc9fd8ac0f73",
      "metadata": {
        "id": "c996cfe0-2d60-4276-b6ef-fc9fd8ac0f73"
      },
      "outputs": [],
      "source": [
        "monitor = MonitorGPU(interval=30)\n",
        "#monitor.start()\n"
      ]
    },
    {
      "cell_type": "code",
      "execution_count": null,
      "id": "ae6019de-9e54-4875-8dc5-201cb6b76999",
      "metadata": {
        "id": "ae6019de-9e54-4875-8dc5-201cb6b76999"
      },
      "outputs": [],
      "source": [
        "# Stop monitoring\n",
        "#monitor.stop()"
      ]
    },
    {
      "cell_type": "markdown",
      "id": "36ca567c-12f7-4737-a13f-7d7756eb5f58",
      "metadata": {
        "id": "36ca567c-12f7-4737-a13f-7d7756eb5f58"
      },
      "source": [
        "For our training configuration, we calculate the total number of iterations based on a dataset of 13,590 instances, a batch size of 4, and no gradient accumulation (2 step). Over 3 epochs, this results in 1,698.75 iterations per epoch, amounting to a total of 5,096.25 iterations for the entire training process. This is displayed below.  \n"
      ]
    },
    {
      "cell_type": "markdown",
      "id": "bc10cf4c-c989-41f4-8bd9-45977881d7e9",
      "metadata": {
        "id": "bc10cf4c-c989-41f4-8bd9-45977881d7e9"
      },
      "source": [
        "I began the training process and then conducted a second training run, extending it to five epochs, by transferring the code to a Python file for asynchronous execution. However, I observed that training for more than three epochs led to a divergence in the loss. Therefore, I used the Lora-Adapters trained during this run for evaluation. The evaluation process and its outcomes are detailed in a different script."
      ]
    },
    {
      "cell_type": "code",
      "execution_count": null,
      "id": "0dbfbe14-41be-4cfc-8f07-a21f7228291a",
      "metadata": {
        "id": "0dbfbe14-41be-4cfc-8f07-a21f7228291a",
        "outputId": "2f0eee69-f337-473e-9e43-2772b4f9ab58"
      },
      "outputs": [
        {
          "name": "stderr",
          "output_type": "stream",
          "text": [
            "You're using a LlamaTokenizerFast tokenizer. Please note that with a fast tokenizer, using the `__call__` method is faster than using a method to encode the text followed by a call to the `pad` method to get a padded encoding.\n",
            "/fast/AG_Metzger/lukas/miniconda3/envs/interpreter/lib/python3.10/site-packages/torch/utils/checkpoint.py:429: UserWarning: torch.utils.checkpoint: please pass in use_reentrant=True or use_reentrant=False explicitly. The default value of use_reentrant will be updated to be False in the future. To maintain current behavior, pass use_reentrant=True. It is recommended that you use use_reentrant=False. Refer to docs for more details on the differences between the two variants.\n",
            "  warnings.warn(\n"
          ]
        },
        {
          "data": {
            "text/html": [
              "\n",
              "    <div>\n",
              "      \n",
              "      <progress value='4201' max='5097' style='width:300px; height:20px; vertical-align: middle;'></progress>\n",
              "      [4201/5097 21:07:36 < 4:30:29, 0.06 it/s, Epoch 2.47/3]\n",
              "    </div>\n",
              "    <table border=\"1\" class=\"dataframe\">\n",
              "  <thead>\n",
              " <tr style=\"text-align: left;\">\n",
              "      <th>Step</th>\n",
              "      <th>Training Loss</th>\n",
              "      <th>Validation Loss</th>\n",
              "    </tr>\n",
              "  </thead>\n",
              "  <tbody>\n",
              "    <tr>\n",
              "      <td>200</td>\n",
              "      <td>0.649600</td>\n",
              "      <td>0.485940</td>\n",
              "    </tr>\n",
              "    <tr>\n",
              "      <td>400</td>\n",
              "      <td>0.436200</td>\n",
              "      <td>0.382696</td>\n",
              "    </tr>\n",
              "    <tr>\n",
              "      <td>600</td>\n",
              "      <td>0.369700</td>\n",
              "      <td>0.338850</td>\n",
              "    </tr>\n",
              "    <tr>\n",
              "      <td>800</td>\n",
              "      <td>0.334900</td>\n",
              "      <td>0.314154</td>\n",
              "    </tr>\n",
              "    <tr>\n",
              "      <td>1000</td>\n",
              "      <td>0.312700</td>\n",
              "      <td>0.291455</td>\n",
              "    </tr>\n",
              "    <tr>\n",
              "      <td>1200</td>\n",
              "      <td>0.293400</td>\n",
              "      <td>0.277263</td>\n",
              "    </tr>\n",
              "    <tr>\n",
              "      <td>1400</td>\n",
              "      <td>0.271500</td>\n",
              "      <td>0.265217</td>\n",
              "    </tr>\n",
              "    <tr>\n",
              "      <td>1600</td>\n",
              "      <td>0.270000</td>\n",
              "      <td>0.254270</td>\n",
              "    </tr>\n",
              "    <tr>\n",
              "      <td>1800</td>\n",
              "      <td>0.247800</td>\n",
              "      <td>0.249198</td>\n",
              "    </tr>\n",
              "    <tr>\n",
              "      <td>2000</td>\n",
              "      <td>0.238800</td>\n",
              "      <td>0.243652</td>\n",
              "    </tr>\n",
              "    <tr>\n",
              "      <td>2200</td>\n",
              "      <td>0.248100</td>\n",
              "      <td>0.239686</td>\n",
              "    </tr>\n",
              "    <tr>\n",
              "      <td>2400</td>\n",
              "      <td>0.244300</td>\n",
              "      <td>0.235311</td>\n",
              "    </tr>\n",
              "    <tr>\n",
              "      <td>2600</td>\n",
              "      <td>0.235700</td>\n",
              "      <td>0.229220</td>\n",
              "    </tr>\n",
              "    <tr>\n",
              "      <td>2800</td>\n",
              "      <td>0.239300</td>\n",
              "      <td>0.230248</td>\n",
              "    </tr>\n",
              "    <tr>\n",
              "      <td>3000</td>\n",
              "      <td>0.230400</td>\n",
              "      <td>0.225042</td>\n",
              "    </tr>\n",
              "    <tr>\n",
              "      <td>3200</td>\n",
              "      <td>0.224400</td>\n",
              "      <td>0.222839</td>\n",
              "    </tr>\n",
              "    <tr>\n",
              "      <td>3400</td>\n",
              "      <td>0.222000</td>\n",
              "      <td>0.220811</td>\n",
              "    </tr>\n",
              "    <tr>\n",
              "      <td>3600</td>\n",
              "      <td>0.210500</td>\n",
              "      <td>0.218546</td>\n",
              "    </tr>\n",
              "    <tr>\n",
              "      <td>3800</td>\n",
              "      <td>0.207900</td>\n",
              "      <td>0.217658</td>\n",
              "    </tr>\n",
              "    <tr>\n",
              "      <td>4000</td>\n",
              "      <td>0.213700</td>\n",
              "      <td>0.211505</td>\n",
              "    </tr>\n",
              "  </tbody>\n",
              "</table><p>\n",
              "    <div>\n",
              "      \n",
              "      <progress value='123' max='189' style='width:300px; height:20px; vertical-align: middle;'></progress>\n",
              "      [123/189 08:38 < 04:40, 0.24 it/s]\n",
              "    </div>\n",
              "    "
            ],
            "text/plain": [
              "<IPython.core.display.HTML object>"
            ]
          },
          "metadata": {},
          "output_type": "display_data"
        },
        {
          "name": "stderr",
          "output_type": "stream",
          "text": [
            "/fast/AG_Metzger/lukas/miniconda3/envs/interpreter/lib/python3.10/site-packages/torch/utils/checkpoint.py:429: UserWarning: torch.utils.checkpoint: please pass in use_reentrant=True or use_reentrant=False explicitly. The default value of use_reentrant will be updated to be False in the future. To maintain current behavior, pass use_reentrant=True. It is recommended that you use use_reentrant=False. Refer to docs for more details on the differences between the two variants.\n",
            "  warnings.warn(\n",
            "/fast/AG_Metzger/lukas/miniconda3/envs/interpreter/lib/python3.10/site-packages/torch/utils/checkpoint.py:429: UserWarning: torch.utils.checkpoint: please pass in use_reentrant=True or use_reentrant=False explicitly. The default value of use_reentrant will be updated to be False in the future. To maintain current behavior, pass use_reentrant=True. It is recommended that you use use_reentrant=False. Refer to docs for more details on the differences between the two variants.\n",
            "  warnings.warn(\n",
            "/fast/AG_Metzger/lukas/miniconda3/envs/interpreter/lib/python3.10/site-packages/torch/utils/checkpoint.py:429: UserWarning: torch.utils.checkpoint: please pass in use_reentrant=True or use_reentrant=False explicitly. The default value of use_reentrant will be updated to be False in the future. To maintain current behavior, pass use_reentrant=True. It is recommended that you use use_reentrant=False. Refer to docs for more details on the differences between the two variants.\n",
            "  warnings.warn(\n",
            "/fast/AG_Metzger/lukas/miniconda3/envs/interpreter/lib/python3.10/site-packages/torch/utils/checkpoint.py:429: UserWarning: torch.utils.checkpoint: please pass in use_reentrant=True or use_reentrant=False explicitly. The default value of use_reentrant will be updated to be False in the future. To maintain current behavior, pass use_reentrant=True. It is recommended that you use use_reentrant=False. Refer to docs for more details on the differences between the two variants.\n",
            "  warnings.warn(\n",
            "/fast/AG_Metzger/lukas/miniconda3/envs/interpreter/lib/python3.10/site-packages/torch/utils/checkpoint.py:429: UserWarning: torch.utils.checkpoint: please pass in use_reentrant=True or use_reentrant=False explicitly. The default value of use_reentrant will be updated to be False in the future. To maintain current behavior, pass use_reentrant=True. It is recommended that you use use_reentrant=False. Refer to docs for more details on the differences between the two variants.\n",
            "  warnings.warn(\n",
            "/fast/AG_Metzger/lukas/miniconda3/envs/interpreter/lib/python3.10/site-packages/torch/utils/checkpoint.py:429: UserWarning: torch.utils.checkpoint: please pass in use_reentrant=True or use_reentrant=False explicitly. The default value of use_reentrant will be updated to be False in the future. To maintain current behavior, pass use_reentrant=True. It is recommended that you use use_reentrant=False. Refer to docs for more details on the differences between the two variants.\n",
            "  warnings.warn(\n",
            "/fast/AG_Metzger/lukas/miniconda3/envs/interpreter/lib/python3.10/site-packages/torch/utils/checkpoint.py:429: UserWarning: torch.utils.checkpoint: please pass in use_reentrant=True or use_reentrant=False explicitly. The default value of use_reentrant will be updated to be False in the future. To maintain current behavior, pass use_reentrant=True. It is recommended that you use use_reentrant=False. Refer to docs for more details on the differences between the two variants.\n",
            "  warnings.warn(\n",
            "/fast/AG_Metzger/lukas/miniconda3/envs/interpreter/lib/python3.10/site-packages/torch/utils/checkpoint.py:429: UserWarning: torch.utils.checkpoint: please pass in use_reentrant=True or use_reentrant=False explicitly. The default value of use_reentrant will be updated to be False in the future. To maintain current behavior, pass use_reentrant=True. It is recommended that you use use_reentrant=False. Refer to docs for more details on the differences between the two variants.\n",
            "  warnings.warn(\n",
            "/fast/AG_Metzger/lukas/miniconda3/envs/interpreter/lib/python3.10/site-packages/torch/utils/checkpoint.py:429: UserWarning: torch.utils.checkpoint: please pass in use_reentrant=True or use_reentrant=False explicitly. The default value of use_reentrant will be updated to be False in the future. To maintain current behavior, pass use_reentrant=True. It is recommended that you use use_reentrant=False. Refer to docs for more details on the differences between the two variants.\n",
            "  warnings.warn(\n",
            "/fast/AG_Metzger/lukas/miniconda3/envs/interpreter/lib/python3.10/site-packages/torch/utils/checkpoint.py:429: UserWarning: torch.utils.checkpoint: please pass in use_reentrant=True or use_reentrant=False explicitly. The default value of use_reentrant will be updated to be False in the future. To maintain current behavior, pass use_reentrant=True. It is recommended that you use use_reentrant=False. Refer to docs for more details on the differences between the two variants.\n",
            "  warnings.warn(\n",
            "/fast/AG_Metzger/lukas/miniconda3/envs/interpreter/lib/python3.10/site-packages/torch/utils/checkpoint.py:429: UserWarning: torch.utils.checkpoint: please pass in use_reentrant=True or use_reentrant=False explicitly. The default value of use_reentrant will be updated to be False in the future. To maintain current behavior, pass use_reentrant=True. It is recommended that you use use_reentrant=False. Refer to docs for more details on the differences between the two variants.\n",
            "  warnings.warn(\n",
            "/fast/AG_Metzger/lukas/miniconda3/envs/interpreter/lib/python3.10/site-packages/torch/utils/checkpoint.py:429: UserWarning: torch.utils.checkpoint: please pass in use_reentrant=True or use_reentrant=False explicitly. The default value of use_reentrant will be updated to be False in the future. To maintain current behavior, pass use_reentrant=True. It is recommended that you use use_reentrant=False. Refer to docs for more details on the differences between the two variants.\n",
            "  warnings.warn(\n",
            "/fast/AG_Metzger/lukas/miniconda3/envs/interpreter/lib/python3.10/site-packages/torch/utils/checkpoint.py:429: UserWarning: torch.utils.checkpoint: please pass in use_reentrant=True or use_reentrant=False explicitly. The default value of use_reentrant will be updated to be False in the future. To maintain current behavior, pass use_reentrant=True. It is recommended that you use use_reentrant=False. Refer to docs for more details on the differences between the two variants.\n",
            "  warnings.warn(\n",
            "/fast/AG_Metzger/lukas/miniconda3/envs/interpreter/lib/python3.10/site-packages/torch/utils/checkpoint.py:429: UserWarning: torch.utils.checkpoint: please pass in use_reentrant=True or use_reentrant=False explicitly. The default value of use_reentrant will be updated to be False in the future. To maintain current behavior, pass use_reentrant=True. It is recommended that you use use_reentrant=False. Refer to docs for more details on the differences between the two variants.\n",
            "  warnings.warn(\n",
            "/fast/AG_Metzger/lukas/miniconda3/envs/interpreter/lib/python3.10/site-packages/torch/utils/checkpoint.py:429: UserWarning: torch.utils.checkpoint: please pass in use_reentrant=True or use_reentrant=False explicitly. The default value of use_reentrant will be updated to be False in the future. To maintain current behavior, pass use_reentrant=True. It is recommended that you use use_reentrant=False. Refer to docs for more details on the differences between the two variants.\n",
            "  warnings.warn(\n",
            "/fast/AG_Metzger/lukas/miniconda3/envs/interpreter/lib/python3.10/site-packages/torch/utils/checkpoint.py:429: UserWarning: torch.utils.checkpoint: please pass in use_reentrant=True or use_reentrant=False explicitly. The default value of use_reentrant will be updated to be False in the future. To maintain current behavior, pass use_reentrant=True. It is recommended that you use use_reentrant=False. Refer to docs for more details on the differences between the two variants.\n",
            "  warnings.warn(\n",
            "/fast/AG_Metzger/lukas/miniconda3/envs/interpreter/lib/python3.10/site-packages/torch/utils/checkpoint.py:429: UserWarning: torch.utils.checkpoint: please pass in use_reentrant=True or use_reentrant=False explicitly. The default value of use_reentrant will be updated to be False in the future. To maintain current behavior, pass use_reentrant=True. It is recommended that you use use_reentrant=False. Refer to docs for more details on the differences between the two variants.\n",
            "  warnings.warn(\n",
            "/fast/AG_Metzger/lukas/miniconda3/envs/interpreter/lib/python3.10/site-packages/torch/utils/checkpoint.py:429: UserWarning: torch.utils.checkpoint: please pass in use_reentrant=True or use_reentrant=False explicitly. The default value of use_reentrant will be updated to be False in the future. To maintain current behavior, pass use_reentrant=True. It is recommended that you use use_reentrant=False. Refer to docs for more details on the differences between the two variants.\n",
            "  warnings.warn(\n",
            "/fast/AG_Metzger/lukas/miniconda3/envs/interpreter/lib/python3.10/site-packages/torch/utils/checkpoint.py:429: UserWarning: torch.utils.checkpoint: please pass in use_reentrant=True or use_reentrant=False explicitly. The default value of use_reentrant will be updated to be False in the future. To maintain current behavior, pass use_reentrant=True. It is recommended that you use use_reentrant=False. Refer to docs for more details on the differences between the two variants.\n",
            "  warnings.warn(\n",
            "/fast/AG_Metzger/lukas/miniconda3/envs/interpreter/lib/python3.10/site-packages/torch/utils/checkpoint.py:429: UserWarning: torch.utils.checkpoint: please pass in use_reentrant=True or use_reentrant=False explicitly. The default value of use_reentrant will be updated to be False in the future. To maintain current behavior, pass use_reentrant=True. It is recommended that you use use_reentrant=False. Refer to docs for more details on the differences between the two variants.\n",
            "  warnings.warn(\n"
          ]
        }
      ],
      "source": [
        "nnInterpreter.config.use_cache = False  # silence the warnings.Re-enable for inference!\n",
        "trainer.train()"
      ]
    },
    {
      "cell_type": "markdown",
      "id": "c3a671bc-068c-4498-a2bf-547bcf17f70d",
      "metadata": {
        "id": "c3a671bc-068c-4498-a2bf-547bcf17f70d"
      },
      "source": [
        "After training we should kill the current process to avoid memory issues and load the model again. Only the QLoRA adapters are saved so when we want to use our trained interpreter we load a clean moddel from the Huggingface Hub."
      ]
    }
  ],
  "metadata": {
    "kernelspec": {
      "display_name": "Python 3 (ipykernel)",
      "language": "python",
      "name": "python3"
    },
    "language_info": {
      "codemirror_mode": {
        "name": "ipython",
        "version": 3
      },
      "file_extension": ".py",
      "mimetype": "text/x-python",
      "name": "python",
      "nbconvert_exporter": "python",
      "pygments_lexer": "ipython3",
      "version": "3.10.13"
    },
    "colab": {
      "provenance": []
    }
  },
  "nbformat": 4,
  "nbformat_minor": 5
}