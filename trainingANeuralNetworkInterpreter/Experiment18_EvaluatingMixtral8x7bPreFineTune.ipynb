{
 "cells": [
  {
   "cell_type": "markdown",
   "id": "0b8836ef-0177-4e95-be4a-e5cb81dba5a6",
   "metadata": {},
   "source": [
    "In this notebook, I conduct an evaluation of Mixtral8x7B model before finetuning. This serves as a baseline to Experiment 18 where we evaluate the model post-fine-tuning. Thus, for explanation of this code refer to Experiment 18. "
   ]
  },
  {
   "cell_type": "code",
   "execution_count": 1,
   "id": "42ebaace-a974-4d86-905d-f81cb2a1fc30",
   "metadata": {},
   "outputs": [],
   "source": [
    "#General purpose\n",
    "import sys\n",
    "import os\n",
    "os.environ[\"CUDA_VISIBLE_DEVICES\"] = \"0,1,2,3,4,5,6,7,8\"\n",
    "os.environ['HF_TOKEN'] = \"your token\"\n",
    "os.environ['HF_HOME'] = 'your cache'\n",
    "\n",
    "\n",
    "from datetime import datetime\n",
    "import json\n",
    "import random\n",
    "import math\n",
    "from PIL import Image\n",
    "\n",
    "# General data libs\n",
    "import matplotlib.pyplot as plt\n",
    "import numpy as np\n",
    "import pandas as pd\n",
    "\n",
    "\n",
    "#machine learning libs\n",
    "import torch\n",
    "import torch.nn.functional as F\n",
    "import torch.nn as nn\n",
    "from torch.utils.data import Dataset, DataLoader\n",
    "\n",
    "#some special machine learnings libs for our CNN and for data efficiency\n",
    "from torchvision import datasets, transforms\n",
    "from datasets import load_dataset\n",
    "\n",
    "#Large language models and Fine tuning \n",
    "import transformers\n",
    "from peft import prepare_model_for_kbit_training, LoraConfig, get_peft_model, PeftModel\n",
    "from transformers import AutoTokenizer, AutoModelForCausalLM, BitsAndBytesConfig\n",
    "\n",
    "\n",
    "#Libs for facilitating distributed training for our large language model\n",
    "\n",
    "from torch.distributed.fsdp.fully_sharded_data_parallel import FullOptimStateDictConfig, FullStateDictConfig\n",
    "from accelerate import FullyShardedDataParallelPlugin, Accelerator\n"
   ]
  },
  {
   "cell_type": "code",
   "execution_count": 2,
   "id": "62691745-4e1a-44ac-af10-421f42ca54ee",
   "metadata": {},
   "outputs": [],
   "source": [
    "device_map = {\n",
    "    'model.embed_tokens': 0,\n",
    "    'model.layers.0': 0, 'model.layers.1': 1, 'model.layers.2': 1, 'model.layers.3': 1,\n",
    "    'model.layers.4': 1, 'model.layers.5': 2, 'model.layers.6': 2, 'model.layers.7': 2,\n",
    "    'model.layers.8': 2, 'model.layers.9': 3, 'model.layers.10': 3, 'model.layers.11': 3,\n",
    "    'model.layers.12': 3, 'model.layers.13': 4, 'model.layers.14': 4, 'model.layers.15': 4,\n",
    "    'model.layers.16': 4, 'model.layers.17': 5, 'model.layers.18': 5, 'model.layers.19': 5,\n",
    "    'model.layers.20': 5, 'model.layers.21': 6, 'model.layers.22': 6, 'model.layers.23': 6,\n",
    "    'model.layers.24': 6, 'model.layers.25': 7, 'model.layers.26': 7, 'model.layers.27': 7,\n",
    "    'model.layers.28': 7, 'model.layers.29': 8, 'model.layers.30': 8, 'model.layers.31': 8,\n",
    "    'model.norm': 8,\n",
    "    'lm_head': 8 \n",
    "}"
   ]
  },
  {
   "cell_type": "code",
   "execution_count": 3,
   "id": "bebc2f00-1cda-47a8-a457-301f698597df",
   "metadata": {},
   "outputs": [
    {
     "data": {
      "application/vnd.jupyter.widget-view+json": {
       "model_id": "625348f490d64c8485564f2013c4e924",
       "version_major": 2,
       "version_minor": 0
      },
      "text/plain": [
       "Loading checkpoint shards:   0%|          | 0/19 [00:00<?, ?it/s]"
      ]
     },
     "metadata": {},
     "output_type": "display_data"
    }
   ],
   "source": [
    "base_model_id = \"mistralai/Mixtral-8x7B-v0.1\"\n",
    "\n",
    "bnb_config = BitsAndBytesConfig(\n",
    "    load_in_4bit=True,\n",
    "    bnb_4bit_use_double_quant=True,\n",
    "    bnb_4bit_compute_dtype=torch.bfloat16\n",
    ")\n",
    "\n",
    "base_model = AutoModelForCausalLM.from_pretrained(\n",
    "    base_model_id,  # Mistral, same as before\n",
    "    quantization_config=bnb_config,  # Same quantization config as before\n",
    "    device_map=device_map,\n",
    "    trust_remote_code=True,\n",
    ")\n",
    "\n",
    "tokenizer = AutoTokenizer.from_pretrained(base_model_id, add_bos_token=True, trust_remote_code=True)"
   ]
  },
  {
   "cell_type": "code",
   "execution_count": 4,
   "id": "0293d42d-a5c7-409f-8319-bb902509f3bf",
   "metadata": {},
   "outputs": [],
   "source": [
    "ft_model = base_model"
   ]
  },
  {
   "cell_type": "code",
   "execution_count": 5,
   "id": "06af7045-7fa5-4bf4-85d6-738f717dd45f",
   "metadata": {},
   "outputs": [],
   "source": [
    "def generate_vertical_line_image(image, line_min_height=6, line_max_height=12):\n",
    "    height, width = image.shape\n",
    "\n",
    "    num_lines = 1\n",
    "    for _ in range(num_lines):\n",
    "        line_height = random.randint(line_min_height, line_max_height)\n",
    "        line_start_x = random.randint(0, width - 1)\n",
    "        line_start_y = random.randint(0, height - line_height)\n",
    "\n",
    "        image[line_start_y:line_start_y + line_height, line_start_x] = 255\n",
    "\n",
    "    return image\n",
    "\n",
    "def generate_horizontal_line_image(image, line_min_length=6, line_max_length=12):\n",
    "    height, width = image.shape\n",
    "\n",
    "    num_lines = 1\n",
    "    for _ in range(num_lines):\n",
    "        line_length = random.randint(line_min_length, line_max_length)\n",
    "        line_start_x = random.randint(0, width - line_length)\n",
    "        line_start_y = random.randint(0, height - 1)\n",
    "\n",
    "        image[line_start_y, line_start_x:line_start_x + line_length] = 255\n",
    "\n",
    "    return image\n",
    "\n",
    "def generate_contra_diagonal_line(image, line_min_length=4, line_max_length=12):\n",
    "    height, width = image.shape\n",
    "\n",
    "    # Determine line length\n",
    "    line_length = random.randint(line_min_length, line_max_length)\n",
    "\n",
    "    # Random start position for contra-diagonal line\n",
    "    line_start_x = random.randint(0, width - line_length)\n",
    "    line_start_y = random.randint(0, height - line_length)\n",
    "\n",
    "    # Draw the contra-diagonal line\n",
    "    for i in range(line_length):\n",
    "        image[line_start_y + i, line_start_x + i] = 255\n",
    "\n",
    "    return image\n",
    "\n",
    "def generate_diagonal_line(image, line_min_length=4, line_max_length=12):\n",
    "    height, width = image.shape\n",
    "\n",
    "    # Determine line length\n",
    "    line_length = random.randint(line_min_length, line_max_length)\n",
    "\n",
    "    # Random start position for diagonal line\n",
    "    line_start_x = random.randint(0, width - line_length)\n",
    "    line_start_y = random.randint(line_length - 1, height - 1)\n",
    "\n",
    "    # Draw the diagonal line\n",
    "    for i in range(line_length):\n",
    "        image[line_start_y - i, line_start_x + i] = 255\n",
    "\n",
    "    return image\n",
    "\n",
    "def add_crossing_to_image(image):\n",
    "    def rotate_point(point, angle, origin=(0, 0)):\n",
    "        \"\"\" Rotate a point around a given origin. \"\"\"\n",
    "        ox, oy = origin\n",
    "        px, py = point\n",
    "\n",
    "        qx = ox + math.cos(angle) * (px - ox) - math.sin(angle) * (py - oy)\n",
    "        qy = oy + math.sin(angle) * (px - ox) + math.cos(angle) * (py - oy)\n",
    "        return qx, qy\n",
    "\n",
    "    def translate_point(point, dx, dy):\n",
    "        \"\"\" Translate a point by dx and dy. \"\"\"\n",
    "        x, y = point\n",
    "        return x + dx, y + dy\n",
    "\n",
    "    def draw_line(image, start_point, end_point):\n",
    "        \"\"\" Draw a straight line on the image, ensuring it stays within bounds. \"\"\"\n",
    "        x0, y0 = int(start_point[0]), int(start_point[1])\n",
    "        x1, y1 = int(end_point[0]), int(end_point[1])\n",
    "        dx = abs(x1 - x0)\n",
    "        dy = abs(y1 - y0)\n",
    "        sx = 1 if x0 < x1 else -1\n",
    "        sy = 1 if y0 < y1 else -1\n",
    "        err = dx - dy\n",
    "\n",
    "        while True:\n",
    "            if 0 <= x0 < image.shape[1] and 0 <= y0 < image.shape[0]:\n",
    "                image[y0, x0] = 255  # Set pixel to white\n",
    "            if (x0, y0) == (x1, y1):\n",
    "                break\n",
    "            e2 = 2 * err\n",
    "            if e2 > -dy:\n",
    "                err -= dy\n",
    "                x0 += sx\n",
    "            if e2 < dx:\n",
    "                err += dx\n",
    "                y0 += sy\n",
    "\n",
    "    height, width = image.shape\n",
    "\n",
    "    # Define the middle point and first line\n",
    "    mid_point = (width // 2, height // 2)\n",
    "    first_line_start = (mid_point[0], mid_point[1] - 3)\n",
    "    first_line_end = (mid_point[0], mid_point[1] + 3)\n",
    "\n",
    "    # Random rotation and translation for the first line\n",
    "    rotation_angle = random.uniform(0, 2 * math.pi)  # Random rotation angle\n",
    "    translation_dx = random.randint(-9, 9)  # Random translation in x\n",
    "    translation_dy = random.randint(-9, 9)  # Random translation in y\n",
    "\n",
    "    # Rotate and translate the first line\n",
    "    rotated_start = rotate_point(first_line_start, rotation_angle, mid_point)\n",
    "    rotated_end = rotate_point(first_line_end, rotation_angle, mid_point)\n",
    "    translated_start = translate_point(rotated_start, translation_dx, translation_dy)\n",
    "    translated_end = translate_point(rotated_end, translation_dx, translation_dy)\n",
    "\n",
    "    # Draw the first line\n",
    "    draw_line(image, translated_start, translated_end)\n",
    "\n",
    "    # Define the second line\n",
    "    second_line_mid_point = ((translated_start[0] + translated_end[0]) / 2, (translated_start[1] + translated_end[1]) / 2)\n",
    "    second_line_length = 3  # Length of the second line\n",
    "\n",
    "    # Calculate the second line's rotation angle with improved range\n",
    "    second_line_rotation_angle = (rotation_angle + random.uniform(math.pi / 4 - math.pi / 7, math.pi / 4 + math.pi / 7)) % (2 * math.pi)\n",
    "\n",
    "    # Calculate the second line's end points\n",
    "    second_line_end_1 = (\n",
    "        second_line_mid_point[0] + second_line_length * math.cos(second_line_rotation_angle),\n",
    "        second_line_mid_point[1] + second_line_length * math.sin(second_line_rotation_angle)\n",
    "    )\n",
    "    second_line_end_2 = (\n",
    "        second_line_mid_point[0] - second_line_length * math.cos(second_line_rotation_angle),\n",
    "        second_line_mid_point[1] - second_line_length * math.sin(second_line_rotation_angle)\n",
    "    )\n",
    "\n",
    "    # Draw the second line\n",
    "    draw_line(image, second_line_mid_point, second_line_end_1)\n",
    "    draw_line(image, second_line_mid_point, second_line_end_2)\n",
    "\n",
    "    return image\n",
    "\n",
    "\n",
    "def add_checkerboard_pattern(image, grid_size=2, pattern_size=4):\n",
    "    def draw_partial_checkerboard(image, grid_size, start, end):\n",
    "        \"\"\" Draw a checkerboard pattern on a part of the image. \"\"\"\n",
    "        for y in range(start[1], end[1], grid_size):\n",
    "            for x in range(start[0], end[0], grid_size):\n",
    "                if (x // grid_size + y // grid_size) % 2 == 0:\n",
    "                    image[y:y+grid_size, x:x+grid_size] = 255  # Set pixel to white\n",
    "\n",
    "    def draw_random_checkerboard_5x5(image, grid_size, pattern_size):\n",
    "        \"\"\" Draw a 5x5 checkerboard pattern at a random position in the image, considering the edges. \"\"\"\n",
    "        # Adjust the maximum size for a 5x5 checkerboard\n",
    "        total_pattern_size = grid_size * pattern_size  # 5 squares of size 'grid_size' each\n",
    "\n",
    "        # Randomly select the upper left corner within bounds\n",
    "        max_x = image.shape[1] - total_pattern_size\n",
    "        max_y = image.shape[0] - total_pattern_size\n",
    "        start_x = random.randint(0, max_x)\n",
    "        start_y = random.randint(0, max_y)\n",
    "\n",
    "        # Define the region for the checkerboard pattern\n",
    "        start_point = (start_x, start_y)\n",
    "        end_point = (start_x + total_pattern_size, start_y + total_pattern_size)\n",
    "\n",
    "        # Draw the checkerboard pattern\n",
    "        draw_partial_checkerboard(image, grid_size, start_point, end_point)\n",
    "\n",
    "    # Draw a 5x5 checkerboard pattern on the image\n",
    "    draw_random_checkerboard_5x5(image, grid_size, pattern_size)\n",
    "    return image\n",
    "\n",
    "\n",
    "def add_corner_to_image(image):\n",
    "    def draw_perpendicular_corner(image, point, corner_type):\n",
    "        \"\"\" Draw a corner consisting of two 4-pixel lines that are perpendicular to each other. \"\"\"\n",
    "        x, y = point\n",
    "\n",
    "        # Size of each line in the corner\n",
    "        line_size = 3\n",
    "\n",
    "        # Draw the corner based on the specified type\n",
    "        if corner_type == 1:  # Upper Left\n",
    "            image[y:y+line_size, x] = 255  # Vertical line\n",
    "            image[y, x:x+line_size] = 255  # Horizontal line\n",
    "        elif corner_type == 2:  # Upper Right\n",
    "            image[y:y+line_size, x] = 255  # Vertical line\n",
    "            image[y, x-line_size:x] = 255  # Horizontal line\n",
    "        elif corner_type == 3:  # Bottom Left\n",
    "            image[y-line_size:y +1 , x] = 255  # Vertical line\n",
    "            image[y, x:x+line_size] = 255  # Horizontal line\n",
    "        elif corner_type == 4:  # Bottom Right\n",
    "            image[y-line_size:y +1, x] = 255  # Vertical line\n",
    "            image[y, x-line_size:x] = 255  # Horizontal line\n",
    "\n",
    "    # Randomly sample a point within a specific area to ensure space for the corner\n",
    "    random_point = (random.randint(5, 22), random.randint(5, 22))\n",
    "\n",
    "    # Randomly select a corner type\n",
    "    corner_type = random.randint(1, 4)\n",
    "\n",
    "    # Draw the perpendicular corner\n",
    "    draw_perpendicular_corner(image, random_point, corner_type)\n",
    "\n",
    "    return image\n",
    "\n",
    "def draw_smooth_ellipse(image, center, axes, start_angle, end_angle, step=1):\n",
    "    for angle in range(start_angle, end_angle, step):\n",
    "        radian = math.radians(angle)\n",
    "        x = center[0] + axes[0] * math.cos(radian)\n",
    "        y = center[1] + axes[1] * math.sin(radian)\n",
    "\n",
    "        # Apply anti-aliasing-like technique by softening the pixels near the ellipse boundary\n",
    "        for dx in [-1, 0, 1]:\n",
    "            for dy in [-1, 0, 1]:\n",
    "                ix, iy = int(x + dx), int(y + dy)\n",
    "                if 0 <= ix < image.shape[1] and 0 <= iy < image.shape[0]:\n",
    "                    distance = math.sqrt((x - ix) ** 2 + (y - iy) ** 2)\n",
    "                    if distance < 1.5:  # Soften pixels close to the calculated point\n",
    "                        image[iy, ix] = min(255, image[iy, ix] + int(255 * (1.5 - distance)))\n",
    "\n",
    "def generate_partial_ellipse_image(image, num_ellipses=1):\n",
    "    height, width = image.shape\n",
    "\n",
    "    for _ in range(num_ellipses):\n",
    "        center = (width // 2, height // 2)\n",
    "        axes = (random.randint(8, 12), random.randint(8, 12))  # Adjust axes to avoid extremes\n",
    "        angle_range = random.randint(50, 80)\n",
    "        start_angle = random.randint(0, 360 - angle_range)\n",
    "        end_angle = start_angle + angle_range\n",
    "\n",
    "        draw_smooth_ellipse(image, center, axes, start_angle, end_angle)\n",
    "\n",
    "    return image\n",
    "\n",
    "def image_generator(num_corner = 0, num_vertical=0, num_horizontal=0, num_ellipse=0, num_diagonal=0, num_contra_diagonal= 0, num_crossing=0, num_checkerboard=0):\n",
    "    # Initialize a 28x28 black image\n",
    "    image = np.zeros((28, 28), dtype=np.uint8)\n",
    "\n",
    "    # Add the specified number of vertical lines\n",
    "    for _ in range(num_vertical):\n",
    "        image = generate_vertical_line_image(image)\n",
    "\n",
    "    # Add the specified number of vertical lines\n",
    "    for _ in range(num_diagonal):\n",
    "        image = generate_diagonal_line(image)\n",
    "\n",
    "    # Add the specified number of vertical lines\n",
    "    for _ in range(num_contra_diagonal):\n",
    "        image = generate_contra_diagonal_line(image)\n",
    "\n",
    "\n",
    "    # Add the specified number of horizontal lines\n",
    "    for _ in range(num_horizontal):\n",
    "        image = generate_horizontal_line_image(image)\n",
    "\n",
    "    for _ in range(num_crossing):\n",
    "        image = add_crossing_to_image(image)\n",
    "\n",
    "    for _ in range(num_checkerboard):\n",
    "        image = add_checkerboard_pattern(image)\n",
    "\n",
    "\n",
    "    # Add the specified number of partial ellipses\n",
    "    for _ in range(num_ellipse):\n",
    "        image = generate_partial_ellipse_image(image)\n",
    "\n",
    "    for _ in range(num_corner):\n",
    "        image = add_corner_to_image(image)\n",
    "\n",
    "    return image\n"
   ]
  },
  {
   "cell_type": "code",
   "execution_count": 6,
   "id": "da72b05c-64cb-4468-aaf9-b883c1664ec4",
   "metadata": {},
   "outputs": [],
   "source": [
    "def sample_shape_count():\n",
    "    # Sample using exponential distribution\n",
    "    return int(np.random.exponential(scale=0.2) + 1)\n",
    "\n",
    "def generate_shape_description(shape_counts):\n",
    "    # Generate a human-readable description of the shapes\n",
    "    descriptions = []\n",
    "    for shape, count in shape_counts.items():\n",
    "        if count > 0:\n",
    "            shape_name = shape.split('_')[1]\n",
    "\n",
    "            # Special handling for 'contra' shape\n",
    "            if shape_name == 'contra':\n",
    "                shape_name = 'contra diagonal'\n",
    "\n",
    "            if count == 1:\n",
    "                descriptions.append(f\"1 {shape_name}\")\n",
    "            else:\n",
    "                # Add 's' for plural, except for special case\n",
    "                if shape_name == 'contra diagonal ':\n",
    "                    descriptions.append(f\"{count} {shape_name}\")\n",
    "                else:\n",
    "                    descriptions.append(f\"{count} {shape_name}s\")\n",
    "    return ', '.join(descriptions)\n"
   ]
  },
  {
   "cell_type": "code",
   "execution_count": 7,
   "id": "6fddd4cc-54d0-405c-bd0f-6cdf17ed8b85",
   "metadata": {},
   "outputs": [],
   "source": [
    "def create_synthetic_dataset(num_images):\n",
    "    # Create directory to save images and descriptions\n",
    "    images = []\n",
    "    descriptions = []\n",
    "\n",
    "    for i in range(num_images):\n",
    "        shape_counts = {\n",
    "            \"num_corner\": 0,\n",
    "            \"num_vertical\": 0,\n",
    "            \"num_horizontal\": 0,\n",
    "            \"num_diagonal\": 0,\n",
    "            \"num_contra_diagonal\": 0,\n",
    "            \"num_crossing\": 0,\n",
    "            \"num_checkerboard\": 0,\n",
    "            \"num_ellipse\": 0\n",
    "        }\n",
    "        probabilities = [0.4, 0.3, 0.2, 0.1]\n",
    "        num_shapes_to_select = np.random.choice([1, 2, 3, 4], p=probabilities)\n",
    "        selected_shapes = np.random.choice(list(shape_counts.keys()), size=num_shapes_to_select, replace=False)\n",
    "        for shape in selected_shapes:\n",
    "            shape_counts[shape] = int(round(sample_shape_count()))\n",
    "\n",
    "        generated_image = image_generator(**shape_counts)\n",
    "        shape_description = generate_shape_description(shape_counts)\n",
    "        \n",
    "        total_shapes = sum(shape_counts.values())\n",
    "\n",
    "    \n",
    "        shape_description = f\"Image with {total_shapes} shape{'s' if total_shapes > 1 else ''}: {shape_description}\"\n",
    "        \n",
    "        # Store the image and description\n",
    "        images.append(generated_image)\n",
    "        descriptions.append(shape_description)\n",
    "\n",
    "    return images, descriptions\n"
   ]
  },
  {
   "cell_type": "code",
   "execution_count": 8,
   "id": "144dc525-ba94-4895-bb18-b9963a0ccde3",
   "metadata": {},
   "outputs": [],
   "source": [
    "class SyntheticDataset(Dataset):\n",
    "    def __init__(self, images, descriptions, transform=None):\n",
    "        self.images = images\n",
    "        self.descriptions = descriptions\n",
    "        self.transform = transform\n",
    "\n",
    "    def __len__(self):\n",
    "        return len(self.images)\n",
    "\n",
    "    def __getitem__(self, idx):\n",
    "        image = self.images[idx]\n",
    "        description = self.descriptions[idx]\n",
    "\n",
    "        if self.transform:\n",
    "            # Convert numpy array to tensor and apply transform\n",
    "            image = transforms.ToTensor()(image)\n",
    "            image = self.transform(image)\n",
    "\n",
    "        return image, description"
   ]
  },
  {
   "cell_type": "markdown",
   "id": "91a2ffa6-e4ff-4aa7-9ea6-9ca09f2cd146",
   "metadata": {},
   "source": [
    "We define the class for our target neural networks whose first convolutional layer we want to analyze. "
   ]
  },
  {
   "cell_type": "code",
   "execution_count": 9,
   "id": "f6499d5d-1842-4ec3-9c42-fcc6a630995e",
   "metadata": {},
   "outputs": [],
   "source": [
    "class CNN(nn.Module):\n",
    "    def __init__(self):\n",
    "        super(CNN, self).__init__()\n",
    "\n",
    "        # Initialize convolutional layer 1 with He Initialization\n",
    "        # Increased kernel size to 9 and number of filters remains 8\n",
    "        self.conv1 = self._init_conv_layer(1, 8, 9, 1, 4, 'he')  # Padding adjusted to 4\n",
    "\n",
    "        # Initialize convolutional layer 2 with He Initialization\n",
    "        # Increased kernel size to 9 and number of filters remains 16\n",
    "        self.conv2 = self._init_conv_layer(8, 16, 9, 1, 4, 'he')  # Padding adjusted to 4\n",
    "\n",
    "        # Initialize fully connected output layer\n",
    "        # Input dimension remains the same\n",
    "        self.out = nn.Linear(16 * 7 * 7, 10)\n",
    "        nn.init.kaiming_normal_(self.out.weight, nonlinearity='relu')\n",
    "\n",
    "    def _init_conv_layer(self, in_channels, out_channels, kernel_size, stride, padding, init_method):\n",
    "        \"\"\"Initializes a convolutional layer followed by a ReLU activation and MaxPool.\"\"\"\n",
    "        layer = nn.Sequential(\n",
    "            nn.Conv2d(\n",
    "                in_channels=in_channels,\n",
    "                out_channels=out_channels,\n",
    "                kernel_size=kernel_size,\n",
    "                stride=stride,\n",
    "                padding=padding\n",
    "            ),\n",
    "            nn.ReLU(),\n",
    "            nn.MaxPool2d(kernel_size=2)\n",
    "        )\n",
    "\n",
    "        if init_method == 'he':\n",
    "            nn.init.kaiming_normal_(layer[0].weight, nonlinearity='relu')\n",
    "\n",
    "        return layer\n",
    "\n",
    "    def forward(self, x):\n",
    "        x = self.conv1(x)\n",
    "        x = self.conv2(x)\n",
    "\n",
    "        # Flatten the output for the fully connected layer\n",
    "        x = x.view(x.size(0), -1)\n",
    "\n",
    "        output = self.out(x)\n",
    "        return output, x\n"
   ]
  },
  {
   "cell_type": "code",
   "execution_count": 10,
   "id": "9e44acc7-2494-4e28-b34e-4fdca87c2e09",
   "metadata": {},
   "outputs": [
    {
     "name": "stdout",
     "output_type": "stream",
     "text": [
      "Test Accuracy of the targetCNN: 98.85%\n"
     ]
    }
   ],
   "source": [
    "SEED = 42\n",
    "torch.manual_seed(SEED)\n",
    "np.random.seed(SEED)\n",
    "transform = transforms.Compose([\n",
    "    transforms.ToTensor(),\n",
    "    transforms.Normalize((0.5,), (0.5,))\n",
    "])\n",
    "\n",
    "mnist_traindataset = datasets.MNIST(root='./data', train=True, transform=transform, download=True)\n",
    "mnist_trainloader = DataLoader(mnist_traindataset, batch_size=1, shuffle=False)  # batch_size=1 to load images one by one\n",
    "\n",
    "mnist_testDataSet = datasets.MNIST(root='./data', train=False, transform=transform)\n",
    "mnist_testloader = DataLoader(mnist_testDataSet, batch_size=128, shuffle=False)\n",
    "\n",
    "targetCNN = CNN()\n",
    "weights = torch.load('mnistTwoLayersFilterSize9And16Filters.pth')\n",
    "targetCNN.load_state_dict(weights)\n",
    "# Test the CNN\n",
    "targetCNN.eval()\n",
    "with torch.no_grad():\n",
    "    correct = 0\n",
    "    total = 0\n",
    "    for images, labels in mnist_testloader:\n",
    "        outputs, _ = targetCNN(images)\n",
    "        _, predicted = torch.max(outputs.data, 1)\n",
    "        total += labels.size(0)\n",
    "        correct += (predicted == labels).sum().item()\n",
    "\n",
    "test_accuracy = 100 * correct / total\n",
    "print(f'Test Accuracy of the targetCNN: {test_accuracy}%')\n"
   ]
  },
  {
   "cell_type": "code",
   "execution_count": 11,
   "id": "ad382524-fa3f-4699-91a4-f2cca822fc56",
   "metadata": {},
   "outputs": [],
   "source": [
    "def create_data_dict(targetCNN, num_images):\n",
    "    \n",
    "    images, descriptions = create_synthetic_dataset(num_images)\n",
    "    transform = transforms.Normalize((0.5,), (0.5,))\n",
    "    syntheticDataSet = SyntheticDataset(images, descriptions, transform=transform)\n",
    "    synth_loader = DataLoader(syntheticDataSet, batch_size=1, shuffle=False)\n",
    "    data_dict = {}\n",
    "\n",
    "    for i, (image, description) in enumerate(synth_loader):\n",
    "        if i >= num_images:\n",
    "            break\n",
    "\n",
    "        instance_data = {}\n",
    "\n",
    "        # Process the image through the first convolutional layer\n",
    "        with torch.no_grad():\n",
    "            activations = targetCNN.conv1(image)\n",
    "\n",
    "        # Flatten, and store raw pixel data\n",
    "        flattened_image = image.view(-1).numpy()\n",
    "        instance_data['raw_pixel_data'] = flattened_image\n",
    "\n",
    "        # Flatten, and store activations from each filter\n",
    "        for j in range(8):  # Assuming 8 filters in the first conv layer\n",
    "            flattened_activation = activations[0, j].flatten().numpy()\n",
    "            instance_data[f'activationmap{j+1}'] = flattened_activation\n",
    "\n",
    "        # Store image label\n",
    "        instance_data['image_description'] = description\n",
    "\n",
    "        # Add instance data to the main dictionary\n",
    "        data_dict[f'image_{i+1}'] = instance_data\n",
    "\n",
    "    return data_dict"
   ]
  },
  {
   "cell_type": "code",
   "execution_count": 12,
   "id": "ec80057d-fc49-4883-8224-a9c6a06785ca",
   "metadata": {},
   "outputs": [],
   "source": [
    "def map_activation_to_char(activation):\n",
    "    \"\"\"Maps an activation value to a character based on predefined intervals.\"\"\"\n",
    "    if activation == 0:\n",
    "        return 'z'\n",
    "    elif 0 < activation <= 0.6:\n",
    "        return 'l'\n",
    "    elif 0.6 < activation <= 1.3:\n",
    "        return 'm'\n",
    "    elif 1.3 < activation <= 2.2:\n",
    "        return 'h'\n",
    "    else:  # activation > 2.2\n",
    "        return 'v'\n",
    "\n",
    "def generate_jsonl_data(data_dict):\n",
    "    jsonl_data = []\n",
    "\n",
    "    for image_key, image_data in data_dict.items():\n",
    "        # Concatenate activation maps\n",
    "        concatenated_activations = np.concatenate(\n",
    "            [image_data[f'activationmap{j+1}'] for j in range(8)]\n",
    "        )\n",
    "        input_sequence = 'f'\n",
    "        # Process and append each activation map\n",
    "        for j in range(8):  # Assuming 8 filters in the first conv layer\n",
    "            activation_map_key = f'activationmap{j+1}'\n",
    "            mapped_activations = ''.join(map(map_activation_to_char, image_data[activation_map_key]))\n",
    "            input_sequence += mapped_activations + 'f'  # Append 'f' after each activation map\n",
    "\n",
    "        # Remove the last 'f' appended\n",
    "        input_sequence = input_sequence[:-1]\n",
    "\n",
    "        # Retrieve the image description and we need it to unpack from the tuple\n",
    "        output_description = image_data['image_description']\n",
    "        output_description = output_description[0]\n",
    "\n",
    "        # Create a JSONL-like entry\n",
    "        jsonl_data.append({\n",
    "            \"input\": input_sequence,\n",
    "            \"output\": output_description\n",
    "        })\n",
    "    \n",
    "\n",
    "    return jsonl_data\n"
   ]
  },
  {
   "cell_type": "code",
   "execution_count": 13,
   "id": "9459d708-5ac4-4acc-be58-0c12a2e3b21e",
   "metadata": {},
   "outputs": [
    {
     "name": "stderr",
     "output_type": "stream",
     "text": [
      "Setting `pad_token_id` to `eos_token_id`:2 for open-end generation.\n",
      "Setting `pad_token_id` to `eos_token_id`:2 for open-end generation.\n"
     ]
    },
    {
     "name": "stdout",
     "output_type": "stream",
     "text": [
      "Image 1 / 20\n",
      "Ground Truth Output: Image with 1 shape: 1 diagonal\n",
      "Model's Output: You will be presented with sequences of characters representing features of images, which could be basic geometric structures or elements similar to MNIST handwritten digits. These sequences are encoded representations of the image's activation maps, derived from the first layer of a convolutional neural network. The character 'f' marks the beginning of a new filter's activation map of the first layer. The characters 'z', 'l', 'm', 'h', and 'v', indicate varying levels of activation: zero, low, medium, high, and very high, respectively. Your task is to understand the patterns in the sequence and to interpret these sequences to determine the number and types of shapes present in the image. The desired output format should be 'output: Image with [number of shapes] shapes: [number of first shape] [name of shape] ... [number of last shape] [name of last shape]', where the description includes the types of shapes, such as corners, edges, ellipses, crossings, checkerboard pattern, horizontals, verticals, etc. Lastly, give also a confidence from 1 to 10 how shure you are. ### Input: fzlzzzzzzzzzzzlllzzzzzzzzzzllllzzzzzzzzzzzlllzzzzzzzzzzzlllzzzzzzzzzzzlllzzzzzzzzzzzlllzzllzlllzzzlllzllzmmlzzzzlllllzhhlzzzzzllmlzhhllllzzzllmzhhzllzzzzzlmlhhzllzzzzzzlzlmzzlzzzzzzzzlhlllllzzzzzlmfzzzzzzzzzzzzzzzzzzzzzzzzzzzlzzzzzzzzzzzzllzzzzzzzzzzzzllzzzzzzzzzzzzllzzzzzzzzzzzzllzzzzzlzlzzzzllzzzzlzzzzlzzllzzzlzllmmzzzllzzlzlllmlzzzllzlzlllmzzzzzlllzlllmzzzzzzllzmmmmzzzzzzzzzzzzzzzzzzzzzzzfzzzzzzzzzzzzzzzzzzzzzzzzzzlzzzzzzzzzzzzzllzzzzzzzzzzzzllzzzzzzzzzzzzllzzzzzzzzzzzzllzzzzzzllzlzzllzzzzlmmlmzzzllzzzlmmlmlzzzllzzlmmzllzzzzllzlmmzllzzzzzllzlmzllzzzzzzllmmhvmhhhhhhhvhhhvhhhvvvvvvvhfmmllllllllllmmllllllllllllmmmlzzzzzzzzzzllmlzzzzzzzzzzllmlzzzzzzzzzzllmlzzzzzzzzzzllmlzzzzzzllzzllmlzzllzlzzzzllmlzllllllzzzllmlllllmlllzzllmmlllmmllzzzllmmllmmllzzzzlllmzzlzlzzzzzllmlzlzzzzzzzzzzflzzzzzzzzzzzzzmzzzzzzzzzzzzzlzzzzzzzzzzzzzlzzzzzzzzzzzzzlzzzzzzzzzzzzzlzzzzzzzzzzzzzlzzzzzzmmzzzzzlzzzzzhvzzzzzzlzzzzhvmzzzzzzlzzzhhmzzzzzzzlzzhhmzzzzzzzzlzhhmzzzzzzzzzllhhlmlllllllzllhhmmmmmmmmmzfhvvvvvvvvvvvvvlmllllllllllmmmmmmmmmmmmmmmmmmmmmmmmmmmmmmmmmmmmmmmmmmmmmmmmmmmmmmmmmmmmmmmhhmmmmmmmmmmmhhzlmmmmmmmmmhhzmmhmmmmmmhhhzmhhhhmmmmmhhzmhhhhhmmmmmhllhhhhhmmmmmmmlhhhhhmmmmmlzzzzzzzzzzzzzzfzzzzzzzzzzzzzzzzzzzzzzzzzzzzzzzzzzzzzzzzzzzzzzzzzzzzzzzzzzzzzzzzzzzzzzzzzzzzzzzzzzzzzzzzzzmzzzzzzzzzzzzmlllzzzzzzzzzlzmmzzzzzzzzzlzlmlzzzzzzlllzllzllzzzzzllzllzllzzzzzzmmmhmhmmmmmmzzhhvhvvhhhhhhhlfmlllllllllllmmmzzzzzzzzzzzzzlzzzzzzzzzzzzzlzzzzzzzzzzzzzlzzzzzzzzzzzzzlzzzzzzzzzzzzzlzzzzzzzzzzzzzlzzzzzlzzzzzzzlzzzzzzmlzzzzzlzzzzzmhzzzzzzlzzzzhvlzzzzzzmzzzhvlzzzzzzzmzzvvmzlzzzzzzhzhvmzzzzzzzzzlzzzzzzzzzzzzzlzzzzzzzzzzzzzlzzzzzzzzzzzzzlzzzzzzzzzzzzzlzzzzzzzzzzzzzlzzzzzzzzzzzzzlzz\n",
      "------------------------------\n"
     ]
    },
    {
     "name": "stderr",
     "output_type": "stream",
     "text": [
      "Setting `pad_token_id` to `eos_token_id`:2 for open-end generation.\n"
     ]
    },
    {
     "name": "stdout",
     "output_type": "stream",
     "text": [
      "Image 2 / 20\n",
      "Ground Truth Output: Image with 1 shape: 1 checkerboard\n",
      "Model's Output: You will be presented with sequences of characters representing features of images, which could be basic geometric structures or elements similar to MNIST handwritten digits. These sequences are encoded representations of the image's activation maps, derived from the first layer of a convolutional neural network. The character 'f' marks the beginning of a new filter's activation map of the first layer. The characters 'z', 'l', 'm', 'h', and 'v', indicate varying levels of activation: zero, low, medium, high, and very high, respectively. Your task is to understand the patterns in the sequence and to interpret these sequences to determine the number and types of shapes present in the image. The desired output format should be 'output: Image with [number of shapes] shapes: [number of first shape] [name of shape] ... [number of last shape] [name of last shape]', where the description includes the types of shapes, such as corners, edges, ellipses, crossings, checkerboard pattern, horizontals, verticals, etc. Lastly, give also a confidence from 1 to 10 how shure you are. ### Input: fzlzzzzzzzzzzzlllzzzzzzzzzzllllzzzzzzzzzzzlllzzzzzzzzzzzlllzzzzzzzzzzzlllzzzzzzzzzzzlllzzzzzzzzzzzlllzllzzzzzzzzlllzllmmmlllzzlllzllmlmmmllzlllzlhlvmmhzzzlllzzzmzhhmmlzlzzzzhzmzzmlzzzllzllhlmzllzlmfzzzzzzzzzzzzzzzzzzzzzzzzzzzlzzzzzzzzzzzzllzzzzzzzzzzzzllzzzzzzzzzzzzllzzzzzzzzzzzzllzzzzzzzzzzzzllzzzzlllzzzzzllzzzzzzzzzzzzllzzzzhhvhlzzzllzzzmmzhlhhllllzzzzhhmhlzlzllzzzlmmvhhhzzzzzzzzzzzzzzzzzzfzzzzzzzzzzzzzzzzzzzzzzzzzzlzzzzzzzzzzzzzllzzzzzzzzzzzzllzzzzzzzzzzzzllzzzzzzzzzzzzllzzzzzzzzzzzzllzzzzzzmzmzzzllzzzzmhmvvmmzllzzzlmhvhvvmmllzzzllvvvvlmzllzzzlllmmzhlzlllmhhhhmzlmhhvhmhvvvhmmlhhvvhfmmllllllllllmmllllllllllllmmmlzzzzzzzzzzllmlzzzzzzzzzzllmlzzzzzzzzzzllmlzzzzzzzzzzllmlzzzzzzzzzzllmlzzzzzzzllzllmlzllzzzzmllllmlzzlzzlllmlllmlzhhzmzzmmzllmlzzhvzhzmhzllzzzlmzlzllllllzzzzzmzvzhlzzzflzzzzzzzzzzzzzmzzzzzzzzzzzzzlzzzzzzzzzzzzzlzzzzzzzzzzzzzlzzzzzzzzzzzzzlzzzzzzzzzzzzzlzzzzzzzzzzzzzlzzzzzllllzzzzlzzzzlhhvhlzzzlzzzzzhhvhlzzzlzzzzmvhvvzzzzlzzzzzvhvhzzzzlzlmzmvhmhzllzlzmmlmvhhhzmmzfhvvvvvvvvvvvvvlmllllllllllmmmmmmmmmmmmmmmmmmmmmmmmmmmmmmmmmmmmmmmmmmmmmmmmmmmmmmmmmmmmmmmmmmmmmmmmmmmmhhhhmmmmmmmmmmhllzzlmmmmmmmmhmzzzzlmmmmmmmvhmllmmmmmmmmmlhlmmmhmmmmhmmmhmhhhhhmlzzzzzzlhhllzzzfzzzzzzzzzzzzzzzzzzzzzzzzzzzzzzzzzzzzzzzzzzzzzzzzzzzzzzzzzzzzzzzzzzzzzzzzzzzzzzzzzzzzzzzzzzzzzzzzzzzzzzlmzzzzzzzzzzzzmvhvzlzzzzzzzzzvhvvzmzzzzzzzzhmhhhzzzzzzzzzlhhvlhzzzhhmmlzmzvvmhzzhhhhhmhhvvhhhlfmlllllllllllmmmzzzzzzzzzzzzzlzzzzzzzzzzzzzlzzzzzzzzzzzzzlzzzzzzzzzzzzzlzzzzzzzzzzzzzlzzzzzzzzzzzzzlzzzzzllzzzzzzlzzzzmzmzzzzzzlzzzlzmlllzzzzlzzzzzlzvzhzzzlzzzzzzmmhlzzzmzzlzlhhvmlzzzmzzzzmvvvvzzzzzzzzzzzzzzzzzzzzzzzzzzzzzzzzzzzzzzzzzzzzzzzzzzzzzzzzzzzzzzzzzzzzzzzzzzzzzzzzzzzzzzzzzzzzzzzzzzzzzzzz\n",
      "------------------------------\n"
     ]
    },
    {
     "name": "stderr",
     "output_type": "stream",
     "text": [
      "Setting `pad_token_id` to `eos_token_id`:2 for open-end generation.\n"
     ]
    },
    {
     "name": "stdout",
     "output_type": "stream",
     "text": [
      "Image 3 / 20\n",
      "Ground Truth Output: Image with 4 shapes: 1 horizontal, 1 crossing, 1 checkerboard, 1 ellipse\n",
      "Model's Output: You will be presented with sequences of characters representing features of images, which could be basic geometric structures or elements similar to MNIST handwritten digits. These sequences are encoded representations of the image's activation maps, derived from the first layer of a convolutional neural network. The character 'f' marks the beginning of a new filter's activation map of the first layer. The characters 'z', 'l', 'm', 'h', and 'v', indicate varying levels of activation: zero, low, medium, high, and very high, respectively. Your task is to understand the patterns in the sequence and to interpret these sequences to determine the number and types of shapes present in the image. The desired output format should be 'output: Image with [number of shapes] shapes: [number of first shape] [name of shape] ... [number of last shape] [name of last shape]', where the description includes the types of shapes, such as corners, edges, ellipses, crossings, checkerboard pattern, horizontals, verticals, etc. Lastly, give also a confidence from 1 to 10 how shure you are. ### Input: fzlllmllzzzzzzlllmmlzllzzzzlllllmlhmllzzzzllllmlzzzllzzzlllzzhzmhzllzzlllzmllmmhmlzzlllzzhmvmmllzzlllzlhmhhlmmzzllmlmmmmmmlzzzlllllhlllzzllllllzmmhhvvvhmllllmllllmhhlzllzzzlzlmmlzllzzllllzzzlmmmllmfzzzzzzzzzzzzzzzzlhhmlzzzzzzlzzlzlhmlzzzzllzzzmmvhllzzzllzzzlmlzlzzzzllzzzmhhhzhzlzllzzzlhlhmmmlzllzzzmhvhhhmzzllzzllmvhvvlhzllzzzzzzzzzlzzllzzlvhzzzzzzlllzlmmvvvvvvvvmlzzllhmllzzlzzzzzzzzmmhhlzzzzfzzzzzzzzzzzzzzzzlzhmmmzzzzlzzzzzzzlllzzzllzzlzzvlhlmzzllzzzmlzmmvhmzllzzzmhvhvvmlzllzzzllzmlhmlzllzzzllmzzlzzzllzzzzzzzzzzzzllzzmhhhhzlzlmmlzzmmvvvvvvmhmlzzllhmhhvvhmlllmhlzllhhhzlvhmhvvvvhvhmhhvhfmmmlzzmlllllmmlmmlzlmmllllmmmlhlzmhzzzzzllmlzhmzhzlmzzllmlzhhzzmllmzllmlzhlmzzmmzzllmlzhhllmzhzzllmlzmvmhmmzmzllmlzhmmhvmvzzllmmlzllvvmlmmmlmlllllzzmzmzllmhhllmzlmmhzllzzmmlvvhlzzlllzzzzzzllllzllzflzzlhmzzzzzzzzmzzzhhlzzzzzzzlzzzmvmzzzzzzzlzlzzvvzhlzzzzlzzzzvhhvllzzzlzzzzhvhvmzzzzlzzzzvmvhmzzzzlzzzzzvlhmzzzzlzzzzmzmllzzzzlzzzvmhzmvvlzzlzzzvhzmhvvzzzlzzzhhzlmhmzzzlzmzmhvhhvmzlzlzhmzzmmmmllmzfhvvhmmvvvvvvvvlmmhllzmllllmmmmmvhhmlmmmmmmmmmvvmvmmmmmmmmmmlhvzlzmmmmmmmmhvzlzzmmmmmmmmmhhmmmlmmmmmmmmhmlhmhmmmmmhhmhhvvvvhmmmmhhlzmvvvvmmmmmmmzzzzzzzzzmmmmhvvvhzlhhmmmmmhvvvvvvvvvmlzzzzzzzlmmzzzzfzzzmmzzzzzzzzzzzzhvhzzzzzzzzzzzzvvlmzzzzzzzzzzzvvmzzzzzzzzzzhhvvhzzzzzzzzzlvmvvmlzzzzzzzllhhhlzzzzzzzzzlzvvhlzzzzzllzzzzmlzzzzzzhvvhlzhzzzzzzzzvvvvvvvmlzzzzzzllmlhvhzzzhhlzzlmmhhmmlzhhhmlzmhhhvvhlfmlhmmmmlllllmmmzzzlmllzzzzzzlzzzmlzzzzzzzzlzzzlzmmlzzzzzlzzllhhmlzzzzzlzzzllhzhzzzzzlzzzzlzvzhzzzzlzzzzzmlmhzzzzlzzzzhmvhlzzzzlzzzmmvvvvlzzzlzzzzlhmvlzzzzlzzzzzzzzzmlzzmzzlmhhhmvvmlzmlzlmmzzmvhzzzlzzzzlzzzzlzvhzlzzzzlzzzzlzvhzlzzzzlzzzzlzvhzlzzzzlzzzzlzvhzlzzzzlzzzz\n",
      "------------------------------\n"
     ]
    },
    {
     "name": "stderr",
     "output_type": "stream",
     "text": [
      "Setting `pad_token_id` to `eos_token_id`:2 for open-end generation.\n"
     ]
    },
    {
     "name": "stdout",
     "output_type": "stream",
     "text": [
      "Image 4 / 20\n",
      "Ground Truth Output: Image with 1 shape: 1 corner\n",
      "Model's Output: You will be presented with sequences of characters representing features of images, which could be basic geometric structures or elements similar to MNIST handwritten digits. These sequences are encoded representations of the image's activation maps, derived from the first layer of a convolutional neural network. The character 'f' marks the beginning of a new filter's activation map of the first layer. The characters 'z', 'l', 'm', 'h', and 'v', indicate varying levels of activation: zero, low, medium, high, and very high, respectively. Your task is to understand the patterns in the sequence and to interpret these sequences to determine the number and types of shapes present in the image. The desired output format should be 'output: Image with [number of shapes] shapes: [number of first shape] [name of shape] ... [number of last shape] [name of last shape]', where the description includes the types of shapes, such as corners, edges, ellipses, crossings, checkerboard pattern, horizontals, verticals, etc. Lastly, give also a confidence from 1 to 10 how shure you are. ### Input: fzlzzzzzzzzzzzlllzzzzzzzzzzllllzzzzzzzzzzzlllzzzzzzzzzzzlllzzzzzzzzzzzlllzzzzzzzlzzllllzzzzzzzlllllllzzzzzzzzlmmmllzzzzzzzlmllzllzzzzzzzlhzlhllzzzzzzzzlllmllzzzzzzzzzzzlzzzzzzzzzzzzzzllzzzzzzzzzzlmfzzzzzzzzzzzzzzzzzzzzzzzzzzzlzzzzzzzzzzzzllzzzzzzzzzzzzllzzzzzzzzzzzzllzzzzzzzzzzzlzlzzzzzzzzzzzlzlzzzzzzzzzllmlmzzzzzzzzzmhhhmzzzzzzzzzlzzllzzzzzzzzzzlzllzzzzzzzzzzzzllzzzzzzzzzzzzzzzzzzzzzzzzzzzzfzzzzzzzzzzzzzzzzzzzzzzzzzzlzzzzzzzzzzzzzllzzzzzzzzzzzzllzzzzzzzzzzzzllzzzzzzzzzzzllhzzzzzzzzzllzhhzzzzzzzzzmmlhhzzzzzzzzzzzlhmzzzzzzzzzzzzlzzzzzzzzzzzzzmlzzzzzzzzzzzzlllmhhhhhhhhhhvhmhvvvvvvvvvvvhfmmllllllllllmmllllllllllllmmmlzzzzzzzzzzllmlzzzzzzzzzzllmlzzzzzzzzzzllmlzzzzzzzzzzmmmlzzzzzzzllzlhmlzzzzzzzmmmhlmlzzzzzzzmzzhmmlzzzzzzzhmzvhmlzzzzzzzzlllhmlzzzzzzzzzzllzzzzzzzzzzzzllzzzzzzzzzzzzzzflzzzzzzzzzzzzzmzzzzzzzzzzzzzlzzzzzzzzzzzzzlzzzzzzzzzzzzzlzzzzzzzzzzzzzlzzzzzzzzzzmlzlzzzzzzzzzlvmzlzzzzzzzzzlvhzlzzzzzzzzzzhmzlzzzzzzzzlzmmzlzzzzzzzzzlzzzlzzzzzzzzzzzzzlzlllllllllllzlzmmmmmmmmmmmzfhvvvvvvvvvvvvvlmllllllllllmmmmmmmmmmmmmmmmmmmmmmmmmmmmmmmmmmmmmmmmmmmmmmmmmmmmmhhlmmmmmmmmmmmhmllmmmmmmmmmmmmlllmmmmmmmmmmvhvhmmmmmmmmmmvvhvmmmmmmmmmmmhmhmmmmmmmmmmmmmmmhmmmmmmmmmmmlzzzzzzzzzzzzzzfzzzzzzzzzzzzzzzzzzzzzzzzzzzzzzzzzzzzzzzzzzzzzzzzzzzzzzzzzzzzzzzzzzzzzzzzzzzzzzzlmzzzzzzzzzzzzmvmzzzzzzzzzzzzvvzzzzzzzzzzzzzmzzzzzzzzzzzzzzzzzzzzzzzzzzzzzzzzzzzzzzzzzzzzhhmmmmmmmmmmzzhhhhhhhhhhhhhlfmlllllllllllmmmzzzzzzzzzzzzzlzzzzzzzzzzzzzlzzzzzzzzzzzzzlzzzzzzzzzzzzzlzzzzzzzzzzzzzlzzzzzzzzzlzlzlzzzzzzzzzzzlzlzzzzzzzzzzlzzlzzzzzzzzzzmlzlzzzzzzzzzzmzzlzzzzzzzzzzzzzmzzzzzzzzzzzzzmzzzzzzzzzzzzzmmmmmmmmmmmmmmmmmmmmmmmmmmmmmmmmmmmmmmmmmmmmmmmmmmmmmmmmmmmmmmmmmmmmmmmmmmmmmmmmmmmmmmmmmmmmmmmmmmmm\n",
      "------------------------------\n"
     ]
    },
    {
     "name": "stderr",
     "output_type": "stream",
     "text": [
      "Setting `pad_token_id` to `eos_token_id`:2 for open-end generation.\n"
     ]
    },
    {
     "name": "stdout",
     "output_type": "stream",
     "text": [
      "Image 5 / 20\n",
      "Ground Truth Output: Image with 1 shape: 1 crossing\n",
      "Model's Output: You will be presented with sequences of characters representing features of images, which could be basic geometric structures or elements similar to MNIST handwritten digits. These sequences are encoded representations of the image's activation maps, derived from the first layer of a convolutional neural network. The character 'f' marks the beginning of a new filter's activation map of the first layer. The characters 'z', 'l', 'm', 'h', and 'v', indicate varying levels of activation: zero, low, medium, high, and very high, respectively. Your task is to understand the patterns in the sequence and to interpret these sequences to determine the number and types of shapes present in the image. The desired output format should be 'output: Image with [number of shapes] shapes: [number of first shape] [name of shape] ... [number of last shape] [name of last shape]', where the description includes the types of shapes, such as corners, edges, ellipses, crossings, checkerboard pattern, horizontals, verticals, etc. Lastly, give also a confidence from 1 to 10 how shure you are. ### Input: fzlzzzzzzzzzzzlllzzzzzzzzzzllllzzzzzzzzzzzlllzzzzzzzzzzzlllzzzzzzzzzzzlllzzzzzzzzzzzlllzzzzzzzzzzzlllzzzzzzzzzzzlllzzzlzzzlzzzlllzlllzhmlzzzlllzlzlvvllzzzlllzzlvvzllzzzlzzzlmhzmlzzzzzllzmllmmllzzlmfzzzzzzzzzzzzzzzzzzzzzzzzzzzlzzzzzzzzzzzzllzzzzzzzzzzzzllzzzzzzzzzzzzllzzzzzzzzzzzzllzzzzzzzzzzzzllzzzzzzzzzzzzllzzzzzlzzlzzzllzzzzllzzzlzzllzzzllzzmhhzzllzzzzvvhvhzzzllzzzmhmhhzzzzzzzzzzzzzzzzzzzzfzzzzzzzzzzzzzzzzzzzzzzzzzzlzzzzzzzzzzzzzllzzzzzzzzzzzzllzzzzzzzzzzzzllzzzzzzzzzzzzllzzzzzzzzzzzzllzzzzzzzzzzzzllzzzzzzzmlmzzllzzzzzhhhmmzzllzzzzhvhmhlzzllzzzmhzzmlzzzlllmhhmmmzhmhhvhmhvvvhhhhvvvvhfmmllllllllllmmllllllllllllmmmlzzzzzzzzzzllmlzzzzzzzzzzllmlzzzzzzzzzzllmlzzzzzzzzzzllmlzzzzzzzzzzllmlzzzzzzzzzzllmlzzzzzzllzzllmlzzzlzlmzzzllmlzllzzmmzzzllmlzllmllzmzzllzzzmhzzzllzzllzzzlzzzllzzzzzflzzzzzzzzzzzzzmzzzzzzzzzzzzzlzzzzzzzzzzzzzlzzzzzzzzzzzzzlzzzzzzzzzzzzzlzzzzzzzzzzzzzlzzzzzzzzzzzzzlzzzzzzzzzzzzzlzzzzzzlhlzzzzlzzzzzmvvzzzzzlzzzzmvvzzzzzzlzzzzvhlzzzzzzlzllzhhzlllllzlzmmzmhmlmmmmzfhvvvvvvvvvvvvvlmllllllllllmmmmmmmmmmmmmmmmmmmmmmmmmmmmmmmmmmmmmmmmmmmmmmmmmmmmmmmmmmmmmmmmmmmmmmmmmmmmmmmmmmmmmmmmmmmhhmmmmmmmmmmmvhmzlmmmmmmmmhvlzlmhmmmmmmmmzzvhhhmmmmmhmmhvvvhvmmmlzzzzzlllzzzzzzfzzzzzzzzzzzzzzzzzzzzzzzzzzzzzzzzzzzzzzzzzzzzzzzzzzzzzzzzzzzzzzzzzzzzzzzzzzzzzzzzzzzzzzzzzzzzzzzzzzzzzzzzzzzzzzzzzzzzzlmmzzzzzzzzzzlmhllzzzzzzzzlhhlvmzzzzzzzzzzzmhzzzzzzhhmmzmlmhmmmzzhhhhhhvvvhhhhlfmlllllllllllmmmzzzzzzzzzzzzzlzzzzzzzzzzzzzlzzzzzzzzzzzzzlzzzzzzzzzzzzzlzzzzzzzzzzzzzlzzzzzzzzzzzzzlzzzzzzzzzzzzzlzzzzzzlzzzzzzlzzzzzmmzzzzzzlzzzzmmzmzzzzzlzzzmzzvvzzzzzmzzzzzvvlzzzzzmzzzzvvhzzzzzzzzzzzzzzzzzzzzzzzzzzzzzzzzzzzzzzzzzzzzzzzzzzzzzzzzzzzzzzzzzzzzzzzzzzzzzzzzzzzzzzzzzzzzzzzzzzzzzzzzzz\n",
      "------------------------------\n"
     ]
    },
    {
     "name": "stderr",
     "output_type": "stream",
     "text": [
      "Setting `pad_token_id` to `eos_token_id`:2 for open-end generation.\n"
     ]
    },
    {
     "name": "stdout",
     "output_type": "stream",
     "text": [
      "Image 6 / 20\n",
      "Ground Truth Output: Image with 2 shapes: 1 diagonal, 1 checkerboard\n",
      "Model's Output: You will be presented with sequences of characters representing features of images, which could be basic geometric structures or elements similar to MNIST handwritten digits. These sequences are encoded representations of the image's activation maps, derived from the first layer of a convolutional neural network. The character 'f' marks the beginning of a new filter's activation map of the first layer. The characters 'z', 'l', 'm', 'h', and 'v', indicate varying levels of activation: zero, low, medium, high, and very high, respectively. Your task is to understand the patterns in the sequence and to interpret these sequences to determine the number and types of shapes present in the image. The desired output format should be 'output: Image with [number of shapes] shapes: [number of first shape] [name of shape] ... [number of last shape] [name of last shape]', where the description includes the types of shapes, such as corners, edges, ellipses, crossings, checkerboard pattern, horizontals, verticals, etc. Lastly, give also a confidence from 1 to 10 how shure you are. ### Input: fzlzzzzlmlzmlmmllzzzzmhlvzhllllzzzzzmmlhzmhllzzzzmhmhzmlhllzzzzlhhmmzlmllzzzlllmzmllmllzzllzmhlllllllzllzhhlzzzzlllllzhhllllzzllmlzhhzllzzzzllmzhhzllzzzzzlllhhzllzzzzzzlzllzzlzzzzzzzzlmllmllzzzzzlmfzzzzzzzmlhzzzzzzzzzzmzhlmhmmzzzzzzlhmhmzmzzzzzzzmzvhvvmhzzzzzzzmlhlmlmzzzzzzllzzzzzlzzzzzlzzzzlzllzzzzlzllmmzzllzzzlzlllmlzzllzzlzlllmzzzzllzlzlllmzzzzzllzlmmmmzzzzzzllzmmmmzzzzzzzzzzzzzzzzzzzzzzzfzzzzzzzzlzlmzzzzzzzzzmhmvlhmzzzzzzlzmmzhhmzzzzzzlllzzzmlzzzzzzlzzzzzlzzzzzzzlmlllzlzzzzzzlmmlmzzmlzzzzlmmlmlzzllzzzlmmzllzzzllzzlmmzllzzzzllzlmmzllzzzzzllzllzllzzzzzzllmmhhhhhhhhhhvhhmhhhhvvvvvvvhfmmlllllmzmlmmhllllllhlmlzhhmmlzzzzzvlhmzhmmlzzzzhlmmzmhhmlzzzzzhlhvzvmmlzzzzzzzllhmhmlzzzllzmzzzlmmlzzllllllzzllmlzllllmlllzllmlllllmmllzzllmmlllmmllzzzllmmmlmmllzzzzllzmzllzlzzzzzllmlzzzzzzzzzzzzflzzzzzzzlhvhzzmzzzzzzzvvvvzzlzzzzzzzlvvhlzlzzzzzzzlvmmlzlzzzzzzzlhlmlzlzzzzzzllmzzlzlzzzzzzhvzlzzzlzzzzzhvmzzzzzlzzzzhhmzzzzzzlzzzhhmzzzzzzzlzzhhmzzzzzzzzlzmhmzzzzzzzzzlzmhmmlllllllzlzmhmmmmmmmmmzfhvvvvvvvhlzmhvlmllllhhmlzzlmmmmmmmlmhmmmhmmmmmmmmhhvhvhhmmmmmmlhhvvvvhmmmmmmhlmmvvvhmmmmmhhzlmmhmhmmmmhhzmmhmmmmmmmhhzmhhhhmmmmhhhzmhhhhhmmmmhhzmhhhhhmmmmmmlmhhhhhmmmmmmhmhhhhhmmmmmlzzzzzzzzzzzzzzfzzzzzzzlhlvhzzzzzzzzzzhmhhzzzzzzzzzlzhvvlzzzzzzzzzlzvvzzzzzzzzzzzzzlzzzzzzzzzmzzzzzzzzzzzzmllzzzzzzzzzzlzmmzzzzzzzzzlzlmlzzzzzzzzlzllzllzzzzlllzllzllzzzzzzzzzmzllzzzzzzhmmhmhmmmmmmzzhhvhvvhhhhhhhlfmlllllmhzhzhhmmzzzzzzzmlvhhzlzzzzzzzzmmmhzlzzzzzzzmmhhzzlzzzzzzzhmvmhzlzzzzzzllvmmmzlzzzzzzlzlzlzzlzzzzzzzmlzzzzlzzzzzzmhzzzzzlzzzzzhvlzzzzzlzzzzhvlzzzzzzlzzzhvlzzzzzzzmzzvvmzlzzzzzzmzlvmzzzzzzzzzlzlzlzlzlzlzlzlzlzlzlzlzlzlzlzlzlzlzlzlzlzlzlzlzlz\n",
      "------------------------------\n"
     ]
    },
    {
     "name": "stderr",
     "output_type": "stream",
     "text": [
      "Setting `pad_token_id` to `eos_token_id`:2 for open-end generation.\n"
     ]
    },
    {
     "name": "stdout",
     "output_type": "stream",
     "text": [
      "Image 7 / 20\n",
      "Ground Truth Output: Image with 1 shape: 1 checkerboard\n",
      "Model's Output: You will be presented with sequences of characters representing features of images, which could be basic geometric structures or elements similar to MNIST handwritten digits. These sequences are encoded representations of the image's activation maps, derived from the first layer of a convolutional neural network. The character 'f' marks the beginning of a new filter's activation map of the first layer. The characters 'z', 'l', 'm', 'h', and 'v', indicate varying levels of activation: zero, low, medium, high, and very high, respectively. Your task is to understand the patterns in the sequence and to interpret these sequences to determine the number and types of shapes present in the image. The desired output format should be 'output: Image with [number of shapes] shapes: [number of first shape] [name of shape] ... [number of last shape] [name of last shape]', where the description includes the types of shapes, such as corners, edges, ellipses, crossings, checkerboard pattern, horizontals, verticals, etc. Lastly, give also a confidence from 1 to 10 how shure you are. ### Input: fzlzzzzzzzzzzzllllzzzzzzzzzlllllmmmlllzzzzllmlmlmmmllzzzlllhlvmmhzzzzzlllzmzhhmmlzzzlllhzhzlmmlzzzllllhlmzllzzzzlllmzllllmlzzzlllzlzlzlzzzzzlllzzzzzzzzzzzlllzzzzzzzzzzzlzzzzzzzzzzzzzzllzzzzzzzzzzlmfzzzzzzzzzzzzzzzzlllzzzzzzzzlzzzzzzzzzzzzllzzhhvhlzzzzzllzlmzhlhhllzzllzzhhmhlzlzzzllzzmmvhvhhlzzllzzlmlhmllzzzllzzzzzzzzzzzzllzzzzzzzzzzzzllzzzzzzzzzzzzllzzzzzzzzzzzzllzzzzzzzzzzzzzzzzzzzzzzzzzzzzfzzzzzzzzzzzzzzzlllmzmzzzzzlzzzmhmvvmmzzzllzzmhvhvvmmzzllzzlvvvvlmzzzllzzllmmzhlzzzllzlllzzzzzzzzllzzlzzzzzzzzzllzzzlzzzzzzzzllzzzzzzzzzzzzllzzzzzzzzzzzzllzzzzzzzzzzzzlllmhhhhhhhhhhvhmhvvvvvvvvvvvhfmmllllllllllmmllllllllllllmmmmlzzzzmllzzllmllzzlllmlzzllmhhzmzzmmzzzllmlhvzhzmhzzzllmmhlmzmmmlzzllmlmhzvlvmzzzllmlzllzhlmlzzllmlzzzzzzzzzzllmlzzzzzzzzzzllmlzzzzzzzzzzllzzzzzzzzzzzzllzzzzzzzzzzzzzzflzzzzzzzzzzzzzmzzzmmlmzzzzzzlzzlhhvhlzzzzzlzzzhhvhlzzzzzlzzmvhvvzzzzzzlzzzvhvhzzzzzzlzzzvmlmzzzzzzlzzzhllmzzzzzzlzlzmlzllzzzzzlzzzlllzzzzzzzlzzzzzzzzzzzzzlzzzzzzzzzzzzzlzlllllllllllzlzmmmmmmmmmmmzfhvvvvvvvvvvvvvlmhmmmlmllllmmmhhllzzlmmmmmmmhhmzzzzlmmmmmmhvhmllmmmmmmmmmlhlmmmhmmmmmmhmhhvhvhhmmmmmmmhhvvvvmmmmmmmmhhhvhvhmmmmmmmmmmmhmhmmmmmmmmmmmmmmmmmmmmmmmmmmmmmmmmmhmmmmmmmmmmmlzzzzzzzzzzzzzzfzzzzzzzzzzzzzzzzzlzzzzzzzzzzzzmvhvzlzzzzzzzzzvhvvzmzzzzzzzzhmhhhzzzzzzzzzlhhvlhzzzzzzzzzlzvmllzzzzzzzzzzllzzzzzzzzzzzzzlzzzzzzzzzzzzzzzzzzzzzzzzzzzzzzzzzzzzzzzzzzzzzzzzhhmmmmmmmmmmzzhhhhhhhhhhhhhlfmlllllllllllmmmzllmlllzzzzzzlzzmzmzzzzzzzzlzlzmlllzzzzzzlzzzlzvzhzzzzzlzzzzmmhlzzzzzlzzzmmhlzzzzzzlzzlhvvhzzzzzzlzzllhlmzzzzzzlzzzlzllzzzzzzlzzzzzzzzzzzzzlzzzzzzzzzzzzzmzzzzzzzzzzzzzmzzzzzzzzzzzzzlzzzzzzzzzzzzzzzzzzzzzzzzzzzzzzzzzzzzzzzzzzzzzzzzzzzzzzzzzzzzzzzzzzzzzzzzzzzzzzzzzzzzzzzzzzzzzzzzzz\n",
      "------------------------------\n"
     ]
    },
    {
     "name": "stderr",
     "output_type": "stream",
     "text": [
      "Setting `pad_token_id` to `eos_token_id`:2 for open-end generation.\n"
     ]
    },
    {
     "name": "stdout",
     "output_type": "stream",
     "text": [
      "Image 8 / 20\n",
      "Ground Truth Output: Image with 2 shapes: 1 corner, 1 horizontal\n",
      "Model's Output: You will be presented with sequences of characters representing features of images, which could be basic geometric structures or elements similar to MNIST handwritten digits. These sequences are encoded representations of the image's activation maps, derived from the first layer of a convolutional neural network. The character 'f' marks the beginning of a new filter's activation map of the first layer. The characters 'z', 'l', 'm', 'h', and 'v', indicate varying levels of activation: zero, low, medium, high, and very high, respectively. Your task is to understand the patterns in the sequence and to interpret these sequences to determine the number and types of shapes present in the image. The desired output format should be 'output: Image with [number of shapes] shapes: [number of first shape] [name of shape] ... [number of last shape] [name of last shape]', where the description includes the types of shapes, such as corners, edges, ellipses, crossings, checkerboard pattern, horizontals, verticals, etc. Lastly, give also a confidence from 1 to 10 how shure you are. ### Input: fzlzzzzzzzzzzzlllzzzzzzzzzzllllzlllzlmlzzzlllzzzmmmllzzzlllllmmlllmmlzlllzlllmhvhllzlllzmmmmlllzzzllllzzzzllmmmzlllzlzlzzzzzzzlllzzzzzzzzzzzlllzzzzzzzzzzzlllzzzzzzzzzzzlzzzzzzzzzzzzzzllzzzzzzzzzzlmfzzzzzzzzzzzzzzzzzzzzzzzzzzzlzzzlzllzzzzzllzzzzzmhmllzzllzzllmhvvhlzzllzzzzmvhvvvhlllzzllhvvvvvhmllzzzzzzzzzzzzllzzzzzzzzzzzzllzzzzzzzzzzzzllzzzzzzzzzzzzllzzzzzzzzzzzzllzzzzzzzzzzzzzzzzzzzzzzzzzzzzfzzzzzzzzzzzzzzzzzzzzzzzzzzlzzzzzllmhmmzzllzzzlmhlmhlzzllzzzlmvhvvhmlllzzlmmzzzzmmlllzzzlmllzzzzzllzzzzzzzzzzzzllzzzzzllzzzzzllzzzzzzzzzzzzllzzzzzzzzzzzzllzzzzzzzzzzzzlllmhhhhhhhhhhvhmhvvvvvvvvvvvhfmmllllllllllmmllllllllllllmmmlzzlzzlmlzzllmlzlllllzlzzllmlzmhlzlzlmlllmllllmzlmzlzllmllmmhhhmlmzllmlzzllmmmmlmllmlzzzzzzzzzzllmlzzzzzzzzzzllmlzzzzzzzzzzllmlzzzzzzzzzzllzzzzzzzzzzzzllzzzzzzzzzzzzzzflzzzzzzzzzzzzzmzzzzzzzzzzzzzlzzzzzhhlzzzzzlzzzzzhhzzzzzzlzzzzzvvlhmlzzlzzzzlmmllzzzzlzzzlmllmlzzzzlzzzzzzzzllzzzlzzlllzzzzzzzzlzzzzzzzzzzzzzlzzzzzzzzzzzzzlzzzzzzzzzzzzzlzlllllllllllzlzmmmmmmmmmmmzfhvvvvvvvvvvvvvlmllllllllllmmmmmmvvmlmmmmmmmmmmmmzllmmmmmmmmhvhmmmlmmmmmmmmmllmmmmmmmmmmhhvvvvvhhmmmmmhvvvvvvhhmmmmmmmmmmmmmhmmmmmmmmmmmmmmmmmmmmmmmmmmmmmmmmmmmmmmmmmmmmmhmmmmmmmmmmmlzzzzzzzzzzzzzzfzzzzzzzzzzzzzzzzzzzzzzzzzzzzzzzzlhmzzzzzzzzzzzzmvmlzzzzzzzzlmlvvhmzzzzzzzzzzzhhhlzzzzzzzzzzzzmzzzzzzzzzzzzzzzzzzzzzzzzzzzzzzzzzzzzzzzzzzzzzzzzzzzzzzzzzzzzzzzzzzzzzzzzzzhhmmmmmmmmmmzzhhhhhhhhhhhhhlfmlllllllllllmmmzzzzzzzzzzzzzlzzzzzllzzzzzzlzzzllzzzzzzzzlzzzzzzlmlzzzzlzzllzzmlzzzzzlzzzzzlhlmmzzzlzzzzlmlzmlzzzlzzzlmlllzzzzzlzzzzzzzzzzzzzlzzzzzzzzzzzzzlzzzzzzzzzzzzzmzzzzzzzzzzzzzmzzzzzzzzzzzzzlzzzzzzzzzzzzzlzzzzzzzzzzzzzlzzzzzzzzzzzzzlzzzzzzzzzzzzzlzzzzzzzzzzzzzlzzzzzzzzzzzzzlzz\n",
      "------------------------------\n"
     ]
    },
    {
     "name": "stderr",
     "output_type": "stream",
     "text": [
      "Setting `pad_token_id` to `eos_token_id`:2 for open-end generation.\n"
     ]
    },
    {
     "name": "stdout",
     "output_type": "stream",
     "text": [
      "Image 9 / 20\n",
      "Ground Truth Output: Image with 4 shapes: 1 vertical, 1 horizontal, 1 contra diagonal, 1 checkerboard\n",
      "Model's Output: You will be presented with sequences of characters representing features of images, which could be basic geometric structures or elements similar to MNIST handwritten digits. These sequences are encoded representations of the image's activation maps, derived from the first layer of a convolutional neural network. The character 'f' marks the beginning of a new filter's activation map of the first layer. The characters 'z', 'l', 'm', 'h', and 'v', indicate varying levels of activation: zero, low, medium, high, and very high, respectively. Your task is to understand the patterns in the sequence and to interpret these sequences to determine the number and types of shapes present in the image. The desired output format should be 'output: Image with [number of shapes] shapes: [number of first shape] [name of shape] ... [number of last shape] [name of last shape]', where the description includes the types of shapes, such as corners, edges, ellipses, crossings, checkerboard pattern, horizontals, verticals, etc. Lastly, give also a confidence from 1 to 10 how shure you are. ### Input: fzlzzllzzzzzzzlllzzllmmmllzzlllzzllmlmmmhllllzllmlvhhmmlmllzzlzhlhmhhzhllzzhvzhzmllmlllzlllhzhzmmhmllzzllzlllzmhmllzzzzlzmlmzmmllzzzzzzzllmmmllzzzzzzzzllhlllzzzzzzzzzlmlzzzzzzzzzzzzzzllzzzzzzzzzzlmfzzzzzzzzzzzzzzzzzzzzzzzzzzzlzzzzzhhvhlzzllzzzlmhmhzhvzzzzzzzlhvhvlhhmmzzzlmhvvvvvhhmzzzzzllzllllllzzzzzzzzzlmhhmzzzzzzzzzzzhmhzzzzzzzzzzzlhmzzzzzzzzzzzlmmzzzzzzzzzzzzllzzzzzzzzzzzzzzzzzzzzzzzzzzzzfzzzzzzzzzzzzzzzzzzzmhmvhmllzzzzzlmhvhvvmhlzzzzlmvvvvvvvhzzzlmmlmmmhhvmzzzzzmmzzzzlmmzzzzzzzzzzzzhmzzzzzzlzzzzhzmzzzzzzzzlzzlzlzzzzzzzzzzzzzzzzzzzzzzzzzlzlzzzzzzzzzzzzlzlmhhhhhhhhhhvhmhvvvvvvvvvvvhfmmllllllllllmmllllllzzzzmmmmmlzzzlzzlllmmlmlzzhhzmzzllmlmlzlzmhzhzmmhzmlzlhhmmvhlvmlmlzzzhvlhlmhmlmlzzzzzlzhzhhzmlzzzzzzzmmlmmmlzzzzzzzzmmlhmlzzzzzzzzzmllmlzzzzzzzzzzmmzzzzzzzzzzzzllzzzzzzzzzzzzzzflzzzzzzzlzlzzzmzzzzzlhmvhlzzlzzzzzzhhvhlzzlzzzzzhvvvvlzzlzzzzzlvhvvzzhlzzzzzlhmlvmzhlzzzzzzhlzhmlhlzzzllzllzmlzhlzzzzzzlllzzzhlzzzzzzzzzlzlllzzzzzzzzzzlzzlzzzzzzzzzzlzzlzllllllllllmzlzmmmmmmmmmmmzfhvvvvvvvvvvvvvlmllmmlzzzzmmmmmmmmhmzzzzlhmmmmmvvhllzzmllmmmmmzmzmlmhzzmmmmhvvvvvvvmmmmmmmhvvvvvvhmmmmmmmmmmvvhhlmmmmmmmmmmhhvmmmmmmmmmmmhhhvmmmmmmmmmmmhvhmmmmmmmmmmmmhmmhmmmmmmmmmmhmzzzzzzzzzzzzzzfzzzzzzzzzzzzzzzzzzzmhhvzzzzzzzzzzzvhvvzhzzzzzzlmhvvvvlmzzzzzzzmvvvhmvzzzzzzzzzzvvlhlzzzzzzzzzzhlhlzzzzzzzzzzzmhzzzzzzzzzzzzzhzzzzzzzzzzzzzzzzzzzzzzzzzzzzlzzzzzzzzzzzzzzhhmmmmmmmmmmzzhhhhhhhhhhhhhlfmllllllmmmllmmmzzzzlmzhlllzzlzzzzlzmlllzzzlzzzzzllzhlhzzlzzzlzzzmhmzlzlzzzzzzhzvmmzzlzzzzzmmvhhmzllzzzzllmvlhzzllzzzzzzlzlzlzmlzzzzzzzzzlzzmlzzzzzzzzzzzzmlzzzzzzzzzzzzlmzzzzzzzzzzlmzmzzzzzzzzzzzzzlzzzzzzzzzzzzzzzzzzzzzzzzzzzzzzzzzzzzzzzzzzzzzzzzzzzzzzzzzzzzzzzzzzzzzzzzzzzzzzzzzzzzzzzzzzzzzzzzzz\n",
      "------------------------------\n"
     ]
    },
    {
     "name": "stderr",
     "output_type": "stream",
     "text": [
      "Setting `pad_token_id` to `eos_token_id`:2 for open-end generation.\n"
     ]
    },
    {
     "name": "stdout",
     "output_type": "stream",
     "text": [
      "Image 10 / 20\n",
      "Ground Truth Output: Image with 2 shapes: 1 vertical, 1 horizontal\n",
      "Model's Output: You will be presented with sequences of characters representing features of images, which could be basic geometric structures or elements similar to MNIST handwritten digits. These sequences are encoded representations of the image's activation maps, derived from the first layer of a convolutional neural network. The character 'f' marks the beginning of a new filter's activation map of the first layer. The characters 'z', 'l', 'm', 'h', and 'v', indicate varying levels of activation: zero, low, medium, high, and very high, respectively. Your task is to understand the patterns in the sequence and to interpret these sequences to determine the number and types of shapes present in the image. The desired output format should be 'output: Image with [number of shapes] shapes: [number of first shape] [name of shape] ... [number of last shape] [name of last shape]', where the description includes the types of shapes, such as corners, edges, ellipses, crossings, checkerboard pattern, horizontals, verticals, etc. Lastly, give also a confidence from 1 to 10 how shure you are. ### Input: fzlzzzzzzzzzzzlllzzzzzzzzzzllllzzzzzzzzzzzlllzzzzzzzzzzzlllzzzzzzzzzzzlllzzzzzlzzzlzlllllzzmmlhmlzlllzzlmmmhhllzlllzmmllllzzmzllllzzzzlhmhmzlllzlzlzlmzllzlllzzzzzlmzlzzlzzzzzzzzlzlzzzllzzzzzzlzlllmfzzzzzzzzzzzzzzzzzzzzzzzzzzzlzzzzzzzzzzzzllzzzzzzzzzzzzllzzzzzzzzzzzzllzzzzzzzzzzlzllzzlzlllzzzzzllzzzzmvvvvvhmllzzlmhvvvvhhlllzzzzzzzzzzzlllzzzzzzzzlmmlllzzzzzzzlllllllzzzzzzzzzzzzzzzzzzzzzzzzzzzzfzzzzzzzzzzzzzzzzzzzzzzzzzzlzzzzzzzzzzzzzllzzzzzzzzzzzzllzzzzzzzzzzzzllzzzzzzzzzllmllzzzllmhvvhhmllzzlmhmlhmhhmllzzzllllmlzzzllzzzzzzzzzzzzllzzzzzllmzzzlllzzzzzzzlzzzzlllmhhhhhhhhhhvhmhvvvvvvvvvvvhfmmllllllllllmmllllllllllllmmmlzzzzzzzzzzllmlzzzzzzzzzzllmlzzzzzzzzzzllmlzzzzzzzzzlllmlzlzzzzlzllllmlllllzmlzlzllmllmmhhhlzllllmlzzllmhhzmlllmlzzzzzllzllllmlzzzzzmmzlmllzzzzzzzzzzzlllzzzzzzzzzzzzzzflzzzzzzzzzzzzzmzzzzzzzzzzzzzlzzzzzzzzzzzzzlzzzzzzzzzzzzzlzzzzzzzzzzzzzlzzzzzzzzzmmzzlzzzzlmmmhvzzzlzzzlmlzzhvzzzlzzzllllzvvzzzlzzzzzzzzvvzzzlzzlllzzzhhzzzlzzzzzzlzmmzzzlzlllllmllmllzlzmmmmmmmmmlmzfhvvvvvvvvvvvvvlmllllllllllmmmmmmmmmmmmmmmmmmmmmmmmmmmmmmmmmmmmmmmmmmmmmmmmmmmmhmmmmmmmmvvhhhhzmmmmmmmmlzzzlllmmmmmmhhvvvvhmmmmmmmhvvvvvvhhmmmmmmmmmmmhhhmmmmmmmmmmhvhhmmmhmmmmmmmhhvmlzzzzzzzzzzzzzzfzzzzzzzzzzzzzzzzzzzzzzzzzzzzzzzzzzzzzzzzzzzzzzzzzzzzzzzzzzzzzzzzzzzzzzzzzzzzzzlmzzzzzzzlhhhhhvlzzzzzzzzlmmhvllzzzzzzzzzzzvzlzzzzzzzzzzzhzmzzzzzzzzzzzmlzzzzzzzzzzzzzlzzzhhmmmmmmmmhmzzhhhhhhhhhhvhhlfmlllllllllllmmmzzzzzzzzzzzzzlzzzzzzzzzzzzzlzzzzzzzzzzzzzlzzzzzzzzzzzzzlzzzzzzzzzzzzzlzzzzlmmmmzzzzlzzllzzzzzhzzzlzzzzllllmhzzzlzzzzlllllmzzzlzzzlmlllzmzzzlzzzzzzzzlhzzzmzzzzzzzlhhzzzmzzzzzzlllzzzzzzzzzzzzzlzzzzzzzzzzzzzlzzzzzzzzzzzzzlzzzzzzzzzzzzzlzzzzzzzzzzzzzlzzzzzzzzzzzzzlzzzzzzzz\n",
      "------------------------------\n"
     ]
    },
    {
     "name": "stderr",
     "output_type": "stream",
     "text": [
      "Setting `pad_token_id` to `eos_token_id`:2 for open-end generation.\n"
     ]
    },
    {
     "name": "stdout",
     "output_type": "stream",
     "text": [
      "Image 11 / 20\n",
      "Ground Truth Output: Image with 1 shape: 1 vertical\n",
      "Model's Output: You will be presented with sequences of characters representing features of images, which could be basic geometric structures or elements similar to MNIST handwritten digits. These sequences are encoded representations of the image's activation maps, derived from the first layer of a convolutional neural network. The character 'f' marks the beginning of a new filter's activation map of the first layer. The characters 'z', 'l', 'm', 'h', and 'v', indicate varying levels of activation: zero, low, medium, high, and very high, respectively. Your task is to understand the patterns in the sequence and to interpret these sequences to determine the number and types of shapes present in the image. The desired output format should be 'output: Image with [number of shapes] shapes: [number of first shape] [name of shape] ... [number of last shape] [name of last shape]', where the description includes the types of shapes, such as corners, edges, ellipses, crossings, checkerboard pattern, horizontals, verticals, etc. Lastly, give also a confidence from 1 to 10 how shure you are. ### Input: fzlzzzzzlllzzzlllzzzzlmzlzzllllzzzzmlmmzzzlllzzzlmzllzzzlllzzzlmzmlzzzlllzzzzlzlzzzzlllzzzzzzzzzzzlllzzzzzzzzzzzlllzzzzzzzzzzzlllzzzzzzzzzzzlllzzzzzzzzzzzlllzzzzzzzzzzzlzzzzzzzzzzzzzzllzzzzzzzzzzlmfzzzzzzzzzzzzzzzzzzzzllllzzzlzzzzzlzmllzzllzzzzzllmmlzzllzzzzzzzzzzzzllzzzzzzzzzzzzllzzzzzzzzzzzzllzzzzzzzzzzzzllzzzzzzzzzzzzllzzzzzzzzzzzzllzzzzzzzzzzzzllzzzzzzzzzzzzllzzzzzzzzzzzzzzzzzzzzzzzzzzzzfzzzzzzzzzzzzzzzzzzzmllllzzlzzzzzzlzzzlzzllzzzzzlzzzlzzllzzzzzzzzzzzzllzzzzzzzzzzzzllzzzzzzzzzzzzllzzzzzzzzzzzzllzzzzzzzzzzzzllzzzzzzzzzzzzllzzzzzzzzzzzzllzzzzzzzzzzzzlllmhhhhhhhhhhvhmhvvvvvvvvvvvhfmmlllmmzlmllmmlllllmmzllllmmmlzzzmlzlzzzllmlzzzmmzllzzllmlzzzllzzmzzllmlzzzzzlzlzzllmlzzzzzzzzzzllmlzzzzzzzzzzllmlzzzzzzzzzzllmlzzzzzzzzzzllmlzzzzzzzzzzllmlzzzzzzzzzzllzzzzzzzzzzzzllzzzzzzzzzzzzzzflzzzzzzlhzzzzzmzzzzzzhvzzzzzlzzzzzzvvzzzzzlzzzzzzhmzzzzzlzzzzlzllzzzzzlzzzzzlzlzzzzzlzzzzzzzzzzzzzlzzzzzzzzzzzzzlzzzzzzzzzzzzzlzzzzzzzzzzzzzlzzzzzzzzzzzzzlzzzzzzzzzzzzzlzlllllllllllzlzmmmmmmmmmmmzfhvvvvvvhvvvvvvlmlllmmzzlllmmmmmmmmmmmhmmmmmmmmmmhvhhmmmmmmmmmmhvhhmmmmmmmmmmmhmhmmmmmmmmmmmmmmmmmmmmmmmmmmmmmmmmmmmmmmmmmmmmmmmmmmmmmmmmmmmmmmmmmmmmmmmmmmmmmmmmmmmmmmmmmhmmmmmmmmmmmlzzzzzzzzzzzzzzfzzzzzzzhzzzzzzzzzzzzzvzzzzzzzzzzzzzhlmzzzzzzzzzzzzlzzzzzzzzzzzzzzzzzzzzzzzzzzzlzzzzzzzzzzzzzzzzzzzzzzzzzzzzzzzzzzzzzzzzzzzzzzzzzzzzzzzzzzzzzzzzzzzzzzzzzzzzzzzzzzzzzzzzzhhmmmmmmmmmmzzhhhhhhhhhhhhhlfmllllmmhmlllmmmzzzzzzzhzzzzzlzzzzzzzmzzzzzlzzzzzzzhzzzzzlzzzzzzmhzzzzzlzzzzzzlzzzzzzlzzzzzzzzzzzzzlzzzzzzzzzzzzzlzzzzzzzzzzzzzlzzzzzzzzzzzzzlzzzzzzzzzzzzzlzzzzzzzzzzzzzmzzzzzzzzzzzzzmzzzzzzzzzzzzzfzzzzzzzzzzzzzzzzzzzzzzzzzzzzzzzzzzzzzzzzzzzzzzzzzzzzzzzzzzzzzzzzzzzzzzzzzzzzzzzzzzzzzzzzzzzzzzzzzz\n",
      "------------------------------\n"
     ]
    },
    {
     "name": "stderr",
     "output_type": "stream",
     "text": [
      "Setting `pad_token_id` to `eos_token_id`:2 for open-end generation.\n"
     ]
    },
    {
     "name": "stdout",
     "output_type": "stream",
     "text": [
      "Image 12 / 20\n",
      "Ground Truth Output: Image with 1 shape: 1 contra diagonal\n",
      "Model's Output: You will be presented with sequences of characters representing features of images, which could be basic geometric structures or elements similar to MNIST handwritten digits. These sequences are encoded representations of the image's activation maps, derived from the first layer of a convolutional neural network. The character 'f' marks the beginning of a new filter's activation map of the first layer. The characters 'z', 'l', 'm', 'h', and 'v', indicate varying levels of activation: zero, low, medium, high, and very high, respectively. Your task is to understand the patterns in the sequence and to interpret these sequences to determine the number and types of shapes present in the image. The desired output format should be 'output: Image with [number of shapes] shapes: [number of first shape] [name of shape] ... [number of last shape] [name of last shape]', where the description includes the types of shapes, such as corners, edges, ellipses, crossings, checkerboard pattern, horizontals, verticals, etc. Lastly, give also a confidence from 1 to 10 how shure you are. ### Input: fzlzzzzzzzzzzzlllmzllzzzzzzllllzmlllzzzzzzlllllmlllzzzzzlllllzmlllzzzzllllllzmlllzzzlllzlllzmmllzzlllzzlllzllzzzlllzzzllmzllzzlllzzzzllllzzzlllzzzzzzzzzzzlllzzzzzzzzzzzlzzzzzzzzzzzzzzllzzzzzzzzzzlmfzzzzzzzzzzzzzzzzzzzzzzzzzzzlzzzllzlzzzzzllzzlhhlllzzzzllzzzlhmlllzzzllzzzzzhhlllzzllzzzzzzhmmllzllzzzzzzzhmmlzllzzzzzzzzzlzzllzzzzzzzzzzzzllzzzzzzzzzzzzllzzzzzzzzzzzzllzzzzzzzzzzzzzzzzzzzzzzzzzzzzfzzzzzzzzzzzzzzzzzllllzzzzzlzzzlllmllzzzzllzzzlllmllzzzllzzzzzzlmllzzllzzzzzzzlmllzllzzzzzzzzzllzllzzzzzzzzzzlzllzzzzzzzzzzzzllzzzzzzzzzzzzllzzzzzzzzzzzzllzzzzzzzzzzzzlllmhhhhhhhhhhvhmhvvvvvvvvvvvhfmmllllllllllmmllllzlllllllmmmlllzzllzzzzllmllllzzllzzzllmllmzmlzllzzllmlzmmzmlzllzllmlzzmmzmmlzzllmlzzzmmzmmzzllmlzzzzmlzmmzllmlzzzzzzzzlzllmlzzzzzzzzzzllmlzzzzzzzzzzllzzzzzzzzzzzzllzzzzzzzzzzzzzzflzzzzzzzzzzzzzmzzzlmzzzzzzzzlzzzmhzzzzzzzzlzzzmhmzzzzzzzlzzzzmmmzzzzzzlzzlzlmmmzzzzzlzzzlzlmmlzzzzlzzzzlzmllzzzzlzzzzzlzmzzzzzlzzzzzzlzzzzzzlzzzzzzzzzzzzzlzzzzzzzzzzzzzlzlllllllllllzlzmmmmmmmmmmmzfhvvvvvvvvvvvvvlmmmllmlllllmmmmmmmlmmmmmmmmmmhhmllmmmmmmmmmmvhhhlmmmmmmmmmhvvhhlmmmmmmmmmhvvhhmmmmmmmmmmhvhvhmmmmmmmmmmhhhvhmmmmmmmmmmhmmhmmmmmmmmmmmmmmmmmmmmmmmmmmmmmmmmhmmmmmmmmmmmlzzzzzzzzzzzzzzfzzzzzzzzzzzzzzzzzzzzzzzzzzzzzzzmhllzzzzzzzzzzzhhzlzzzzzzzzzzzhhzlzzzzzzzzzzzhhzlzzzzzzzzzzzhmllzzzzzzzzzzzmzzzzzzzzzzzzzlzzzzzzzzzzzzzzlzzzzzzzzzzzzzzzzzzzzzzzzzzzzzzzzhhmmmmmmmmmmzzhhhhhhhhhhhhhlfmlllllllllllmmmzzllzlzzzzzzzlzllzzzzzzzzzzlzzzzzzzzzzzzzlzzzlzzzzzzzzzlzzlzzzzzzzzzzlzzzlzzzzzzzzzlzzzzlzzlzzzzzlzzzzzllzmzzzzlzzzzzzzlzzzzzlzzzzzzzzzzzzzlzzzzzzzzzzzzzmzzzzzzzzzzzzzmzzzzzzzzzzzzzlzzzzzzzzzzzzzzzzzzzzzzzzzzzzzzzzzzzzzzzzzzzzzzzzzzzzzzzzzzzzzzzzzzzzzzzzzzzzzzzzzzzzzzzzzzzzzzzzzz\n",
      "------------------------------\n"
     ]
    },
    {
     "name": "stderr",
     "output_type": "stream",
     "text": [
      "Setting `pad_token_id` to `eos_token_id`:2 for open-end generation.\n"
     ]
    },
    {
     "name": "stdout",
     "output_type": "stream",
     "text": [
      "Image 13 / 20\n",
      "Ground Truth Output: Image with 1 shape: 1 diagonal\n",
      "Model's Output: You will be presented with sequences of characters representing features of images, which could be basic geometric structures or elements similar to MNIST handwritten digits. These sequences are encoded representations of the image's activation maps, derived from the first layer of a convolutional neural network. The character 'f' marks the beginning of a new filter's activation map of the first layer. The characters 'z', 'l', 'm', 'h', and 'v', indicate varying levels of activation: zero, low, medium, high, and very high, respectively. Your task is to understand the patterns in the sequence and to interpret these sequences to determine the number and types of shapes present in the image. The desired output format should be 'output: Image with [number of shapes] shapes: [number of first shape] [name of shape] ... [number of last shape] [name of last shape]', where the description includes the types of shapes, such as corners, edges, ellipses, crossings, checkerboard pattern, horizontals, verticals, etc. Lastly, give also a confidence from 1 to 10 how shure you are. ### Input: fzlzzzzzzzzzzzlllzzzzzzzzzzllllzzzzzzzzzzzlllzzzzzzzzlzzmllzzzzzzzlzzmmllzzzzzzlzzhmlllzzzzzlzzhhzlllzzzzzzlhhzlmllzzzzzzmmllllllzzzzzmmlmlllllzzzzzllllzzlllzzzzzzzzzzzlzzzzzzzzzzzzzzllzzzzzzzzzzlmfzzzzzzzzzzzzzzzzzzzzzzzzzzzlzzzzzzzzzzzzllzzzzzzzzzzlzllzzzzzzzzzllzzlzzzzzzzzlllllmzzzzzzzlllllmmzzzzzzzlmmmmmlzzzzzzzlmmmmllzzzzzzzzzzzzllzzzzzzzzzzzzllzzzzzzzzzzzzllzzzzzzzzzzzzzzzzzzzzzzzzzzzzfzzzzzzzzzzzzzzzzzzzzzzzzzzlzzzzzzzzzzzzzllzzzzzzzzzzzzmmzzzzzzzzzzlmhhzzzzzzzzzlmlhhzzzzzzzzlmmlhzzzzzzzzlllzlzlzzzzzzzzzzlzllzzzzzzzzzzzzllzzzzzzzzzzzzllzzzzzzzzzzzzlllmhhhhhhhhhhvhmhvvvvvvvvvvvhfmmllllllllllmmllllllllllllmmmlzzzzzzzzzzllmlzzzzzzzzzzllmlzzzzzzzzlzmhmlzzzzzzzlllmhmlzzzzzzllllmzmlzzzzzlmlzmlhmlzzzzzmmzmzmmmlzzzzzlzlzlllmlzzzzzzllllllmlzzzzzzzzzzllzzzzzzzzzzzzllzzzzzzzzzzzzzzflzzzzzzzzzzzzzmzzzzzzzzzzzzzlzzzzzzzzzzzzzlzzzzzzzzzzzzzlzzzzzzzzzzmhzlzzzzzzzzzlhhzlzzzzzzzzlhmzzlzzzzzzzzhmzzzlzzzzzzzlmlzzzlzzzzzzzzllzzzlzzzzzzzlzlzzzlzzzzzzzzzzzzzlzlllllllllllzlzmmmmmmmmmmmzfhvvvvvvvvvvvvvlmllllllllllmmmmmmmmmmmmmmmmmmmmmmmmmmhhmmmmmmmmmmmhhllmmmmmmmmmhhllmmmmmmmmmhhlzhhhmmmmmmmmllmhhmmmmmmmmmmhhhmhmmmmmmmmhhhmhmmmmmmmmmmmmhmmmmmmmmmmmmmmmmmhmmmmmmmmmmmlzzzzzzzzzzzzzzfzzzzzzzzzzzzzzzzzzzzzzzzzzzzzzzzzzzzzzzzzzzzzzzzzzzzzmzzzzzzzzzzzzlmzlzzzzzzzzzllzlzzzzzzzzzllzmzzzzzzzzzzzzmlzlzzzzzzzzzllzzzzzzzzzzzzzzlzzzzzzzzzzzzlzzzzzzzzzzzzzzzzzhhmmmmmmmmmmzzhhhhhhhhhhhhhlfmlllllllllllmmmzzzzzzzzzzzzzlzzzzzzzzzzzzzlzzzzzzzzzzzzzlzzzzzzzzzzlzzlzzzzzzzzzzzzllzzzzzzzzzzzhllzzzzzzzzzzvvzlzzzzzzzzzhvzzlzzzzzzzzhhzzzlzzzzzzzzlzzzzlzzzzzzzzzzzzzmzzzzzzzzzzzzzmzzzzzzzzzzzzzlzzzzzzzzzzzzzlzzzzzzzzzzzzzlzzzzzzzzzzzzzlzzzzzzzzzzzzzzzzzzzzzzzzzzzzzzzzzzzzzzzzzzzzzzzzzz\n",
      "------------------------------\n"
     ]
    },
    {
     "name": "stderr",
     "output_type": "stream",
     "text": [
      "Setting `pad_token_id` to `eos_token_id`:2 for open-end generation.\n"
     ]
    },
    {
     "name": "stdout",
     "output_type": "stream",
     "text": [
      "Image 14 / 20\n",
      "Ground Truth Output: Image with 1 shape: 1 ellipse\n",
      "Model's Output: You will be presented with sequences of characters representing features of images, which could be basic geometric structures or elements similar to MNIST handwritten digits. These sequences are encoded representations of the image's activation maps, derived from the first layer of a convolutional neural network. The character 'f' marks the beginning of a new filter's activation map of the first layer. The characters 'z', 'l', 'm', 'h', and 'v', indicate varying levels of activation: zero, low, medium, high, and very high, respectively. Your task is to understand the patterns in the sequence and to interpret these sequences to determine the number and types of shapes present in the image. The desired output format should be 'output: Image with [number of shapes] shapes: [number of first shape] [name of shape] ... [number of last shape] [name of last shape]', where the description includes the types of shapes, such as corners, edges, ellipses, crossings, checkerboard pattern, horizontals, verticals, etc. Lastly, give also a confidence from 1 to 10 how shure you are. ### Input: fzlzzzzzzzzzzzlllzzzzzzzzzzllllzzzzzzzzzzzlllzzzzzzzzzzzlllzzzzzzzzzzzlllzzzzzzzzzzzlmlzzzzzzzzzzzlllzllzzzzzzzzlzlmmzzzzzzzzzlmmlmllvvhlzzzlmhllllhhllzzzllmlzmhmzllzzzlzzzzzzzzlzzzzzllzlllllzlzzlmfzzzzzzzzzzzzzzzzzzzzzzzzzzzlzzzzzzzzzzzzllzzzzzzzzzzzzllzzzzzzzzzzzzllzzzzzzzzzzzzllzlzzzzzzzzzzllzzzzzzzzzzzzlllhhzzzzzzzzzlllmvvlzzzzzzzllllhvvvvvvhzzllzzllmvvvhmzzllzzzzzzzzzzzzzzzzzzzzzzzzzzzzfzzzzzzzzzzzzzzzzzzzzzzzzzzlzzzzzzzzzzzzzllzzzzzzzzzzzzllzzzzzzzzzzzzllzzzzzzzzzzzzllzzllzzzzzzzzllmhmmhlzzzzzzllmmhvvvhmlzzzllllvvhvvvhmzzllzzzzzllmmmzzlllzzzzzzzzzzzlllmhhhmzzlmhhvhmhvvvvvvvhvvvhfmmllllllllllmmllllllllllllmmmlzzzzzzzzzzllmlzzzzzzzzzzllmlzzzzzzzzzzllmlzzzzzzzzzzllmlzllzzzzzzzllmlzzmmzzzzzzllmmzzzmllmlzzllvhlvmzzzlmzzllvvmlhhlllzzzlllhhmhvhlmlzzllzzzzzzzlmmzzllzzzzzzzzzzzzzzflzzzzzzzzzzzzzmzzzzzzzzzzzzzlzzzzzzzzzzzzzlzzzzzzzzzzzzzlzzzzzzzzzzzzzlzzzzzzzzzzzzzlzzllzzzzzzzzzlzvvlzzzzzzzzzzzvvmmmmmlzzzzmzhvzlhvvzzzzzmzzhlzlmzzzzzzmzzmmllmzzzzzzlzmlzzlmmllllzlzmmmmmlmlmmmzfhvvvvvvvvvvvvvlmllllllllllmmmmmmmmmmmmmmmmmmmmmmmmmmmmmmmmmmmmmmmmmmmmmmmmmmmmmmmmmmhhmmmmmmmmmmmmhhlzmmmmmmmmmmmmzzzmmmmmmmmmhvhzzzzzlmmmmmlvvvvhzzmmmmmmlmvvvvvvvhmmmmmllmhvvvvvmmmlzzzzzzzzzzzzzzfzzzzzzzzzzzzzzzzzzzzzzzzzzzzzzzzzzzzzzzzzzzzzzzzzzzzzzzzzzzzzzzzzzzzzzzzzzzzzzzzzzzzlllzzzzzzzzzzzmvvlzzzzzzzzzzzvvvvmzzzzzzzzzzvvvvvvmlzzzzzzzzmmvvmzzzzzzzzzzzlmzzzzzzhmlzlzlmhmmmzzhhhhhhhhhhhhhlfmlllllllllllmmmzzzzzzzzzzzzzlzzzzzzzzzzzzzlzzzzzzzzzzzzzlzzzzzzzzzzzzzlzzzzzzzzzzzzzlzzzzzzzzzzzzzmlmzzzzzzzzzzzmlzlmlmlzzzzzzmzzzzllmzzzzzzmzmlzzzzlzzzzzmzmlzmlhvzzzzzmzllmmmvmzzzzzmzzlmmmmzzzzzzzzzzzzzzzzzzzzzzzzzzzzzzzzzzzzzzzzzzzzzzzzzzzzzzzzzzzzzzzzzzzzzzzzzzzzzzzzzzzzzzzzzzzzzzzzzzzzzzzzzz\n",
      "------------------------------\n"
     ]
    },
    {
     "name": "stderr",
     "output_type": "stream",
     "text": [
      "Setting `pad_token_id` to `eos_token_id`:2 for open-end generation.\n"
     ]
    },
    {
     "name": "stdout",
     "output_type": "stream",
     "text": [
      "Image 15 / 20\n",
      "Ground Truth Output: Image with 2 shapes: 1 horizontal, 1 contra diagonal\n",
      "Model's Output: You will be presented with sequences of characters representing features of images, which could be basic geometric structures or elements similar to MNIST handwritten digits. These sequences are encoded representations of the image's activation maps, derived from the first layer of a convolutional neural network. The character 'f' marks the beginning of a new filter's activation map of the first layer. The characters 'z', 'l', 'm', 'h', and 'v', indicate varying levels of activation: zero, low, medium, high, and very high, respectively. Your task is to understand the patterns in the sequence and to interpret these sequences to determine the number and types of shapes present in the image. The desired output format should be 'output: Image with [number of shapes] shapes: [number of first shape] [name of shape] ... [number of last shape] [name of last shape]', where the description includes the types of shapes, such as corners, edges, ellipses, crossings, checkerboard pattern, horizontals, verticals, etc. Lastly, give also a confidence from 1 to 10 how shure you are. ### Input: fmhmlzzzzzzzzzlhmllzlmmlzzzllzhlllzzzzzzzzlmlmlllzzzzzzzlmmzmlllzzzzzzllmlzmmllzzzzzlllllzllzzzzzzlllllmzllzzzzzlllzllllzzzzzzlllzzzzzzzzzzzlllzzzzzzzzzzzlllzzzzzzzzzzzlzzzzzzzzzzzzzzllzzzzzzzzzzlmfzmmvvvhlzzzzzzmlzzzzzzzzzzzlmmlllzzzzzzzlllmhlllzzzzzzllzzhhlllzzzzzllzzzhmmllzzzzllzzzzhmmlzzzzllzzzzzzlzzzzzllzzzzzzzzzzzzllzzzzzzzzzzzzllzzzzzzzzzzzzllzzzzzzzzzzzzllzzzzzzzzzzzzzzzzzzzzzzzzzzzzfzzzzzzzzzzzzzzlllzzzzzzzzzlzlmmhllzzzzzzllzzzlmllzzzzzllzzzzlmllzzzzllzzzzzzllzzzzllzzzzzzzlzzzzllzzzzzzzzzzzzllzzzzzzzzzzzzllzzzzzzzzzzzzllzzzzzzzzzzzzllzzzzzzzzzzzzlllmhhhhhhhhhhvhmhvvvvvvvvvvvhfmmhhhmllzlllmmmlllmmmlmlllmmlmlzzlzzzzzzllhzmlzllzzzzzllhhzmlzllzzzzlllmmzmmlzzzzzllmlmmzmmzzzzzllmlzmlzmmzzzzllmlzzzzzlzzzzllmlzzzzzzzzzzllmlzzzzzzzzzzllmlzzzzzzzzzzllzzzzzzzzzzzzllzzzzzzzzzzzzzzflzmzzzlzzzzzzzlzzzzzlllzzzzzllhmzzzzzzzzzzzzmmmzzzzzzzzzhzlmmmzzzzzzzzmzzlmmlzzzzzzzlzlzmllzzzzzzzlzzlzmzzzzzzzzlzzzlzzzzzzzzzlzzzzzzzzzzzzzlzzzzzzzzzzzzzlzzzzzzzzzzzzzlzlllllllllllzlzmmmmmmmmmmmzfhhvvvvvvvvvvvvzmmvvvvhmlllmmhhmllmmmhmmmmmhvhhlmmmmmmmmmhvvhhlmmmmmmmmlhvvhhmmmmmmmmmmhvhvhmmmmmmmmmmhhhvhmmmmmmmmmmhmmhmmmmmmmmmmmmmmmmmmmmmmmmmmmmmmmmmmmmmmmmmmmmmmmmmhmmmmmmmmmmmlzzzzzzzzzzzzzzflzzzzzzzzzzzzzmvzzzzzzzzzzzzzhhzlzzzzzzzzzzzhhzlzzzzzzzzzzzhhzlzzzzzzzzzzzhmllzzzzzzzzzzzmzzzzzzzzzzzzzlzzzzzzzzzzzzzzlzzzzzzzzzzzzzzzzzzzzzzzzzzzzzzzzzzzzzzzzzzzzzzzzzhhmmmmmmmmmmzzhhhhhhhhhhhhhlfhllhmhhhllllmmhzmmllmlzzzzzzlzmlllzzzzzzzzlzzzzzzzzzzzzzhzzzzzzzzzzzzzmzzzzzzzzzzzzzlzlzzlzzzzzzzzlzzllzmzzzzzzzlzzzzlzzzzzzzzlzzzzzzzzzzzzzlzzzzzzzzzzzzzlzzzzzzzzzzzzzmzzzzzzzzzzzzzmzzzzzzzzzzzzzlzzzzzzzzzzzzzlzzzzzzzzzzzzzlzzzzzzzzzzzzzlzzzzzzzzzzzzzlzzzzzzzzzzzzzlzzzzzzzzzzzzzlzz\n",
      "------------------------------\n"
     ]
    },
    {
     "name": "stderr",
     "output_type": "stream",
     "text": [
      "Setting `pad_token_id` to `eos_token_id`:2 for open-end generation.\n"
     ]
    },
    {
     "name": "stdout",
     "output_type": "stream",
     "text": [
      "Image 16 / 20\n",
      "Ground Truth Output: Image with 1 shape: 1 vertical\n",
      "Model's Output: You will be presented with sequences of characters representing features of images, which could be basic geometric structures or elements similar to MNIST handwritten digits. These sequences are encoded representations of the image's activation maps, derived from the first layer of a convolutional neural network. The character 'f' marks the beginning of a new filter's activation map of the first layer. The characters 'z', 'l', 'm', 'h', and 'v', indicate varying levels of activation: zero, low, medium, high, and very high, respectively. Your task is to understand the patterns in the sequence and to interpret these sequences to determine the number and types of shapes present in the image. The desired output format should be 'output: Image with [number of shapes] shapes: [number of first shape] [name of shape] ... [number of last shape] [name of last shape]', where the description includes the types of shapes, such as corners, edges, ellipses, crossings, checkerboard pattern, horizontals, verticals, etc. Lastly, give also a confidence from 1 to 10 how shure you are. ### Input: fzlzlzzzlzzzzzlllzzzlllzzzzllllzzlmzlzzzzzlllzllllmzzzzzlllzzhlhlzzzzzlllzlmzllzzzzzlllzlmzmlzzzzzlllzzlzlzzzzzzlllzzzzzzzzzzzlllzzzzzzzzzzzlllzzzzzzzzzzzlllzzzzzzzzzzzlzzzzzzzzzzzzzzllzzzzzzzzzzlmfzzzzzzzzzzzzzzzzzzzzzzzzzzzlzzzzllllzzzzllzzzllzlzzzzzllzzzzlmllzzzzllzzzllmmlzzzzllzzzzzzzzzzzzllzzzzzzzzzzzzllzzzzzzzzzzzzllzzzzzzzzzzzzllzzzzzzzzzzzzllzzzzzzzzzzzzllzzzzzzzzzzzzzzzzzzzzzzzzzzzzfzzzzzzzzzzzzzzzzzllzlmzzzzlzzzzmlllmzzzzllzzzmzzzzzzzzllzzzmzzzlzzzzllzzzlzzzlzzzzllzzzzzzzzzzzzllzzzzzzzzzzzzllzzzzzzzzzzzzllzzzzzzzzzzzzllzzzzzzzzzzzzllzzzzzzzzzzzzlllmhhhhhhhhhhvhmhvvvvvvvvvvvhfmmllllmmllllmmlllmlzzmllllmmmlzmlzlzzzzzllmlzmlzllzzzzllmlzmlzllzzzzllmlzmmzllzzzzllmlzllzzmzzzzllmlzzzlzlzzzzllmlzzzzzzzzzzllmlzzzzzzzzzzllmlzzzzzzzzzzllmlzzzzzzzzzzllzzzzzzzzzzzzllzzzzzzzzzzzzzzflzzzzzllzzzzzzmzzzzmvlzzzzzzlzzzzhvzzzzzzzlzzzzvvzzzzzzzlzzzzvvzzzzzzzlzzzzhmzzzzzzzlzzlzllzzzzzzzlzzzlzlzzzzzzzlzzzzzzzzzzzzzlzzzzzzzzzzzzzlzzzzzzzzzzzzzlzzzzzzzzzzzzzlzlllllllllllzlzmmmmmmmmmmmzfhvvvvvvvvvvvvvlmlmmzllllllmmmmmmhllmmmmmmmmmmhhmmhmmmmmmmmmmmhmhmmmmmmmmmmhvhhmmmmmmmmmmhvhhmmmmmmmmmmmhmhmmmmmmmmmmmmmmmmmmmmmmmmmmmmmmmmmmmmmmmmmmmmmmmmmmmmmmmmmmmmmmmhmmmmmmmmmmmlzzzzzzzzzzzzzzfzzzzzlzzzzzzzzzzzzlvzzzzzzzzzzzzzvzlzzzzzzzzzzzvzlzzzzzzzzzzzmllzzzzzzzzzzzzlzzzzzzzzzzzzzzzzzzzzzzzzzzzlzzzzzzzzzzzzzzzzzzzzzzzzzzzzzzzzzzzzzzzzzzzzzzzzzzzzzzzzzzzzzzzhhmmmmmmmmmmzzhhhhhhhhhhhhhlfmlllmmmmllllmmmzzzzmlzzzzzzzlzzzzzmzzzzzzzlzzzzzhzzzzzzzlzzzzzmzzzzzzzlzzzzzhzzzzzzzlzzzzmhzzzzzzzlzzzzlzzzzzzzzlzzzzzzzzzzzzzlzzzzzzzzzzzzzlzzzzzzzzzzzzzlzzzzzzzzzzzzzmzzzzzzzzzzzzzmzzzzzzzzzzzzzlzzzzzzzzzzzzzlzzzzzzzzzzzzzlzzzzzzzzzzzzzlzzzzzzzzzzzzzlzzzzzzzzzzzzzlzzzzzzzzzzzzzlzz\n",
      "------------------------------\n"
     ]
    },
    {
     "name": "stderr",
     "output_type": "stream",
     "text": [
      "Setting `pad_token_id` to `eos_token_id`:2 for open-end generation.\n"
     ]
    },
    {
     "name": "stdout",
     "output_type": "stream",
     "text": [
      "Image 17 / 20\n",
      "Ground Truth Output: Image with 1 shape: 1 corner\n",
      "Model's Output: You will be presented with sequences of characters representing features of images, which could be basic geometric structures or elements similar to MNIST handwritten digits. These sequences are encoded representations of the image's activation maps, derived from the first layer of a convolutional neural network. The character 'f' marks the beginning of a new filter's activation map of the first layer. The characters 'z', 'l', 'm', 'h', and 'v', indicate varying levels of activation: zero, low, medium, high, and very high, respectively. Your task is to understand the patterns in the sequence and to interpret these sequences to determine the number and types of shapes present in the image. The desired output format should be 'output: Image with [number of shapes] shapes: [number of first shape] [name of shape] ... [number of last shape] [name of last shape]', where the description includes the types of shapes, such as corners, edges, ellipses, crossings, checkerboard pattern, horizontals, verticals, etc. Lastly, give also a confidence from 1 to 10 how shure you are. ### Input: fzlzzzzzzzzzzzlllzzzzzzzzzzllllzzzzzzzzzzzlllzzzzzzzzzzzlllzzzzzzzzzzzlllzzzzzzzzzzzlllzzzlzzzzzzzlllzzzlzlllzzzlllzzlzlhhmzzzlllzzzzvhlmzzzlllzzmhmzzlzzzlllzzlzlzhlzzzlzzzzzzzzzzzzzzllzzzzzzzzzzlmfzzzzzzzzzzzzzzzzzzzzzzzzzzzlzzzzzzzzzzzzllzzzzzzzzzzzzllzzzzzzzzzzzzllzzzzzzzzzzzzllzzzzzzzzlzzzllzzzzzzzzzzzzllzzzzlzlzzlzzllzzzzzmhvvmzzllzzzzlhhhhlzzllzzzzzzzzzzzzllzzzzzzzzzzzzzzzzzzzzzzzzzzzzfzzzzzzzzzzzzzzzzzzzzzzzzzzlzzzzzzzzzzzzzllzzzzzzzzzzzzllzzzzzzzzzzzzllzzzzzzzzzzzzllzzzzzzzzzzzzllzzzzzllllmzzllzzzzzmmmhmzzllzzzzmvlmhlzzllzzzzzlzzzzzzllzzzzzzzzzzzzlllmhhhhhhhhhhvhmhvvvvvvvvvvvhfmmllllllllllmmllllllllllllmmmlzzzzzzzzzzllmlzzzzzzzzzzllmlzzzzzzzzzzllmlzzzzzzzzzzllmlzzzzzzzlzzllmlzzzllzzlzzllmlzzllzzmlzzllmlzzlmlzmzzzllmlzzmhmlzlzzllmlzzzzllllzzllzzzzzzzzzzzzllzzzzzzzzzzzzzzflzzzzzzzzzzzzzmzzzzzzzzzzzzzlzzzzzzzzzzzzzlzzzzzzzzzzzzzlzzzzzzzzzzzzzlzzzzzzzzzzzzzlzzzzzzzllzzzzlzzzzzzlhmzzzzlzzzzzmvvzzzzzlzzzzzmvmzzzzzlzzzzllhlzzzzzlzzzzzlzlzzzzzlzlllmmllllllzlzmmmmmmmmmmmzfhvvvvvvvvvvvvvlmllllllllllmmmmmmmmmmmmmmmmmmmmmmmmmmmmmmmmmmmmmmmmmmmmmmmmmmmmmmmmmmmmmmmmhmmmmmmmmmmmmmhllmmmmmmmmmhvhzmlmmmmmmmmmlmhhhmmmmmmmmmhvvhvmmmmmmmmmhhvhhmmmmmhmmmmmhmhmmmlzzzzzzzzzzzzzzfzzzzzzzzzzzzzzzzzzzzzzzzzzzzzzzzzzzzzzzzzzzzzzzzzzzzzzzzzzzzzzzzzzzzzzzzzzzzzzzzzzzzzzzzzzzlzzzzzzzzzzzzlhzzzzzzzzzzllmhzlzzzzzzzzzzzvmlzzzzzzzzzzllzzzzzzzzzzzzzzlzzzzzhhmmmmmmmmmmzzhhhhhhhhhhhhhlfmlllllllllllmmmzzzzzzzzzzzzzlzzzzzzzzzzzzzlzzzzzzzzzzzzzlzzzzzzzzzzzzzlzzzzzzzzzzzzzlzzzzzzzzzzzzzlzzzzzzlzzzzzzlzzzzzzmlzzzzzlzzzlzzzhzzzzzlzzzzzzvvzzzzzlzzzzzmhmzzzzzmzzzlmhlzlzzzzmzzzzzzzzzzzzzlzzzzzzzzzzzzzlzzzzzzzzzzzzzlzzzzzzzzzzzzzlzzzzzzzzzzzzzlzzzzzzzzzzzzzlzzzzzzzzzzzzzlzz\n",
      "------------------------------\n"
     ]
    },
    {
     "name": "stderr",
     "output_type": "stream",
     "text": [
      "Setting `pad_token_id` to `eos_token_id`:2 for open-end generation.\n"
     ]
    },
    {
     "name": "stdout",
     "output_type": "stream",
     "text": [
      "Image 18 / 20\n",
      "Ground Truth Output: Image with 2 shapes: 1 corner, 1 horizontal\n",
      "Model's Output: You will be presented with sequences of characters representing features of images, which could be basic geometric structures or elements similar to MNIST handwritten digits. These sequences are encoded representations of the image's activation maps, derived from the first layer of a convolutional neural network. The character 'f' marks the beginning of a new filter's activation map of the first layer. The characters 'z', 'l', 'm', 'h', and 'v', indicate varying levels of activation: zero, low, medium, high, and very high, respectively. Your task is to understand the patterns in the sequence and to interpret these sequences to determine the number and types of shapes present in the image. The desired output format should be 'output: Image with [number of shapes] shapes: [number of first shape] [name of shape] ... [number of last shape] [name of last shape]', where the description includes the types of shapes, such as corners, edges, ellipses, crossings, checkerboard pattern, horizontals, verticals, etc. Lastly, give also a confidence from 1 to 10 how shure you are. ### Input: fzlzzzzzzzzzzzlllzzzzzzzzzzllmlzzzzzzzzzzzlzlmmmlzzzzzzzlllmmllzzzzzzzlmhllmmzzmmmlzllmlzlllmhhllzllllzlhmllzzzzlllzzlzzzlmmmzlllzzzlzlzzzzzlllzzzzzzzzzzzlllzzzzzzzzzzzlzzzzzzzzzzzzzzllzzzzzzzzzzlmfzzzzzzzzzzzzzzzzzzzzzzzzzzzlzzlzzzzzzzzzllzzzzzzzzzzzzlllmhvhmzzzzzzllzzlmlmlllzzzllzzzzzzmvvvhlllzzzzzmhvvvhmllzzzzzzzzzzzzllzzzzzzzzzzzzllzzzzzzzzzzzzllzzzzzzzzzzzzllzzzzzzzzzzzzzzzzzzzzzzzzzzzzfzzzzzzzzzzzzzzzzzzzzzzzzzzlzzllllzzzzzzzllmhmmhmzzzzzzllzlmmhlzzzzzzllzlzzzllmhhmlllzzzzzlhmlmmlllzzzzlzllllzzllzzzzzzzzzzzzllzzzzzzzlzzzzllzzzzzzzzzzzzllzzzzzzzzzzzzlllmhhhhhhhhhhvhmhvvvvvvvvvvvhfmmllllllllllmmllllllllllllmmmlzzmlzzzzzzllmmlzzlzzzzzzllmmmzlzzzzzzzllvhzlmmzzzlmlllmhmzmhllzzlzllmlzlmhmhmlmzllmlzzzzllmmlmllmlzzzzzzzzzzllmlzzzzzzzzzzllmlzzzzzzzzzzllzzzzzzzzzzzzllzzzzzzzzzzzzzzflzzzzzzzzzzzzzmzzzzzzzzzzzzzlzzmmlzzzzzzzzlzmhhzzzzzzzzzlzmhhzzzzzzzzzmzlmmzzlmhmlzzmzzmlzlmmlzzzzlzlzlzllllzzzzlzzzzzzzzllzzzlzzzzlllzzzzzzlzzzzzzzzzzzzzlzzzzzzzzzzzzzlzlllllllllllzlzmmmmmmmmmmmzfhvvvvvvvvvvvvvlmllllllllllmmhvhmmmmmmmmmmmmmmzlmmmmmmmmmmhmlmmmmmmmmmmmhvvvvvhmlmmmmlmhhhvlzzmmmmmmmmhmhhvvvhhmmmmmmmhvvvvhhmmmmmmmmmmmmmhmmmmmmmmmmmmmmmmmmmmmmmmmmmmmmmhmmmmmmmmmmmlzzzzzzzzzzzzzzfzzzzzzzzzzzzzzzzzzzzzzzzzzzzlmlzzzzzzzzzzzzhhvlzzzzzzzzzzzlvllzzzzzzzzzzzmzlhhvmzzzzzzzzzzzlmhlzzzzzzzlzzzllzzzzzzzzzzzzzzzzzzzzzzzzzzzzzzzzzzzzzzzzzzzzzzzzzzzzzzzzzzzzhhmmmmmmmmmmzzhhhhhhhhhhhhhlfmlllllllllllmmmzzzzzzzzzzzzzlzzlzzzzzzzzzzmlzzzzzzzzzzzzmzzzzzzzzzzzzzmzzzmzzlmlzzzzmzllmzlzzzzzzzlzzlzzzllmmzzzlzzzzzzlzmlzzzlzzzzzlmlzzzzzlzzzzzzzzzzzzzlzzzzzzzzzzzzzmzzzzzzzzzzzzzmzzzzzzzzzzzzzlzzzzzzzzzzzzzlzzzzzzzzzzzzzlzzzzzzzzzzzzzlzzzzzzzzzzzzzlzzzzzzzzzzzzzlzzzzzzzzzzzzzlzz\n",
      "------------------------------\n"
     ]
    },
    {
     "name": "stderr",
     "output_type": "stream",
     "text": [
      "Setting `pad_token_id` to `eos_token_id`:2 for open-end generation.\n"
     ]
    },
    {
     "name": "stdout",
     "output_type": "stream",
     "text": [
      "Image 19 / 20\n",
      "Ground Truth Output: Image with 3 shapes: 1 vertical, 1 horizontal, 1 diagonal\n",
      "Model's Output: You will be presented with sequences of characters representing features of images, which could be basic geometric structures or elements similar to MNIST handwritten digits. These sequences are encoded representations of the image's activation maps, derived from the first layer of a convolutional neural network. The character 'f' marks the beginning of a new filter's activation map of the first layer. The characters 'z', 'l', 'm', 'h', and 'v', indicate varying levels of activation: zero, low, medium, high, and very high, respectively. Your task is to understand the patterns in the sequence and to interpret these sequences to determine the number and types of shapes present in the image. The desired output format should be 'output: Image with [number of shapes] shapes: [number of first shape] [name of shape] ... [number of last shape] [name of last shape]', where the description includes the types of shapes, such as corners, edges, ellipses, crossings, checkerboard pattern, horizontals, verticals, etc. Lastly, give also a confidence from 1 to 10 how shure you are. ### Input: fzlzllzzmmhmlmlllzzzlmmmhmlmmllzzmmmzlzlmllllzlzzlzzvvmllllzzlllzhvzlllllzzllzmhmllllllzzzzlvmlmzllllzzzmmlmmzzzlllzzzmlmmlzzzlllzzllmmmzlzzlllzzzzlllzzzzlllzzzzzzzzzzzlzzzzzzzzzzzzzzllzzzzzzzzzzlmfzzzzzzzzzzzzzzzzzzzmhvvvhhllzzzlmhvvvvvhmhzzzzzzzzzzzlmlzzzzzzllhmmmzlzzzzzlllmmmzllzzzzllmmlmzzllzzzzlmhhmzlzllzzzzzzllllzzllzzzzzzlzlzzzllzzzzzzzzzzzzllzzzzzzzzzzzzllzzzzzzzzzzzzzzzzzzzzzzzzzzzzfzzzzzzzzzlzzzzzzzzmmlllmvvmmzzzzllmlmmhzhmzzzzzzzzllzzlzzzzzzzmmhlllllzzzzzlmmlmmzllzzzzllhzmzzzllzzzzzzmllzzzllzzzzzzzzzzzzllzzzzzzzzzzzzllzzzzzzzzzzzzllzzzzzzzzzzzzlllmhhhhhhhhhhvhmhvvvvvvvvvvvhfmmlllzzzzllmhmllllmlmlllllhhmlzlmmmhmlmhmmmlzzzllmmhvhhmmlzzzzllmhmmmhmlzzzlhlzhmlmmmlzzllmlzmllllmlzzzmmzllmzllmlzzllmllmzzllmlzzzzmzzmlzllmlzzzzzlzzlzllmlzzzzzzzzzzllzzzzzzzzzzzzllzzzzzzzzzzzzzzflzzzzzlmmmmlzzmzzzzlmlzzlmhzlzzzzlllmmhhzzlzzzzzzzmhhlzzlzzzllzzvvzzzzlzzzzzzhvvzzzzlzzzzzzmvhzzzzlzzzzzzmvlzzzzlzzzzzzlmmzzzzlzzzzlllmlzzzzlzzzzzzlzlzzzzlzzzzzzzzzzzzzlzlllllllllllzlzmmmmmmmmmmmzfhvvvvvvvvvvvvvlmlmlzzzzzzzlmmmmmhhvvvvhmmhmmmmhvvvvmvvhhmmmmmmhmzmmhhhmmmmmhhllvhhhhmmmmmmmmmmhhmmmmmmmmmhhmhhmmmmmmmmhvhhhmmmmmmmmmmvhhhmmmmmmmmmmhmmhmmmmmmmmmmmmmmmmmmhmmmmmmmmmmmlzzzzzzzzzzzzzzfzzzzzmmhmmllzzzzzzzzlmmhvmzzzzzzzzzmzlllmzzzzzzzmvhmlhzzzzzzzzzhmllzzzzzzzzzlhmmzlzzzzzzzzzvhzllzzzzzzzzzvlmlzzzzzzzzzzzmzzzzzzzzzzzzzzzzzzzzzzzzzzzzlzzzzzzzzzzzzzzzzzzhhmmmmmmmmmmzzhhhhhhhhhhhhhlfmlllmmhhhhhhmmmzzzllzzzzzmzzlzzzzzzmmhmzmzlzzzzzmhlmlmhzlzzzzlmmzlhvlzlzzzzzzzzhvlzzlzzzzzzzvvlzzzlzzzzzzmvmzzzzlzzzzzzmmlzzzzlzzzzzzlhzzzzzlzzzzzzzlzzzzzlzzzzzzzzzzzzzmzzzzzzzzzzzzzmzzzzzzzzzzzzzlzzzzzzzzzzzzzzzzzzzzzzzzzzzzzzzzzzzzzzzzzzzzzzzzzzzzzzzzzzzzzzzzzzzzzzzzzzzzzzzzzzzzzzzzzzzzzzzzzz\n",
      "------------------------------\n",
      "Image 20 / 20\n",
      "Ground Truth Output: Image with 1 shape: 1 diagonal\n",
      "Model's Output: You will be presented with sequences of characters representing features of images, which could be basic geometric structures or elements similar to MNIST handwritten digits. These sequences are encoded representations of the image's activation maps, derived from the first layer of a convolutional neural network. The character 'f' marks the beginning of a new filter's activation map of the first layer. The characters 'z', 'l', 'm', 'h', and 'v', indicate varying levels of activation: zero, low, medium, high, and very high, respectively. Your task is to understand the patterns in the sequence and to interpret these sequences to determine the number and types of shapes present in the image. The desired output format should be 'output: Image with [number of shapes] shapes: [number of first shape] [name of shape] ... [number of last shape] [name of last shape]', where the description includes the types of shapes, such as corners, edges, ellipses, crossings, checkerboard pattern, horizontals, verticals, etc. Lastly, give also a confidence from 1 to 10 how shure you are. ### Input: fzlzzzzzzzzzzzlllzzzzzzzzzzllllzzzzzzzzzzzlllzzzzzzzzzzzlllzzzzzzzzzzzlllzzzzzzzzzzzlllzzzzzzzlzzlmllzzzzzzlzzmllllzzzzzlzzhmzlllzzzzlzzhhzlmllzzzlzzhhzlllllzzlzzhhzllllzzzzzzmmzlzzzzllzzlmmllllzlmfzzzzzzzzzzzzzzzzzzzzzzzzzzzlzzzzzzzzzzzzllzzzzzzzzzzzzllzzzzzzzzzzzzllzzzzzzzzzzzzllzzzzzzzzzlzzlzzzzzzzzzllzzlmzzzzzzzlllllmhzzzzzzlllllmllzzzzzlllllmmllzzzzllzllmmzllzzzzzlmmmmzzzzzzzzzzzzzzzzzzfzzzzzzzzzzzzzzzzzzzzzzzzzzlzzzzzzzzzzzzzllzzzzzzzzzzzzllzzzzzzzzzzzzllzzzzzzzzzzzzllzzzzzzzzzzzlmmzzzzzzzzzlmmhmzzzzzzzzlmlmhlzzzzzzzlmmllzzzzzzzzlmmllzllzzzzzlmmllzzlllmhhhhhhvlhhvhmhvvvvvvhhvvvhfmmllllllllllmmllllllllllllmmmlzzzzzzzzzzllmlzzzzzzzzzzllmlzzzzzzzzzzllmlzzzzzzzzzzllmlzzzzzzzzzzmmmlzzzzzzzlzlmlmlzzzzzzllllmlmlzzzzzllllmlmmlzzzzllllmzmmmlzzzllllmzlllzzzzzllzlzlzllzzzzzlzlzzzzzzflzzzzzzzzzzzzzmzzzzzzzzzzzzzlzzzzzzzzzzzzzlzzzzzzzzzzzzzlzzzzzzzzzzzzzlzzzzzzzzzzzzzlzzzzzzzzzzmlzlzzzzzzzzzmvhzlzzzzzzzzlhvzzlzzzzzzzlhmzzzlzzzzzzlhmzzzzlzzzzzzhmzzzzzlzlllzhhmlmllzlzmmmmhhmmlmmzfhvvvvvvvvvvvvvlmllllllllllmmmmmmmmmmmmmmmmmmmmmmmmmmmmmmmmmmmmmmmmmmmmmmmmmmmmmmmmmmmmmmmmmmmhhmmmmmmmmmmmhhllmmmmmmmmmhhllmmhmmmmmmhhlzhhhhmmmmmhhlzhhhmhmmmmmhlzhhhmhmmhmmmhmhhhhhmlzzzzzzzzzzzzzzfzzzzzzzzzzzzzzzzzzzzzzzzzzzzzzzzzzzzzzzzzzzzzzzzzzzzzzzzzzzzzzzzzzzzzzzzzzzzzzzzzzzzzzzzzzzzzzmlzzzzzzzzzzzlmlzzzzzzzzzzllzmzzzzzzzzzllzmlzzzzzzzzllzllzzzzzzzzzlzllzlzzhhmmmlmhmmhmzzhhhhhmvvvvhhhlfmlllllllllllmmmzzzzzzzzzzzzzlzzzzzzzzzzzzzlzzzzzzzzzzzzzlzzzzzzzzzzzzzlzzzzzzzzzzzzzlzzzzzzzzzzzzzlzzzzzzzzzlzzzlzzzzzzzzzzzmzlzzzzzzzzzzhmzlzzzzzzzzzvvzzlzzzzzzzzvvzzzmzzzzlzzvvzlzzmzzzzzzvvzzzzzlvvvvvvvvvvvvvvvvvvvvvvvvvvvvvvvvvvvvvvvvvvvvvvvvvvvvvvvvvvvvvvvvvvvvvvvvvvvvvvvvvvvvvvvvvvvvvvvvvvv\n",
      "------------------------------\n"
     ]
    }
   ],
   "source": [
    "num_images = 20  # Set the number of images \n",
    "generated_descriptions = []  # Store generated descriptions\n",
    "#ft_model.to('cuda')\n",
    "ft_model.eval()\n",
    "\n",
    "# Loop over the number of images\n",
    "for i in range(num_images):\n",
    "    # Generate synthetic data for the current image\n",
    "    data = create_data_dict(targetCNN, num_images=1)\n",
    "    jsonl_data = generate_jsonl_data(data)\n",
    "    specific_entry = jsonl_data[0]  # Get the entry for the current image\n",
    "    prompt = f\"\"\"You will be presented with sequences of characters representing features of images, which could be basic geometric structures or elements similar to MNIST handwritten digits. These sequences are encoded representations of the image's activation maps, derived from the first layer of a convolutional neural network. The character 'f' marks the beginning of a new filter's activation map of the first layer. The characters 'z', 'l', 'm', 'h', and 'v', indicate varying levels of activation: zero, low, medium, high, and very high, respectively. Your task is to understand the patterns in the sequence and to interpret these sequences to determine the number and types of shapes present in the image. The desired output format should be 'output: Image with [number of shapes] shapes: [number of first shape] [name of shape] ... [number of last shape] [name of last shape]', where the description includes the types of shapes, such as corners, edges, ellipses, crossings, checkerboard pattern, horizontals, verticals, etc. Lastly, give also a confidence from 1 to 10 how shure you are. ### Input: \"\"\"\n",
    "    # Prepare the input for the language model\n",
    "    modified_input = prompt + specific_entry['input']  \n",
    "    model_input = tokenizer(modified_input, return_tensors=\"pt\").to(\"cuda\")\n",
    "\n",
    "    # Generate the description using the language model\n",
    "    with torch.no_grad():\n",
    "        generated_output = tokenizer.decode(ft_model.generate(**model_input, max_new_tokens=50, repetition_penalty=1.15)[0], skip_special_tokens=True)\n",
    "        generated_descriptions.append(generated_output)\n",
    "\n",
    "    # Display Ground Truth and Model's Output\n",
    "    print(f\"Image {i+1} / {num_images}\")\n",
    "    print(\"Ground Truth Output:\", specific_entry['output'])\n",
    "    print(\"Model's Output:\", generated_output)\n",
    "    print(\"-\" * 30)\n",
    " "
   ]
  },
  {
   "cell_type": "code",
   "execution_count": 14,
   "id": "913de248-a591-407d-b545-8a5d04424b91",
   "metadata": {},
   "outputs": [
    {
     "name": "stdout",
     "output_type": "stream",
     "text": [
      "{'input': 'fzzzzzzzzzzzzzzzzzllzzzzzzzzzzzllzzlhmlllzzzllzlmmmmllllzzlzlmhllzlllzzzzlmmzzzlmmlzzzzmlzllhhllllzzlllllmhlzllzzzllllllzzllzzzzzllzzllllllzzzzzllllzlllzzzzzzzzzlllllzzzzzzzzzlmzzlzzzzzzzzllllllzzzfzzzzzzzzzzzzzzzzzzllllzzzzzzzzllllzzzzzzzzzzllzmhvvhlzzzzlllmhvvhhmllzzzlllllzzzlllzzllllzzzzlllzzzllmhvvvhmlzzzzlllmhhhmlzzzzzzllzzlzllllzzzzzlllllllllzzzzzzzllllllzzzzzzzzzlmmllzzzzzzzzlllllzzzzfllllllllllllllllllllllllllllllllmhhhhmmllllllmhhmmmmmmllllmmmmhmmmlmllllmlmmzmzzllllllmlmmhvlmmzllllllllmmmmlzlllllzzzmlzzzzllllllzzzzzzllllllllllmlzlllllllllllmlzlzlllllllllmzzzzllllllllllzzzzlllfzzzzzzzzzzzzzzzzzzzzzzzllzzzzzzzzzlzzlllzzzzzzzzllzzzllzzlzllmmlzzmzzzzlmlzzlmmzmlzzzlmzlzzlzllllzzllzzmmlzzllzzzlmmzhhlzlmlzzzzllzzmmzmmlzzzzzzzzllzlmzzzzzzzzzllzlllzzzzzzzzlllllzzzzzzzzllzzllzzzfzzzzzzzzzzzzzzzzzzzzlllllzzzzzzzzmhmmmlzzzzzzzmhhzlmmlzzzzzzvvzzzhvzzzzzzlvhzzhvvzzzzzzlvmzmhvlzzzzlzlhmzzhvzzzzzlzzmmzzvvzzzzzzlzzzzzvvzzzzzzzlllzzvvzzzzzzzzzzzzvvzzzzzzzzzzzlhmzzzzzzzzzlzlmlzzzzfzzzzzzzzzzzzzzzzzzllllzzzzzzzzllmlzzzzllzzzlllzzzzzzzzzzzllzzlhvhzzzzzzllzzlhhlzlmzzzzlzzzzzzzzmlzzzllzzzzzzlllzzzlmhhvhlzzlzzzzzllmhmzzllzzzzzzzlzzzzlzzzzzzzzzzzzzllzzzzzzzzzlmlllzzzzzzzzzmmllzzzflllllllllllllllllllmmllllllllllmhhmvvmlllllllmmlmhvvlmlllllllmlzhhlllllllhhmlllmmlllllzvvvhmhmllllllzlmmmhvlllllllzzzzzmhlmllllllzzzzmhlmlllllllzlzmhlllllllllllzmmlllllllllllzlmlllllllllllzzllllllfzzzzzzzzzzzzzzzzzzzlllllzzzzzzzllllmmlllzzzzllmmzzzllzzzzzllzzmmmmllzzzzllzvhmmlmllzzzlzvvmmlhhzzzzzzzhlzzzvhzzzzzzlmllmmvlzzzzlzlllmmlmzzzzzzllllmzlhzzzzzzzzzzlzlhzzzzzzzzzzlzhhzzzzzzzzzzzzhmzzzz'}\n",
      "Length of the input sequence: 1576\n"
     ]
    }
   ],
   "source": [
    "# Function to map activation values to characters\n",
    "def map_activation_to_char(activation):\n",
    "    \"\"\"Maps an activation value to a character based on predefined intervals.\"\"\"\n",
    "    if activation == 0:\n",
    "        return 'z'\n",
    "    elif 0 < activation <= 0.6:\n",
    "        return 'l'\n",
    "    elif 0.6 < activation <= 1.3:\n",
    "        return 'm'\n",
    "    elif 1.3 < activation <= 2.2:\n",
    "        return 'h'\n",
    "    else:  # activation > 2.2\n",
    "        return 'v'\n",
    "\n",
    "# Function to generate JSONL data\n",
    "# Function to generate JSONL data\n",
    "def generate_jsonl_data(model, images):\n",
    "    jsonl_data = []\n",
    "\n",
    "    for image in images:\n",
    "        # Reshape the image to [1, 1, 28, 28] and pass it through the first conv layer\n",
    "        image = image.unsqueeze(0)  # Add a batch dimension\n",
    "        model.eval()\n",
    "        with torch.no_grad():\n",
    "            activations = model.conv1(image)\n",
    "        input_sequence = 'f'\n",
    "        for j in range(8):  # Assuming 8 filters in the first conv layer\n",
    "            # Detach the tensor before converting to numpy\n",
    "            flattened_activation = activations[0, j].detach().view(-1).numpy()\n",
    "            mapped_activations = ''.join(map(map_activation_to_char, flattened_activation))\n",
    "            input_sequence += mapped_activations + 'f'  # Append 'f' after each activation map\n",
    "\n",
    "        # Remove the last 'f' appended\n",
    "        input_sequence = input_sequence[:-1]\n",
    "\n",
    "        # Create a JSONL-like entry\n",
    "        jsonl_data.append({\n",
    "            \"input\": input_sequence\n",
    "        })\n",
    "\n",
    "    return jsonl_data\n",
    "\n",
    "# Rest of the code remains the same\n",
    "\n",
    "\n",
    "# Load the MNIST test dataset using PyTorch\n",
    "transform = transforms.Compose([transforms.ToTensor()])\n",
    "mnist_test = datasets.MNIST(root='./test', train=False, download=True, transform=transform)\n",
    "\n",
    "# Extract the next 100 images from the MNIST test set (images 100 to 199)\n",
    "test_images = [image for i, (image, _) in enumerate(mnist_test) if 100 <= i < 200]\n",
    "\n",
    "# Generate JSONL data\n",
    "jsonl_data = generate_jsonl_data(targetCNN, test_images)\n",
    "\n",
    "# Display the 6th entry and its length\n",
    "print(jsonl_data[5])\n",
    "print(\"Length of the input sequence:\", len(jsonl_data[5]['input']))\n"
   ]
  },
  {
   "cell_type": "code",
   "execution_count": 15,
   "id": "18d4b1b5-3ef5-4b34-9757-68358743916f",
   "metadata": {},
   "outputs": [
    {
     "name": "stderr",
     "output_type": "stream",
     "text": [
      "Setting `pad_token_id` to `eos_token_id`:2 for open-end generation.\n"
     ]
    },
    {
     "data": {
      "image/png": "[encoded data removed]",
      "text/plain": [
       "<Figure size 1000x600 with 1 Axes>"
      ]
     },
     "metadata": {},
     "output_type": "display_data"
    },
    {
     "name": "stderr",
     "output_type": "stream",
     "text": [
      "Setting `pad_token_id` to `eos_token_id`:2 for open-end generation.\n"
     ]
    },
    {
     "name": "stdout",
     "output_type": "stream",
     "text": [
      "### Output: 10 squares\n"
     ]
    },
    {
     "data": {
      "image/png": "[encoded data removed]",
      "text/plain": [
       "<Figure size 1000x600 with 1 Axes>"
      ]
     },
     "metadata": {},
     "output_type": "display_data"
    },
    {
     "name": "stderr",
     "output_type": "stream",
     "text": [
      "Setting `pad_token_id` to `eos_token_id`:2 for open-end generation.\n"
     ]
    },
    {
     "name": "stdout",
     "output_type": "stream",
     "text": [
      "### Output: 10 squares\n"
     ]
    },
    {
     "data": {
      "image/png": "[encoded data removed]",
      "text/plain": [
       "<Figure size 1000x600 with 1 Axes>"
      ]
     },
     "metadata": {},
     "output_type": "display_data"
    },
    {
     "name": "stderr",
     "output_type": "stream",
     "text": [
      "Setting `pad_token_id` to `eos_token_id`:2 for open-end generation.\n"
     ]
    },
    {
     "name": "stdout",
     "output_type": "stream",
     "text": [
      "### Output: 10 squares\n"
     ]
    },
    {
     "data": {
      "image/png": "[encoded data removed]",
      "text/plain": [
       "<Figure size 1000x600 with 1 Axes>"
      ]
     },
     "metadata": {},
     "output_type": "display_data"
    },
    {
     "name": "stderr",
     "output_type": "stream",
     "text": [
      "Setting `pad_token_id` to `eos_token_id`:2 for open-end generation.\n"
     ]
    },
    {
     "name": "stdout",
     "output_type": "stream",
     "text": [
      "### Output: 10 Shapes: 5 Horizontal Lines, 4 Vertical Lines, 1 Checkerboard Pattern\n"
     ]
    },
    {
     "data": {
      "image/png": "[encoded data removed]",
      "text/plain": [
       "<Figure size 1000x600 with 1 Axes>"
      ]
     },
     "metadata": {},
     "output_type": "display_data"
    },
    {
     "name": "stderr",
     "output_type": "stream",
     "text": [
      "Setting `pad_token_id` to `eos_token_id`:2 for open-end generation.\n"
     ]
    },
    {
     "name": "stdout",
     "output_type": "stream",
     "text": [
      "### Output: 10\n"
     ]
    },
    {
     "data": {
      "image/png": "[encoded data removed]",
      "text/plain": [
       "<Figure size 1000x600 with 1 Axes>"
      ]
     },
     "metadata": {},
     "output_type": "display_data"
    },
    {
     "name": "stderr",
     "output_type": "stream",
     "text": [
      "Setting `pad_token_id` to `eos_token_id`:2 for open-end generation.\n"
     ]
    },
    {
     "name": "stdout",
     "output_type": "stream",
     "text": [
      "### Output: 10 squares\n"
     ]
    },
    {
     "data": {
      "image/png": "[encoded data removed]",
      "text/plain": [
       "<Figure size 1000x600 with 1 Axes>"
      ]
     },
     "metadata": {},
     "output_type": "display_data"
    },
    {
     "name": "stderr",
     "output_type": "stream",
     "text": [
      "Setting `pad_token_id` to `eos_token_id`:2 for open-end generation.\n"
     ]
    },
    {
     "name": "stdout",
     "output_type": "stream",
     "text": [
      "### Output: 10 Images with 25 Shapes\n"
     ]
    },
    {
     "data": {
      "image/png": "[encoded data removed]",
      "text/plain": [
       "<Figure size 1000x600 with 1 Axes>"
      ]
     },
     "metadata": {},
     "output_type": "display_data"
    },
    {
     "name": "stderr",
     "output_type": "stream",
     "text": [
      "Setting `pad_token_id` to `eos_token_id`:2 for open-end generation.\n"
     ]
    },
    {
     "name": "stdout",
     "output_type": "stream",
     "text": [
      "### Output: 10 squares\n"
     ]
    },
    {
     "data": {
      "image/png": "[encoded data removed]",
      "text/plain": [
       "<Figure size 1000x600 with 1 Axes>"
      ]
     },
     "metadata": {},
     "output_type": "display_data"
    },
    {
     "name": "stderr",
     "output_type": "stream",
     "text": [
      "Setting `pad_token_id` to `eos_token_id`:2 for open-end generation.\n"
     ]
    },
    {
     "name": "stdout",
     "output_type": "stream",
     "text": [
      "### Output: 10 Shapes: 5 Horizontal Lines, 4 Vertical Lines, 1 Checkerboard Pattern\n"
     ]
    },
    {
     "data": {
      "image/png": "[encoded data removed]",
      "text/plain": [
       "<Figure size 1000x600 with 1 Axes>"
      ]
     },
     "metadata": {},
     "output_type": "display_data"
    },
    {
     "name": "stderr",
     "output_type": "stream",
     "text": [
      "Setting `pad_token_id` to `eos_token_id`:2 for open-end generation.\n"
     ]
    },
    {
     "name": "stdout",
     "output_type": "stream",
     "text": [
      "### Output: 10 squares\n"
     ]
    },
    {
     "data": {
      "image/png": "[encoded data removed]",
      "text/plain": [
       "<Figure size 1000x600 with 1 Axes>"
      ]
     },
     "metadata": {},
     "output_type": "display_data"
    },
    {
     "name": "stderr",
     "output_type": "stream",
     "text": [
      "Setting `pad_token_id` to `eos_token_id`:2 for open-end generation.\n"
     ]
    },
    {
     "name": "stdout",
     "output_type": "stream",
     "text": [
      "### Output: 10 squares\n"
     ]
    },
    {
     "data": {
      "image/png": "[encoded data removed]",
      "text/plain": [
       "<Figure size 1000x600 with 1 Axes>"
      ]
     },
     "metadata": {},
     "output_type": "display_data"
    },
    {
     "name": "stderr",
     "output_type": "stream",
     "text": [
      "Setting `pad_token_id` to `eos_token_id`:2 for open-end generation.\n"
     ]
    },
    {
     "name": "stdout",
     "output_type": "stream",
     "text": [
      "### Output: 10 squares\n"
     ]
    },
    {
     "data": {
      "image/png": "[encoded data removed]",
      "text/plain": [
       "<Figure size 1000x600 with 1 Axes>"
      ]
     },
     "metadata": {},
     "output_type": "display_data"
    },
    {
     "name": "stderr",
     "output_type": "stream",
     "text": [
      "Setting `pad_token_id` to `eos_token_id`:2 for open-end generation.\n"
     ]
    },
    {
     "name": "stdout",
     "output_type": "stream",
     "text": [
      "### Output: 10 squares\n"
     ]
    },
    {
     "data": {
      "image/png": "[encoded data removed]",
      "text/plain": [
       "<Figure size 1000x600 with 1 Axes>"
      ]
     },
     "metadata": {},
     "output_type": "display_data"
    },
    {
     "name": "stderr",
     "output_type": "stream",
     "text": [
      "Setting `pad_token_id` to `eos_token_id`:2 for open-end generation.\n"
     ]
    },
    {
     "name": "stdout",
     "output_type": "stream",
     "text": [
      "### Output: 10 squares\n"
     ]
    },
    {
     "data": {
      "image/png": "[encoded data removed]",
      "text/plain": [
       "<Figure size 1000x600 with 1 Axes>"
      ]
     },
     "metadata": {},
     "output_type": "display_data"
    },
    {
     "name": "stderr",
     "output_type": "stream",
     "text": [
      "Setting `pad_token_id` to `eos_token_id`:2 for open-end generation.\n"
     ]
    },
    {
     "name": "stdout",
     "output_type": "stream",
     "text": [
      "### Output: 10 squares\n"
     ]
    },
    {
     "data": {
      "image/png": "[encoded data removed]",
      "text/plain": [
       "<Figure size 1000x600 with 1 Axes>"
      ]
     },
     "metadata": {},
     "output_type": "display_data"
    },
    {
     "name": "stderr",
     "output_type": "stream",
     "text": [
      "Setting `pad_token_id` to `eos_token_id`:2 for open-end generation.\n"
     ]
    },
    {
     "name": "stdout",
     "output_type": "stream",
     "text": [
      "### Output: 10 squares\n"
     ]
    },
    {
     "data": {
      "image/png": "[encoded data removed]",
      "text/plain": [
       "<Figure size 1000x600 with 1 Axes>"
      ]
     },
     "metadata": {},
     "output_type": "display_data"
    },
    {
     "name": "stderr",
     "output_type": "stream",
     "text": [
      "Setting `pad_token_id` to `eos_token_id`:2 for open-end generation.\n"
     ]
    },
    {
     "name": "stdout",
     "output_type": "stream",
     "text": [
      "### Output: 10 squares\n"
     ]
    },
    {
     "data": {
      "image/png": "[encoded data removed]",
      "text/plain": [
       "<Figure size 1000x600 with 1 Axes>"
      ]
     },
     "metadata": {},
     "output_type": "display_data"
    },
    {
     "name": "stderr",
     "output_type": "stream",
     "text": [
      "Setting `pad_token_id` to `eos_token_id`:2 for open-end generation.\n"
     ]
    },
    {
     "name": "stdout",
     "output_type": "stream",
     "text": [
      "### Output: 10 Shapes: 5 Horizontal Lines, 4 Vertical Lines, 1 Checkerboard Pattern\n"
     ]
    },
    {
     "data": {
      "image/png": "[encoded data removed]",
      "text/plain": [
       "<Figure size 1000x600 with 1 Axes>"
      ]
     },
     "metadata": {},
     "output_type": "display_data"
    },
    {
     "name": "stderr",
     "output_type": "stream",
     "text": [
      "Setting `pad_token_id` to `eos_token_id`:2 for open-end generation.\n"
     ]
    },
    {
     "name": "stdout",
     "output_type": "stream",
     "text": [
      "### Output: 10 squares\n"
     ]
    },
    {
     "data": {
      "image/png": "[encoded data removed]",
      "text/plain": [
       "<Figure size 1000x600 with 1 Axes>"
      ]
     },
     "metadata": {},
     "output_type": "display_data"
    },
    {
     "name": "stdout",
     "output_type": "stream",
     "text": [
      "### Output: 10 shapes: 3 circles, 2 squares, 5 triangles\n"
     ]
    }
   ],
   "source": [
    "for i, image in enumerate(test_images):\n",
    "    if i >= 20:\n",
    "        break\n",
    "        \n",
    "    jsonl_data = generate_jsonl_data(targetCNN, [image])\n",
    "    specific_entry = jsonl_data[0]  # Get the entry for the current image\n",
    "    prompt = f\"\"\"You will be presented with sequences of characters representing features of images, which could be basic geometric structures or elements similar to MNIST handwritten digits. These sequences are encoded representations of the image's activation maps, derived from the first layer of a convolutional neural network. The character 'f' marks the beginning of a new filter's activation map of the first layer. The characters 'z', 'l', 'm', 'h', and 'v', indicate varying levels of activation: zero, low, medium, high, and very high, respectively. Your task is to understand the patterns in the sequence and to interpret these sequences to determine the number and types of shapes present in the image. The desired output format should be 'output: Image with [number of shapes] shapes: [number of first shape] [name of shape] ... [number of last shape] [name of last shape]', where the description includes the types of shapes, such as corners, edges, ellipses, crossings, checkerboard pattern, horizontals, verticals, etc. ### Input: \"\"\"\n",
    "    outputPrompt = \"### Output: \"\n",
    "\n",
    "    modified_input = prompt + specific_entry['input'] + outputPrompt \n",
    "    model_input = tokenizer(modified_input, return_tensors=\"pt\").to(\"cuda\")\n",
    "    \n",
    "    with torch.no_grad():\n",
    "        generated_output = tokenizer.decode(ft_model.generate(**model_input, max_new_tokens=60, repetition_penalty=1.15)[0], skip_special_tokens=True)\n",
    "    start_idx = generated_output.find(\"### Output:\")\n",
    "    if start_idx != -1:\n",
    "        output_tokens = generated_output[start_idx:].split()[:200] \n",
    "        shortened_output = ' '.join(output_tokens)\n",
    "    else:\n",
    "        shortened_output = \"Output not found.\"\n",
    "        print(generated_output)\n",
    "    plt.figure(figsize=(10, 6))  \n",
    "    plt.imshow(image.squeeze(), cmap='gray')  \n",
    "    plt.axis('off')  \n",
    "    plt.show()\n",
    "    print(shortened_output)"
   ]
  },
  {
   "cell_type": "code",
   "execution_count": 17,
   "id": "001f5b65-f72e-4aaa-853d-07f8d799b002",
   "metadata": {},
   "outputs": [
    {
     "name": "stderr",
     "output_type": "stream",
     "text": [
      "Setting `pad_token_id` to `eos_token_id`:2 for open-end generation.\n"
     ]
    },
    {
     "name": "stdout",
     "output_type": "stream",
     "text": [
      "fzzzlzzmllzzzzzzzzlzmmzzzzzzzzzlzlmzllzzzzzzzllllmmzzzzlzzzzzlllzlmllllzzllzzzmmlzzllzzllzzmmlzzlllzzzmzlmlllllllzzlllmllzmhlzlzzllllmmmhmlllzzllllllllzllzzzzlllllllllzzzzzzlllllzzzzzzzzzzzzzzzzzzzfzzzllzzzllzzzzzzzlllmmmlzzzzzzllllllzzzzzzzzllzllllllzzzzzllllllzzzzzzzzlllllmmhhmllzzlllllllmlzzlzzlllllzllzzllzzllmmlmzzlmmlzzlllmmhhhmmlzzzzlllhhhmmllzzzzllzzzzzzllzzzzzlllzzzzzzzzzzzzzzzzzzzzzfllllmmmmmlllllllllmlmhlllllllllmmllmzllllllllmlllllmmmllllmmzlmmhmmmllllmmllmlmhmmmlllmllmmlmmzzlllllllmmmmmlllllllllmmhhhlmlzllllzmzmmlllzzllllzzzzzzzzzllllllzzzzzzzzllllllllllzzlllllllllllllllllfzzzzlzzlzzzzzzzzzllzllzzzzzzzzzlmzlzlzzzzzzzlllllzlzzllzzzllzlllzlzzllzzllzlllmllzzlzzllzzmllmzlmzzzllzlllzlllmzzzllllllllzzllzzlmzmmzmmzzllzzzmmzhhlllzllzzzzllzllllllzzzzzzzzzllllzzzzzzzzzzzzzzzzfzzzzzlhhzzzzzzzzzzzhhlzzzzzzzzzzzhvzzzzzzzzzzzlvmzzmmmlzzzzzmvlzhhmlzzzzzzhvzhhllmlzzzzzhhzhhzlhmzzzzzhhzhmzmvhzzzzzmhzhmlmhzzzzlzlmllmllzzzzzllzllllzzzzzzzzllzmlzlllzzzzzzlllllllzzzzzzzzzzzzzzzzzfzzzllzzzzzzzzzzzzllzzzlzzzzzzzllzzllllzzzzzzllzzllmlzzzzzzllzlmzzzzzzlzzlzzllzzlzzzzzzzzzzzzlhmllzzzzllzzlzlzzllzzzllzlzzzzlllzzzlmzmlzzllllzzzzmlmhmmmlllzzzzlllhhmlllzzzzzzzzzzlzlzzzzzzzzzzzzzzzzflllllmmlllllllllllllmmllllllllllmlllllllllllllmllhhmlzlllllzmlmhmhhmmllllzhlmlzhvmllllzlhlmlmzhhmlllllvlhhmlmmmllllzvvhhmmmmlllllzzhlhmmmllllllzzzzlllllllllllzzlzzllllllllllzzlllllllllllllllllllllfzzzzlmlzlzzzzzzzzzllzmlzzzzzzzzllzhhlzzzzzzzzlzmvllmlllzzzzzzhhmmlzllzzzzzzhllzzlllzzzzzzhlzmmmllzzzzzlhzmvmlzlzzzzzlmzhhzlmmzzzzzlllmzzlhlzzzzzllzlzlhhzzzzzllllmmhmzzzzzzzzlllmlzzzzzzzzzzzzzzzzzz ###  Question: How many curves are in the image, 0, 1, 2, 3, 4, 5? Explain your answer first ###  Explanation of Answer:  The number of curves is zero. There's no curve at all because it has a straight line and there isn't any other shape that can be drawn on this graph without changing its direction or size (which would make another type).\n"
     ]
    },
    {
     "data": {
      "image/png": "[encoded data removed]",
      "text/plain": [
       "<Figure size 1000x600 with 1 Axes>"
      ]
     },
     "metadata": {},
     "output_type": "display_data"
    },
    {
     "name": "stderr",
     "output_type": "stream",
     "text": [
      "Setting `pad_token_id` to `eos_token_id`:2 for open-end generation.\n"
     ]
    },
    {
     "name": "stdout",
     "output_type": "stream",
     "text": [
      "### Output: 10 shapes: 3 circles, 2 squares, 5 triangles\n",
      "fzzzzzlzzzzzzzzzzzlllzzlzllzzzzllzzmmmllllzzzlzzhhmllzzlzzzlzhhlzllllllzlzlmzllllzllzzlzllllllzzzllzzllzllllzzlllzlllzzllzlmllzzllzmlzzmmmlllzllllllhhhzlzlzzllllmmmzllzzzzlllzlzlllzzzzzzzllzlllzzzzfzzzzzllllzzzzzzzzzllzzzzzzzzzzzllzzlmmzlzzzzllzlmvvvmllzzzlzllmhmmmllzzlllmlmllzllllzllllllzllzlzlzlllllzzllzzllzlmmllzllzllmzzlllmzlzzzlmlzzzllmhlhhmmmzzzzllmhvvvhmzzzzzzllzzzlzzzzzzzzzlzzzzzlzzzflllllllllllllllllllmhhhhhmllllllmhhhhhhmlllllmhhmhhmmmllllmhhlmlzzzllmllmmlmlzzzzzllllmlllzzlmllllllmlllzlmmllmzllmzlllmhmlmlzllllllhvvmmmzzlllzllhhmlmzzllllzzzzlllzzzlllllzzzzzzzzlllllllllzzzzlllfzzzzzzzzzlllzzzzzzzzzzzzlllzzzzzzzzllzzllzzzzzzlmmmlzzllzzllzlmlmllmzlzzllzlllmmzmmlzlmlzllllmzlmlzlmzzlmlzlzlllzlmzzzmlzlzlllzlmzzlzlllllllzzmmzmmllzlzllzzlmllhhlzzllzzzzmmlmllllllzzzzzzlzlllllzzfzzzzzzzllllzzzzzzzzzlhhmmzzzzzzzzzhhhmmzzzzzzzzvhmzlmlzzzzzzhvhzzlhhzzzzzzvvzzzzhhlzzzzlvvzzzzmvmzzzzmvhzzzzhvlzzzzmvhzzzlvvzzzlzlvhzzmhvlzzzlzzhhzlmmmzzzzzlzlmllzlzzzzzzzlzllzzzzzzzzzzlllzllllzzzfzzzzzlllzzzzzzzzzllmlzzzzlzzzzzlllzzzzzzlzzzlmlzzmmlzzzlzzllzzmhhhllzzzllzzzllmhlllzzllzzlllzmlzlzzllzzllllzzzllzzzllzlllzzzllzzlmlzllzzllllzzzmlzzzzlllllzzzmmmhmmmmllzzzzzmmvhmmlllzzzzzzzzlllzlzzfllllllmmlllllllllllhhhhmlzllllllmmmhvvmmlllllmmlzlhvvlmlllllmmlzzhvmmlllzmmlzlzzvmllllzmmzlllzhmmlllzhmlllllmmllllzvvmllllmmllllzhvvvmzlmlllllzzvvvhmmmllllllzzzlllllllllllzzzzzzlllllllllzzzzllllllfzzzzzzlllllzzzzzzzlllmmlllzzzzzzlmmlzlllzzzzllmlzllllllzzzlllzhhmmlllzzzllzhvhmllllzzzlzlvhzzlllmzzzzzhvzzlllmlzzzzzvhzlllzhlzzzzlhmlmmlmvzzzzzlllllzzvvzzzzzzllzzzvvlzzzzzzlllmhvmzzzzzzzlllmmlzzzz ###  Question: How many curves are in the image, 0, 1, 2, 3, 4, 5? Explain your answer first ###  Explanation of Answer:  The number of curves is zero. There's no curve at all because it has a straight line and there isn't any other shape that can be considered as a curve.\n"
     ]
    },
    {
     "data": {
      "image/png": "[encoded data removed]",
      "text/plain": [
       "<Figure size 1000x600 with 1 Axes>"
      ]
     },
     "metadata": {},
     "output_type": "display_data"
    },
    {
     "name": "stderr",
     "output_type": "stream",
     "text": [
      "Setting `pad_token_id` to `eos_token_id`:2 for open-end generation.\n"
     ]
    },
    {
     "name": "stdout",
     "output_type": "stream",
     "text": [
      "### Output: 10 shapes: 3 circles, 2 squares, 5 triangles\n",
      "fzzzzzzzzzzzzzzzzllzzllzzzzllzllzzzlmmmmmmlllzzmmmmmllllzzzlhmlzzzzlzllzlmmllmmlllzlllllzmlllzlllzzlzlzlllllzllzzzzlllllzzmmlzzzllzllzlhmllzzzzllzzhvhzzlzzzzzllhhmzlllzzzllllmzllllzzzzlllzzlllzzzzzfzzzzzzzzzzzzzzzzzlllllllllzzzlllzzzzzzzzllzllzlhvvvvvvhmlzllmvvhhmmlllllmhvhmzzzzzzzllmmhhhhmzzzllzzzzzzlhhlzzzzzllzlllzzzzllzzzlllllzzlmllzzlzzzzzmhhmlzzzllmhvvhhmzzzzzllmvvvmlzzzzzzzllzzzzzzzzzzflllllllllllllllllllmmmmmhhmmlllhhhvhhvhhmmllhhhhhmmmmmmmlmhmhvhmlzzzzzlmlllzzlmmlzzzllzlzzlmmmmllllllzzzzzlmmmllllllllzlzlmmlllllllmhhzmlllllllmhvvhmmzzlllllmmmlmmzzzlllllllzlzzzzllllllzzzzzzzllllfzzzzzzzzzzzzzzzzzzzzzzzzzzllzzzzzzzzzzzzzlzzzzzllllllllzzlmmllhmmmlzllzmmmmzzzzmmllllmlllmlmzzllzlzzlllmlmlzzlzzzzzzzlmlzmhzzzzzzzzzzlllhlzzzllzzzlmlzllzzzzlllmllzzllzzzlmmmmzzllllzzzzlmzzllllzzzzfzzzzzzzzzzzzzzzzzzzlllllmhhlzzzzmhmmmmmhmzzzzlhhmlzzlmlzzzzmvhmlzzzmlzzzzmmzllmmzllzlzzmmzllmmlzlzzlzzzzzzmhmzzzzzllllzzvvhzzzzzzzllzmvvlzzzzzzzllhhhmzzzzzzzzmlmlzzzzzzzlzlmllzzzzzzzzlzzllzzlzzzzzfzzzzzzzzzzzzzzzzlllllllllzzzzllllzzzzzzzzzllmzzzzzzllllzzlzzzlmmhhhhmmzzzzlllzzlmmllzzmmhhlzzzzlzlzzlmmhvhmzzzzzzzzzzzmhmzzzzzzllllllzzzlmzzzlllzzzzlmlmlzzzzzzzzlmmlllzzzlmmmmmmlllzzzzllmhhmlllzzzflllllllllllllllllmmmlmmmhlzzllmhhhhhmhvvmmllmmmhmlllhhmlllmmhvmzzzzllllzzmmvvvmzzlllllzzzzhvvmlzllllzzzzzhvhllllllllzzllvhmllllllmmmmzlhllllllmvhhllmmllllllzmmmmmllllllllzzzzlzllllllllzzzzzlllllllfzzzzzzzzzzzzzzzzzlllllmlmmllzzllmmlmllllzlzllmlzzzzzzzmlzllzzlmmmmmmhlzlzzhmhmmmlmmzzzzhhmmzllllzzzzzmmllllllzzzzzllllllmlllzzzzzlllmmmlmlzzzzlllmmzzvhzzzzzllllzzvvlzzzzzzzzzmvvmzzzzzzzzlmhhlzzzzz ###  Question: How many curves are in the image, 0, 1, 2, 3, 4, 5? Explain your answer first ###  Explanation of Answer:  The number of curves is zero. There's no curve at all!\n"
     ]
    },
    {
     "data": {
      "image/png": "[encoded data removed]",
      "text/plain": [
       "<Figure size 1000x600 with 1 Axes>"
      ]
     },
     "metadata": {},
     "output_type": "display_data"
    },
    {
     "name": "stderr",
     "output_type": "stream",
     "text": [
      "Setting `pad_token_id` to `eos_token_id`:2 for open-end generation.\n"
     ]
    },
    {
     "name": "stdout",
     "output_type": "stream",
     "text": [
      "### Output: 10 shapes: 3 circles, 2 squares, 5 triangles\n",
      "fzzzzzzzllzzlzzzllzzzzlzllllzzllzzllzzllllzzzzzlllllzllzzzlzzlllllzlllzllzllllllzlllzlzhmlmmmmlllzzlmmlllmmllllzzmmzzlllzzlllzzzzzzlzzlllllzzlllzzzllzlllzzzzzzzzlllzzlzzzzzzzzllzlllzzzzzzzzzlllzzzzfzzzzzzzllllzzzzzlllzzlzzzzzzzllzzzzllllllzzzllzzzllllllzzlllllllllllzzlllzzllllzzzzzlzzzzzzzzzlzzzlhvvvvvvvmllzzmmhhhhhhhmlzzzzzzzzzzllllzzzllzzlzllmmmlzzzzzzzzlllmmlzzzzzzzzzlzzzzzzzzzzzzzllzllzzfllllllllllmllllllllllmmmlmllllmmlllmmmmmllllmmmmmmlmmmllllmmmmmmlllzlllmhlmhlhlllzllmhhhhhhvhmmlllmmllllmhmmmzlllzlzzzlmlllzllllzzzzzzzzzzllllllllllzzzzllllllllllzzzzllllllllllzzzzlllllllllllllzllfzzzzzzzzzzzllzzzzzzlllzzzllzzllzzllllzlllzzlzzzzlmmzllzzzllzlmlllzlmlzzllzlmlmzzlllzlllzzzzlzzmmzzlllzzlllzzmmzzmmmmmhmmzzlmzzlzzlllmmzlmlzzzzzzzzlmzlllzzzzzzzzlllzmlzzzzzzzzzlzzmlzzzzzzzzzzlzllzzfzzzzzzzzzlmlzzzzzzllzzzhvlzzzzzlhmzzzvvzzzzzzlvhzzzvvzzzzzzhvhzzzvvzzzzzzvvmzzmvvzzzzzmvvlllhvvzzzzzmmlzzzmvhzzzzzlmlzzzhvmzzzzzzzzzzzhvmzzzlllllzlzhvmzzzzzzzzzlzlhlzzzzzzzzzlzlmlzzzzzzzzzzzlllzzzfzzzzzzzllzzzzzzzllzzzllzzzlzzlllzzzllzzzzzzllzzzzllzllzzzlmzzzzlzzzllzlmlzzlmlzzzllzllzzzzzzzzzllzzzzllzzzzzzlzzllhhvvvhmzzlzzzllmmmhhmlzlzzzzzzzzzlllllzzzzzzzzzlmmmlzzzzzzzzzzmlllzzzzzzzzzzlzzlzzfllllllllmmzzllllllllllhvllllllmhlllzhhmlllllmvhllzmhllllllzvvmlzmhmlllmmmhhmmzmhllllmhmvvvvhhhllllzzzmmmhhhhllllzzzzzzzlhhllllzzzzzzzzhhmllllllllzzzhmmllllllllllzzllllllllllllzzllllllllllllzzlllllfzzzzzzzzllllzzzzllllzzllllzzzzzlllzllzmlzzzzllzlzzzzhlzzzlzzlmzzzlhlzzllllmhllzmhzzzzmlzhhlmlmhzzzllzlhlzzzhhzzzzzmhhlmlmhhzzzzlhmlllllhmzzzzlmlllllzmmzzzzzzzzzzzlhmzzzzzzzzzzzlhlzzzzzzzzzzzlmzzzz ###  Question: How many curves are in the image, 0, 1, 2, 3, 4, 5? Explain your answer first ###  Explanation of Answer:  The number of curves is zero. There are no closed loops or lines that form a curve.\n",
      "```\n"
     ]
    },
    {
     "data": {
      "image/png": "[encoded data removed]",
      "text/plain": [
       "<Figure size 1000x600 with 1 Axes>"
      ]
     },
     "metadata": {},
     "output_type": "display_data"
    },
    {
     "name": "stderr",
     "output_type": "stream",
     "text": [
      "Setting `pad_token_id` to `eos_token_id`:2 for open-end generation.\n"
     ]
    },
    {
     "name": "stdout",
     "output_type": "stream",
     "text": [
      "### Output: 10 shapes: 3 circles, 2 squares, 5 triangles\n",
      "fzzzzzzzzzzzzzzzzlllzzzzlzzzzzllzzmmmlllzzzzlzlhmlllllzzzzlzmhzllllzzzzzlmlzllzzzllzzzllzllmmmllllzzllzlllllzzllzzllzlllzzlmllzzlzzzzlllllllzzzlllzzllzlllzzzzzzzzllllllzzzzzzzzllzzlzzzzzzzzzllzlllzfzzzzzzzzzzzzzzzzzllllzzzzzzzzzllzzllzzzzzzzlllmhvvhllzzzzllmlmmlmmllzzzlllllzzlzzzzzzllmlzzzllzzzzzllmhvvvvvmllzzlllmmmllzzllzzzllzzzllllllzzzllzlzlllllzzzzzzzzzlmhmllzzzzzzzzlmmmllzzzzzzzzllzzzzzflllllllllllllllllllmhhhmlllllllhhhhhmmllllllmhmhhmmmlllllmmmzmzzzllllllmmlmmllmmllllllllmhhhmmmllllllzzzmmhhhmmlllzzzzzzzzzmllllllllzmmzllzllllllllmmzllzllllllllmlzzzzlllllllllzzzzzlllllllllzzzzllfzzzzzzzzzzzzzzzzzzzzzllllzzzzzzzzzlzzllzzzzzzzlmmllzlzzzzllllmlzmmzzzzzmmzzzmlzmmllzzmmzlzzlzzzllzzmlzmhmmlzzzlzzlmmmhmllzmmzzzzzlzlllmzlmlzzzzzzzzlmzzllzzzzzzzzlmzlllzzzzzzzzlmzlmzzzzzzzzzllzzmlzfzzzzzzzzzzzzzzzzzzzlhhmlzzzzzzzzmhhmmlzzzzzzzlvhzlmlzzzzzzzhvmzlmlzzzzzzzvvzzlhhmlzzzzzhvzllmmmlzzzlzmhzzlzmhmzzzlzlmlzlzhvmzzzzlzzzlzzvvlzzzzzllllzzvvzzzzzzzzzzzzvvzzzzzzzzzzlzmhzzzzzzzzzzlzlmzzzfzzzzzzzzzzzzzzzzlmmlzzzlzzzzzlllzzzzzzlzzzzllzzzlzzzzzzzzllzzmhhmmlzzzzlzzzlmmmmlzzzzzzzzzzzzzzzzzzzmmlllmmzzzzzzzlmmhhhvmzlzzzzzllllllzzllzzzzzzzzzzzzllzzzzzzzzzzllllzzzzzzzzzmmlmlzzzzzzzzzlmlllzflllllllllllllllllmhhhmzzllllllmhhhvvhmllllllmmzlmvhmmlllllmmmlzlmllllllzmvmmmmmlzzlllzzvhhhhvvmlllllzlllllhvmlllllzzzzzzzhmmllllzzlzzzlhmllllllllllzlhmllllllllllzzhlmllllllllllzlllllllllllllzzllllfzzzzzzzzzzzzzzzzzlllmmllzzzzzzllmmzzllzzzzzzlmlzllzlzzzzzlllzhmmlllzzzzzzzvvmmhmllzzzzzmvhlmmlllzzzzzmhzzzzlllzzzzzlmllmmmmmzzzlzlmllmllhmzzzzzlllllzzhmzzzzzzzzzlzlhlzzzzzzzzzzzmhlzzzzzzzzzzzmhzzz ###  Question: How many curves are in the image, 0, 1, 2, 3, 4, 5? Explain your answer first ###  Explanation of Answer:  The number of curves is zero. There's no curve at all because there isn't any closed loop or a line that doesn't intersect with itself.\n"
     ]
    },
    {
     "data": {
      "image/png": "[encoded data removed]",
      "text/plain": [
       "<Figure size 1000x600 with 1 Axes>"
      ]
     },
     "metadata": {},
     "output_type": "display_data"
    },
    {
     "name": "stderr",
     "output_type": "stream",
     "text": [
      "Setting `pad_token_id` to `eos_token_id`:2 for open-end generation.\n"
     ]
    },
    {
     "name": "stdout",
     "output_type": "stream",
     "text": [
      "### Output: 10 shapes: 3 circles, 2 squares, 5 triangles\n",
      "fzzzzzzzzzzzzzzzzzllzzzzzzzzzzzllzzlhmlllzzzllzlmmmmllllzzlzlmhllzlllzzzzlmmzzzlmmlzzzzmlzllhhllllzzlllllmhlzllzzzllllllzzllzzzzzllzzllllllzzzzzllllzlllzzzzzzzzzlllllzzzzzzzzzlmzzlzzzzzzzzllllllzzzfzzzzzzzzzzzzzzzzzzllllzzzzzzzzllllzzzzzzzzzzllzmhvvhlzzzzlllmhvvhhmllzzzlllllzzzlllzzllllzzzzlllzzzllmhvvvhmlzzzzlllmhhhmlzzzzzzllzzlzllllzzzzzlllllllllzzzzzzzllllllzzzzzzzzzlmmllzzzzzzzzlllllzzzzfllllllllllllllllllllllllllllllllmhhhhmmllllllmhhmmmmmmllllmmmmhmmmlmllllmlmmzmzzllllllmlmmhvlmmzllllllllmmmmlzlllllzzzmlzzzzllllllzzzzzzllllllllllmlzlllllllllllmlzlzlllllllllmzzzzllllllllllzzzzlllfzzzzzzzzzzzzzzzzzzzzzzzllzzzzzzzzzlzzlllzzzzzzzzllzzzllzzlzllmmlzzmzzzzlmlzzlmmzmlzzzlmzlzzlzllllzzllzzmmlzzllzzzlmmzhhlzlmlzzzzllzzmmzmmlzzzzzzzzllzlmzzzzzzzzzllzlllzzzzzzzzlllllzzzzzzzzllzzllzzzfzzzzzzzzzzzzzzzzzzzzlllllzzzzzzzzmhmmmlzzzzzzzmhhzlmmlzzzzzzvvzzzhvzzzzzzlvhzzhvvzzzzzzlvmzmhvlzzzzlzlhmzzhvzzzzzlzzmmzzvvzzzzzzlzzzzzvvzzzzzzzlllzzvvzzzzzzzzzzzzvvzzzzzzzzzzzlhmzzzzzzzzzlzlmlzzzzfzzzzzzzzzzzzzzzzzzllllzzzzzzzzllmlzzzzllzzzlllzzzzzzzzzzzllzzlhvhzzzzzzllzzlhhlzlmzzzzlzzzzzzzzmlzzzllzzzzzzlllzzzlmhhvhlzzlzzzzzllmhmzzllzzzzzzzlzzzzlzzzzzzzzzzzzzllzzzzzzzzzlmlllzzzzzzzzzmmllzzzflllllllllllllllllllmmllllllllllmhhmvvmlllllllmmlmhvvlmlllllllmlzhhlllllllhhmlllmmlllllzvvvhmhmllllllzlmmmhvlllllllzzzzzmhlmllllllzzzzmhlmlllllllzlzmhlllllllllllzmmlllllllllllzlmlllllllllllzzllllllfzzzzzzzzzzzzzzzzzzzlllllzzzzzzzllllmmlllzzzzllmmzzzllzzzzzllzzmmmmllzzzzllzvhmmlmllzzzlzvvmmlhhzzzzzzzhlzzzvhzzzzzzlmllmmvlzzzzlzlllmmlmzzzzzzllllmzlhzzzzzzzzzzlzlhzzzzzzzzzzlzhhzzzzzzzzzzzzhmzzzz ###  Question: How many curves are in the image, 0, 1, 2, 3, 4, 5? Explain your answer first ###  Explanation of Answer:  The number of curves is zero. There's no curve at all!\n"
     ]
    },
    {
     "data": {
      "image/png": "[encoded data removed]",
      "text/plain": [
       "<Figure size 1000x600 with 1 Axes>"
      ]
     },
     "metadata": {},
     "output_type": "display_data"
    },
    {
     "name": "stderr",
     "output_type": "stream",
     "text": [
      "Setting `pad_token_id` to `eos_token_id`:2 for open-end generation.\n"
     ]
    },
    {
     "name": "stdout",
     "output_type": "stream",
     "text": [
      "### Output: 10 shapes: 3 circles, 2 squares, 5 triangles\n",
      "fzzzllzzzzzzzzzzllzzzmmmllllzzlzlmhmmlzzllzzzlmhmzzlllllzzlmlzllllzzllzzlzzllllzzlllzzlllzzmllmllllzllzmmmmllzllzllzhhmzzhlzllzzzmmzlhvhlllzzzmmllhhmzlllzzllllmmzlllzllzllzlzllllzlzzzzlllllzzzzzzzzfzzzlllllzzzzzzzzlllzzzlzzzzzzllzlhvvvhllzzzlmhhvhmlmmllzzlmmmlzzllllzlzlzzzzllzzzzllzzlllzzzzzlllzzllzzmhhhllllzllzmmvvhmmllzzllmlmlzmhhhllzllmhhhhmmmzllzlllhhhmmzzzzzzzzlzzzzzlzzlzzzzllzllzzzzzzzfllllllmmhmmllllllmhhhhhmmmllllmhhmhmmmmmmlllmllmlzzzlmmllllzzzzllzlzllllllzzzlmmlmllllllhhhhvhmmllllmhhhhhvmmmzllmhmhhhvhlmlzllhhlhhzzzzzzzllmlmmzlllzzzzlllzzzzzzzzzzzlllzzzzzzlzllzlllllllzlllllllfzzzzzzzzzlllzzzzzzzzzlzzzllzzllzzlmllzzzllzzmmmmlllzzlllzlmlzzllmlzmmzzllzzlllllzmmzzzzzzzzzllllllzzzzzzlllzllmllzzzmmllmlzlmzlmmzlzmmmllmlzlmmzlmmmmzmmlzlmllmmlzlllmlzzllzzlllllzzlzzzzzllllzzzzzzfzzzzzzlhmmllzzzzzzlhhhmlmmzzzzzzhhmzzlhmzzzzzlhmzzzlhhzzzzzlmlzlzzvvzzzlzzlllzzzvvzzzzlzlhmmzhvvzzzzzlhvmzzvvlzzzzzvvmzmmvhzzzzzzvvzlmllmzzzzzzhhzllzzmzzzlzzmmzzlzzllzzlzzllzzlllllzzzllllllzzzzzzzfzzzllllzzzzzzzzlmllzzzzzzzlzzllzzzzllzzzzzzzzzlmmhhhlzzzzzlmmmmlmhzllzzzzllllllzzzlzzllmmzzzzzzzllzllzzzzzzzzllllmlzzmmzzzzlllllzzlmlzmmmllzzzzlzzzlhhmmlzzlmhhmmllmlllzzzlmmmllzllzlzzzzzzzllzzzzzzfllllmhhmllllllllmhmmmhvvmlllllmhmmmmhvvmlllzzzmmlzzhvlmlllzzlzzlzmhlmlllzzlllllmmmllllmhhhhhlmmmllllmhmmhhhhmlllllmmmmmmmvmmllllhvhllllmmmlllzmhmlllzzmllllzzzlllzzllllllzzlzzzlllllllllzzzlllllllllfzzzzzllmmlllzzzzzlmmmlzlllzzzlllmzzzzlllzzzllzzlmmmllmlzzzzzhhmmllmmlzzzzmhhllzlmmlzzzlmmlmllllhzzzllmmlzzlzvvzzzlllzlmhzmvhzzzllzhvhmzhhlzzzzzmvhzzhhmlzzzzzhhzmhhmmzzzzzlmlmmhzllzzzzzlllmzzzzzzzz ###  Question: How many curves are in the image, 0, 1, 2, 3, 4, 5? Explain your answer first ###  Explanation of Answer:  The number of curves is zero. There's no curve at all because it has a straight line and there isn't any other shape that can be drawn on this graph without having some kind of bend or turn to make another one appear out from under where you started drawing them before they were finished with their original path so now we have two different paths going through each point instead just like how when someone draws something new into existence but doesn't know what exactly will happen next until after everything else gets done being created then suddenly realizes \"Oh wait! This wasn't supposed go here.\" And then goes back over again trying not repeat anything already said while still keeping track which parts need more attention paid towards finishing up properly since those areas might\n"
     ]
    },
    {
     "data": {
      "image/png": "[encoded data removed]",
      "text/plain": [
       "<Figure size 1000x600 with 1 Axes>"
      ]
     },
     "metadata": {},
     "output_type": "display_data"
    },
    {
     "name": "stderr",
     "output_type": "stream",
     "text": [
      "Setting `pad_token_id` to `eos_token_id`:2 for open-end generation.\n"
     ]
    },
    {
     "name": "stdout",
     "output_type": "stream",
     "text": [
      "### Output: 10 shapes: 3 circles, 2 squares, 5 triangles\n",
      "fzzzzzzllzzzlzzzzzzzzlzzlllzzzzzzzllzmmllzzzzzzllzmmlllzzzzzzlzzmllllzzzzzllzmmzllzzzzzzlzlmlllzzzzzzlllllzllzzzzzzzlllzllzzzzzzzzllllllzzzzzzzzlllllzzzzzzzzlllzzlzzzzzzzzzllzlllzzzzzzzzllllzzzzzzzfzzzzzzzllllzzzzzzzzzllzzzllzzzzzzllzzzllzzzzzzzlzlllmlzzzzzzlllllmlzzzzzzzllllmmzzzzzzzlllllmlzzzzzzzllllmlzzzzzzzlllzllzzzzzzzzllllllzzzzzzzzllmhmllzzzzzzzzllmmllzzzzzzzzllzzzzzzzzzzzzzllzlzzzzzzflllllllllllllllllllllmmmmmllllllllmhmmhmlllllllmhhlhmzlllllllmmmmmzzllllllmmmlllzzllllllmmlllzzllllllmmlllzzlllllllmmlllzzlllllllmmlllzllllllllllzzzllllllllllzzzzlllllllllllzzzllllllllllllllllllllfzzzzzzzzzzllzzzzzzzzzzzzllzzzzzzzzzzzlmzzzzzzzzzlzzlllzzzzzzzzlzllllzzzzzzzllzlzllzzzzzlllzlllllzzzzzzlzlllllzzzzzzlmzllllzzzzzzzmmzzlmlzzzzzzlmlzmlzzzzzzzzzmmzmmlzzzzzzzzllzzmlzzzzzzzzzzlzllzzzzzfzzzzzzzzzlmlzzzzzzzzzzlvhzzzzzzzzzzzvvmzzzzzzzzzzmvvzzzzzzzzzzzvvmzzzzzzzzzzhvvzzzzzzzzzzzvvzzzzzzzzzzzhvhzzzzzzzzzzzvvzzzzzzzzzzzzvvzzzzzzzzzlzzvvzzzzzzzzzzlzhhzzzzzzzzzzlzlmzzzzzzzzzzzllllzzzzzzfzzzzzzzllzzzzzzzzzzzllzzzzzzzzzzzlllzzzzzzzzzzzlmzzzllzzzzzzllzzzlllzzzzzlmlzzmlllzzzzzllzzzmlllzzzzlllzzlmllzzzzzzlzzzlllzzzzzzzzzzzzllzzzzzzzzllmlzzzzzzzzzzmmmmlzzzzzzzzzlmlmlzzzzzzzzzzlzzlzzzzzfllllllllmmzllllllllllmhmllllllllllmmmmllllllllllmmmmllllllllllllmllllllllllllmlllllllllllllmllllllllllllllllllllllllmhlllllllllllzmhlmlllllllllzzhmmllllllllllzlllllllllllllzzlllllllllllllzllllllllfzzzzzzzzlllzzzzzzzzzzlmlzzzzzzzzzzlllzlzzzzzzzzzllzhhzzzzzzzlllzlvmzzzzzzzlllzvvzzzzzzzzllzhvmzzzzzzzllllvhzzzzzzzzllzvvzzzzzzzzzzzlvhzzzzzzzzzzzlhlzzzzzzzzzzzmmlzzzzzzzzzzzmhzzzzzzzzzzllmlzzzzzzz ###  Question: How many curves are in the image, 0, 1, 2, 3, 4, 5? Explain your answer first ###  Explanation of Answer:  There is only one curve. The other lines that appear to be separate from it actually connect back up with it at some point and form a single closed loop.\n",
      "```\n"
     ]
    },
    {
     "data": {
      "image/png": "[encoded data removed]",
      "text/plain": [
       "<Figure size 1000x600 with 1 Axes>"
      ]
     },
     "metadata": {},
     "output_type": "display_data"
    },
    {
     "name": "stdout",
     "output_type": "stream",
     "text": [
      "### Output: 10 shapes: 3 circles, 2 squares, 5 triangles\n"
     ]
    }
   ],
   "source": [
    "\n",
    "for i, image in enumerate(test_images):\n",
    "    if i >= 8:\n",
    "        break\n",
    "        \n",
    "    jsonl_data = generate_jsonl_data(targetCNN, [image])\n",
    "    specific_entry = jsonl_data[0]  # Get the entry for the current image\n",
    "    prompt = f\"\"\"You will be presented with sequences of characters representing features of images, which could be basic geometric structures or elements similar to MNIST handwritten digits. These sequences are encoded representations of the image's activation maps, derived from the first layer of a convolutional neural network. The character 'f' marks the beginning of a new filter's activation map of the first layer. The characters 'z', 'l', 'm', 'h', and 'v', indicate varying levels of activation: zero, low, medium, high, and very high, respectively. Your task is to understand the patterns in the sequence and to interpret these sequences to determine the number and types of shapes present in the image. The desired output format should be 'output: Image with [number of shapes] shapes: [number of first shape] [name of shape] ... [number of last shape] [name of last shape]', where the description includes the types of shapes, such as corners, edges, ellipses, crossings, checkerboard pattern, horizontals, verticals, etc. ### Input: \"\"\"\n",
    "    outputPrompt = \" ###  Question: How many curves are in the image, 0, 1, 2, 3, 4, 5? Explain your answer first ###  Explanation of Answer: \"\n",
    "\n",
    "    modified_input =  specific_entry['input'] + outputPrompt \n",
    "    model_input = tokenizer(modified_input, return_tensors=\"pt\").to(\"cuda\")    \n",
    "    \n",
    "    with torch.no_grad():\n",
    "        generated_output = tokenizer.decode(ft_model.generate(**model_input, max_new_tokens=150, repetition_penalty=1.15)[0], skip_special_tokens=True)\n",
    "    print(generated_output)\n",
    "    plt.figure(figsize=(10, 6))  \n",
    "    plt.imshow(image.squeeze(), cmap='gray')  \n",
    "    plt.axis('off')  \n",
    "    plt.show()\n"
   ]
  },
  {
   "cell_type": "code",
   "execution_count": 18,
   "id": "ac867ce6-b7be-4990-94f6-5ca5a86987e9",
   "metadata": {},
   "outputs": [
    {
     "name": "stderr",
     "output_type": "stream",
     "text": [
      "Setting `pad_token_id` to `eos_token_id`:2 for open-end generation.\n"
     ]
    },
    {
     "name": "stdout",
     "output_type": "stream",
     "text": [
      "fzzzlzzmllzzzzzzzzlzmmzzzzzzzzzlzlmzllzzzzzzzllllmmzzzzlzzzzzlllzlmllllzzllzzzmmlzzllzzllzzmmlzzlllzzzmzlmlllllllzzlllmllzmhlzlzzllllmmmhmlllzzllllllllzllzzzzlllllllllzzzzzzlllllzzzzzzzzzzzzzzzzzzzfzzzllzzzllzzzzzzzlllmmmlzzzzzzllllllzzzzzzzzllzllllllzzzzzllllllzzzzzzzzlllllmmhhmllzzlllllllmlzzlzzlllllzllzzllzzllmmlmzzlmmlzzlllmmhhhmmlzzzzlllhhhmmllzzzzllzzzzzzllzzzzzlllzzzzzzzzzzzzzzzzzzzzzfllllmmmmmlllllllllmlmhlllllllllmmllmzllllllllmlllllmmmllllmmzlmmhmmmllllmmllmlmhmmmlllmllmmlmmzzlllllllmmmmmlllllllllmmhhhlmlzllllzmzmmlllzzllllzzzzzzzzzllllllzzzzzzzzllllllllllzzlllllllllllllllllfzzzzlzzlzzzzzzzzzllzllzzzzzzzzzlmzlzlzzzzzzzlllllzlzzllzzzllzlllzlzzllzzllzlllmllzzlzzllzzmllmzlmzzzllzlllzlllmzzzllllllllzzllzzlmzmmzmmzzllzzzmmzhhlllzllzzzzllzllllllzzzzzzzzzllllzzzzzzzzzzzzzzzzfzzzzzlhhzzzzzzzzzzzhhlzzzzzzzzzzzhvzzzzzzzzzzzlvmzzmmmlzzzzzmvlzhhmlzzzzzzhvzhhllmlzzzzzhhzhhzlhmzzzzzhhzhmzmvhzzzzzmhzhmlmhzzzzlzlmllmllzzzzzllzllllzzzzzzzzllzmlzlllzzzzzzlllllllzzzzzzzzzzzzzzzzzfzzzllzzzzzzzzzzzzllzzzlzzzzzzzllzzllllzzzzzzllzzllmlzzzzzzllzlmzzzzzzlzzlzzllzzlzzzzzzzzzzzzlhmllzzzzllzzlzlzzllzzzllzlzzzzlllzzzlmzmlzzllllzzzzmlmhmmmlllzzzzlllhhmlllzzzzzzzzzzlzlzzzzzzzzzzzzzzzzflllllmmlllllllllllllmmllllllllllmlllllllllllllmllhhmlzlllllzmlmhmhhmmllllzhlmlzhvmllllzlhlmlmzhhmlllllvlhhmlmmmllllzvvhhmmmmlllllzzhlhmmmllllllzzzzlllllllllllzzlzzllllllllllzzlllllllllllllllllllllfzzzzlmlzlzzzzzzzzzllzmlzzzzzzzzllzhhlzzzzzzzzlzmvllmlllzzzzzzhhmmlzllzzzzzzhllzzlllzzzzzzhlzmmmllzzzzzlhzmvmlzlzzzzzlmzhhzlmmzzzzzlllmzzlhlzzzzzllzlzlhhzzzzzllllmmhmzzzzzzzzlllmlzzzzzzzzzzzzzzzzzz### Instruction: Write a comprehensive description of the number of shapes (horizontals, circles, contrasts, verticals, slanted lines etc.) ### Answer: 1. Horizontal Lines - There are two horizontal lines in this image; one is at the top and another on the bottom edge of the picture. The line that runs along the upper part of the photo has been drawn with an even thickness throughout its length while there's also some variation where it intersects other objects such as trees or buildings which give them more depth than if they were just flat surfaces without any detail whatsoever! This gives us clues about how far away these\n"
     ]
    },
    {
     "data": {
      "image/png": "[encoded data removed]",
      "text/plain": [
       "<Figure size 1000x600 with 1 Axes>"
      ]
     },
     "metadata": {},
     "output_type": "display_data"
    },
    {
     "name": "stderr",
     "output_type": "stream",
     "text": [
      "Setting `pad_token_id` to `eos_token_id`:2 for open-end generation.\n"
     ]
    },
    {
     "name": "stdout",
     "output_type": "stream",
     "text": [
      "fzzzzzlzzzzzzzzzzzlllzzlzllzzzzllzzmmmllllzzzlzzhhmllzzlzzzlzhhlzllllllzlzlmzllllzllzzlzllllllzzzllzzllzllllzzlllzlllzzllzlmllzzllzmlzzmmmlllzllllllhhhzlzlzzllllmmmzllzzzzlllzlzlllzzzzzzzllzlllzzzzfzzzzzllllzzzzzzzzzllzzzzzzzzzzzllzzlmmzlzzzzllzlmvvvmllzzzlzllmhmmmllzzlllmlmllzllllzllllllzllzlzlzlllllzzllzzllzlmmllzllzllmzzlllmzlzzzlmlzzzllmhlhhmmmzzzzllmhvvvhmzzzzzzllzzzlzzzzzzzzzlzzzzzlzzzflllllllllllllllllllmhhhhhmllllllmhhhhhhmlllllmhhmhhmmmllllmhhlmlzzzllmllmmlmlzzzzzllllmlllzzlmllllllmlllzlmmllmzllmzlllmhmlmlzllllllhvvmmmzzlllzllhhmlmzzllllzzzzlllzzzlllllzzzzzzzzlllllllllzzzzlllfzzzzzzzzzlllzzzzzzzzzzzzlllzzzzzzzzllzzllzzzzzzlmmmlzzllzzllzlmlmllmzlzzllzlllmmzmmlzlmlzllllmzlmlzlmzzlmlzlzlllzlmzzzmlzlzlllzlmzzlzlllllllzzmmzmmllzlzllzzlmllhhlzzllzzzzmmlmllllllzzzzzzlzlllllzzfzzzzzzzllllzzzzzzzzzlhhmmzzzzzzzzzhhhmmzzzzzzzzvhmzlmlzzzzzzhvhzzlhhzzzzzzvvzzzzhhlzzzzlvvzzzzmvmzzzzmvhzzzzhvlzzzzmvhzzzlvvzzzlzlvhzzmhvlzzzlzzhhzlmmmzzzzzlzlmllzlzzzzzzzlzllzzzzzzzzzzlllzllllzzzfzzzzzlllzzzzzzzzzllmlzzzzlzzzzzlllzzzzzzlzzzlmlzzmmlzzzlzzllzzmhhhllzzzllzzzllmhlllzzllzzlllzmlzlzzllzzllllzzzllzzzllzlllzzzllzzlmlzllzzllllzzzmlzzzzlllllzzzmmmhmmmmllzzzzzmmvhmmlllzzzzzzzzlllzlzzfllllllmmlllllllllllhhhhmlzllllllmmmhvvmmlllllmmlzlhvvlmlllllmmlzzhvmmlllzmmlzlzzvmllllzmmzlllzhmmlllzhmlllllmmllllzvvmllllmmllllzhvvvmzlmlllllzzvvvhmmmllllllzzzlllllllllllzzzzzzlllllllllzzzzllllllfzzzzzzlllllzzzzzzzlllmmlllzzzzzzlmmlzlllzzzzllmlzllllllzzzlllzhhmmlllzzzllzhvhmllllzzzlzlvhzzlllmzzzzzhvzzlllmlzzzzzvhzlllzhlzzzzlhmlmmlmvzzzzzlllllzzvvzzzzzzllzzzvvlzzzzzzlllmhvmzzzzzzzlllmmlzzzz### Instruction: Write a comprehensive description of the number of shapes (horizontals, circles, contrasts, verticals, slanted lines etc.) ### Answer: 1. The image has many horizontal and circular objects in it. There are also some diagonal or curved lines present as well but they don't seem to be very prominent compared with other features such as horizontality which is more common throughout this picture overall; there may even exist an absence where you would expect one! It seems like most things here have been arranged vertically too - perhaps because that was easiest for whoever created them? Or maybe just coincidence...\n",
      "2. This photo contains\n"
     ]
    },
    {
     "data": {
      "image/png": "[encoded data removed]",
      "text/plain": [
       "<Figure size 1000x600 with 1 Axes>"
      ]
     },
     "metadata": {},
     "output_type": "display_data"
    },
    {
     "name": "stderr",
     "output_type": "stream",
     "text": [
      "Setting `pad_token_id` to `eos_token_id`:2 for open-end generation.\n"
     ]
    },
    {
     "name": "stdout",
     "output_type": "stream",
     "text": [
      "fzzzzzzzzzzzzzzzzllzzllzzzzllzllzzzlmmmmmmlllzzmmmmmllllzzzlhmlzzzzlzllzlmmllmmlllzlllllzmlllzlllzzlzlzlllllzllzzzzlllllzzmmlzzzllzllzlhmllzzzzllzzhvhzzlzzzzzllhhmzlllzzzllllmzllllzzzzlllzzlllzzzzzfzzzzzzzzzzzzzzzzzlllllllllzzzlllzzzzzzzzllzllzlhvvvvvvhmlzllmvvhhmmlllllmhvhmzzzzzzzllmmhhhhmzzzllzzzzzzlhhlzzzzzllzlllzzzzllzzzlllllzzlmllzzlzzzzzmhhmlzzzllmhvvhhmzzzzzllmvvvmlzzzzzzzllzzzzzzzzzzflllllllllllllllllllmmmmmhhmmlllhhhvhhvhhmmllhhhhhmmmmmmmlmhmhvhmlzzzzzlmlllzzlmmlzzzllzlzzlmmmmllllllzzzzzlmmmllllllllzlzlmmlllllllmhhzmlllllllmhvvhmmzzlllllmmmlmmzzzlllllllzlzzzzllllllzzzzzzzllllfzzzzzzzzzzzzzzzzzzzzzzzzzzllzzzzzzzzzzzzzlzzzzzllllllllzzlmmllhmmmlzllzmmmmzzzzmmllllmlllmlmzzllzlzzlllmlmlzzlzzzzzzzlmlzmhzzzzzzzzzzlllhlzzzllzzzlmlzllzzzzlllmllzzllzzzlmmmmzzllllzzzzlmzzllllzzzzfzzzzzzzzzzzzzzzzzzzlllllmhhlzzzzmhmmmmmhmzzzzlhhmlzzlmlzzzzmvhmlzzzmlzzzzmmzllmmzllzlzzmmzllmmlzlzzlzzzzzzmhmzzzzzllllzzvvhzzzzzzzllzmvvlzzzzzzzllhhhmzzzzzzzzmlmlzzzzzzzlzlmllzzzzzzzzlzzllzzlzzzzzfzzzzzzzzzzzzzzzzlllllllllzzzzllllzzzzzzzzzllmzzzzzzllllzzlzzzlmmhhhhmmzzzzlllzzlmmllzzmmhhlzzzzlzlzzlmmhvhmzzzzzzzzzzzmhmzzzzzzllllllzzzlmzzzlllzzzzlmlmlzzzzzzzzlmmlllzzzlmmmmmmlllzzzzllmhhmlllzzzflllllllllllllllllmmmlmmmhlzzllmhhhhhmhvvmmllmmmhmlllhhmlllmmhvmzzzzllllzzmmvvvmzzlllllzzzzhvvmlzllllzzzzzhvhllllllllzzllvhmllllllmmmmzlhllllllmvhhllmmllllllzmmmmmllllllllzzzzlzllllllllzzzzzlllllllfzzzzzzzzzzzzzzzzzlllllmlmmllzzllmmlmllllzlzllmlzzzzzzzmlzllzzlmmmmmmhlzlzzhmhmmmlmmzzzzhhmmzllllzzzzzmmllllllzzzzzllllllmlllzzzzzlllmmmlmlzzzzlllmmzzvhzzzzzllllzzvvlzzzzzzzzzmvvmzzzzzzzzlmhhlzzzzz### Instruction: Write a comprehensive description of the number of shapes (horizontals, circles, contrasts, verticals, slanted lines etc.) ### Answer: 1. Horizontal Lines - There are two horizontal lines in this image; one is at the top and another on the bottom edge of the picture. The line that runs along the upper part of the photo has been created by using three different colors to form it while there's only one color used for creating its counterpart which appears below them both but still manages not look out-of place because they share similarities such as thickness or length with each other so even though these two elements\n"
     ]
    },
    {
     "data": {
      "image/png": "[encoded data removed]",
      "text/plain": [
       "<Figure size 1000x600 with 1 Axes>"
      ]
     },
     "metadata": {},
     "output_type": "display_data"
    },
    {
     "name": "stderr",
     "output_type": "stream",
     "text": [
      "Setting `pad_token_id` to `eos_token_id`:2 for open-end generation.\n"
     ]
    },
    {
     "name": "stdout",
     "output_type": "stream",
     "text": [
      "fzzzzzzzllzzlzzzllzzzzlzllllzzllzzllzzllllzzzzzlllllzllzzzlzzlllllzlllzllzllllllzlllzlzhmlmmmmlllzzlmmlllmmllllzzmmzzlllzzlllzzzzzzlzzlllllzzlllzzzllzlllzzzzzzzzlllzzlzzzzzzzzllzlllzzzzzzzzzlllzzzzfzzzzzzzllllzzzzzlllzzlzzzzzzzllzzzzllllllzzzllzzzllllllzzlllllllllllzzlllzzllllzzzzzlzzzzzzzzzlzzzlhvvvvvvvmllzzmmhhhhhhhmlzzzzzzzzzzllllzzzllzzlzllmmmlzzzzzzzzlllmmlzzzzzzzzzlzzzzzzzzzzzzzllzllzzfllllllllllmllllllllllmmmlmllllmmlllmmmmmllllmmmmmmlmmmllllmmmmmmlllzlllmhlmhlhlllzllmhhhhhhvhmmlllmmllllmhmmmzlllzlzzzlmlllzllllzzzzzzzzzzllllllllllzzzzllllllllllzzzzllllllllllzzzzlllllllllllllzllfzzzzzzzzzzzllzzzzzzlllzzzllzzllzzllllzlllzzlzzzzlmmzllzzzllzlmlllzlmlzzllzlmlmzzlllzlllzzzzlzzmmzzlllzzlllzzmmzzmmmmmhmmzzlmzzlzzlllmmzlmlzzzzzzzzlmzlllzzzzzzzzlllzmlzzzzzzzzzlzzmlzzzzzzzzzzlzllzzfzzzzzzzzzlmlzzzzzzllzzzhvlzzzzzlhmzzzvvzzzzzzlvhzzzvvzzzzzzhvhzzzvvzzzzzzvvmzzmvvzzzzzmvvlllhvvzzzzzmmlzzzmvhzzzzzlmlzzzhvmzzzzzzzzzzzhvmzzzlllllzlzhvmzzzzzzzzzlzlhlzzzzzzzzzlzlmlzzzzzzzzzzzlllzzzfzzzzzzzllzzzzzzzllzzzllzzzlzzlllzzzllzzzzzzllzzzzllzllzzzlmzzzzlzzzllzlmlzzlmlzzzllzllzzzzzzzzzllzzzzllzzzzzzlzzllhhvvvhmzzlzzzllmmmhhmlzlzzzzzzzzzlllllzzzzzzzzzlmmmlzzzzzzzzzzmlllzzzzzzzzzzlzzlzzfllllllllmmzzllllllllllhvllllllmhlllzhhmlllllmvhllzmhllllllzvvmlzmhmlllmmmhhmmzmhllllmhmvvvvhhhllllzzzmmmhhhhllllzzzzzzzlhhllllzzzzzzzzhhmllllllllzzzhmmllllllllllzzllllllllllllzzllllllllllllzzlllllfzzzzzzzzllllzzzzllllzzllllzzzzzlllzllzmlzzzzllzlzzzzhlzzzlzzlmzzzlhlzzllllmhllzmhzzzzmlzhhlmlmhzzzllzlhlzzzhhzzzzzmhhlmlmhhzzzzlhmlllllhmzzzzlmlllllzmmzzzzzzzzzzzlhmzzzzzzzzzzzlhlzzzzzzzzzzzlmzzzz### Instruction: Write a comprehensive description of the number of shapes (horizontals, circles, contrasts, verticals, slanted lines etc.) ### Answer: 1. The image has one horizontal line and two diagonal lines in it. There are no other types of shape present in this picture.\n",
      "2. This is an example of how to use the \"shape\" function in R. It takes as input a vector or matrix containing values for each pixel's color channel value at that location on screen; these can be either grayscale images where all three channels have equal weighting (i.e., they represent brightness), or full-\n"
     ]
    },
    {
     "data": {
      "image/png": "[encoded data removed]",
      "text/plain": [
       "<Figure size 1000x600 with 1 Axes>"
      ]
     },
     "metadata": {},
     "output_type": "display_data"
    },
    {
     "name": "stderr",
     "output_type": "stream",
     "text": [
      "Setting `pad_token_id` to `eos_token_id`:2 for open-end generation.\n"
     ]
    },
    {
     "name": "stdout",
     "output_type": "stream",
     "text": [
      "fzzzzzzzzzzzzzzzzlllzzzzlzzzzzllzzmmmlllzzzzlzlhmlllllzzzzlzmhzllllzzzzzlmlzllzzzllzzzllzllmmmllllzzllzlllllzzllzzllzlllzzlmllzzlzzzzlllllllzzzlllzzllzlllzzzzzzzzllllllzzzzzzzzllzzlzzzzzzzzzllzlllzfzzzzzzzzzzzzzzzzzllllzzzzzzzzzllzzllzzzzzzzlllmhvvhllzzzzllmlmmlmmllzzzlllllzzlzzzzzzllmlzzzllzzzzzllmhvvvvvmllzzlllmmmllzzllzzzllzzzllllllzzzllzlzlllllzzzzzzzzzlmhmllzzzzzzzzlmmmllzzzzzzzzllzzzzzflllllllllllllllllllmhhhmlllllllhhhhhmmllllllmhmhhmmmlllllmmmzmzzzllllllmmlmmllmmllllllllmhhhmmmllllllzzzmmhhhmmlllzzzzzzzzzmllllllllzmmzllzllllllllmmzllzllllllllmlzzzzlllllllllzzzzzlllllllllzzzzllfzzzzzzzzzzzzzzzzzzzzzllllzzzzzzzzzlzzllzzzzzzzlmmllzlzzzzllllmlzmmzzzzzmmzzzmlzmmllzzmmzlzzlzzzllzzmlzmhmmlzzzlzzlmmmhmllzmmzzzzzlzlllmzlmlzzzzzzzzlmzzllzzzzzzzzlmzlllzzzzzzzzlmzlmzzzzzzzzzllzzmlzfzzzzzzzzzzzzzzzzzzzlhhmlzzzzzzzzmhhmmlzzzzzzzlvhzlmlzzzzzzzhvmzlmlzzzzzzzvvzzlhhmlzzzzzhvzllmmmlzzzlzmhzzlzmhmzzzlzlmlzlzhvmzzzzlzzzlzzvvlzzzzzllllzzvvzzzzzzzzzzzzvvzzzzzzzzzzlzmhzzzzzzzzzzlzlmzzzfzzzzzzzzzzzzzzzzlmmlzzzlzzzzzlllzzzzzzlzzzzllzzzlzzzzzzzzllzzmhhmmlzzzzlzzzlmmmmlzzzzzzzzzzzzzzzzzzzmmlllmmzzzzzzzlmmhhhvmzlzzzzzllllllzzllzzzzzzzzzzzzllzzzzzzzzzzllllzzzzzzzzzmmlmlzzzzzzzzzlmlllzflllllllllllllllllmhhhmzzllllllmhhhvvhmllllllmmzlmvhmmlllllmmmlzlmllllllzmvmmmmmlzzlllzzvhhhhvvmlllllzlllllhvmlllllzzzzzzzhmmllllzzlzzzlhmllllllllllzlhmllllllllllzzhlmllllllllllzlllllllllllllzzllllfzzzzzzzzzzzzzzzzzlllmmllzzzzzzllmmzzllzzzzzzlmlzllzlzzzzzlllzhmmlllzzzzzzzvvmmhmllzzzzzmvhlmmlllzzzzzmhzzzzlllzzzzzlmllmmmmmzzzlzlmllmllhmzzzzzlllllzzhmzzzzzzzzzlzlhlzzzzzzzzzzzmhlzzzzzzzzzzzmhzzz### Instruction: Write a comprehensive description of the number of shapes (horizontals, circles, contrasts, verticals, slanted lines etc.) ### Answer: 1. Horizontal Lines - There are two horizontal lines in this image; one is at the top and another on the bottom. The line that runs across the middle has been broken into three parts by an object which appears to be some sort of plant or tree branch with leaves attached to it but there's no way for us know what kind because we can only see its outline against light background coloration so our best guess would probably just say \"plant\" without any further details about species type\n"
     ]
    },
    {
     "data": {
      "image/png": "[encoded data removed]",
      "text/plain": [
       "<Figure size 1000x600 with 1 Axes>"
      ]
     },
     "metadata": {},
     "output_type": "display_data"
    },
    {
     "name": "stderr",
     "output_type": "stream",
     "text": [
      "Setting `pad_token_id` to `eos_token_id`:2 for open-end generation.\n"
     ]
    },
    {
     "name": "stdout",
     "output_type": "stream",
     "text": [
      "fzzzzzzzzzzzzzzzzzllzzzzzzzzzzzllzzlhmlllzzzllzlmmmmllllzzlzlmhllzlllzzzzlmmzzzlmmlzzzzmlzllhhllllzzlllllmhlzllzzzllllllzzllzzzzzllzzllllllzzzzzllllzlllzzzzzzzzzlllllzzzzzzzzzlmzzlzzzzzzzzllllllzzzfzzzzzzzzzzzzzzzzzzllllzzzzzzzzllllzzzzzzzzzzllzmhvvhlzzzzlllmhvvhhmllzzzlllllzzzlllzzllllzzzzlllzzzllmhvvvhmlzzzzlllmhhhmlzzzzzzllzzlzllllzzzzzlllllllllzzzzzzzllllllzzzzzzzzzlmmllzzzzzzzzlllllzzzzfllllllllllllllllllllllllllllllllmhhhhmmllllllmhhmmmmmmllllmmmmhmmmlmllllmlmmzmzzllllllmlmmhvlmmzllllllllmmmmlzlllllzzzmlzzzzllllllzzzzzzllllllllllmlzlllllllllllmlzlzlllllllllmzzzzllllllllllzzzzlllfzzzzzzzzzzzzzzzzzzzzzzzllzzzzzzzzzlzzlllzzzzzzzzllzzzllzzlzllmmlzzmzzzzlmlzzlmmzmlzzzlmzlzzlzllllzzllzzmmlzzllzzzlmmzhhlzlmlzzzzllzzmmzmmlzzzzzzzzllzlmzzzzzzzzzllzlllzzzzzzzzlllllzzzzzzzzllzzllzzzfzzzzzzzzzzzzzzzzzzzzlllllzzzzzzzzmhmmmlzzzzzzzmhhzlmmlzzzzzzvvzzzhvzzzzzzlvhzzhvvzzzzzzlvmzmhvlzzzzlzlhmzzhvzzzzzlzzmmzzvvzzzzzzlzzzzzvvzzzzzzzlllzzvvzzzzzzzzzzzzvvzzzzzzzzzzzlhmzzzzzzzzzlzlmlzzzzfzzzzzzzzzzzzzzzzzzllllzzzzzzzzllmlzzzzllzzzlllzzzzzzzzzzzllzzlhvhzzzzzzllzzlhhlzlmzzzzlzzzzzzzzmlzzzllzzzzzzlllzzzlmhhvhlzzlzzzzzllmhmzzllzzzzzzzlzzzzlzzzzzzzzzzzzzllzzzzzzzzzlmlllzzzzzzzzzmmllzzzflllllllllllllllllllmmllllllllllmhhmvvmlllllllmmlmhvvlmlllllllmlzhhlllllllhhmlllmmlllllzvvvhmhmllllllzlmmmhvlllllllzzzzzmhlmllllllzzzzmhlmlllllllzlzmhlllllllllllzmmlllllllllllzlmlllllllllllzzllllllfzzzzzzzzzzzzzzzzzzzlllllzzzzzzzllllmmlllzzzzllmmzzzllzzzzzllzzmmmmllzzzzllzvhmmlmllzzzlzvvmmlhhzzzzzzzhlzzzvhzzzzzzlmllmmvlzzzzlzlllmmlmzzzzzzllllmzlhzzzzzzzzzzlzlhzzzzzzzzzzlzhhzzzzzzzzzzzzhmzzzz### Instruction: Write a comprehensive description of the number of shapes (horizontals, circles, contrasts, verticals, slanted lines etc.) ### Answer: 1. Horizontal Lines - The horizontal line is present in all three images and it can be seen that there are more than one such lines as well. In image A we have two horizontal lines which run across the entire width of the picture while Image B has only one but this time its length extends beyond what was visible before; however both these examples show how much space they take up when compared against other elements within their respective frames like text or background coloration respectively so you'd expect them\n"
     ]
    },
    {
     "data": {
      "image/png": "[encoded data removed]",
      "text/plain": [
       "<Figure size 1000x600 with 1 Axes>"
      ]
     },
     "metadata": {},
     "output_type": "display_data"
    },
    {
     "name": "stderr",
     "output_type": "stream",
     "text": [
      "Setting `pad_token_id` to `eos_token_id`:2 for open-end generation.\n"
     ]
    },
    {
     "name": "stdout",
     "output_type": "stream",
     "text": [
      "fzzzllzzzzzzzzzzllzzzmmmllllzzlzlmhmmlzzllzzzlmhmzzlllllzzlmlzllllzzllzzlzzllllzzlllzzlllzzmllmllllzllzmmmmllzllzllzhhmzzhlzllzzzmmzlhvhlllzzzmmllhhmzlllzzllllmmzlllzllzllzlzllllzlzzzzlllllzzzzzzzzfzzzlllllzzzzzzzzlllzzzlzzzzzzllzlhvvvhllzzzlmhhvhmlmmllzzlmmmlzzllllzlzlzzzzllzzzzllzzlllzzzzzlllzzllzzmhhhllllzllzmmvvhmmllzzllmlmlzmhhhllzllmhhhhmmmzllzlllhhhmmzzzzzzzzlzzzzzlzzlzzzzllzllzzzzzzzfllllllmmhmmllllllmhhhhhmmmllllmhhmhmmmmmmlllmllmlzzzlmmllllzzzzllzlzllllllzzzlmmlmllllllhhhhvhmmllllmhhhhhvmmmzllmhmhhhvhlmlzllhhlhhzzzzzzzllmlmmzlllzzzzlllzzzzzzzzzzzlllzzzzzzlzllzlllllllzlllllllfzzzzzzzzzlllzzzzzzzzzlzzzllzzllzzlmllzzzllzzmmmmlllzzlllzlmlzzllmlzmmzzllzzlllllzmmzzzzzzzzzllllllzzzzzzlllzllmllzzzmmllmlzlmzlmmzlzmmmllmlzlmmzlmmmmzmmlzlmllmmlzlllmlzzllzzlllllzzlzzzzzllllzzzzzzfzzzzzzlhmmllzzzzzzlhhhmlmmzzzzzzhhmzzlhmzzzzzlhmzzzlhhzzzzzlmlzlzzvvzzzlzzlllzzzvvzzzzlzlhmmzhvvzzzzzlhvmzzvvlzzzzzvvmzmmvhzzzzzzvvzlmllmzzzzzzhhzllzzmzzzlzzmmzzlzzllzzlzzllzzlllllzzzllllllzzzzzzzfzzzllllzzzzzzzzlmllzzzzzzzlzzllzzzzllzzzzzzzzzlmmhhhlzzzzzlmmmmlmhzllzzzzllllllzzzlzzllmmzzzzzzzllzllzzzzzzzzllllmlzzmmzzzzlllllzzlmlzmmmllzzzzlzzzlhhmmlzzlmhhmmllmlllzzzlmmmllzllzlzzzzzzzllzzzzzzfllllmhhmllllllllmhmmmhvvmlllllmhmmmmhvvmlllzzzmmlzzhvlmlllzzlzzlzmhlmlllzzlllllmmmllllmhhhhhlmmmllllmhmmhhhhmlllllmmmmmmmvmmllllhvhllllmmmlllzmhmlllzzmllllzzzlllzzllllllzzlzzzlllllllllzzzlllllllllfzzzzzllmmlllzzzzzlmmmlzlllzzzlllmzzzzlllzzzllzzlmmmllmlzzzzzhhmmllmmlzzzzmhhllzlmmlzzzlmmlmllllhzzzllmmlzzlzvvzzzlllzlmhzmvhzzzllzhvhmzhhlzzzzzmvhzzhhmlzzzzzhhzmhhmmzzzzzlmlmmhzllzzzzzlllmzzzzzzzz### Instruction: Write a comprehensive description of the number of shapes (horizontals, circles, contrasts, verticals, slanted lines etc.) ### Answer: 1. Horizontal Lines - There are two horizontal lines in this image; one is at the top and another on the bottom. The line that runs across the middle has been broken into three parts by an object which appears to be some sort of vehicle or machine with wheels attached to it as well as other smaller objects such as boxes stacked upon each other along its length while also having several different colors present within them including black white red yellow orange green blue purple brown grey silver gold copper brass bronze\n"
     ]
    },
    {
     "data": {
      "image/png": "[encoded data removed]",
      "text/plain": [
       "<Figure size 1000x600 with 1 Axes>"
      ]
     },
     "metadata": {},
     "output_type": "display_data"
    },
    {
     "name": "stderr",
     "output_type": "stream",
     "text": [
      "Setting `pad_token_id` to `eos_token_id`:2 for open-end generation.\n"
     ]
    },
    {
     "name": "stdout",
     "output_type": "stream",
     "text": [
      "fzzzzzzllzzzlzzzzzzzzlzzlllzzzzzzzllzmmllzzzzzzllzmmlllzzzzzzlzzmllllzzzzzllzmmzllzzzzzzlzlmlllzzzzzzlllllzllzzzzzzzlllzllzzzzzzzzllllllzzzzzzzzlllllzzzzzzzzlllzzlzzzzzzzzzllzlllzzzzzzzzllllzzzzzzzfzzzzzzzllllzzzzzzzzzllzzzllzzzzzzllzzzllzzzzzzzlzlllmlzzzzzzlllllmlzzzzzzzllllmmzzzzzzzlllllmlzzzzzzzllllmlzzzzzzzlllzllzzzzzzzzllllllzzzzzzzzllmhmllzzzzzzzzllmmllzzzzzzzzllzzzzzzzzzzzzzllzlzzzzzzflllllllllllllllllllllmmmmmllllllllmhmmhmlllllllmhhlhmzlllllllmmmmmzzllllllmmmlllzzllllllmmlllzzllllllmmlllzzlllllllmmlllzzlllllllmmlllzllllllllllzzzllllllllllzzzzlllllllllllzzzllllllllllllllllllllfzzzzzzzzzzllzzzzzzzzzzzzllzzzzzzzzzzzlmzzzzzzzzzlzzlllzzzzzzzzlzllllzzzzzzzllzlzllzzzzzlllzlllllzzzzzzlzlllllzzzzzzlmzllllzzzzzzzmmzzlmlzzzzzzlmlzmlzzzzzzzzzmmzmmlzzzzzzzzllzzmlzzzzzzzzzzlzllzzzzzfzzzzzzzzzlmlzzzzzzzzzzlvhzzzzzzzzzzzvvmzzzzzzzzzzmvvzzzzzzzzzzzvvmzzzzzzzzzzhvvzzzzzzzzzzzvvzzzzzzzzzzzhvhzzzzzzzzzzzvvzzzzzzzzzzzzvvzzzzzzzzzlzzvvzzzzzzzzzzlzhhzzzzzzzzzzlzlmzzzzzzzzzzzllllzzzzzzfzzzzzzzllzzzzzzzzzzzllzzzzzzzzzzzlllzzzzzzzzzzzlmzzzllzzzzzzllzzzlllzzzzzlmlzzmlllzzzzzllzzzmlllzzzzlllzzlmllzzzzzzlzzzlllzzzzzzzzzzzzllzzzzzzzzllmlzzzzzzzzzzmmmmlzzzzzzzzzlmlmlzzzzzzzzzzlzzlzzzzzfllllllllmmzllllllllllmhmllllllllllmmmmllllllllllmmmmllllllllllllmllllllllllllmlllllllllllllmllllllllllllllllllllllllmhlllllllllllzmhlmlllllllllzzhmmllllllllllzlllllllllllllzzlllllllllllllzllllllllfzzzzzzzzlllzzzzzzzzzzlmlzzzzzzzzzzlllzlzzzzzzzzzllzhhzzzzzzzlllzlvmzzzzzzzlllzvvzzzzzzzzllzhvmzzzzzzzllllvhzzzzzzzzllzvvzzzzzzzzzzzlvhzzzzzzzzzzzlhlzzzzzzzzzzzmmlzzzzzzzzzzzmhzzzzzzzzzzllmlzzzzzzz### Instruction: Write a comprehensive description of the number of shapes (horizontals, circles, contrasts, verticals, slanted lines etc.) ### Answer: 1. Horizontal line - The horizontal line is present in all three images and it can be seen that there are more than one such shape as well. In image A we see two horizontals which have been highlighted by red color whereas for B & C they have been marked with blue color. Image A has only two but both Images B&C show four each.\n",
      "2. Vertical Line-The vertical line is also visible on all three pictures however unlike its counterpart this time around\n"
     ]
    },
    {
     "data": {
      "image/png": "[encoded data removed]",
      "text/plain": [
       "<Figure size 1000x600 with 1 Axes>"
      ]
     },
     "metadata": {},
     "output_type": "display_data"
    }
   ],
   "source": [
    "\n",
    "for i, image in enumerate(test_images):\n",
    "    if i >= 8:\n",
    "        break\n",
    "        \n",
    "    jsonl_data = generate_jsonl_data(targetCNN, [image])\n",
    "    specific_entry = jsonl_data[0]  # Get the entry for the current image\n",
    "    prompt = f\"\"\"You will be presented with sequences of characters representing features of images, which could be basic geometric structures or elements similar to MNIST handwritten digits. These sequences are encoded representations of the image's activation maps, derived from the first layer of a convolutional neural network. The character 'f' marks the beginning of a new filter's activation map of the first layer. The characters 'z', 'l', 'm', 'h', and 'v', indicate varying levels of activation: zero, low, medium, high, and very high, respectively. Your task is to understand the patterns in the sequence and to interpret these sequences to determine the number and types of shapes present in the image. The desired output format should be 'output: Image with [number of shapes] shapes: [number of first shape] [name of shape] ... [number of last shape] [name of last shape]', where the description includes the types of shapes, such as corners, edges, ellipses, crossings, checkerboard pattern, horizontals, verticals, etc. ### Input: \"\"\"\n",
    "\n",
    "    outputPrompt = \"### Instruction: Write a comprehensive description of the number of shapes (horizontals, circles, contrasts, verticals, slanted lines etc.) ### Answer: \"\n",
    " \n",
    "    modified_input =  specific_entry['input'] + outputPrompt \n",
    "    model_input = tokenizer(modified_input, return_tensors=\"pt\").to(\"cuda\")\n",
    "    \n",
    "    with torch.no_grad():\n",
    "        generated_output = tokenizer.decode(ft_model.generate(**model_input, max_new_tokens=100, repetition_penalty=1.15)[0], skip_special_tokens=True)\n",
    "    print(generated_output)\n",
    "    plt.figure(figsize=(10, 6))  \n",
    "    plt.imshow(image.squeeze(), cmap='gray')  \n",
    "    plt.axis('off')  \n",
    "    plt.show()"
   ]
  },
  {
   "cell_type": "code",
   "execution_count": 19,
   "id": "4092574e-6aa9-4e91-a088-1919c721f6d4",
   "metadata": {},
   "outputs": [
    {
     "name": "stderr",
     "output_type": "stream",
     "text": [
      "Setting `pad_token_id` to `eos_token_id`:2 for open-end generation.\n"
     ]
    },
    {
     "name": "stdout",
     "output_type": "stream",
     "text": [
      "### Input: fzllzzmllzlzzlllmzzmmzlmllzzlmzzhhlzzzlzzlmzlhhzlzlllzzzllvhzlllmzlzzzlhvzllllllmzzzlhlllzlmzllzzzlmmlzzlmzllzzzllmzzzzhlhlzzzlllzzzlmzllzzzlllzzzlmzmlzzzlllzzzzlzlzzzzlzzzzzzzzzzzzzzllzzzzzzzzzzlmfzzzzzzzzmhvvvvzzzlllmlzzzzzzlllllmmzzzzzzlllllmmlzzzzzlllllmmlllllzzllmlmmzzlzlzzzllmmmzzzllzlzzllzzzzzzllzlzzllzzzzzzlmllzzllzzzzzllmmlzzllzzzzzzzzzzzzllzzzzzzzzzzzzllzzzzzzzzzzzzzzzzzzzzzzzzzzzzfzzzzzzzzzzzzzzzllmzmlzzzzzzzzlmmlmzmmmlzlzlmmllzzllmzzllmmllzmlllmzzlllzlzzmzzzzzzllzlzzzmzzzlzzllzzzzzmzzzlzzllzzzzzmzzzlzzllzzzzzlzzzlzzllzzzzzzzzzzzzllzzzzzzzzzzzzlllmhhhhhhhhhhvhmhvvvvvvvvvvvhfmmlmllmlllmllmllmzlmlhhhhhhhmmllllzzlmlmhhmlllmzmzzlzzllmmlmzmlzlzzzllmmmzlhlzllzzlllhzllmlzllzzllhlllzmlzllzzllmmlzzmlzllzzllmlzzzmmzllzzllmlzzzllzzmzzllmlzzzzzlzlzzllzzzzzzzzzzzzllzzzzzzzzzzzzzzflzzzlhmzzzzzzzmzzlvvzzzlllzzlzlhhzzzhmlzzzlzhmzzzmvlzzzzllmzzzzhvzzzzzhzzzzzzvvzzzzzhzzzzzzvvzzzzzhzzzzzzvvzzzzzlzzzzzzvvzzzzzlzzzzzzhmzzzzzlzzzzlzllzzzzzlzzzzzlzlzzzzzlzlllllllllllzlzmmmmmmmmmmmzfhvvvhvvvhhhhhhlmmlzllmhhvvvvmhllhhvllmllhmhmzhhhhlmmmmmmllhhhhhllmmmmmzhhhmhhmmhmmmmhvhmhmhmlhmmmmhhmhmmhmlhmmmmmmhmmmmhmhmmmmmmmmmmhvhhmmmmmmmmmmhvhhmmmmmmmmmmmhmhmmmmmhmmmmmmmmmmmlzzzzzzzzzzzzzzfzzzlzzzzzzzzzlzzzzzlzzzzzzzzlllzmllmzzzzzzllzlmlmvzzzzzzlzllzlzvzlzzzzzmlzlzzvzlzzzzmmzlzzzhzzzzzzlzlzzzzhzzzzzzzlzzzzzmllzzzzzzzzzzzzlzzzzzzzzzzzzzzzzzzzzzzzzzzzlzzzzzhhmmmmmmmmmmzzhhhhhhhhhhhhhlfmllmhmmmmzzlllmllllzlzzlmmmmlzzzzhlllmlllzmzzzvhzlzzzzzzmzzvvzzzmzzzzzmzvvzzzzhzzzzzzhvzzzzzmzzzzzhhzzzzzzmzzzzzhzzzzzzzmzzzzzlzzzzzzzhzzzzzlzzzzzzmhzzzzzlzzzzzzlzzzzzzmzzzzzzzzzzzzzmzzzzzzzzzzzzz  ### Question: What does this input represent  ### Answer: 1024\n"
     ]
    }
   ],
   "source": [
    "inputString = \"### Input: fzllzzmllzlzzlllmzzmmzlmllzzlmzzhhlzzzlzzlmzlhhzlzlllzzzllvhzlllmzlzzzlhvzllllllmzzzlhlllzlmzllzzzlmmlzzlmzllzzzllmzzzzhlhlzzzlllzzzlmzllzzzlllzzzlmzmlzzzlllzzzzlzlzzzzlzzzzzzzzzzzzzzllzzzzzzzzzzlmfzzzzzzzzmhvvvvzzzlllmlzzzzzzlllllmmzzzzzzlllllmmlzzzzzlllllmmlllllzzllmlmmzzlzlzzzllmmmzzzllzlzzllzzzzzzllzlzzllzzzzzzlmllzzllzzzzzllmmlzzllzzzzzzzzzzzzllzzzzzzzzzzzzllzzzzzzzzzzzzzzzzzzzzzzzzzzzzfzzzzzzzzzzzzzzzllmzmlzzzzzzzzlmmlmzmmmlzlzlmmllzzllmzzllmmllzmlllmzzlllzlzzmzzzzzzllzlzzzmzzzlzzllzzzzzmzzzlzzllzzzzzmzzzlzzllzzzzzlzzzlzzllzzzzzzzzzzzzllzzzzzzzzzzzzlllmhhhhhhhhhhvhmhvvvvvvvvvvvhfmmlmllmlllmllmllmzlmlhhhhhhhmmllllzzlmlmhhmlllmzmzzlzzllmmlmzmlzlzzzllmmmzlhlzllzzlllhzllmlzllzzllhlllzmlzllzzllmmlzzmlzllzzllmlzzzmmzllzzllmlzzzllzzmzzllmlzzzzzlzlzzllzzzzzzzzzzzzllzzzzzzzzzzzzzzflzzzlhmzzzzzzzmzzlvvzzzlllzzlzlhhzzzhmlzzzlzhmzzzmvlzzzzllmzzzzhvzzzzzhzzzzzzvvzzzzzhzzzzzzvvzzzzzhzzzzzzvvzzzzzlzzzzzzvvzzzzzlzzzzzzhmzzzzzlzzzzlzllzzzzzlzzzzzlzlzzzzzlzlllllllllllzlzmmmmmmmmmmmzfhvvvhvvvhhhhhhlmmlzllmhhvvvvmhllhhvllmllhmhmzhhhhlmmmmmmllhhhhhllmmmmmzhhhmhhmmhmmmmhvhmhmhmlhmmmmhhmhmmhmlhmmmmmmhmmmmhmhmmmmmmmmmmhvhhmmmmmmmmmmhvhhmmmmmmmmmmmhmhmmmmmhmmmmmmmmmmmlzzzzzzzzzzzzzzfzzzlzzzzzzzzzlzzzzzlzzzzzzzzlllzmllmzzzzzzllzlmlmvzzzzzzlzllzlzvzlzzzzzmlzlzzvzlzzzzmmzlzzzhzzzzzzlzlzzzzhzzzzzzzlzzzzzmllzzzzzzzzzzzzlzzzzzzzzzzzzzzzzzzzzzzzzzzzlzzzzzhhmmmmmmmmmmzzhhhhhhhhhhhhhlfmllmhmmmmzzlllmllllzlzzlmmmmlzzzzhlllmlllzmzzzvhzlzzzzzzmzzvvzzzmzzzzzmzvvzzzzhzzzzzzhvzzzzzmzzzzzhhzzzzzzmzzzzzhzzzzzzzmzzzzzlzzzzzzzhzzzzzlzzzzzzmhzzzzzlzzzzzzlzzzzzzmzzzzzzzzzzzzzmzzzzzzzzzzzzz\"\n",
    "prompt3 = \"  ### Question: What does this input represent  ### Answer: \"\n",
    "modified_input = inputString + prompt3\n",
    "model_input = tokenizer(modified_input, return_tensors=\"pt\").to(\"cuda\")\n",
    "\n",
    "  \n",
    "with torch.no_grad():\n",
    "    generated_output = tokenizer.decode(ft_model.generate(**model_input, max_new_tokens=100, repetition_penalty=1.15)[0], skip_special_tokens=True)\n",
    "print(generated_output)\n"
   ]
  },
  {
   "cell_type": "code",
   "execution_count": 20,
   "id": "f832463c-5f58-42df-abf6-c5552e366e18",
   "metadata": {},
   "outputs": [
    {
     "name": "stderr",
     "output_type": "stream",
     "text": [
      "Setting `pad_token_id` to `eos_token_id`:2 for open-end generation.\n"
     ]
    },
    {
     "name": "stdout",
     "output_type": "stream",
     "text": [
      "### Input: fzllzzmllzlzzlllmzzmmzlmllzzlmzzhhlzzzlzzlmzlhhzlzlllzzzllvhzlllmzlzzzlhvzllllllmzzzlhlllzlmzllzzzlmmlzzlmzllzzzllmzzzzhlhlzzzlllzzzlmzllzzzlllzzzlmzmlzzzlllzzzzlzlzzzzlzzzzzzzzzzzzzzllzzzzzzzzzzlmfzzzzzzzzmhvvvvzzzlllmlzzzzzzlllllmmzzzzzzlllllmmlzzzzzlllllmmlllllzzllmlmmzzlzlzzzllmmmzzzllzlzzllzzzzzzllzlzzllzzzzzzlmllzzllzzzzzllmmlzzllzzzzzzzzzzzzllzzzzzzzzzzzzllzzzzzzzzzzzzzzzzzzzzzzzzzzzzfzzzzzzzzzzzzzzzllmzmlzzzzzzzzlmmlmzmmmlzlzlmmllzzllmzzllmmllzmlllmzzlllzlzzmzzzzzzllzlzzzmzzzlzzllzzzzzmzzzlzzllzzzzzmzzzlzzllzzzzzlzzzlzzllzzzzzzzzzzzzllzzzzzzzzzzzzlllmhhhhhhhhhhvhmhvvvvvvvvvvvhfmmlmllmlllmllmllmzlmlhhhhhhhmmllllzzlmlmhhmlllmzmzzlzzllmmlmzmlzlzzzllmmmzlhlzllzzlllhzllmlzllzzllhlllzmlzllzzllmmlzzmlzllzzllmlzzzmmzllzzllmlzzzllzzmzzllmlzzzzzlzlzzllzzzzzzzzzzzzllzzzzzzzzzzzzzzflzzzlhmzzzzzzzmzzlvvzzzlllzzlzlhhzzzhmlzzzlzhmzzzmvlzzzzllmzzzzhvzzzzzhzzzzzzvvzzzzzhzzzzzzvvzzzzzhzzzzzzvvzzzzzlzzzzzzvvzzzzzlzzzzzzhmzzzzzlzzzzlzllzzzzzlzzzzzlzlzzzzzlzlllllllllllzlzmmmmmmmmmmmzfhvvvhvvvhhhhhhlmmlzllmhhvvvvmhllhhvllmllhmhmzhhhhlmmmmmmllhhhhhllmmmmmzhhhmhhmmhmmmmhvhmhmhmlhmmmmhhmhmmhmlhmmmmmmhmmmmhmhmmmmmmmmmmhvhhmmmmmmmmmmhvhhmmmmmmmmmmmhmhmmmmmhmmmmmmmmmmmlzzzzzzzzzzzzzzfzzzlzzzzzzzzzlzzzzzlzzzzzzzzlllzmllmzzzzzzllzlmlmvzzzzzzlzllzlzvzlzzzzzmlzlzzvzlzzzzmmzlzzzhzzzzzzlzlzzzzhzzzzzzzlzzzzzmllzzzzzzzzzzzzlzzzzzzzzzzzzzzzzzzzzzzzzzzzlzzzzzhhmmmmmmmmmmzzhhhhhhhhhhhhhlfmllmhmmmmzzlllmllllzlzzlmmmmlzzzzhlllmlllzmzzzvhzlzzzzzzmzzvvzzzmzzzzzmzvvzzzzhzzzzzzhvzzzzzmzzzzzhhzzzzzzmzzzzzhzzzzzzzmzzzzzlzzzzzzzhzzzzzlzzzzzzmhzzzzzlzzzzzzlzzzzzzmzzzzzzzzzzzzzmzzzzzzzzzzzzz### This input represents the char-encoded feature activations 1.0, which is a sequence of characters that represent the activation values for each neuron in the network. The first character (f) indicates that there are no active neurons at this layer; it's just an empty string with length zero.\n",
      "2. In order to convert these features into numerical representations suitable for machine learning algorithms like neural networks or decision trees etc., we need some way by which they can be converted back again after being processed through such models so as not lose any\n"
     ]
    }
   ],
   "source": [
    "inputString = \"### Input: fzllzzmllzlzzlllmzzmmzlmllzzlmzzhhlzzzlzzlmzlhhzlzlllzzzllvhzlllmzlzzzlhvzllllllmzzzlhlllzlmzllzzzlmmlzzlmzllzzzllmzzzzhlhlzzzlllzzzlmzllzzzlllzzzlmzmlzzzlllzzzzlzlzzzzlzzzzzzzzzzzzzzllzzzzzzzzzzlmfzzzzzzzzmhvvvvzzzlllmlzzzzzzlllllmmzzzzzzlllllmmlzzzzzlllllmmlllllzzllmlmmzzlzlzzzllmmmzzzllzlzzllzzzzzzllzlzzllzzzzzzlmllzzllzzzzzllmmlzzllzzzzzzzzzzzzllzzzzzzzzzzzzllzzzzzzzzzzzzzzzzzzzzzzzzzzzzfzzzzzzzzzzzzzzzllmzmlzzzzzzzzlmmlmzmmmlzlzlmmllzzllmzzllmmllzmlllmzzlllzlzzmzzzzzzllzlzzzmzzzlzzllzzzzzmzzzlzzllzzzzzmzzzlzzllzzzzzlzzzlzzllzzzzzzzzzzzzllzzzzzzzzzzzzlllmhhhhhhhhhhvhmhvvvvvvvvvvvhfmmlmllmlllmllmllmzlmlhhhhhhhmmllllzzlmlmhhmlllmzmzzlzzllmmlmzmlzlzzzllmmmzlhlzllzzlllhzllmlzllzzllhlllzmlzllzzllmmlzzmlzllzzllmlzzzmmzllzzllmlzzzllzzmzzllmlzzzzzlzlzzllzzzzzzzzzzzzllzzzzzzzzzzzzzzflzzzlhmzzzzzzzmzzlvvzzzlllzzlzlhhzzzhmlzzzlzhmzzzmvlzzzzllmzzzzhvzzzzzhzzzzzzvvzzzzzhzzzzzzvvzzzzzhzzzzzzvvzzzzzlzzzzzzvvzzzzzlzzzzzzhmzzzzzlzzzzlzllzzzzzlzzzzzlzlzzzzzlzlllllllllllzlzmmmmmmmmmmmzfhvvvhvvvhhhhhhlmmlzllmhhvvvvmhllhhvllmllhmhmzhhhhlmmmmmmllhhhhhllmmmmmzhhhmhhmmhmmmmhvhmhmhmlhmmmmhhmhmmhmlhmmmmmmhmmmmhmhmmmmmmmmmmhvhhmmmmmmmmmmhvhhmmmmmmmmmmmhmhmmmmmhmmmmmmmmmmmlzzzzzzzzzzzzzzfzzzlzzzzzzzzzlzzzzzlzzzzzzzzlllzmllmzzzzzzllzlmlmvzzzzzzlzllzlzvzlzzzzzmlzlzzvzlzzzzmmzlzzzhzzzzzzlzlzzzzhzzzzzzzlzzzzzmllzzzzzzzzzzzzlzzzzzzzzzzzzzzzzzzzzzzzzzzzlzzzzzhhmmmmmmmmmmzzhhhhhhhhhhhhhlfmllmhmmmmzzlllmllllzlzzlmmmmlzzzzhlllmlllzmzzzvhzlzzzzzzmzzvvzzzmzzzzzmzvvzzzzhzzzzzzhvzzzzzmzzzzzhhzzzzzzmzzzzzhzzzzzzzmzzzzzlzzzzzzzhzzzzzlzzzzzzmhzzzzzlzzzzzzlzzzzzzmzzzzzzzzzzzzzmzzzzzzzzzzzzz\"\n",
    "prompt3 = \"### This input represents the char-encoded feature activations \"\n",
    "modified_input = inputString + prompt3\n",
    "model_input = tokenizer(modified_input, return_tensors=\"pt\").to(\"cuda\")\n",
    "\n",
    "  \n",
    "with torch.no_grad():\n",
    "    generated_output = tokenizer.decode(ft_model.generate(**model_input, max_new_tokens=100, repetition_penalty=1.15)[0], skip_special_tokens=True)\n",
    "print(generated_output)\n"
   ]
  },
  {
   "cell_type": "code",
   "execution_count": 21,
   "id": "fbf17f2c-03e7-403d-9d47-a70679f4cf3f",
   "metadata": {},
   "outputs": [
    {
     "name": "stderr",
     "output_type": "stream",
     "text": [
      "Setting `pad_token_id` to `eos_token_id`:2 for open-end generation.\n"
     ]
    },
    {
     "name": "stdout",
     "output_type": "stream",
     "text": [
      "### Input: fzllzzmllzlzzlllmzzmmzlmllzzlmzzhhlzzzlzzlmzlhhzlzlllzzzllvhzlllmzlzzzlhvzllllllmzzzlhlllzlmzllzzzlmmlzzlmzllzzzllmzzzzhlhlzzzlllzzzlmzllzzzlllzzzlmzmlzzzlllzzzzlzlzzzzlzzzzzzzzzzzzzzllzzzzzzzzzzlmfzzzzzzzzmhvvvvzzzlllmlzzzzzzlllllmmzzzzzzlllllmmlzzzzzlllllmmlllllzzllmlmmzzlzlzzzllmmmzzzllzlzzllzzzzzzllzlzzllzzzzzzlmllzzllzzzzzllmmlzzllzzzzzzzzzzzzllzzzzzzzzzzzzllzzzzzzzzzzzzzzzzzzzzzzzzzzzzfzzzzzzzzzzzzzzzllmzmlzzzzzzzzlmmlmzmmmlzlzlmmllzzllmzzllmmllzmlllmzzlllzlzzmzzzzzzllzlzzzmzzzlzzllzzzzzmzzzlzzllzzzzzmzzzlzzllzzzzzlzzzlzzllzzzzzzzzzzzzllzzzzzzzzzzzzlllmhhhhhhhhhhvhmhvvvvvvvvvvvhfmmlmllmlllmllmllmzlmlhhhhhhhmmllllzzlmlmhhmlllmzmzzlzzllmmlmzmlzlzzzllmmmzlhlzllzzlllhzllmlzllzzllhlllzmlzllzzllmmlzzmlzllzzllmlzzzmmzllzzllmlzzzllzzmzzllmlzzzzzlzlzzllzzzzzzzzzzzzllzzzzzzzzzzzzzzflzzzlhmzzzzzzzmzzlvvzzzlllzzlzlhhzzzhmlzzzlzhmzzzmvlzzzzllmzzzzhvzzzzzhzzzzzzvvzzzzzhzzzzzzvvzzzzzhzzzzzzvvzzzzzlzzzzzzvvzzzzzlzzzzzzhmzzzzzlzzzzlzllzzzzzlzzzzzlzlzzzzzlzlllllllllllzlzmmmmmmmmmmmzfhvvvhvvvhhhhhhlmmlzllmhhvvvvmhllhhvllmllhmhmzhhhhlmmmmmmllhhhhhllmmmmmzhhhmhhmmhmmmmhvhmhmhmlhmmmmhhmhmmhmlhmmmmmmhmmmmhmhmmmmmmmmmmhvhhmmmmmmmmmmhvhhmmmmmmmmmmmhmhmmmmmhmmmmmmmmmmmlzzzzzzzzzzzzzzfzzzlzzzzzzzzzlzzzzzlzzzzzzzzlllzmllmzzzzzzllzlmlmvzzzzzzlzllzlzvzlzzzzzmlzlzzvzlzzzzmmzlzzzhzzzzzzlzlzzzzhzzzzzzzlzzzzzmllzzzzzzzzzzzzlzzzzzzzzzzzzzzzzzzzzzzzzzzzlzzzzzhhmmmmmmmmmmzzhhhhhhhhhhhhhlfmllmhmmmmzzlllmllllzlzzlmmmmlzzzzhlllmlllzmzzzvhzlzzzzzzmzzvvzzzmzzzzzmzvvzzzzhzzzzzzhvzzzzzmzzzzzhhzzzzzzmzzzzzhzzzzzzzmzzzzzlzzzzzzzhzzzzzlzzzzzzmhzzzzzlzzzzzzlzzzzzzmzzzzzzzzzzzzzmzzzzzzzzzzzzz  ###   Output:\n",
      "```\n"
     ]
    }
   ],
   "source": [
    "inputString = \"### Input: fzllzzmllzlzzlllmzzmmzlmllzzlmzzhhlzzzlzzlmzlhhzlzlllzzzllvhzlllmzlzzzlhvzllllllmzzzlhlllzlmzllzzzlmmlzzlmzllzzzllmzzzzhlhlzzzlllzzzlmzllzzzlllzzzlmzmlzzzlllzzzzlzlzzzzlzzzzzzzzzzzzzzllzzzzzzzzzzlmfzzzzzzzzmhvvvvzzzlllmlzzzzzzlllllmmzzzzzzlllllmmlzzzzzlllllmmlllllzzllmlmmzzlzlzzzllmmmzzzllzlzzllzzzzzzllzlzzllzzzzzzlmllzzllzzzzzllmmlzzllzzzzzzzzzzzzllzzzzzzzzzzzzllzzzzzzzzzzzzzzzzzzzzzzzzzzzzfzzzzzzzzzzzzzzzllmzmlzzzzzzzzlmmlmzmmmlzlzlmmllzzllmzzllmmllzmlllmzzlllzlzzmzzzzzzllzlzzzmzzzlzzllzzzzzmzzzlzzllzzzzzmzzzlzzllzzzzzlzzzlzzllzzzzzzzzzzzzllzzzzzzzzzzzzlllmhhhhhhhhhhvhmhvvvvvvvvvvvhfmmlmllmlllmllmllmzlmlhhhhhhhmmllllzzlmlmhhmlllmzmzzlzzllmmlmzmlzlzzzllmmmzlhlzllzzlllhzllmlzllzzllhlllzmlzllzzllmmlzzmlzllzzllmlzzzmmzllzzllmlzzzllzzmzzllmlzzzzzlzlzzllzzzzzzzzzzzzllzzzzzzzzzzzzzzflzzzlhmzzzzzzzmzzlvvzzzlllzzlzlhhzzzhmlzzzlzhmzzzmvlzzzzllmzzzzhvzzzzzhzzzzzzvvzzzzzhzzzzzzvvzzzzzhzzzzzzvvzzzzzlzzzzzzvvzzzzzlzzzzzzhmzzzzzlzzzzlzllzzzzzlzzzzzlzlzzzzzlzlllllllllllzlzmmmmmmmmmmmzfhvvvhvvvhhhhhhlmmlzllmhhvvvvmhllhhvllmllhmhmzhhhhlmmmmmmllhhhhhllmmmmmzhhhmhhmmhmmmmhvhmhmhmlhmmmmhhmhmmhmlhmmmmmmhmmmmhmhmmmmmmmmmmhvhhmmmmmmmmmmhvhhmmmmmmmmmmmhmhmmmmmhmmmmmmmmmmmlzzzzzzzzzzzzzzfzzzlzzzzzzzzzlzzzzzlzzzzzzzzlllzmllmzzzzzzllzlmlmvzzzzzzlzllzlzvzlzzzzzmlzlzzvzlzzzzmmzlzzzhzzzzzzlzlzzzzhzzzzzzzlzzzzzmllzzzzzzzzzzzzlzzzzzzzzzzzzzzzzzzzzzzzzzzzlzzzzzhhmmmmmmmmmmzzhhhhhhhhhhhhhlfmllmhmmmmzzlllmllllzlzzlmmmmlzzzzhlllmlllzmzzzvhzlzzzzzzmzzvvzzzmzzzzzmzvvzzzzhzzzzzzhvzzzzzmzzzzzhhzzzzzzmzzzzzhzzzzzzzmzzzzzlzzzzzzzhzzzzzlzzzzzzmhzzzzzlzzzzzzlzzzzzzmzzzzzzzzzzzzzmzzzzzzzzzzzzz\"\n",
    "prompt3 = \"  ###  \"\n",
    "modified_input = inputString + prompt3\n",
    "model_input = tokenizer(modified_input, return_tensors=\"pt\").to(\"cuda\")\n",
    "\n",
    "  \n",
    "with torch.no_grad():\n",
    "    generated_output = tokenizer.decode(ft_model.generate(**model_input, max_new_tokens=100, repetition_penalty=1.15)[0], skip_special_tokens=True)\n",
    "print(generated_output)"
   ]
  },
  {
   "cell_type": "code",
   "execution_count": 22,
   "id": "a9b2cff7-8147-43c2-80bc-4a2c3d2c8e24",
   "metadata": {},
   "outputs": [
    {
     "name": "stderr",
     "output_type": "stream",
     "text": [
      "Setting `pad_token_id` to `eos_token_id`:2 for open-end generation.\n"
     ]
    },
    {
     "name": "stdout",
     "output_type": "stream",
     "text": [
      "### Input: fzllzzmllzlzzlllmzzmmzlmllzzlmzzhhlzzzlzzlmzlhhzlzlllzm\n",
      "\n",
      "Input is a series of 10-minute performances by artists, writers and musicians. The events are held at the ICA and other London venues, often in response to current exhibitions. Past contributors include Ed Atkins, Hannah Black, Jesse Darling, John Lawrence, Mary Manning, Raju Rage, Hito Steyerl, Nina Wakeford and Rehana Zaman.\n",
      "The next event takes place on Thursday 28 June from \n"
     ]
    }
   ],
   "source": [
    "inputString = \"### Input: fzllzzmllzlzzlllmzzmmzlmllzzlmzzhhlzzzlzzlmzlhhzlzlll\"\n",
    "model_input = tokenizer(inputString, return_tensors=\"pt\").to(\"cuda\")\n",
    "  \n",
    "with torch.no_grad():\n",
    "    generated_output = tokenizer.decode(ft_model.generate(**model_input, max_new_tokens=100, repetition_penalty=1.15)[0], skip_special_tokens=True)\n",
    "print(generated_output)"
   ]
  },
  {
   "cell_type": "code",
   "execution_count": 23,
   "id": "021938c1-8d8f-4d13-8dad-5da81f9f3260",
   "metadata": {},
   "outputs": [
    {
     "name": "stderr",
     "output_type": "stream",
     "text": [
      "Setting `pad_token_id` to `eos_token_id`:2 for open-end generation.\n"
     ]
    },
    {
     "name": "stdout",
     "output_type": "stream",
     "text": [
      "### Input: fzllzz\n",
      "\n",
      "### Output: 1024.000000\n",
      "\n",
      "#include <stdio.h>\n",
      "int main() {\n",
      "    float a = 3;\n",
      "    int b = (a + .5); // 3\n",
      "    printf(\"%f\\n\",b+.5);// 3.500000\n",
      "}\n"
     ]
    }
   ],
   "source": [
    "inputString = \"### Input: fzllzz\"\n",
    "model_input = tokenizer(inputString, return_tensors=\"pt\").to(\"cuda\")\n",
    "  \n",
    "with torch.no_grad():\n",
    "    generated_output = tokenizer.decode(ft_model.generate(**model_input, max_new_tokens=100, repetition_penalty=1.15)[0], skip_special_tokens=True)\n",
    "print(generated_output)"
   ]
  }
 ],
 "metadata": {
  "kernelspec": {
   "display_name": "Python 3 (ipykernel)",
   "language": "python",
   "name": "python3"
  },
  "language_info": {
   "codemirror_mode": {
    "name": "ipython",
    "version": 3
   },
   "file_extension": ".py",
   "mimetype": "text/x-python",
   "name": "python",
   "nbconvert_exporter": "python",
   "pygments_lexer": "ipython3",
   "version": "3.10.13"
  }
 },
 "nbformat": 4,
 "nbformat_minor": 5
}
